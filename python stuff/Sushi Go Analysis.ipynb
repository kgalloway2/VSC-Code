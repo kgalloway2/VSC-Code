{
 "cells": [
  {
   "cell_type": "code",
   "execution_count": 1,
   "id": "71177753",
   "metadata": {
    "collapsed": true
   },
   "outputs": [
    {
     "name": "stderr",
     "output_type": "stream",
     "text": [
      "\n",
      "Attaching package: 'dplyr'\n",
      "\n",
      "\n",
      "The following objects are masked from 'package:stats':\n",
      "\n",
      "    filter, lag\n",
      "\n",
      "\n",
      "The following objects are masked from 'package:base':\n",
      "\n",
      "    intersect, setdiff, setequal, union\n",
      "\n",
      "\n"
     ]
    }
   ],
   "source": [
    "library(dplyr)\n",
    "library(ggplot2)"
   ]
  },
  {
   "cell_type": "code",
   "execution_count": 11,
   "id": "95cbf73e",
   "metadata": {
    "collapsed": true
   },
   "outputs": [
    {
     "data": {
      "text/html": [
       "<table class=\"dataframe\">\n",
       "<caption>A data.frame: 6 × 12</caption>\n",
       "<thead>\n",
       "\t<tr><th></th><th scope=col>game_no</th><th scope=col>r1p1</th><th scope=col>r1p2</th><th scope=col>r2p1</th><th scope=col>r2p2</th><th scope=col>r3p1</th><th scope=col>r3p2</th><th scope=col>p1_pudding</th><th scope=col>p2_pudding</th><th scope=col>p1_total</th><th scope=col>p2_total</th><th scope=col>winner</th></tr>\n",
       "\t<tr><th></th><th scope=col>&lt;int&gt;</th><th scope=col>&lt;int&gt;</th><th scope=col>&lt;int&gt;</th><th scope=col>&lt;int&gt;</th><th scope=col>&lt;int&gt;</th><th scope=col>&lt;int&gt;</th><th scope=col>&lt;int&gt;</th><th scope=col>&lt;int&gt;</th><th scope=col>&lt;int&gt;</th><th scope=col>&lt;int&gt;</th><th scope=col>&lt;int&gt;</th><th scope=col>&lt;int&gt;</th></tr>\n",
       "</thead>\n",
       "<tbody>\n",
       "\t<tr><th scope=row>1</th><td>0</td><td>19</td><td>16</td><td> 9</td><td>11</td><td>11</td><td>15</td><td>6</td><td>0</td><td>45</td><td>42</td><td>1</td></tr>\n",
       "\t<tr><th scope=row>2</th><td>1</td><td>12</td><td>14</td><td>19</td><td>10</td><td>19</td><td> 7</td><td>0</td><td>6</td><td>50</td><td>37</td><td>1</td></tr>\n",
       "\t<tr><th scope=row>3</th><td>2</td><td>20</td><td>12</td><td>27</td><td>16</td><td>15</td><td>18</td><td>3</td><td>3</td><td>65</td><td>49</td><td>1</td></tr>\n",
       "\t<tr><th scope=row>4</th><td>3</td><td>11</td><td>17</td><td>13</td><td>12</td><td>16</td><td>13</td><td>3</td><td>3</td><td>43</td><td>45</td><td>2</td></tr>\n",
       "\t<tr><th scope=row>5</th><td>4</td><td>16</td><td>15</td><td>22</td><td>15</td><td>13</td><td> 8</td><td>0</td><td>6</td><td>51</td><td>44</td><td>1</td></tr>\n",
       "\t<tr><th scope=row>6</th><td>5</td><td> 8</td><td>23</td><td> 9</td><td> 9</td><td>10</td><td>16</td><td>0</td><td>6</td><td>27</td><td>54</td><td>2</td></tr>\n",
       "</tbody>\n",
       "</table>\n"
      ],
      "text/latex": [
       "A data.frame: 6 × 12\n",
       "\\begin{tabular}{r|llllllllllll}\n",
       "  & game\\_no & r1p1 & r1p2 & r2p1 & r2p2 & r3p1 & r3p2 & p1\\_pudding & p2\\_pudding & p1\\_total & p2\\_total & winner\\\\\n",
       "  & <int> & <int> & <int> & <int> & <int> & <int> & <int> & <int> & <int> & <int> & <int> & <int>\\\\\n",
       "\\hline\n",
       "\t1 & 0 & 19 & 16 &  9 & 11 & 11 & 15 & 6 & 0 & 45 & 42 & 1\\\\\n",
       "\t2 & 1 & 12 & 14 & 19 & 10 & 19 &  7 & 0 & 6 & 50 & 37 & 1\\\\\n",
       "\t3 & 2 & 20 & 12 & 27 & 16 & 15 & 18 & 3 & 3 & 65 & 49 & 1\\\\\n",
       "\t4 & 3 & 11 & 17 & 13 & 12 & 16 & 13 & 3 & 3 & 43 & 45 & 2\\\\\n",
       "\t5 & 4 & 16 & 15 & 22 & 15 & 13 &  8 & 0 & 6 & 51 & 44 & 1\\\\\n",
       "\t6 & 5 &  8 & 23 &  9 &  9 & 10 & 16 & 0 & 6 & 27 & 54 & 2\\\\\n",
       "\\end{tabular}\n"
      ],
      "text/markdown": [
       "\n",
       "A data.frame: 6 × 12\n",
       "\n",
       "| <!--/--> | game_no &lt;int&gt; | r1p1 &lt;int&gt; | r1p2 &lt;int&gt; | r2p1 &lt;int&gt; | r2p2 &lt;int&gt; | r3p1 &lt;int&gt; | r3p2 &lt;int&gt; | p1_pudding &lt;int&gt; | p2_pudding &lt;int&gt; | p1_total &lt;int&gt; | p2_total &lt;int&gt; | winner &lt;int&gt; |\n",
       "|---|---|---|---|---|---|---|---|---|---|---|---|---|\n",
       "| 1 | 0 | 19 | 16 |  9 | 11 | 11 | 15 | 6 | 0 | 45 | 42 | 1 |\n",
       "| 2 | 1 | 12 | 14 | 19 | 10 | 19 |  7 | 0 | 6 | 50 | 37 | 1 |\n",
       "| 3 | 2 | 20 | 12 | 27 | 16 | 15 | 18 | 3 | 3 | 65 | 49 | 1 |\n",
       "| 4 | 3 | 11 | 17 | 13 | 12 | 16 | 13 | 3 | 3 | 43 | 45 | 2 |\n",
       "| 5 | 4 | 16 | 15 | 22 | 15 | 13 |  8 | 0 | 6 | 51 | 44 | 1 |\n",
       "| 6 | 5 |  8 | 23 |  9 |  9 | 10 | 16 | 0 | 6 | 27 | 54 | 2 |\n",
       "\n"
      ],
      "text/plain": [
       "  game_no r1p1 r1p2 r2p1 r2p2 r3p1 r3p2 p1_pudding p2_pudding p1_total p2_total\n",
       "1 0       19   16    9   11   11   15   6          0          45       42      \n",
       "2 1       12   14   19   10   19    7   0          6          50       37      \n",
       "3 2       20   12   27   16   15   18   3          3          65       49      \n",
       "4 3       11   17   13   12   16   13   3          3          43       45      \n",
       "5 4       16   15   22   15   13    8   0          6          51       44      \n",
       "6 5        8   23    9    9   10   16   0          6          27       54      \n",
       "  winner\n",
       "1 1     \n",
       "2 1     \n",
       "3 1     \n",
       "4 2     \n",
       "5 1     \n",
       "6 2     "
      ]
     },
     "metadata": {},
     "output_type": "display_data"
    },
    {
     "name": "stdout",
     "output_type": "stream",
     "text": [
      "'data.frame':\t100000 obs. of  12 variables:\n",
      " $ game_no   : int  0 1 2 3 4 5 6 7 8 9 ...\n",
      " $ r1p1      : int  19 12 20 11 16 8 15 21 24 20 ...\n",
      " $ r1p2      : int  16 14 12 17 15 23 16 18 9 11 ...\n",
      " $ r2p1      : int  9 19 27 13 22 9 18 21 18 21 ...\n",
      " $ r2p2      : int  11 10 16 12 15 9 26 14 14 13 ...\n",
      " $ r3p1      : int  11 19 15 16 13 10 18 13 11 18 ...\n",
      " $ r3p2      : int  15 7 18 13 8 16 9 6 14 13 ...\n",
      " $ p1_pudding: int  6 0 3 3 0 0 0 3 3 0 ...\n",
      " $ p2_pudding: int  0 6 3 3 6 6 6 3 3 6 ...\n",
      " $ p1_total  : int  45 50 65 43 51 27 51 58 56 59 ...\n",
      " $ p2_total  : int  42 37 49 45 44 54 57 41 40 43 ...\n",
      " $ winner    : int  1 1 1 2 1 2 2 1 1 1 ...\n"
     ]
    },
    {
     "data": {
      "text/plain": [
       "    game_no           r1p1            r1p2            r2p1      \n",
       " Min.   :    0   Min.   : 3.00   Min.   : 3.00   Min.   : 3.00  \n",
       " 1st Qu.:25000   1st Qu.:12.00   1st Qu.:12.00   1st Qu.:12.00  \n",
       " Median :50000   Median :15.00   Median :15.00   Median :15.00  \n",
       " Mean   :50000   Mean   :15.79   Mean   :15.78   Mean   :15.76  \n",
       " 3rd Qu.:74999   3rd Qu.:19.00   3rd Qu.:19.00   3rd Qu.:19.00  \n",
       " Max.   :99999   Max.   :39.00   Max.   :40.00   Max.   :40.00  \n",
       "      r2p2            r3p1           r3p2        p1_pudding      p2_pudding   \n",
       " Min.   : 3.00   Min.   : 3.0   Min.   : 3.0   Min.   :0.000   Min.   :0.000  \n",
       " 1st Qu.:12.00   1st Qu.:12.0   1st Qu.:12.0   1st Qu.:0.000   1st Qu.:0.000  \n",
       " Median :15.00   Median :15.0   Median :15.0   Median :3.000   Median :3.000  \n",
       " Mean   :15.78   Mean   :15.8   Mean   :15.8   Mean   :3.016   Mean   :2.984  \n",
       " 3rd Qu.:19.00   3rd Qu.:19.0   3rd Qu.:19.0   3rd Qu.:6.000   3rd Qu.:6.000  \n",
       " Max.   :39.00   Max.   :39.0   Max.   :38.0   Max.   :6.000   Max.   :6.000  \n",
       "    p1_total        p2_total         winner    \n",
       " Min.   :23.00   Min.   :21.00   Min.   :0.00  \n",
       " 1st Qu.:45.00   1st Qu.:45.00   1st Qu.:1.00  \n",
       " Median :50.00   Median :50.00   Median :1.00  \n",
       " Mean   :50.36   Mean   :50.35   Mean   :1.45  \n",
       " 3rd Qu.:56.00   3rd Qu.:56.00   3rd Qu.:2.00  \n",
       " Max.   :87.00   Max.   :87.00   Max.   :2.00  "
      ]
     },
     "metadata": {},
     "output_type": "display_data"
    }
   ],
   "source": [
    "games_df = read.csv(\"sushigo2playerrandom.csv\")\n",
    "head(games_df)\n",
    "str(games_df)\n",
    "summary(games_df)"
   ]
  },
  {
   "cell_type": "code",
   "execution_count": 12,
   "id": "1a6dbca8",
   "metadata": {},
   "outputs": [
    {
     "data": {
      "text/html": [
       "<table class=\"dataframe\">\n",
       "<caption>A data.frame: 1 × 3</caption>\n",
       "<thead>\n",
       "\t<tr><th scope=col>p1_wins</th><th scope=col>p2_wins</th><th scope=col>ties</th></tr>\n",
       "\t<tr><th scope=col>&lt;int&gt;</th><th scope=col>&lt;int&gt;</th><th scope=col>&lt;int&gt;</th></tr>\n",
       "</thead>\n",
       "<tbody>\n",
       "\t<tr><td>48476</td><td>48239</td><td>3285</td></tr>\n",
       "</tbody>\n",
       "</table>\n"
      ],
      "text/latex": [
       "A data.frame: 1 × 3\n",
       "\\begin{tabular}{lll}\n",
       " p1\\_wins & p2\\_wins & ties\\\\\n",
       " <int> & <int> & <int>\\\\\n",
       "\\hline\n",
       "\t 48476 & 48239 & 3285\\\\\n",
       "\\end{tabular}\n"
      ],
      "text/markdown": [
       "\n",
       "A data.frame: 1 × 3\n",
       "\n",
       "| p1_wins &lt;int&gt; | p2_wins &lt;int&gt; | ties &lt;int&gt; |\n",
       "|---|---|---|\n",
       "| 48476 | 48239 | 3285 |\n",
       "\n"
      ],
      "text/plain": [
       "  p1_wins p2_wins ties\n",
       "1 48476   48239   3285"
      ]
     },
     "metadata": {},
     "output_type": "display_data"
    }
   ],
   "source": [
    "num_wins <- games_df %>%\n",
    "    summarize(p1_wins = sum(winner == 1),\n",
    "             p2_wins = sum(winner == 2),\n",
    "             ties = sum(winner == 0))\n",
    "\n",
    "num_wins"
   ]
  },
  {
   "cell_type": "code",
   "execution_count": 15,
   "id": "85516368",
   "metadata": {},
   "outputs": [
    {
     "data": {
      "text/html": [
       "<table class=\"dataframe\">\n",
       "<caption>A data.frame: 6 × 12</caption>\n",
       "<thead>\n",
       "\t<tr><th></th><th scope=col>game_no</th><th scope=col>r1p1</th><th scope=col>r1p2</th><th scope=col>r2p1</th><th scope=col>r2p2</th><th scope=col>r3p1</th><th scope=col>r3p2</th><th scope=col>p1_pudding</th><th scope=col>p2_pudding</th><th scope=col>p1_total</th><th scope=col>p2_total</th><th scope=col>winner</th></tr>\n",
       "\t<tr><th></th><th scope=col>&lt;int&gt;</th><th scope=col>&lt;int&gt;</th><th scope=col>&lt;int&gt;</th><th scope=col>&lt;int&gt;</th><th scope=col>&lt;int&gt;</th><th scope=col>&lt;int&gt;</th><th scope=col>&lt;int&gt;</th><th scope=col>&lt;int&gt;</th><th scope=col>&lt;int&gt;</th><th scope=col>&lt;int&gt;</th><th scope=col>&lt;int&gt;</th><th scope=col>&lt;int&gt;</th></tr>\n",
       "</thead>\n",
       "<tbody>\n",
       "\t<tr><th scope=row>1</th><td>0</td><td>16</td><td>11</td><td>15</td><td>20</td><td>12</td><td>18</td><td>6</td><td>0</td><td>49</td><td>49</td><td>0</td></tr>\n",
       "\t<tr><th scope=row>2</th><td>1</td><td>18</td><td>21</td><td>15</td><td>21</td><td>21</td><td>17</td><td>0</td><td>6</td><td>54</td><td>65</td><td>2</td></tr>\n",
       "\t<tr><th scope=row>3</th><td>2</td><td>13</td><td>14</td><td>17</td><td>14</td><td>26</td><td>19</td><td>6</td><td>0</td><td>62</td><td>47</td><td>1</td></tr>\n",
       "\t<tr><th scope=row>4</th><td>3</td><td>16</td><td>26</td><td>26</td><td>14</td><td>19</td><td>14</td><td>0</td><td>6</td><td>61</td><td>60</td><td>1</td></tr>\n",
       "\t<tr><th scope=row>5</th><td>4</td><td>14</td><td> 8</td><td>27</td><td>16</td><td>22</td><td>17</td><td>3</td><td>3</td><td>66</td><td>44</td><td>1</td></tr>\n",
       "\t<tr><th scope=row>6</th><td>5</td><td>12</td><td> 9</td><td>18</td><td>24</td><td>17</td><td>15</td><td>0</td><td>6</td><td>47</td><td>54</td><td>2</td></tr>\n",
       "</tbody>\n",
       "</table>\n"
      ],
      "text/latex": [
       "A data.frame: 6 × 12\n",
       "\\begin{tabular}{r|llllllllllll}\n",
       "  & game\\_no & r1p1 & r1p2 & r2p1 & r2p2 & r3p1 & r3p2 & p1\\_pudding & p2\\_pudding & p1\\_total & p2\\_total & winner\\\\\n",
       "  & <int> & <int> & <int> & <int> & <int> & <int> & <int> & <int> & <int> & <int> & <int> & <int>\\\\\n",
       "\\hline\n",
       "\t1 & 0 & 16 & 11 & 15 & 20 & 12 & 18 & 6 & 0 & 49 & 49 & 0\\\\\n",
       "\t2 & 1 & 18 & 21 & 15 & 21 & 21 & 17 & 0 & 6 & 54 & 65 & 2\\\\\n",
       "\t3 & 2 & 13 & 14 & 17 & 14 & 26 & 19 & 6 & 0 & 62 & 47 & 1\\\\\n",
       "\t4 & 3 & 16 & 26 & 26 & 14 & 19 & 14 & 0 & 6 & 61 & 60 & 1\\\\\n",
       "\t5 & 4 & 14 &  8 & 27 & 16 & 22 & 17 & 3 & 3 & 66 & 44 & 1\\\\\n",
       "\t6 & 5 & 12 &  9 & 18 & 24 & 17 & 15 & 0 & 6 & 47 & 54 & 2\\\\\n",
       "\\end{tabular}\n"
      ],
      "text/markdown": [
       "\n",
       "A data.frame: 6 × 12\n",
       "\n",
       "| <!--/--> | game_no &lt;int&gt; | r1p1 &lt;int&gt; | r1p2 &lt;int&gt; | r2p1 &lt;int&gt; | r2p2 &lt;int&gt; | r3p1 &lt;int&gt; | r3p2 &lt;int&gt; | p1_pudding &lt;int&gt; | p2_pudding &lt;int&gt; | p1_total &lt;int&gt; | p2_total &lt;int&gt; | winner &lt;int&gt; |\n",
       "|---|---|---|---|---|---|---|---|---|---|---|---|---|\n",
       "| 1 | 0 | 16 | 11 | 15 | 20 | 12 | 18 | 6 | 0 | 49 | 49 | 0 |\n",
       "| 2 | 1 | 18 | 21 | 15 | 21 | 21 | 17 | 0 | 6 | 54 | 65 | 2 |\n",
       "| 3 | 2 | 13 | 14 | 17 | 14 | 26 | 19 | 6 | 0 | 62 | 47 | 1 |\n",
       "| 4 | 3 | 16 | 26 | 26 | 14 | 19 | 14 | 0 | 6 | 61 | 60 | 1 |\n",
       "| 5 | 4 | 14 |  8 | 27 | 16 | 22 | 17 | 3 | 3 | 66 | 44 | 1 |\n",
       "| 6 | 5 | 12 |  9 | 18 | 24 | 17 | 15 | 0 | 6 | 47 | 54 | 2 |\n",
       "\n"
      ],
      "text/plain": [
       "  game_no r1p1 r1p2 r2p1 r2p2 r3p1 r3p2 p1_pudding p2_pudding p1_total p2_total\n",
       "1 0       16   11   15   20   12   18   6          0          49       49      \n",
       "2 1       18   21   15   21   21   17   0          6          54       65      \n",
       "3 2       13   14   17   14   26   19   6          0          62       47      \n",
       "4 3       16   26   26   14   19   14   0          6          61       60      \n",
       "5 4       14    8   27   16   22   17   3          3          66       44      \n",
       "6 5       12    9   18   24   17   15   0          6          47       54      \n",
       "  winner\n",
       "1 0     \n",
       "2 2     \n",
       "3 1     \n",
       "4 1     \n",
       "5 1     \n",
       "6 2     "
      ]
     },
     "metadata": {},
     "output_type": "display_data"
    },
    {
     "name": "stdout",
     "output_type": "stream",
     "text": [
      "'data.frame':\t100000 obs. of  12 variables:\n",
      " $ game_no   : int  0 1 2 3 4 5 6 7 8 9 ...\n",
      " $ r1p1      : int  16 18 13 16 14 12 16 18 21 18 ...\n",
      " $ r1p2      : int  11 21 14 26 8 9 11 17 15 12 ...\n",
      " $ r2p1      : int  15 15 17 26 27 18 12 21 19 21 ...\n",
      " $ r2p2      : int  20 21 14 14 16 24 26 13 7 25 ...\n",
      " $ r3p1      : int  12 21 26 19 22 17 6 12 18 21 ...\n",
      " $ r3p2      : int  18 17 19 14 17 15 21 18 28 12 ...\n",
      " $ p1_pudding: int  6 0 6 0 3 0 3 6 0 0 ...\n",
      " $ p2_pudding: int  0 6 0 6 3 6 3 0 6 6 ...\n",
      " $ p1_total  : int  49 54 62 61 66 47 37 57 58 60 ...\n",
      " $ p2_total  : int  49 65 47 60 44 54 61 48 56 55 ...\n",
      " $ winner    : int  0 2 1 1 1 2 2 1 1 1 ...\n"
     ]
    },
    {
     "data": {
      "text/plain": [
       "    game_no           r1p1            r1p2           r2p1            r2p2      \n",
       " Min.   :    0   Min.   : 3.00   Min.   : 3.0   Min.   : 3.00   Min.   : 3.00  \n",
       " 1st Qu.:25000   1st Qu.:13.00   1st Qu.:12.0   1st Qu.:13.00   1st Qu.:12.00  \n",
       " Median :50000   Median :16.00   Median :15.0   Median :16.00   Median :15.00  \n",
       " Mean   :50000   Mean   :16.62   Mean   :15.8   Mean   :16.62   Mean   :15.78  \n",
       " 3rd Qu.:74999   3rd Qu.:20.00   3rd Qu.:19.0   3rd Qu.:20.00   3rd Qu.:19.00  \n",
       " Max.   :99999   Max.   :40.00   Max.   :38.0   Max.   :40.00   Max.   :42.00  \n",
       "      r3p1            r3p2         p1_pudding   p2_pudding    p1_total    \n",
       " Min.   : 3.00   Min.   : 3.00   Min.   :0    Min.   :0    Min.   :22.00  \n",
       " 1st Qu.:13.00   1st Qu.:12.00   1st Qu.:0    1st Qu.:0    1st Qu.:47.00  \n",
       " Median :16.00   Median :15.00   Median :3    Median :3    Median :53.00  \n",
       " Mean   :16.62   Mean   :15.76   Mean   :3    Mean   :3    Mean   :52.86  \n",
       " 3rd Qu.:20.00   3rd Qu.:19.00   3rd Qu.:6    3rd Qu.:6    3rd Qu.:58.00  \n",
       " Max.   :41.00   Max.   :39.00   Max.   :6    Max.   :6    Max.   :90.00  \n",
       "    p2_total         winner     \n",
       " Min.   :22.00   Min.   :0.000  \n",
       " 1st Qu.:45.00   1st Qu.:1.000  \n",
       " Median :50.00   Median :1.000  \n",
       " Mean   :50.35   Mean   :1.374  \n",
       " 3rd Qu.:56.00   3rd Qu.:2.000  \n",
       " Max.   :87.00   Max.   :2.000  "
      ]
     },
     "metadata": {},
     "output_type": "display_data"
    },
    {
     "data": {
      "text/html": [
       "<table class=\"dataframe\">\n",
       "<caption>A data.frame: 1 × 9</caption>\n",
       "<thead>\n",
       "\t<tr><th scope=col>p1_wins</th><th scope=col>p2_wins</th><th scope=col>ties</th><th scope=col>r1p1_mean_score</th><th scope=col>r2p1_mean_score</th><th scope=col>r3p1_mean_score</th><th scope=col>r1p2_mean_score</th><th scope=col>r2p2_mean_score</th><th scope=col>r3p2_mean_score</th></tr>\n",
       "\t<tr><th scope=col>&lt;int&gt;</th><th scope=col>&lt;int&gt;</th><th scope=col>&lt;int&gt;</th><th scope=col>&lt;dbl&gt;</th><th scope=col>&lt;dbl&gt;</th><th scope=col>&lt;dbl&gt;</th><th scope=col>&lt;dbl&gt;</th><th scope=col>&lt;dbl&gt;</th><th scope=col>&lt;dbl&gt;</th></tr>\n",
       "</thead>\n",
       "<tbody>\n",
       "\t<tr><td>56388</td><td>40529</td><td>3083</td><td>16.62204</td><td>16.61583</td><td>16.61789</td><td>15.79905</td><td>15.78346</td><td>15.76442</td></tr>\n",
       "</tbody>\n",
       "</table>\n"
      ],
      "text/latex": [
       "A data.frame: 1 × 9\n",
       "\\begin{tabular}{lllllllll}\n",
       " p1\\_wins & p2\\_wins & ties & r1p1\\_mean\\_score & r2p1\\_mean\\_score & r3p1\\_mean\\_score & r1p2\\_mean\\_score & r2p2\\_mean\\_score & r3p2\\_mean\\_score\\\\\n",
       " <int> & <int> & <int> & <dbl> & <dbl> & <dbl> & <dbl> & <dbl> & <dbl>\\\\\n",
       "\\hline\n",
       "\t 56388 & 40529 & 3083 & 16.62204 & 16.61583 & 16.61789 & 15.79905 & 15.78346 & 15.76442\\\\\n",
       "\\end{tabular}\n"
      ],
      "text/markdown": [
       "\n",
       "A data.frame: 1 × 9\n",
       "\n",
       "| p1_wins &lt;int&gt; | p2_wins &lt;int&gt; | ties &lt;int&gt; | r1p1_mean_score &lt;dbl&gt; | r2p1_mean_score &lt;dbl&gt; | r3p1_mean_score &lt;dbl&gt; | r1p2_mean_score &lt;dbl&gt; | r2p2_mean_score &lt;dbl&gt; | r3p2_mean_score &lt;dbl&gt; |\n",
       "|---|---|---|---|---|---|---|---|---|\n",
       "| 56388 | 40529 | 3083 | 16.62204 | 16.61583 | 16.61789 | 15.79905 | 15.78346 | 15.76442 |\n",
       "\n"
      ],
      "text/plain": [
       "  p1_wins p2_wins ties r1p1_mean_score r2p1_mean_score r3p1_mean_score\n",
       "1 56388   40529   3083 16.62204        16.61583        16.61789       \n",
       "  r1p2_mean_score r2p2_mean_score r3p2_mean_score\n",
       "1 15.79905        15.78346        15.76442       "
      ]
     },
     "metadata": {},
     "output_type": "display_data"
    }
   ],
   "source": [
    "games_df = read.csv(\"sushigo2playerstrat1.csv\")\n",
    "head(games_df)\n",
    "str(games_df)\n",
    "summary(games_df)\n",
    "\n",
    "num_wins <- games_df %>%\n",
    "    summarize(p1_wins = sum(winner == 1),\n",
    "             p2_wins = sum(winner == 2),\n",
    "             ties = sum(winner == 0),\n",
    "             r1p1_mean_score = mean(r1p1),\n",
    "             r2p1_mean_score = mean(r2p1),\n",
    "             r3p1_mean_score = mean(r3p1),\n",
    "             r1p2_mean_score = mean(r1p2),\n",
    "             r2p2_mean_score = mean(r2p2),\n",
    "             r3p2_mean_score = mean(r3p2))\n",
    "\n",
    "num_wins"
   ]
  },
  {
   "cell_type": "code",
   "execution_count": 17,
   "id": "0b71d891",
   "metadata": {},
   "outputs": [
    {
     "data": {
      "text/html": [
       "<table class=\"dataframe\">\n",
       "<caption>A data.frame: 6 × 12</caption>\n",
       "<thead>\n",
       "\t<tr><th></th><th scope=col>game_no</th><th scope=col>r1p1</th><th scope=col>r1p2</th><th scope=col>r2p1</th><th scope=col>r2p2</th><th scope=col>r3p1</th><th scope=col>r3p2</th><th scope=col>p1_pudding</th><th scope=col>p2_pudding</th><th scope=col>p1_total</th><th scope=col>p2_total</th><th scope=col>winner</th></tr>\n",
       "\t<tr><th></th><th scope=col>&lt;int&gt;</th><th scope=col>&lt;int&gt;</th><th scope=col>&lt;int&gt;</th><th scope=col>&lt;int&gt;</th><th scope=col>&lt;int&gt;</th><th scope=col>&lt;int&gt;</th><th scope=col>&lt;int&gt;</th><th scope=col>&lt;int&gt;</th><th scope=col>&lt;int&gt;</th><th scope=col>&lt;int&gt;</th><th scope=col>&lt;int&gt;</th><th scope=col>&lt;int&gt;</th></tr>\n",
       "</thead>\n",
       "<tbody>\n",
       "\t<tr><th scope=row>1</th><td>0</td><td>24</td><td>22</td><td>19</td><td>18</td><td>20</td><td>16</td><td>0</td><td>6</td><td>63</td><td>62</td><td>1</td></tr>\n",
       "\t<tr><th scope=row>2</th><td>1</td><td>12</td><td>18</td><td>15</td><td>14</td><td>15</td><td>13</td><td>0</td><td>6</td><td>42</td><td>51</td><td>2</td></tr>\n",
       "\t<tr><th scope=row>3</th><td>2</td><td>18</td><td>13</td><td>14</td><td>18</td><td>11</td><td>14</td><td>6</td><td>0</td><td>49</td><td>45</td><td>1</td></tr>\n",
       "\t<tr><th scope=row>4</th><td>3</td><td>15</td><td>17</td><td>23</td><td>11</td><td>23</td><td>14</td><td>3</td><td>3</td><td>64</td><td>45</td><td>1</td></tr>\n",
       "\t<tr><th scope=row>5</th><td>4</td><td> 9</td><td>22</td><td> 9</td><td> 9</td><td>12</td><td>18</td><td>3</td><td>3</td><td>33</td><td>52</td><td>2</td></tr>\n",
       "\t<tr><th scope=row>6</th><td>5</td><td>16</td><td>12</td><td>18</td><td>19</td><td>21</td><td>17</td><td>6</td><td>0</td><td>61</td><td>48</td><td>1</td></tr>\n",
       "</tbody>\n",
       "</table>\n"
      ],
      "text/latex": [
       "A data.frame: 6 × 12\n",
       "\\begin{tabular}{r|llllllllllll}\n",
       "  & game\\_no & r1p1 & r1p2 & r2p1 & r2p2 & r3p1 & r3p2 & p1\\_pudding & p2\\_pudding & p1\\_total & p2\\_total & winner\\\\\n",
       "  & <int> & <int> & <int> & <int> & <int> & <int> & <int> & <int> & <int> & <int> & <int> & <int>\\\\\n",
       "\\hline\n",
       "\t1 & 0 & 24 & 22 & 19 & 18 & 20 & 16 & 0 & 6 & 63 & 62 & 1\\\\\n",
       "\t2 & 1 & 12 & 18 & 15 & 14 & 15 & 13 & 0 & 6 & 42 & 51 & 2\\\\\n",
       "\t3 & 2 & 18 & 13 & 14 & 18 & 11 & 14 & 6 & 0 & 49 & 45 & 1\\\\\n",
       "\t4 & 3 & 15 & 17 & 23 & 11 & 23 & 14 & 3 & 3 & 64 & 45 & 1\\\\\n",
       "\t5 & 4 &  9 & 22 &  9 &  9 & 12 & 18 & 3 & 3 & 33 & 52 & 2\\\\\n",
       "\t6 & 5 & 16 & 12 & 18 & 19 & 21 & 17 & 6 & 0 & 61 & 48 & 1\\\\\n",
       "\\end{tabular}\n"
      ],
      "text/markdown": [
       "\n",
       "A data.frame: 6 × 12\n",
       "\n",
       "| <!--/--> | game_no &lt;int&gt; | r1p1 &lt;int&gt; | r1p2 &lt;int&gt; | r2p1 &lt;int&gt; | r2p2 &lt;int&gt; | r3p1 &lt;int&gt; | r3p2 &lt;int&gt; | p1_pudding &lt;int&gt; | p2_pudding &lt;int&gt; | p1_total &lt;int&gt; | p2_total &lt;int&gt; | winner &lt;int&gt; |\n",
       "|---|---|---|---|---|---|---|---|---|---|---|---|---|\n",
       "| 1 | 0 | 24 | 22 | 19 | 18 | 20 | 16 | 0 | 6 | 63 | 62 | 1 |\n",
       "| 2 | 1 | 12 | 18 | 15 | 14 | 15 | 13 | 0 | 6 | 42 | 51 | 2 |\n",
       "| 3 | 2 | 18 | 13 | 14 | 18 | 11 | 14 | 6 | 0 | 49 | 45 | 1 |\n",
       "| 4 | 3 | 15 | 17 | 23 | 11 | 23 | 14 | 3 | 3 | 64 | 45 | 1 |\n",
       "| 5 | 4 |  9 | 22 |  9 |  9 | 12 | 18 | 3 | 3 | 33 | 52 | 2 |\n",
       "| 6 | 5 | 16 | 12 | 18 | 19 | 21 | 17 | 6 | 0 | 61 | 48 | 1 |\n",
       "\n"
      ],
      "text/plain": [
       "  game_no r1p1 r1p2 r2p1 r2p2 r3p1 r3p2 p1_pudding p2_pudding p1_total p2_total\n",
       "1 0       24   22   19   18   20   16   0          6          63       62      \n",
       "2 1       12   18   15   14   15   13   0          6          42       51      \n",
       "3 2       18   13   14   18   11   14   6          0          49       45      \n",
       "4 3       15   17   23   11   23   14   3          3          64       45      \n",
       "5 4        9   22    9    9   12   18   3          3          33       52      \n",
       "6 5       16   12   18   19   21   17   6          0          61       48      \n",
       "  winner\n",
       "1 1     \n",
       "2 2     \n",
       "3 1     \n",
       "4 1     \n",
       "5 2     \n",
       "6 1     "
      ]
     },
     "metadata": {},
     "output_type": "display_data"
    },
    {
     "name": "stdout",
     "output_type": "stream",
     "text": [
      "'data.frame':\t100000 obs. of  12 variables:\n",
      " $ game_no   : int  0 1 2 3 4 5 6 7 8 9 ...\n",
      " $ r1p1      : int  24 12 18 15 9 16 20 12 23 18 ...\n",
      " $ r1p2      : int  22 18 13 17 22 12 19 17 17 12 ...\n",
      " $ r2p1      : int  19 15 14 23 9 18 12 20 26 20 ...\n",
      " $ r2p2      : int  18 14 18 11 9 19 15 12 19 12 ...\n",
      " $ r3p1      : int  20 15 11 23 12 21 18 13 23 20 ...\n",
      " $ r3p2      : int  16 13 14 14 18 17 17 15 14 15 ...\n",
      " $ p1_pudding: int  0 0 6 3 3 6 3 3 3 0 ...\n",
      " $ p2_pudding: int  6 6 0 3 3 0 3 3 3 6 ...\n",
      " $ p1_total  : int  63 42 49 64 33 61 53 48 75 58 ...\n",
      " $ p2_total  : int  62 51 45 45 52 48 54 47 53 45 ...\n",
      " $ winner    : int  1 2 1 1 2 1 2 1 1 1 ...\n"
     ]
    },
    {
     "data": {
      "text/plain": [
       "    game_no           r1p1            r1p2            r2p1      \n",
       " Min.   :    0   Min.   : 3.00   Min.   : 3.00   Min.   : 3.00  \n",
       " 1st Qu.:25000   1st Qu.:13.00   1st Qu.:12.00   1st Qu.:13.00  \n",
       " Median :50000   Median :16.00   Median :15.00   Median :16.00  \n",
       " Mean   :50000   Mean   :16.61   Mean   :15.75   Mean   :16.62  \n",
       " 3rd Qu.:74999   3rd Qu.:20.00   3rd Qu.:19.00   3rd Qu.:20.00  \n",
       " Max.   :99999   Max.   :40.00   Max.   :39.00   Max.   :41.00  \n",
       "      r2p2            r3p1            r3p2        p1_pudding      p2_pudding   \n",
       " Min.   : 3.00   Min.   : 3.00   Min.   : 3.0   Min.   :0.000   Min.   :0.000  \n",
       " 1st Qu.:12.00   1st Qu.:13.00   1st Qu.:12.0   1st Qu.:0.000   1st Qu.:0.000  \n",
       " Median :15.00   Median :16.00   Median :15.0   Median :3.000   Median :3.000  \n",
       " Mean   :15.77   Mean   :16.62   Mean   :15.8   Mean   :2.998   Mean   :3.002  \n",
       " 3rd Qu.:19.00   3rd Qu.:20.00   3rd Qu.:19.0   3rd Qu.:6.000   3rd Qu.:6.000  \n",
       " Max.   :40.00   Max.   :39.00   Max.   :37.0   Max.   :6.000   Max.   :6.000  \n",
       "    p1_total        p2_total         winner     \n",
       " Min.   :22.00   Min.   :21.00   Min.   :0.000  \n",
       " 1st Qu.:47.00   1st Qu.:45.00   1st Qu.:1.000  \n",
       " Median :53.00   Median :50.00   Median :1.000  \n",
       " Mean   :52.85   Mean   :50.33   Mean   :1.373  \n",
       " 3rd Qu.:58.00   3rd Qu.:56.00   3rd Qu.:2.000  \n",
       " Max.   :89.00   Max.   :88.00   Max.   :2.000  "
      ]
     },
     "metadata": {},
     "output_type": "display_data"
    },
    {
     "data": {
      "text/html": [
       "<table class=\"dataframe\">\n",
       "<caption>A data.frame: 1 × 9</caption>\n",
       "<thead>\n",
       "\t<tr><th scope=col>p1_wins</th><th scope=col>p2_wins</th><th scope=col>ties</th><th scope=col>r1p1_mean_score</th><th scope=col>r2p1_mean_score</th><th scope=col>r3p1_mean_score</th><th scope=col>r1p2_mean_score</th><th scope=col>r2p2_mean_score</th><th scope=col>r3p2_mean_score</th></tr>\n",
       "\t<tr><th scope=col>&lt;int&gt;</th><th scope=col>&lt;int&gt;</th><th scope=col>&lt;int&gt;</th><th scope=col>&lt;dbl&gt;</th><th scope=col>&lt;dbl&gt;</th><th scope=col>&lt;dbl&gt;</th><th scope=col>&lt;dbl&gt;</th><th scope=col>&lt;dbl&gt;</th><th scope=col>&lt;dbl&gt;</th></tr>\n",
       "</thead>\n",
       "<tbody>\n",
       "\t<tr><td>56485</td><td>40399</td><td>3116</td><td>16.61421</td><td>16.61632</td><td>16.62305</td><td>15.75357</td><td>15.77435</td><td>15.79937</td></tr>\n",
       "</tbody>\n",
       "</table>\n"
      ],
      "text/latex": [
       "A data.frame: 1 × 9\n",
       "\\begin{tabular}{lllllllll}\n",
       " p1\\_wins & p2\\_wins & ties & r1p1\\_mean\\_score & r2p1\\_mean\\_score & r3p1\\_mean\\_score & r1p2\\_mean\\_score & r2p2\\_mean\\_score & r3p2\\_mean\\_score\\\\\n",
       " <int> & <int> & <int> & <dbl> & <dbl> & <dbl> & <dbl> & <dbl> & <dbl>\\\\\n",
       "\\hline\n",
       "\t 56485 & 40399 & 3116 & 16.61421 & 16.61632 & 16.62305 & 15.75357 & 15.77435 & 15.79937\\\\\n",
       "\\end{tabular}\n"
      ],
      "text/markdown": [
       "\n",
       "A data.frame: 1 × 9\n",
       "\n",
       "| p1_wins &lt;int&gt; | p2_wins &lt;int&gt; | ties &lt;int&gt; | r1p1_mean_score &lt;dbl&gt; | r2p1_mean_score &lt;dbl&gt; | r3p1_mean_score &lt;dbl&gt; | r1p2_mean_score &lt;dbl&gt; | r2p2_mean_score &lt;dbl&gt; | r3p2_mean_score &lt;dbl&gt; |\n",
       "|---|---|---|---|---|---|---|---|---|\n",
       "| 56485 | 40399 | 3116 | 16.61421 | 16.61632 | 16.62305 | 15.75357 | 15.77435 | 15.79937 |\n",
       "\n"
      ],
      "text/plain": [
       "  p1_wins p2_wins ties r1p1_mean_score r2p1_mean_score r3p1_mean_score\n",
       "1 56485   40399   3116 16.61421        16.61632        16.62305       \n",
       "  r1p2_mean_score r2p2_mean_score r3p2_mean_score\n",
       "1 15.75357        15.77435        15.79937       "
      ]
     },
     "metadata": {},
     "output_type": "display_data"
    }
   ],
   "source": [
    "games_df = read.csv(\"sushigo2playerstrat1both.csv\")\n",
    "head(games_df)\n",
    "str(games_df)\n",
    "summary(games_df)\n",
    "\n",
    "num_wins <- games_df %>%\n",
    "    summarize(p1_wins = sum(winner == 1),\n",
    "             p2_wins = sum(winner == 2),\n",
    "             ties = sum(winner == 0),\n",
    "             r1p1_mean_score = mean(r1p1),\n",
    "             r2p1_mean_score = mean(r2p1),\n",
    "             r3p1_mean_score = mean(r3p1),\n",
    "             r1p2_mean_score = mean(r1p2),\n",
    "             r2p2_mean_score = mean(r2p2),\n",
    "             r3p2_mean_score = mean(r3p2))\n",
    "\n",
    "num_wins"
   ]
  }
 ],
 "metadata": {
  "kernelspec": {
   "display_name": "R",
   "language": "R",
   "name": "ir"
  },
  "language_info": {
   "codemirror_mode": "r",
   "file_extension": ".r",
   "mimetype": "text/x-r-source",
   "name": "R",
   "pygments_lexer": "r",
   "version": "4.1.0"
  }
 },
 "nbformat": 4,
 "nbformat_minor": 5
}
