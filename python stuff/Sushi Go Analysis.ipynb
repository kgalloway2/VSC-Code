{
 "cells": [
  {
   "cell_type": "code",
   "execution_count": 1,
   "id": "71177753",
   "metadata": {
    "collapsed": true
   },
   "outputs": [
    {
     "name": "stderr",
     "output_type": "stream",
     "text": [
      "\n",
      "Attaching package: 'dplyr'\n",
      "\n",
      "\n",
      "The following objects are masked from 'package:stats':\n",
      "\n",
      "    filter, lag\n",
      "\n",
      "\n",
      "The following objects are masked from 'package:base':\n",
      "\n",
      "    intersect, setdiff, setequal, union\n",
      "\n",
      "\n"
     ]
    }
   ],
   "source": [
    "library(dplyr)\n",
    "library(ggplot2)"
   ]
  },
  {
   "cell_type": "code",
   "execution_count": 11,
   "id": "95cbf73e",
   "metadata": {},
   "outputs": [
    {
     "data": {
      "text/html": [
       "<table class=\"dataframe\">\n",
       "<caption>A data.frame: 6 × 12</caption>\n",
       "<thead>\n",
       "\t<tr><th></th><th scope=col>game_no</th><th scope=col>r1p1</th><th scope=col>r1p2</th><th scope=col>r2p1</th><th scope=col>r2p2</th><th scope=col>r3p1</th><th scope=col>r3p2</th><th scope=col>p1_pudding</th><th scope=col>p2_pudding</th><th scope=col>p1_total</th><th scope=col>p2_total</th><th scope=col>winner</th></tr>\n",
       "\t<tr><th></th><th scope=col>&lt;int&gt;</th><th scope=col>&lt;int&gt;</th><th scope=col>&lt;int&gt;</th><th scope=col>&lt;int&gt;</th><th scope=col>&lt;int&gt;</th><th scope=col>&lt;int&gt;</th><th scope=col>&lt;int&gt;</th><th scope=col>&lt;int&gt;</th><th scope=col>&lt;int&gt;</th><th scope=col>&lt;int&gt;</th><th scope=col>&lt;int&gt;</th><th scope=col>&lt;int&gt;</th></tr>\n",
       "</thead>\n",
       "<tbody>\n",
       "\t<tr><th scope=row>1</th><td>0</td><td>19</td><td>16</td><td> 9</td><td>11</td><td>11</td><td>15</td><td>6</td><td>0</td><td>45</td><td>42</td><td>1</td></tr>\n",
       "\t<tr><th scope=row>2</th><td>1</td><td>12</td><td>14</td><td>19</td><td>10</td><td>19</td><td> 7</td><td>0</td><td>6</td><td>50</td><td>37</td><td>1</td></tr>\n",
       "\t<tr><th scope=row>3</th><td>2</td><td>20</td><td>12</td><td>27</td><td>16</td><td>15</td><td>18</td><td>3</td><td>3</td><td>65</td><td>49</td><td>1</td></tr>\n",
       "\t<tr><th scope=row>4</th><td>3</td><td>11</td><td>17</td><td>13</td><td>12</td><td>16</td><td>13</td><td>3</td><td>3</td><td>43</td><td>45</td><td>2</td></tr>\n",
       "\t<tr><th scope=row>5</th><td>4</td><td>16</td><td>15</td><td>22</td><td>15</td><td>13</td><td> 8</td><td>0</td><td>6</td><td>51</td><td>44</td><td>1</td></tr>\n",
       "\t<tr><th scope=row>6</th><td>5</td><td> 8</td><td>23</td><td> 9</td><td> 9</td><td>10</td><td>16</td><td>0</td><td>6</td><td>27</td><td>54</td><td>2</td></tr>\n",
       "</tbody>\n",
       "</table>\n"
      ],
      "text/latex": [
       "A data.frame: 6 × 12\n",
       "\\begin{tabular}{r|llllllllllll}\n",
       "  & game\\_no & r1p1 & r1p2 & r2p1 & r2p2 & r3p1 & r3p2 & p1\\_pudding & p2\\_pudding & p1\\_total & p2\\_total & winner\\\\\n",
       "  & <int> & <int> & <int> & <int> & <int> & <int> & <int> & <int> & <int> & <int> & <int> & <int>\\\\\n",
       "\\hline\n",
       "\t1 & 0 & 19 & 16 &  9 & 11 & 11 & 15 & 6 & 0 & 45 & 42 & 1\\\\\n",
       "\t2 & 1 & 12 & 14 & 19 & 10 & 19 &  7 & 0 & 6 & 50 & 37 & 1\\\\\n",
       "\t3 & 2 & 20 & 12 & 27 & 16 & 15 & 18 & 3 & 3 & 65 & 49 & 1\\\\\n",
       "\t4 & 3 & 11 & 17 & 13 & 12 & 16 & 13 & 3 & 3 & 43 & 45 & 2\\\\\n",
       "\t5 & 4 & 16 & 15 & 22 & 15 & 13 &  8 & 0 & 6 & 51 & 44 & 1\\\\\n",
       "\t6 & 5 &  8 & 23 &  9 &  9 & 10 & 16 & 0 & 6 & 27 & 54 & 2\\\\\n",
       "\\end{tabular}\n"
      ],
      "text/markdown": [
       "\n",
       "A data.frame: 6 × 12\n",
       "\n",
       "| <!--/--> | game_no &lt;int&gt; | r1p1 &lt;int&gt; | r1p2 &lt;int&gt; | r2p1 &lt;int&gt; | r2p2 &lt;int&gt; | r3p1 &lt;int&gt; | r3p2 &lt;int&gt; | p1_pudding &lt;int&gt; | p2_pudding &lt;int&gt; | p1_total &lt;int&gt; | p2_total &lt;int&gt; | winner &lt;int&gt; |\n",
       "|---|---|---|---|---|---|---|---|---|---|---|---|---|\n",
       "| 1 | 0 | 19 | 16 |  9 | 11 | 11 | 15 | 6 | 0 | 45 | 42 | 1 |\n",
       "| 2 | 1 | 12 | 14 | 19 | 10 | 19 |  7 | 0 | 6 | 50 | 37 | 1 |\n",
       "| 3 | 2 | 20 | 12 | 27 | 16 | 15 | 18 | 3 | 3 | 65 | 49 | 1 |\n",
       "| 4 | 3 | 11 | 17 | 13 | 12 | 16 | 13 | 3 | 3 | 43 | 45 | 2 |\n",
       "| 5 | 4 | 16 | 15 | 22 | 15 | 13 |  8 | 0 | 6 | 51 | 44 | 1 |\n",
       "| 6 | 5 |  8 | 23 |  9 |  9 | 10 | 16 | 0 | 6 | 27 | 54 | 2 |\n",
       "\n"
      ],
      "text/plain": [
       "  game_no r1p1 r1p2 r2p1 r2p2 r3p1 r3p2 p1_pudding p2_pudding p1_total p2_total\n",
       "1 0       19   16    9   11   11   15   6          0          45       42      \n",
       "2 1       12   14   19   10   19    7   0          6          50       37      \n",
       "3 2       20   12   27   16   15   18   3          3          65       49      \n",
       "4 3       11   17   13   12   16   13   3          3          43       45      \n",
       "5 4       16   15   22   15   13    8   0          6          51       44      \n",
       "6 5        8   23    9    9   10   16   0          6          27       54      \n",
       "  winner\n",
       "1 1     \n",
       "2 1     \n",
       "3 1     \n",
       "4 2     \n",
       "5 1     \n",
       "6 2     "
      ]
     },
     "metadata": {},
     "output_type": "display_data"
    },
    {
     "name": "stdout",
     "output_type": "stream",
     "text": [
      "'data.frame':\t100000 obs. of  12 variables:\n",
      " $ game_no   : int  0 1 2 3 4 5 6 7 8 9 ...\n",
      " $ r1p1      : int  19 12 20 11 16 8 15 21 24 20 ...\n",
      " $ r1p2      : int  16 14 12 17 15 23 16 18 9 11 ...\n",
      " $ r2p1      : int  9 19 27 13 22 9 18 21 18 21 ...\n",
      " $ r2p2      : int  11 10 16 12 15 9 26 14 14 13 ...\n",
      " $ r3p1      : int  11 19 15 16 13 10 18 13 11 18 ...\n",
      " $ r3p2      : int  15 7 18 13 8 16 9 6 14 13 ...\n",
      " $ p1_pudding: int  6 0 3 3 0 0 0 3 3 0 ...\n",
      " $ p2_pudding: int  0 6 3 3 6 6 6 3 3 6 ...\n",
      " $ p1_total  : int  45 50 65 43 51 27 51 58 56 59 ...\n",
      " $ p2_total  : int  42 37 49 45 44 54 57 41 40 43 ...\n",
      " $ winner    : int  1 1 1 2 1 2 2 1 1 1 ...\n"
     ]
    },
    {
     "data": {
      "text/plain": [
       "    game_no           r1p1            r1p2            r2p1      \n",
       " Min.   :    0   Min.   : 3.00   Min.   : 3.00   Min.   : 3.00  \n",
       " 1st Qu.:25000   1st Qu.:12.00   1st Qu.:12.00   1st Qu.:12.00  \n",
       " Median :50000   Median :15.00   Median :15.00   Median :15.00  \n",
       " Mean   :50000   Mean   :15.79   Mean   :15.78   Mean   :15.76  \n",
       " 3rd Qu.:74999   3rd Qu.:19.00   3rd Qu.:19.00   3rd Qu.:19.00  \n",
       " Max.   :99999   Max.   :39.00   Max.   :40.00   Max.   :40.00  \n",
       "      r2p2            r3p1           r3p2        p1_pudding      p2_pudding   \n",
       " Min.   : 3.00   Min.   : 3.0   Min.   : 3.0   Min.   :0.000   Min.   :0.000  \n",
       " 1st Qu.:12.00   1st Qu.:12.0   1st Qu.:12.0   1st Qu.:0.000   1st Qu.:0.000  \n",
       " Median :15.00   Median :15.0   Median :15.0   Median :3.000   Median :3.000  \n",
       " Mean   :15.78   Mean   :15.8   Mean   :15.8   Mean   :3.016   Mean   :2.984  \n",
       " 3rd Qu.:19.00   3rd Qu.:19.0   3rd Qu.:19.0   3rd Qu.:6.000   3rd Qu.:6.000  \n",
       " Max.   :39.00   Max.   :39.0   Max.   :38.0   Max.   :6.000   Max.   :6.000  \n",
       "    p1_total        p2_total         winner    \n",
       " Min.   :23.00   Min.   :21.00   Min.   :0.00  \n",
       " 1st Qu.:45.00   1st Qu.:45.00   1st Qu.:1.00  \n",
       " Median :50.00   Median :50.00   Median :1.00  \n",
       " Mean   :50.36   Mean   :50.35   Mean   :1.45  \n",
       " 3rd Qu.:56.00   3rd Qu.:56.00   3rd Qu.:2.00  \n",
       " Max.   :87.00   Max.   :87.00   Max.   :2.00  "
      ]
     },
     "metadata": {},
     "output_type": "display_data"
    }
   ],
   "source": [
    "# both players play randomly\n",
    "games_df = read.csv(\"sushigo2playerrandom.csv\")\n",
    "head(games_df)\n",
    "str(games_df)\n",
    "summary(games_df)"
   ]
  },
  {
   "cell_type": "code",
   "execution_count": 12,
   "id": "1a6dbca8",
   "metadata": {},
   "outputs": [
    {
     "data": {
      "text/html": [
       "<table class=\"dataframe\">\n",
       "<caption>A data.frame: 1 × 3</caption>\n",
       "<thead>\n",
       "\t<tr><th scope=col>p1_wins</th><th scope=col>p2_wins</th><th scope=col>ties</th></tr>\n",
       "\t<tr><th scope=col>&lt;int&gt;</th><th scope=col>&lt;int&gt;</th><th scope=col>&lt;int&gt;</th></tr>\n",
       "</thead>\n",
       "<tbody>\n",
       "\t<tr><td>48476</td><td>48239</td><td>3285</td></tr>\n",
       "</tbody>\n",
       "</table>\n"
      ],
      "text/latex": [
       "A data.frame: 1 × 3\n",
       "\\begin{tabular}{lll}\n",
       " p1\\_wins & p2\\_wins & ties\\\\\n",
       " <int> & <int> & <int>\\\\\n",
       "\\hline\n",
       "\t 48476 & 48239 & 3285\\\\\n",
       "\\end{tabular}\n"
      ],
      "text/markdown": [
       "\n",
       "A data.frame: 1 × 3\n",
       "\n",
       "| p1_wins &lt;int&gt; | p2_wins &lt;int&gt; | ties &lt;int&gt; |\n",
       "|---|---|---|\n",
       "| 48476 | 48239 | 3285 |\n",
       "\n"
      ],
      "text/plain": [
       "  p1_wins p2_wins ties\n",
       "1 48476   48239   3285"
      ]
     },
     "metadata": {},
     "output_type": "display_data"
    }
   ],
   "source": [
    "num_wins <- games_df %>%\n",
    "    summarize(p1_wins = sum(winner == 1),\n",
    "             p2_wins = sum(winner == 2),\n",
    "             ties = sum(winner == 0))\n",
    "\n",
    "num_wins"
   ]
  },
  {
   "cell_type": "code",
   "execution_count": 15,
   "id": "85516368",
   "metadata": {},
   "outputs": [
    {
     "data": {
      "text/html": [
       "<table class=\"dataframe\">\n",
       "<caption>A data.frame: 6 × 12</caption>\n",
       "<thead>\n",
       "\t<tr><th></th><th scope=col>game_no</th><th scope=col>r1p1</th><th scope=col>r1p2</th><th scope=col>r2p1</th><th scope=col>r2p2</th><th scope=col>r3p1</th><th scope=col>r3p2</th><th scope=col>p1_pudding</th><th scope=col>p2_pudding</th><th scope=col>p1_total</th><th scope=col>p2_total</th><th scope=col>winner</th></tr>\n",
       "\t<tr><th></th><th scope=col>&lt;int&gt;</th><th scope=col>&lt;int&gt;</th><th scope=col>&lt;int&gt;</th><th scope=col>&lt;int&gt;</th><th scope=col>&lt;int&gt;</th><th scope=col>&lt;int&gt;</th><th scope=col>&lt;int&gt;</th><th scope=col>&lt;int&gt;</th><th scope=col>&lt;int&gt;</th><th scope=col>&lt;int&gt;</th><th scope=col>&lt;int&gt;</th><th scope=col>&lt;int&gt;</th></tr>\n",
       "</thead>\n",
       "<tbody>\n",
       "\t<tr><th scope=row>1</th><td>0</td><td>16</td><td>11</td><td>15</td><td>20</td><td>12</td><td>18</td><td>6</td><td>0</td><td>49</td><td>49</td><td>0</td></tr>\n",
       "\t<tr><th scope=row>2</th><td>1</td><td>18</td><td>21</td><td>15</td><td>21</td><td>21</td><td>17</td><td>0</td><td>6</td><td>54</td><td>65</td><td>2</td></tr>\n",
       "\t<tr><th scope=row>3</th><td>2</td><td>13</td><td>14</td><td>17</td><td>14</td><td>26</td><td>19</td><td>6</td><td>0</td><td>62</td><td>47</td><td>1</td></tr>\n",
       "\t<tr><th scope=row>4</th><td>3</td><td>16</td><td>26</td><td>26</td><td>14</td><td>19</td><td>14</td><td>0</td><td>6</td><td>61</td><td>60</td><td>1</td></tr>\n",
       "\t<tr><th scope=row>5</th><td>4</td><td>14</td><td> 8</td><td>27</td><td>16</td><td>22</td><td>17</td><td>3</td><td>3</td><td>66</td><td>44</td><td>1</td></tr>\n",
       "\t<tr><th scope=row>6</th><td>5</td><td>12</td><td> 9</td><td>18</td><td>24</td><td>17</td><td>15</td><td>0</td><td>6</td><td>47</td><td>54</td><td>2</td></tr>\n",
       "</tbody>\n",
       "</table>\n"
      ],
      "text/latex": [
       "A data.frame: 6 × 12\n",
       "\\begin{tabular}{r|llllllllllll}\n",
       "  & game\\_no & r1p1 & r1p2 & r2p1 & r2p2 & r3p1 & r3p2 & p1\\_pudding & p2\\_pudding & p1\\_total & p2\\_total & winner\\\\\n",
       "  & <int> & <int> & <int> & <int> & <int> & <int> & <int> & <int> & <int> & <int> & <int> & <int>\\\\\n",
       "\\hline\n",
       "\t1 & 0 & 16 & 11 & 15 & 20 & 12 & 18 & 6 & 0 & 49 & 49 & 0\\\\\n",
       "\t2 & 1 & 18 & 21 & 15 & 21 & 21 & 17 & 0 & 6 & 54 & 65 & 2\\\\\n",
       "\t3 & 2 & 13 & 14 & 17 & 14 & 26 & 19 & 6 & 0 & 62 & 47 & 1\\\\\n",
       "\t4 & 3 & 16 & 26 & 26 & 14 & 19 & 14 & 0 & 6 & 61 & 60 & 1\\\\\n",
       "\t5 & 4 & 14 &  8 & 27 & 16 & 22 & 17 & 3 & 3 & 66 & 44 & 1\\\\\n",
       "\t6 & 5 & 12 &  9 & 18 & 24 & 17 & 15 & 0 & 6 & 47 & 54 & 2\\\\\n",
       "\\end{tabular}\n"
      ],
      "text/markdown": [
       "\n",
       "A data.frame: 6 × 12\n",
       "\n",
       "| <!--/--> | game_no &lt;int&gt; | r1p1 &lt;int&gt; | r1p2 &lt;int&gt; | r2p1 &lt;int&gt; | r2p2 &lt;int&gt; | r3p1 &lt;int&gt; | r3p2 &lt;int&gt; | p1_pudding &lt;int&gt; | p2_pudding &lt;int&gt; | p1_total &lt;int&gt; | p2_total &lt;int&gt; | winner &lt;int&gt; |\n",
       "|---|---|---|---|---|---|---|---|---|---|---|---|---|\n",
       "| 1 | 0 | 16 | 11 | 15 | 20 | 12 | 18 | 6 | 0 | 49 | 49 | 0 |\n",
       "| 2 | 1 | 18 | 21 | 15 | 21 | 21 | 17 | 0 | 6 | 54 | 65 | 2 |\n",
       "| 3 | 2 | 13 | 14 | 17 | 14 | 26 | 19 | 6 | 0 | 62 | 47 | 1 |\n",
       "| 4 | 3 | 16 | 26 | 26 | 14 | 19 | 14 | 0 | 6 | 61 | 60 | 1 |\n",
       "| 5 | 4 | 14 |  8 | 27 | 16 | 22 | 17 | 3 | 3 | 66 | 44 | 1 |\n",
       "| 6 | 5 | 12 |  9 | 18 | 24 | 17 | 15 | 0 | 6 | 47 | 54 | 2 |\n",
       "\n"
      ],
      "text/plain": [
       "  game_no r1p1 r1p2 r2p1 r2p2 r3p1 r3p2 p1_pudding p2_pudding p1_total p2_total\n",
       "1 0       16   11   15   20   12   18   6          0          49       49      \n",
       "2 1       18   21   15   21   21   17   0          6          54       65      \n",
       "3 2       13   14   17   14   26   19   6          0          62       47      \n",
       "4 3       16   26   26   14   19   14   0          6          61       60      \n",
       "5 4       14    8   27   16   22   17   3          3          66       44      \n",
       "6 5       12    9   18   24   17   15   0          6          47       54      \n",
       "  winner\n",
       "1 0     \n",
       "2 2     \n",
       "3 1     \n",
       "4 1     \n",
       "5 1     \n",
       "6 2     "
      ]
     },
     "metadata": {},
     "output_type": "display_data"
    },
    {
     "name": "stdout",
     "output_type": "stream",
     "text": [
      "'data.frame':\t100000 obs. of  12 variables:\n",
      " $ game_no   : int  0 1 2 3 4 5 6 7 8 9 ...\n",
      " $ r1p1      : int  16 18 13 16 14 12 16 18 21 18 ...\n",
      " $ r1p2      : int  11 21 14 26 8 9 11 17 15 12 ...\n",
      " $ r2p1      : int  15 15 17 26 27 18 12 21 19 21 ...\n",
      " $ r2p2      : int  20 21 14 14 16 24 26 13 7 25 ...\n",
      " $ r3p1      : int  12 21 26 19 22 17 6 12 18 21 ...\n",
      " $ r3p2      : int  18 17 19 14 17 15 21 18 28 12 ...\n",
      " $ p1_pudding: int  6 0 6 0 3 0 3 6 0 0 ...\n",
      " $ p2_pudding: int  0 6 0 6 3 6 3 0 6 6 ...\n",
      " $ p1_total  : int  49 54 62 61 66 47 37 57 58 60 ...\n",
      " $ p2_total  : int  49 65 47 60 44 54 61 48 56 55 ...\n",
      " $ winner    : int  0 2 1 1 1 2 2 1 1 1 ...\n"
     ]
    },
    {
     "data": {
      "text/plain": [
       "    game_no           r1p1            r1p2           r2p1            r2p2      \n",
       " Min.   :    0   Min.   : 3.00   Min.   : 3.0   Min.   : 3.00   Min.   : 3.00  \n",
       " 1st Qu.:25000   1st Qu.:13.00   1st Qu.:12.0   1st Qu.:13.00   1st Qu.:12.00  \n",
       " Median :50000   Median :16.00   Median :15.0   Median :16.00   Median :15.00  \n",
       " Mean   :50000   Mean   :16.62   Mean   :15.8   Mean   :16.62   Mean   :15.78  \n",
       " 3rd Qu.:74999   3rd Qu.:20.00   3rd Qu.:19.0   3rd Qu.:20.00   3rd Qu.:19.00  \n",
       " Max.   :99999   Max.   :40.00   Max.   :38.0   Max.   :40.00   Max.   :42.00  \n",
       "      r3p1            r3p2         p1_pudding   p2_pudding    p1_total    \n",
       " Min.   : 3.00   Min.   : 3.00   Min.   :0    Min.   :0    Min.   :22.00  \n",
       " 1st Qu.:13.00   1st Qu.:12.00   1st Qu.:0    1st Qu.:0    1st Qu.:47.00  \n",
       " Median :16.00   Median :15.00   Median :3    Median :3    Median :53.00  \n",
       " Mean   :16.62   Mean   :15.76   Mean   :3    Mean   :3    Mean   :52.86  \n",
       " 3rd Qu.:20.00   3rd Qu.:19.00   3rd Qu.:6    3rd Qu.:6    3rd Qu.:58.00  \n",
       " Max.   :41.00   Max.   :39.00   Max.   :6    Max.   :6    Max.   :90.00  \n",
       "    p2_total         winner     \n",
       " Min.   :22.00   Min.   :0.000  \n",
       " 1st Qu.:45.00   1st Qu.:1.000  \n",
       " Median :50.00   Median :1.000  \n",
       " Mean   :50.35   Mean   :1.374  \n",
       " 3rd Qu.:56.00   3rd Qu.:2.000  \n",
       " Max.   :87.00   Max.   :2.000  "
      ]
     },
     "metadata": {},
     "output_type": "display_data"
    },
    {
     "data": {
      "text/html": [
       "<table class=\"dataframe\">\n",
       "<caption>A data.frame: 1 × 9</caption>\n",
       "<thead>\n",
       "\t<tr><th scope=col>p1_wins</th><th scope=col>p2_wins</th><th scope=col>ties</th><th scope=col>r1p1_mean_score</th><th scope=col>r2p1_mean_score</th><th scope=col>r3p1_mean_score</th><th scope=col>r1p2_mean_score</th><th scope=col>r2p2_mean_score</th><th scope=col>r3p2_mean_score</th></tr>\n",
       "\t<tr><th scope=col>&lt;int&gt;</th><th scope=col>&lt;int&gt;</th><th scope=col>&lt;int&gt;</th><th scope=col>&lt;dbl&gt;</th><th scope=col>&lt;dbl&gt;</th><th scope=col>&lt;dbl&gt;</th><th scope=col>&lt;dbl&gt;</th><th scope=col>&lt;dbl&gt;</th><th scope=col>&lt;dbl&gt;</th></tr>\n",
       "</thead>\n",
       "<tbody>\n",
       "\t<tr><td>56388</td><td>40529</td><td>3083</td><td>16.62204</td><td>16.61583</td><td>16.61789</td><td>15.79905</td><td>15.78346</td><td>15.76442</td></tr>\n",
       "</tbody>\n",
       "</table>\n"
      ],
      "text/latex": [
       "A data.frame: 1 × 9\n",
       "\\begin{tabular}{lllllllll}\n",
       " p1\\_wins & p2\\_wins & ties & r1p1\\_mean\\_score & r2p1\\_mean\\_score & r3p1\\_mean\\_score & r1p2\\_mean\\_score & r2p2\\_mean\\_score & r3p2\\_mean\\_score\\\\\n",
       " <int> & <int> & <int> & <dbl> & <dbl> & <dbl> & <dbl> & <dbl> & <dbl>\\\\\n",
       "\\hline\n",
       "\t 56388 & 40529 & 3083 & 16.62204 & 16.61583 & 16.61789 & 15.79905 & 15.78346 & 15.76442\\\\\n",
       "\\end{tabular}\n"
      ],
      "text/markdown": [
       "\n",
       "A data.frame: 1 × 9\n",
       "\n",
       "| p1_wins &lt;int&gt; | p2_wins &lt;int&gt; | ties &lt;int&gt; | r1p1_mean_score &lt;dbl&gt; | r2p1_mean_score &lt;dbl&gt; | r3p1_mean_score &lt;dbl&gt; | r1p2_mean_score &lt;dbl&gt; | r2p2_mean_score &lt;dbl&gt; | r3p2_mean_score &lt;dbl&gt; |\n",
       "|---|---|---|---|---|---|---|---|---|\n",
       "| 56388 | 40529 | 3083 | 16.62204 | 16.61583 | 16.61789 | 15.79905 | 15.78346 | 15.76442 |\n",
       "\n"
      ],
      "text/plain": [
       "  p1_wins p2_wins ties r1p1_mean_score r2p1_mean_score r3p1_mean_score\n",
       "1 56388   40529   3083 16.62204        16.61583        16.61789       \n",
       "  r1p2_mean_score r2p2_mean_score r3p2_mean_score\n",
       "1 15.79905        15.78346        15.76442       "
      ]
     },
     "metadata": {},
     "output_type": "display_data"
    }
   ],
   "source": [
    "# player one picks with priority list:\n",
    "# sashimi, tempura, wasabi, squid, salmon, egg,\n",
    "# dumpling, maki3, maki3, maki1, pudding, chopstick\n",
    "games_df = read.csv(\"sushigo2playerstrat1.csv\")\n",
    "head(games_df)\n",
    "str(games_df)\n",
    "summary(games_df)\n",
    "\n",
    "num_wins <- games_df %>%\n",
    "    summarize(p1_wins = sum(winner == 1),\n",
    "             p2_wins = sum(winner == 2),\n",
    "             ties = sum(winner == 0),\n",
    "             r1p1_mean_score = mean(r1p1),\n",
    "             r2p1_mean_score = mean(r2p1),\n",
    "             r3p1_mean_score = mean(r3p1),\n",
    "             r1p2_mean_score = mean(r1p2),\n",
    "             r2p2_mean_score = mean(r2p2),\n",
    "             r3p2_mean_score = mean(r3p2))\n",
    "\n",
    "num_wins"
   ]
  },
  {
   "cell_type": "code",
   "execution_count": 17,
   "id": "0b71d891",
   "metadata": {},
   "outputs": [
    {
     "data": {
      "text/html": [
       "<table class=\"dataframe\">\n",
       "<caption>A data.frame: 6 × 12</caption>\n",
       "<thead>\n",
       "\t<tr><th></th><th scope=col>game_no</th><th scope=col>r1p1</th><th scope=col>r1p2</th><th scope=col>r2p1</th><th scope=col>r2p2</th><th scope=col>r3p1</th><th scope=col>r3p2</th><th scope=col>p1_pudding</th><th scope=col>p2_pudding</th><th scope=col>p1_total</th><th scope=col>p2_total</th><th scope=col>winner</th></tr>\n",
       "\t<tr><th></th><th scope=col>&lt;int&gt;</th><th scope=col>&lt;int&gt;</th><th scope=col>&lt;int&gt;</th><th scope=col>&lt;int&gt;</th><th scope=col>&lt;int&gt;</th><th scope=col>&lt;int&gt;</th><th scope=col>&lt;int&gt;</th><th scope=col>&lt;int&gt;</th><th scope=col>&lt;int&gt;</th><th scope=col>&lt;int&gt;</th><th scope=col>&lt;int&gt;</th><th scope=col>&lt;int&gt;</th></tr>\n",
       "</thead>\n",
       "<tbody>\n",
       "\t<tr><th scope=row>1</th><td>0</td><td>24</td><td>22</td><td>19</td><td>18</td><td>20</td><td>16</td><td>0</td><td>6</td><td>63</td><td>62</td><td>1</td></tr>\n",
       "\t<tr><th scope=row>2</th><td>1</td><td>12</td><td>18</td><td>15</td><td>14</td><td>15</td><td>13</td><td>0</td><td>6</td><td>42</td><td>51</td><td>2</td></tr>\n",
       "\t<tr><th scope=row>3</th><td>2</td><td>18</td><td>13</td><td>14</td><td>18</td><td>11</td><td>14</td><td>6</td><td>0</td><td>49</td><td>45</td><td>1</td></tr>\n",
       "\t<tr><th scope=row>4</th><td>3</td><td>15</td><td>17</td><td>23</td><td>11</td><td>23</td><td>14</td><td>3</td><td>3</td><td>64</td><td>45</td><td>1</td></tr>\n",
       "\t<tr><th scope=row>5</th><td>4</td><td> 9</td><td>22</td><td> 9</td><td> 9</td><td>12</td><td>18</td><td>3</td><td>3</td><td>33</td><td>52</td><td>2</td></tr>\n",
       "\t<tr><th scope=row>6</th><td>5</td><td>16</td><td>12</td><td>18</td><td>19</td><td>21</td><td>17</td><td>6</td><td>0</td><td>61</td><td>48</td><td>1</td></tr>\n",
       "</tbody>\n",
       "</table>\n"
      ],
      "text/latex": [
       "A data.frame: 6 × 12\n",
       "\\begin{tabular}{r|llllllllllll}\n",
       "  & game\\_no & r1p1 & r1p2 & r2p1 & r2p2 & r3p1 & r3p2 & p1\\_pudding & p2\\_pudding & p1\\_total & p2\\_total & winner\\\\\n",
       "  & <int> & <int> & <int> & <int> & <int> & <int> & <int> & <int> & <int> & <int> & <int> & <int>\\\\\n",
       "\\hline\n",
       "\t1 & 0 & 24 & 22 & 19 & 18 & 20 & 16 & 0 & 6 & 63 & 62 & 1\\\\\n",
       "\t2 & 1 & 12 & 18 & 15 & 14 & 15 & 13 & 0 & 6 & 42 & 51 & 2\\\\\n",
       "\t3 & 2 & 18 & 13 & 14 & 18 & 11 & 14 & 6 & 0 & 49 & 45 & 1\\\\\n",
       "\t4 & 3 & 15 & 17 & 23 & 11 & 23 & 14 & 3 & 3 & 64 & 45 & 1\\\\\n",
       "\t5 & 4 &  9 & 22 &  9 &  9 & 12 & 18 & 3 & 3 & 33 & 52 & 2\\\\\n",
       "\t6 & 5 & 16 & 12 & 18 & 19 & 21 & 17 & 6 & 0 & 61 & 48 & 1\\\\\n",
       "\\end{tabular}\n"
      ],
      "text/markdown": [
       "\n",
       "A data.frame: 6 × 12\n",
       "\n",
       "| <!--/--> | game_no &lt;int&gt; | r1p1 &lt;int&gt; | r1p2 &lt;int&gt; | r2p1 &lt;int&gt; | r2p2 &lt;int&gt; | r3p1 &lt;int&gt; | r3p2 &lt;int&gt; | p1_pudding &lt;int&gt; | p2_pudding &lt;int&gt; | p1_total &lt;int&gt; | p2_total &lt;int&gt; | winner &lt;int&gt; |\n",
       "|---|---|---|---|---|---|---|---|---|---|---|---|---|\n",
       "| 1 | 0 | 24 | 22 | 19 | 18 | 20 | 16 | 0 | 6 | 63 | 62 | 1 |\n",
       "| 2 | 1 | 12 | 18 | 15 | 14 | 15 | 13 | 0 | 6 | 42 | 51 | 2 |\n",
       "| 3 | 2 | 18 | 13 | 14 | 18 | 11 | 14 | 6 | 0 | 49 | 45 | 1 |\n",
       "| 4 | 3 | 15 | 17 | 23 | 11 | 23 | 14 | 3 | 3 | 64 | 45 | 1 |\n",
       "| 5 | 4 |  9 | 22 |  9 |  9 | 12 | 18 | 3 | 3 | 33 | 52 | 2 |\n",
       "| 6 | 5 | 16 | 12 | 18 | 19 | 21 | 17 | 6 | 0 | 61 | 48 | 1 |\n",
       "\n"
      ],
      "text/plain": [
       "  game_no r1p1 r1p2 r2p1 r2p2 r3p1 r3p2 p1_pudding p2_pudding p1_total p2_total\n",
       "1 0       24   22   19   18   20   16   0          6          63       62      \n",
       "2 1       12   18   15   14   15   13   0          6          42       51      \n",
       "3 2       18   13   14   18   11   14   6          0          49       45      \n",
       "4 3       15   17   23   11   23   14   3          3          64       45      \n",
       "5 4        9   22    9    9   12   18   3          3          33       52      \n",
       "6 5       16   12   18   19   21   17   6          0          61       48      \n",
       "  winner\n",
       "1 1     \n",
       "2 2     \n",
       "3 1     \n",
       "4 1     \n",
       "5 2     \n",
       "6 1     "
      ]
     },
     "metadata": {},
     "output_type": "display_data"
    },
    {
     "name": "stdout",
     "output_type": "stream",
     "text": [
      "'data.frame':\t100000 obs. of  12 variables:\n",
      " $ game_no   : int  0 1 2 3 4 5 6 7 8 9 ...\n",
      " $ r1p1      : int  24 12 18 15 9 16 20 12 23 18 ...\n",
      " $ r1p2      : int  22 18 13 17 22 12 19 17 17 12 ...\n",
      " $ r2p1      : int  19 15 14 23 9 18 12 20 26 20 ...\n",
      " $ r2p2      : int  18 14 18 11 9 19 15 12 19 12 ...\n",
      " $ r3p1      : int  20 15 11 23 12 21 18 13 23 20 ...\n",
      " $ r3p2      : int  16 13 14 14 18 17 17 15 14 15 ...\n",
      " $ p1_pudding: int  0 0 6 3 3 6 3 3 3 0 ...\n",
      " $ p2_pudding: int  6 6 0 3 3 0 3 3 3 6 ...\n",
      " $ p1_total  : int  63 42 49 64 33 61 53 48 75 58 ...\n",
      " $ p2_total  : int  62 51 45 45 52 48 54 47 53 45 ...\n",
      " $ winner    : int  1 2 1 1 2 1 2 1 1 1 ...\n"
     ]
    },
    {
     "data": {
      "text/plain": [
       "    game_no           r1p1            r1p2            r2p1      \n",
       " Min.   :    0   Min.   : 3.00   Min.   : 3.00   Min.   : 3.00  \n",
       " 1st Qu.:25000   1st Qu.:13.00   1st Qu.:12.00   1st Qu.:13.00  \n",
       " Median :50000   Median :16.00   Median :15.00   Median :16.00  \n",
       " Mean   :50000   Mean   :16.61   Mean   :15.75   Mean   :16.62  \n",
       " 3rd Qu.:74999   3rd Qu.:20.00   3rd Qu.:19.00   3rd Qu.:20.00  \n",
       " Max.   :99999   Max.   :40.00   Max.   :39.00   Max.   :41.00  \n",
       "      r2p2            r3p1            r3p2        p1_pudding      p2_pudding   \n",
       " Min.   : 3.00   Min.   : 3.00   Min.   : 3.0   Min.   :0.000   Min.   :0.000  \n",
       " 1st Qu.:12.00   1st Qu.:13.00   1st Qu.:12.0   1st Qu.:0.000   1st Qu.:0.000  \n",
       " Median :15.00   Median :16.00   Median :15.0   Median :3.000   Median :3.000  \n",
       " Mean   :15.77   Mean   :16.62   Mean   :15.8   Mean   :2.998   Mean   :3.002  \n",
       " 3rd Qu.:19.00   3rd Qu.:20.00   3rd Qu.:19.0   3rd Qu.:6.000   3rd Qu.:6.000  \n",
       " Max.   :40.00   Max.   :39.00   Max.   :37.0   Max.   :6.000   Max.   :6.000  \n",
       "    p1_total        p2_total         winner     \n",
       " Min.   :22.00   Min.   :21.00   Min.   :0.000  \n",
       " 1st Qu.:47.00   1st Qu.:45.00   1st Qu.:1.000  \n",
       " Median :53.00   Median :50.00   Median :1.000  \n",
       " Mean   :52.85   Mean   :50.33   Mean   :1.373  \n",
       " 3rd Qu.:58.00   3rd Qu.:56.00   3rd Qu.:2.000  \n",
       " Max.   :89.00   Max.   :88.00   Max.   :2.000  "
      ]
     },
     "metadata": {},
     "output_type": "display_data"
    },
    {
     "data": {
      "text/html": [
       "<table class=\"dataframe\">\n",
       "<caption>A data.frame: 1 × 9</caption>\n",
       "<thead>\n",
       "\t<tr><th scope=col>p1_wins</th><th scope=col>p2_wins</th><th scope=col>ties</th><th scope=col>r1p1_mean_score</th><th scope=col>r2p1_mean_score</th><th scope=col>r3p1_mean_score</th><th scope=col>r1p2_mean_score</th><th scope=col>r2p2_mean_score</th><th scope=col>r3p2_mean_score</th></tr>\n",
       "\t<tr><th scope=col>&lt;int&gt;</th><th scope=col>&lt;int&gt;</th><th scope=col>&lt;int&gt;</th><th scope=col>&lt;dbl&gt;</th><th scope=col>&lt;dbl&gt;</th><th scope=col>&lt;dbl&gt;</th><th scope=col>&lt;dbl&gt;</th><th scope=col>&lt;dbl&gt;</th><th scope=col>&lt;dbl&gt;</th></tr>\n",
       "</thead>\n",
       "<tbody>\n",
       "\t<tr><td>56485</td><td>40399</td><td>3116</td><td>16.61421</td><td>16.61632</td><td>16.62305</td><td>15.75357</td><td>15.77435</td><td>15.79937</td></tr>\n",
       "</tbody>\n",
       "</table>\n"
      ],
      "text/latex": [
       "A data.frame: 1 × 9\n",
       "\\begin{tabular}{lllllllll}\n",
       " p1\\_wins & p2\\_wins & ties & r1p1\\_mean\\_score & r2p1\\_mean\\_score & r3p1\\_mean\\_score & r1p2\\_mean\\_score & r2p2\\_mean\\_score & r3p2\\_mean\\_score\\\\\n",
       " <int> & <int> & <int> & <dbl> & <dbl> & <dbl> & <dbl> & <dbl> & <dbl>\\\\\n",
       "\\hline\n",
       "\t 56485 & 40399 & 3116 & 16.61421 & 16.61632 & 16.62305 & 15.75357 & 15.77435 & 15.79937\\\\\n",
       "\\end{tabular}\n"
      ],
      "text/markdown": [
       "\n",
       "A data.frame: 1 × 9\n",
       "\n",
       "| p1_wins &lt;int&gt; | p2_wins &lt;int&gt; | ties &lt;int&gt; | r1p1_mean_score &lt;dbl&gt; | r2p1_mean_score &lt;dbl&gt; | r3p1_mean_score &lt;dbl&gt; | r1p2_mean_score &lt;dbl&gt; | r2p2_mean_score &lt;dbl&gt; | r3p2_mean_score &lt;dbl&gt; |\n",
       "|---|---|---|---|---|---|---|---|---|\n",
       "| 56485 | 40399 | 3116 | 16.61421 | 16.61632 | 16.62305 | 15.75357 | 15.77435 | 15.79937 |\n",
       "\n"
      ],
      "text/plain": [
       "  p1_wins p2_wins ties r1p1_mean_score r2p1_mean_score r3p1_mean_score\n",
       "1 56485   40399   3116 16.61421        16.61632        16.62305       \n",
       "  r1p2_mean_score r2p2_mean_score r3p2_mean_score\n",
       "1 15.75357        15.77435        15.79937       "
      ]
     },
     "metadata": {},
     "output_type": "display_data"
    }
   ],
   "source": [
    "# both players follow the previous strategy\n",
    "games_df = read.csv(\"sushigo2playerstrat1both.csv\")\n",
    "head(games_df)\n",
    "str(games_df)\n",
    "summary(games_df)\n",
    "\n",
    "num_wins <- games_df %>%\n",
    "    summarize(p1_wins = sum(winner == 1),\n",
    "             p2_wins = sum(winner == 2),\n",
    "             ties = sum(winner == 0),\n",
    "             r1p1_mean_score = mean(r1p1),\n",
    "             r2p1_mean_score = mean(r2p1),\n",
    "             r3p1_mean_score = mean(r3p1),\n",
    "             r1p2_mean_score = mean(r1p2),\n",
    "             r2p2_mean_score = mean(r2p2),\n",
    "             r3p2_mean_score = mean(r3p2))\n",
    "\n",
    "num_wins"
   ]
  },
  {
   "cell_type": "code",
   "execution_count": 2,
   "id": "f3d48f8b",
   "metadata": {},
   "outputs": [
    {
     "data": {
      "text/html": [
       "<table class=\"dataframe\">\n",
       "<caption>A data.frame: 6 × 12</caption>\n",
       "<thead>\n",
       "\t<tr><th></th><th scope=col>game_no</th><th scope=col>r1p1</th><th scope=col>r1p2</th><th scope=col>r2p1</th><th scope=col>r2p2</th><th scope=col>r3p1</th><th scope=col>r3p2</th><th scope=col>p1_pudding</th><th scope=col>p2_pudding</th><th scope=col>p1_total</th><th scope=col>p2_total</th><th scope=col>winner</th></tr>\n",
       "\t<tr><th></th><th scope=col>&lt;int&gt;</th><th scope=col>&lt;int&gt;</th><th scope=col>&lt;int&gt;</th><th scope=col>&lt;int&gt;</th><th scope=col>&lt;int&gt;</th><th scope=col>&lt;int&gt;</th><th scope=col>&lt;int&gt;</th><th scope=col>&lt;int&gt;</th><th scope=col>&lt;int&gt;</th><th scope=col>&lt;int&gt;</th><th scope=col>&lt;int&gt;</th><th scope=col>&lt;int&gt;</th></tr>\n",
       "</thead>\n",
       "<tbody>\n",
       "\t<tr><th scope=row>1</th><td>0</td><td> 9</td><td>21</td><td>18</td><td>12</td><td> 7</td><td>20</td><td>3</td><td>3</td><td>37</td><td>56</td><td>2</td></tr>\n",
       "\t<tr><th scope=row>2</th><td>1</td><td>17</td><td>21</td><td>11</td><td>11</td><td>14</td><td>22</td><td>0</td><td>6</td><td>42</td><td>60</td><td>2</td></tr>\n",
       "\t<tr><th scope=row>3</th><td>2</td><td>19</td><td>17</td><td>16</td><td>12</td><td> 9</td><td>22</td><td>6</td><td>0</td><td>50</td><td>51</td><td>2</td></tr>\n",
       "\t<tr><th scope=row>4</th><td>3</td><td> 9</td><td>16</td><td>19</td><td>19</td><td>19</td><td>14</td><td>3</td><td>3</td><td>50</td><td>52</td><td>2</td></tr>\n",
       "\t<tr><th scope=row>5</th><td>4</td><td>13</td><td>16</td><td>13</td><td>16</td><td>18</td><td>24</td><td>6</td><td>0</td><td>50</td><td>56</td><td>2</td></tr>\n",
       "\t<tr><th scope=row>6</th><td>5</td><td>18</td><td>26</td><td>11</td><td>17</td><td>12</td><td> 9</td><td>0</td><td>6</td><td>41</td><td>58</td><td>2</td></tr>\n",
       "</tbody>\n",
       "</table>\n"
      ],
      "text/latex": [
       "A data.frame: 6 × 12\n",
       "\\begin{tabular}{r|llllllllllll}\n",
       "  & game\\_no & r1p1 & r1p2 & r2p1 & r2p2 & r3p1 & r3p2 & p1\\_pudding & p2\\_pudding & p1\\_total & p2\\_total & winner\\\\\n",
       "  & <int> & <int> & <int> & <int> & <int> & <int> & <int> & <int> & <int> & <int> & <int> & <int>\\\\\n",
       "\\hline\n",
       "\t1 & 0 &  9 & 21 & 18 & 12 &  7 & 20 & 3 & 3 & 37 & 56 & 2\\\\\n",
       "\t2 & 1 & 17 & 21 & 11 & 11 & 14 & 22 & 0 & 6 & 42 & 60 & 2\\\\\n",
       "\t3 & 2 & 19 & 17 & 16 & 12 &  9 & 22 & 6 & 0 & 50 & 51 & 2\\\\\n",
       "\t4 & 3 &  9 & 16 & 19 & 19 & 19 & 14 & 3 & 3 & 50 & 52 & 2\\\\\n",
       "\t5 & 4 & 13 & 16 & 13 & 16 & 18 & 24 & 6 & 0 & 50 & 56 & 2\\\\\n",
       "\t6 & 5 & 18 & 26 & 11 & 17 & 12 &  9 & 0 & 6 & 41 & 58 & 2\\\\\n",
       "\\end{tabular}\n"
      ],
      "text/markdown": [
       "\n",
       "A data.frame: 6 × 12\n",
       "\n",
       "| <!--/--> | game_no &lt;int&gt; | r1p1 &lt;int&gt; | r1p2 &lt;int&gt; | r2p1 &lt;int&gt; | r2p2 &lt;int&gt; | r3p1 &lt;int&gt; | r3p2 &lt;int&gt; | p1_pudding &lt;int&gt; | p2_pudding &lt;int&gt; | p1_total &lt;int&gt; | p2_total &lt;int&gt; | winner &lt;int&gt; |\n",
       "|---|---|---|---|---|---|---|---|---|---|---|---|---|\n",
       "| 1 | 0 |  9 | 21 | 18 | 12 |  7 | 20 | 3 | 3 | 37 | 56 | 2 |\n",
       "| 2 | 1 | 17 | 21 | 11 | 11 | 14 | 22 | 0 | 6 | 42 | 60 | 2 |\n",
       "| 3 | 2 | 19 | 17 | 16 | 12 |  9 | 22 | 6 | 0 | 50 | 51 | 2 |\n",
       "| 4 | 3 |  9 | 16 | 19 | 19 | 19 | 14 | 3 | 3 | 50 | 52 | 2 |\n",
       "| 5 | 4 | 13 | 16 | 13 | 16 | 18 | 24 | 6 | 0 | 50 | 56 | 2 |\n",
       "| 6 | 5 | 18 | 26 | 11 | 17 | 12 |  9 | 0 | 6 | 41 | 58 | 2 |\n",
       "\n"
      ],
      "text/plain": [
       "  game_no r1p1 r1p2 r2p1 r2p2 r3p1 r3p2 p1_pudding p2_pudding p1_total p2_total\n",
       "1 0        9   21   18   12    7   20   3          3          37       56      \n",
       "2 1       17   21   11   11   14   22   0          6          42       60      \n",
       "3 2       19   17   16   12    9   22   6          0          50       51      \n",
       "4 3        9   16   19   19   19   14   3          3          50       52      \n",
       "5 4       13   16   13   16   18   24   6          0          50       56      \n",
       "6 5       18   26   11   17   12    9   0          6          41       58      \n",
       "  winner\n",
       "1 2     \n",
       "2 2     \n",
       "3 2     \n",
       "4 2     \n",
       "5 2     \n",
       "6 2     "
      ]
     },
     "metadata": {},
     "output_type": "display_data"
    },
    {
     "name": "stdout",
     "output_type": "stream",
     "text": [
      "'data.frame':\t100000 obs. of  12 variables:\n",
      " $ game_no   : int  0 1 2 3 4 5 6 7 8 9 ...\n",
      " $ r1p1      : int  9 17 19 9 13 18 9 23 13 18 ...\n",
      " $ r1p2      : int  21 21 17 16 16 26 22 10 15 14 ...\n",
      " $ r2p1      : int  18 11 16 19 13 11 17 11 13 16 ...\n",
      " $ r2p2      : int  12 11 12 19 16 17 6 12 11 18 ...\n",
      " $ r3p1      : int  7 14 9 19 18 12 9 18 12 18 ...\n",
      " $ r3p2      : int  20 22 22 14 24 9 11 18 7 16 ...\n",
      " $ p1_pudding: int  3 0 6 3 6 0 6 6 0 0 ...\n",
      " $ p2_pudding: int  3 6 0 3 0 6 0 0 6 6 ...\n",
      " $ p1_total  : int  37 42 50 50 50 41 41 58 38 52 ...\n",
      " $ p2_total  : int  56 60 51 52 56 58 39 40 39 54 ...\n",
      " $ winner    : int  2 2 2 2 2 2 1 1 2 2 ...\n"
     ]
    },
    {
     "data": {
      "text/plain": [
       "    game_no           r1p1            r1p2           r2p1            r2p2      \n",
       " Min.   :    0   Min.   : 3.00   Min.   : 3.0   Min.   : 3.00   Min.   : 3.00  \n",
       " 1st Qu.:25000   1st Qu.:13.00   1st Qu.:12.0   1st Qu.:13.00   1st Qu.:12.00  \n",
       " Median :50000   Median :16.00   Median :15.0   Median :16.00   Median :15.00  \n",
       " Mean   :50000   Mean   :16.63   Mean   :15.8   Mean   :16.64   Mean   :15.77  \n",
       " 3rd Qu.:74999   3rd Qu.:20.00   3rd Qu.:19.0   3rd Qu.:20.00   3rd Qu.:19.00  \n",
       " Max.   :99999   Max.   :41.00   Max.   :39.0   Max.   :41.00   Max.   :37.00  \n",
       "      r3p1            r3p2         p1_pudding      p2_pudding   \n",
       " Min.   : 3.00   Min.   : 3.00   Min.   :0.000   Min.   :0.000  \n",
       " 1st Qu.:13.00   1st Qu.:12.00   1st Qu.:0.000   1st Qu.:0.000  \n",
       " Median :16.00   Median :15.00   Median :3.000   Median :3.000  \n",
       " Mean   :16.61   Mean   :15.81   Mean   :3.006   Mean   :2.994  \n",
       " 3rd Qu.:20.00   3rd Qu.:19.00   3rd Qu.:6.000   3rd Qu.:6.000  \n",
       " Max.   :39.00   Max.   :40.00   Max.   :6.000   Max.   :6.000  \n",
       "    p1_total        p2_total         winner     \n",
       " Min.   :18.00   Min.   :20.00   Min.   :0.000  \n",
       " 1st Qu.:47.00   1st Qu.:45.00   1st Qu.:1.000  \n",
       " Median :53.00   Median :50.00   Median :1.000  \n",
       " Mean   :52.88   Mean   :50.36   Mean   :1.373  \n",
       " 3rd Qu.:58.00   3rd Qu.:56.00   3rd Qu.:2.000  \n",
       " Max.   :88.00   Max.   :84.00   Max.   :2.000  "
      ]
     },
     "metadata": {},
     "output_type": "display_data"
    },
    {
     "data": {
      "text/html": [
       "<table class=\"dataframe\">\n",
       "<caption>A data.frame: 1 × 9</caption>\n",
       "<thead>\n",
       "\t<tr><th scope=col>p1_wins</th><th scope=col>p2_wins</th><th scope=col>ties</th><th scope=col>r1p1_mean_score</th><th scope=col>r2p1_mean_score</th><th scope=col>r3p1_mean_score</th><th scope=col>r1p2_mean_score</th><th scope=col>r2p2_mean_score</th><th scope=col>r3p2_mean_score</th></tr>\n",
       "\t<tr><th scope=col>&lt;int&gt;</th><th scope=col>&lt;int&gt;</th><th scope=col>&lt;int&gt;</th><th scope=col>&lt;dbl&gt;</th><th scope=col>&lt;dbl&gt;</th><th scope=col>&lt;dbl&gt;</th><th scope=col>&lt;dbl&gt;</th><th scope=col>&lt;dbl&gt;</th><th scope=col>&lt;dbl&gt;</th></tr>\n",
       "</thead>\n",
       "<tbody>\n",
       "\t<tr><td>56452</td><td>40404</td><td>3144</td><td>16.62705</td><td>16.63557</td><td>16.61087</td><td>15.79518</td><td>15.76753</td><td>15.80546</td></tr>\n",
       "</tbody>\n",
       "</table>\n"
      ],
      "text/latex": [
       "A data.frame: 1 × 9\n",
       "\\begin{tabular}{lllllllll}\n",
       " p1\\_wins & p2\\_wins & ties & r1p1\\_mean\\_score & r2p1\\_mean\\_score & r3p1\\_mean\\_score & r1p2\\_mean\\_score & r2p2\\_mean\\_score & r3p2\\_mean\\_score\\\\\n",
       " <int> & <int> & <int> & <dbl> & <dbl> & <dbl> & <dbl> & <dbl> & <dbl>\\\\\n",
       "\\hline\n",
       "\t 56452 & 40404 & 3144 & 16.62705 & 16.63557 & 16.61087 & 15.79518 & 15.76753 & 15.80546\\\\\n",
       "\\end{tabular}\n"
      ],
      "text/markdown": [
       "\n",
       "A data.frame: 1 × 9\n",
       "\n",
       "| p1_wins &lt;int&gt; | p2_wins &lt;int&gt; | ties &lt;int&gt; | r1p1_mean_score &lt;dbl&gt; | r2p1_mean_score &lt;dbl&gt; | r3p1_mean_score &lt;dbl&gt; | r1p2_mean_score &lt;dbl&gt; | r2p2_mean_score &lt;dbl&gt; | r3p2_mean_score &lt;dbl&gt; |\n",
       "|---|---|---|---|---|---|---|---|---|\n",
       "| 56452 | 40404 | 3144 | 16.62705 | 16.63557 | 16.61087 | 15.79518 | 15.76753 | 15.80546 |\n",
       "\n"
      ],
      "text/plain": [
       "  p1_wins p2_wins ties r1p1_mean_score r2p1_mean_score r3p1_mean_score\n",
       "1 56452   40404   3144 16.62705        16.63557        16.61087       \n",
       "  r1p2_mean_score r2p2_mean_score r3p2_mean_score\n",
       "1 15.79518        15.76753        15.80546       "
      ]
     },
     "metadata": {},
     "output_type": "display_data"
    }
   ],
   "source": [
    "# player one picks with priority list:\n",
    "# dumpling, wasabi, squid, salmon, egg, maki3, \n",
    "# maki2, maki1, tempura, sashimi, pudding, chopstick\n",
    "games_df = read.csv(\"sushigo2playerstrat2.csv\")\n",
    "head(games_df)\n",
    "str(games_df)\n",
    "summary(games_df)\n",
    "\n",
    "num_wins <- games_df %>%\n",
    "    summarize(p1_wins = sum(winner == 1),\n",
    "             p2_wins = sum(winner == 2),\n",
    "             ties = sum(winner == 0),\n",
    "             r1p1_mean_score = mean(r1p1),\n",
    "             r2p1_mean_score = mean(r2p1),\n",
    "             r3p1_mean_score = mean(r3p1),\n",
    "             r1p2_mean_score = mean(r1p2),\n",
    "             r2p2_mean_score = mean(r2p2),\n",
    "             r3p2_mean_score = mean(r3p2))\n",
    "\n",
    "num_wins"
   ]
  },
  {
   "cell_type": "code",
   "execution_count": 2,
   "id": "3d95caa4",
   "metadata": {},
   "outputs": [
    {
     "data": {
      "text/html": [
       "<table class=\"dataframe\">\n",
       "<caption>A data.frame: 6 × 12</caption>\n",
       "<thead>\n",
       "\t<tr><th></th><th scope=col>game_no</th><th scope=col>r1p1</th><th scope=col>r1p2</th><th scope=col>r2p1</th><th scope=col>r2p2</th><th scope=col>r3p1</th><th scope=col>r3p2</th><th scope=col>p1_pudding</th><th scope=col>p2_pudding</th><th scope=col>p1_total</th><th scope=col>p2_total</th><th scope=col>winner</th></tr>\n",
       "\t<tr><th></th><th scope=col>&lt;int&gt;</th><th scope=col>&lt;int&gt;</th><th scope=col>&lt;int&gt;</th><th scope=col>&lt;int&gt;</th><th scope=col>&lt;int&gt;</th><th scope=col>&lt;int&gt;</th><th scope=col>&lt;int&gt;</th><th scope=col>&lt;int&gt;</th><th scope=col>&lt;int&gt;</th><th scope=col>&lt;int&gt;</th><th scope=col>&lt;int&gt;</th><th scope=col>&lt;int&gt;</th></tr>\n",
       "</thead>\n",
       "<tbody>\n",
       "\t<tr><th scope=row>1</th><td>0</td><td>14</td><td>18</td><td>17</td><td> 6</td><td>11</td><td>12</td><td>3</td><td>3</td><td>45</td><td>39</td><td>1</td></tr>\n",
       "\t<tr><th scope=row>2</th><td>1</td><td>19</td><td> 8</td><td>21</td><td>17</td><td>16</td><td>17</td><td>3</td><td>3</td><td>59</td><td>45</td><td>1</td></tr>\n",
       "\t<tr><th scope=row>3</th><td>2</td><td>13</td><td>24</td><td>15</td><td>19</td><td> 6</td><td>12</td><td>0</td><td>6</td><td>34</td><td>61</td><td>2</td></tr>\n",
       "\t<tr><th scope=row>4</th><td>3</td><td>16</td><td>15</td><td>14</td><td>20</td><td>19</td><td>11</td><td>3</td><td>3</td><td>52</td><td>49</td><td>1</td></tr>\n",
       "\t<tr><th scope=row>5</th><td>4</td><td>24</td><td>21</td><td>14</td><td>20</td><td>10</td><td> 6</td><td>6</td><td>0</td><td>54</td><td>47</td><td>1</td></tr>\n",
       "\t<tr><th scope=row>6</th><td>5</td><td>12</td><td>18</td><td>10</td><td>21</td><td> 9</td><td> 8</td><td>6</td><td>0</td><td>37</td><td>47</td><td>2</td></tr>\n",
       "</tbody>\n",
       "</table>\n"
      ],
      "text/latex": [
       "A data.frame: 6 × 12\n",
       "\\begin{tabular}{r|llllllllllll}\n",
       "  & game\\_no & r1p1 & r1p2 & r2p1 & r2p2 & r3p1 & r3p2 & p1\\_pudding & p2\\_pudding & p1\\_total & p2\\_total & winner\\\\\n",
       "  & <int> & <int> & <int> & <int> & <int> & <int> & <int> & <int> & <int> & <int> & <int> & <int>\\\\\n",
       "\\hline\n",
       "\t1 & 0 & 14 & 18 & 17 &  6 & 11 & 12 & 3 & 3 & 45 & 39 & 1\\\\\n",
       "\t2 & 1 & 19 &  8 & 21 & 17 & 16 & 17 & 3 & 3 & 59 & 45 & 1\\\\\n",
       "\t3 & 2 & 13 & 24 & 15 & 19 &  6 & 12 & 0 & 6 & 34 & 61 & 2\\\\\n",
       "\t4 & 3 & 16 & 15 & 14 & 20 & 19 & 11 & 3 & 3 & 52 & 49 & 1\\\\\n",
       "\t5 & 4 & 24 & 21 & 14 & 20 & 10 &  6 & 6 & 0 & 54 & 47 & 1\\\\\n",
       "\t6 & 5 & 12 & 18 & 10 & 21 &  9 &  8 & 6 & 0 & 37 & 47 & 2\\\\\n",
       "\\end{tabular}\n"
      ],
      "text/markdown": [
       "\n",
       "A data.frame: 6 × 12\n",
       "\n",
       "| <!--/--> | game_no &lt;int&gt; | r1p1 &lt;int&gt; | r1p2 &lt;int&gt; | r2p1 &lt;int&gt; | r2p2 &lt;int&gt; | r3p1 &lt;int&gt; | r3p2 &lt;int&gt; | p1_pudding &lt;int&gt; | p2_pudding &lt;int&gt; | p1_total &lt;int&gt; | p2_total &lt;int&gt; | winner &lt;int&gt; |\n",
       "|---|---|---|---|---|---|---|---|---|---|---|---|---|\n",
       "| 1 | 0 | 14 | 18 | 17 |  6 | 11 | 12 | 3 | 3 | 45 | 39 | 1 |\n",
       "| 2 | 1 | 19 |  8 | 21 | 17 | 16 | 17 | 3 | 3 | 59 | 45 | 1 |\n",
       "| 3 | 2 | 13 | 24 | 15 | 19 |  6 | 12 | 0 | 6 | 34 | 61 | 2 |\n",
       "| 4 | 3 | 16 | 15 | 14 | 20 | 19 | 11 | 3 | 3 | 52 | 49 | 1 |\n",
       "| 5 | 4 | 24 | 21 | 14 | 20 | 10 |  6 | 6 | 0 | 54 | 47 | 1 |\n",
       "| 6 | 5 | 12 | 18 | 10 | 21 |  9 |  8 | 6 | 0 | 37 | 47 | 2 |\n",
       "\n"
      ],
      "text/plain": [
       "  game_no r1p1 r1p2 r2p1 r2p2 r3p1 r3p2 p1_pudding p2_pudding p1_total p2_total\n",
       "1 0       14   18   17    6   11   12   3          3          45       39      \n",
       "2 1       19    8   21   17   16   17   3          3          59       45      \n",
       "3 2       13   24   15   19    6   12   0          6          34       61      \n",
       "4 3       16   15   14   20   19   11   3          3          52       49      \n",
       "5 4       24   21   14   20   10    6   6          0          54       47      \n",
       "6 5       12   18   10   21    9    8   6          0          37       47      \n",
       "  winner\n",
       "1 1     \n",
       "2 1     \n",
       "3 2     \n",
       "4 1     \n",
       "5 1     \n",
       "6 2     "
      ]
     },
     "metadata": {},
     "output_type": "display_data"
    },
    {
     "name": "stdout",
     "output_type": "stream",
     "text": [
      "'data.frame':\t100000 obs. of  12 variables:\n",
      " $ game_no   : int  0 1 2 3 4 5 6 7 8 9 ...\n",
      " $ r1p1      : int  14 19 13 16 24 12 8 13 14 15 ...\n",
      " $ r1p2      : int  18 8 24 15 21 18 14 17 10 18 ...\n",
      " $ r2p1      : int  17 21 15 14 14 10 17 11 24 12 ...\n",
      " $ r2p2      : int  6 17 19 20 20 21 26 17 19 11 ...\n",
      " $ r3p1      : int  11 16 6 19 10 9 14 15 13 12 ...\n",
      " $ r3p2      : int  12 17 12 11 6 8 21 15 15 21 ...\n",
      " $ p1_pudding: int  3 3 0 3 6 6 6 3 0 3 ...\n",
      " $ p2_pudding: int  3 3 6 3 0 0 0 3 6 3 ...\n",
      " $ p1_total  : int  45 59 34 52 54 37 45 42 51 42 ...\n",
      " $ p2_total  : int  39 45 61 49 47 47 61 52 50 53 ...\n",
      " $ winner    : int  1 1 2 1 1 2 2 2 1 2 ...\n"
     ]
    },
    {
     "data": {
      "text/plain": [
       "    game_no           r1p1            r1p2            r2p1      \n",
       " Min.   :    0   Min.   : 3.00   Min.   : 3.00   Min.   : 3.00  \n",
       " 1st Qu.:25000   1st Qu.:12.00   1st Qu.:12.00   1st Qu.:11.00  \n",
       " Median :50000   Median :14.00   Median :15.00   Median :14.00  \n",
       " Mean   :50000   Mean   :14.68   Mean   :15.81   Mean   :14.67  \n",
       " 3rd Qu.:74999   3rd Qu.:17.00   3rd Qu.:19.00   3rd Qu.:17.00  \n",
       " Max.   :99999   Max.   :33.00   Max.   :38.00   Max.   :35.00  \n",
       "      r2p2            r3p1            r3p2         p1_pudding   \n",
       " Min.   : 3.00   Min.   : 3.00   Min.   : 3.00   Min.   :0.000  \n",
       " 1st Qu.:12.00   1st Qu.:11.00   1st Qu.:12.00   1st Qu.:0.000  \n",
       " Median :15.00   Median :14.00   Median :15.00   Median :3.000  \n",
       " Mean   :15.75   Mean   :14.66   Mean   :15.77   Mean   :2.995  \n",
       " 3rd Qu.:19.00   3rd Qu.:17.00   3rd Qu.:19.00   3rd Qu.:6.000  \n",
       " Max.   :38.00   Max.   :35.00   Max.   :39.00   Max.   :6.000  \n",
       "   p2_pudding       p1_total     p2_total         winner     \n",
       " Min.   :0.000   Min.   :20   Min.   :21.00   Min.   :0.000  \n",
       " 1st Qu.:0.000   1st Qu.:42   1st Qu.:45.00   1st Qu.:1.000  \n",
       " Median :3.000   Median :47   Median :50.00   Median :2.000  \n",
       " Mean   :3.005   Mean   :47   Mean   :50.33   Mean   :1.563  \n",
       " 3rd Qu.:6.000   3rd Qu.:52   3rd Qu.:56.00   3rd Qu.:2.000  \n",
       " Max.   :6.000   Max.   :81   Max.   :87.00   Max.   :2.000  "
      ]
     },
     "metadata": {},
     "output_type": "display_data"
    },
    {
     "data": {
      "text/html": [
       "<table class=\"dataframe\">\n",
       "<caption>A data.frame: 1 × 9</caption>\n",
       "<thead>\n",
       "\t<tr><th scope=col>p1_wins</th><th scope=col>p2_wins</th><th scope=col>ties</th><th scope=col>r1p1_mean_score</th><th scope=col>r2p1_mean_score</th><th scope=col>r3p1_mean_score</th><th scope=col>r1p2_mean_score</th><th scope=col>r2p2_mean_score</th><th scope=col>r3p2_mean_score</th></tr>\n",
       "\t<tr><th scope=col>&lt;int&gt;</th><th scope=col>&lt;int&gt;</th><th scope=col>&lt;int&gt;</th><th scope=col>&lt;dbl&gt;</th><th scope=col>&lt;dbl&gt;</th><th scope=col>&lt;dbl&gt;</th><th scope=col>&lt;dbl&gt;</th><th scope=col>&lt;dbl&gt;</th><th scope=col>&lt;dbl&gt;</th></tr>\n",
       "</thead>\n",
       "<tbody>\n",
       "\t<tr><td>37155</td><td>59563</td><td>3282</td><td>14.6786</td><td>14.66985</td><td>14.65943</td><td>15.80643</td><td>15.75462</td><td>15.76714</td></tr>\n",
       "</tbody>\n",
       "</table>\n"
      ],
      "text/latex": [
       "A data.frame: 1 × 9\n",
       "\\begin{tabular}{lllllllll}\n",
       " p1\\_wins & p2\\_wins & ties & r1p1\\_mean\\_score & r2p1\\_mean\\_score & r3p1\\_mean\\_score & r1p2\\_mean\\_score & r2p2\\_mean\\_score & r3p2\\_mean\\_score\\\\\n",
       " <int> & <int> & <int> & <dbl> & <dbl> & <dbl> & <dbl> & <dbl> & <dbl>\\\\\n",
       "\\hline\n",
       "\t 37155 & 59563 & 3282 & 14.6786 & 14.66985 & 14.65943 & 15.80643 & 15.75462 & 15.76714\\\\\n",
       "\\end{tabular}\n"
      ],
      "text/markdown": [
       "\n",
       "A data.frame: 1 × 9\n",
       "\n",
       "| p1_wins &lt;int&gt; | p2_wins &lt;int&gt; | ties &lt;int&gt; | r1p1_mean_score &lt;dbl&gt; | r2p1_mean_score &lt;dbl&gt; | r3p1_mean_score &lt;dbl&gt; | r1p2_mean_score &lt;dbl&gt; | r2p2_mean_score &lt;dbl&gt; | r3p2_mean_score &lt;dbl&gt; |\n",
       "|---|---|---|---|---|---|---|---|---|\n",
       "| 37155 | 59563 | 3282 | 14.6786 | 14.66985 | 14.65943 | 15.80643 | 15.75462 | 15.76714 |\n",
       "\n"
      ],
      "text/plain": [
       "  p1_wins p2_wins ties r1p1_mean_score r2p1_mean_score r3p1_mean_score\n",
       "1 37155   59563   3282 14.6786         14.66985        14.65943       \n",
       "  r1p2_mean_score r2p2_mean_score r3p2_mean_score\n",
       "1 15.80643        15.75462        15.76714       "
      ]
     },
     "metadata": {},
     "output_type": "display_data"
    }
   ],
   "source": [
    "# player one picks with priority list:\n",
    "# squid, salmon, egg, dumpling, tempura, pudding,\n",
    "# wasabi, maki3, maki2, maki1, sashimi, chopstick\n",
    "games_df = read.csv(\"sushigo2playerstrat3.csv\")\n",
    "head(games_df)\n",
    "str(games_df)\n",
    "summary(games_df)\n",
    "\n",
    "num_wins <- games_df %>%\n",
    "    summarize(p1_wins = sum(winner == 1),\n",
    "             p2_wins = sum(winner == 2),\n",
    "             ties = sum(winner == 0),\n",
    "             r1p1_mean_score = mean(r1p1),\n",
    "             r2p1_mean_score = mean(r2p1),\n",
    "             r3p1_mean_score = mean(r3p1),\n",
    "             r1p2_mean_score = mean(r1p2),\n",
    "             r2p2_mean_score = mean(r2p2),\n",
    "             r3p2_mean_score = mean(r3p2))\n",
    "\n",
    "num_wins"
   ]
  },
  {
   "cell_type": "code",
   "execution_count": 6,
   "id": "d7e86891",
   "metadata": {},
   "outputs": [
    {
     "data": {
      "text/html": [
       "<table class=\"dataframe\">\n",
       "<caption>A data.frame: 6 × 12</caption>\n",
       "<thead>\n",
       "\t<tr><th></th><th scope=col>game_no</th><th scope=col>r1p1</th><th scope=col>r1p2</th><th scope=col>r2p1</th><th scope=col>r2p2</th><th scope=col>r3p1</th><th scope=col>r3p2</th><th scope=col>p1_pudding</th><th scope=col>p2_pudding</th><th scope=col>p1_total</th><th scope=col>p2_total</th><th scope=col>winner</th></tr>\n",
       "\t<tr><th></th><th scope=col>&lt;int&gt;</th><th scope=col>&lt;int&gt;</th><th scope=col>&lt;int&gt;</th><th scope=col>&lt;int&gt;</th><th scope=col>&lt;int&gt;</th><th scope=col>&lt;int&gt;</th><th scope=col>&lt;int&gt;</th><th scope=col>&lt;int&gt;</th><th scope=col>&lt;int&gt;</th><th scope=col>&lt;int&gt;</th><th scope=col>&lt;int&gt;</th><th scope=col>&lt;int&gt;</th></tr>\n",
       "</thead>\n",
       "<tbody>\n",
       "\t<tr><th scope=row>1</th><td>0</td><td>11</td><td>11</td><td>18</td><td>13</td><td>17</td><td>15</td><td>3</td><td>3</td><td>49</td><td>42</td><td>1</td></tr>\n",
       "\t<tr><th scope=row>2</th><td>1</td><td>19</td><td>13</td><td>13</td><td>14</td><td>11</td><td>10</td><td>6</td><td>0</td><td>49</td><td>37</td><td>1</td></tr>\n",
       "\t<tr><th scope=row>3</th><td>2</td><td>17</td><td>19</td><td> 9</td><td>14</td><td>17</td><td>14</td><td>6</td><td>0</td><td>49</td><td>47</td><td>1</td></tr>\n",
       "\t<tr><th scope=row>4</th><td>3</td><td>21</td><td>28</td><td>16</td><td>11</td><td>17</td><td>13</td><td>6</td><td>0</td><td>60</td><td>52</td><td>1</td></tr>\n",
       "\t<tr><th scope=row>5</th><td>4</td><td>18</td><td>15</td><td> 7</td><td> 8</td><td>23</td><td>13</td><td>0</td><td>6</td><td>48</td><td>42</td><td>1</td></tr>\n",
       "\t<tr><th scope=row>6</th><td>5</td><td>10</td><td>13</td><td>20</td><td>24</td><td>16</td><td>26</td><td>3</td><td>3</td><td>49</td><td>66</td><td>2</td></tr>\n",
       "</tbody>\n",
       "</table>\n"
      ],
      "text/latex": [
       "A data.frame: 6 × 12\n",
       "\\begin{tabular}{r|llllllllllll}\n",
       "  & game\\_no & r1p1 & r1p2 & r2p1 & r2p2 & r3p1 & r3p2 & p1\\_pudding & p2\\_pudding & p1\\_total & p2\\_total & winner\\\\\n",
       "  & <int> & <int> & <int> & <int> & <int> & <int> & <int> & <int> & <int> & <int> & <int> & <int>\\\\\n",
       "\\hline\n",
       "\t1 & 0 & 11 & 11 & 18 & 13 & 17 & 15 & 3 & 3 & 49 & 42 & 1\\\\\n",
       "\t2 & 1 & 19 & 13 & 13 & 14 & 11 & 10 & 6 & 0 & 49 & 37 & 1\\\\\n",
       "\t3 & 2 & 17 & 19 &  9 & 14 & 17 & 14 & 6 & 0 & 49 & 47 & 1\\\\\n",
       "\t4 & 3 & 21 & 28 & 16 & 11 & 17 & 13 & 6 & 0 & 60 & 52 & 1\\\\\n",
       "\t5 & 4 & 18 & 15 &  7 &  8 & 23 & 13 & 0 & 6 & 48 & 42 & 1\\\\\n",
       "\t6 & 5 & 10 & 13 & 20 & 24 & 16 & 26 & 3 & 3 & 49 & 66 & 2\\\\\n",
       "\\end{tabular}\n"
      ],
      "text/markdown": [
       "\n",
       "A data.frame: 6 × 12\n",
       "\n",
       "| <!--/--> | game_no &lt;int&gt; | r1p1 &lt;int&gt; | r1p2 &lt;int&gt; | r2p1 &lt;int&gt; | r2p2 &lt;int&gt; | r3p1 &lt;int&gt; | r3p2 &lt;int&gt; | p1_pudding &lt;int&gt; | p2_pudding &lt;int&gt; | p1_total &lt;int&gt; | p2_total &lt;int&gt; | winner &lt;int&gt; |\n",
       "|---|---|---|---|---|---|---|---|---|---|---|---|---|\n",
       "| 1 | 0 | 11 | 11 | 18 | 13 | 17 | 15 | 3 | 3 | 49 | 42 | 1 |\n",
       "| 2 | 1 | 19 | 13 | 13 | 14 | 11 | 10 | 6 | 0 | 49 | 37 | 1 |\n",
       "| 3 | 2 | 17 | 19 |  9 | 14 | 17 | 14 | 6 | 0 | 49 | 47 | 1 |\n",
       "| 4 | 3 | 21 | 28 | 16 | 11 | 17 | 13 | 6 | 0 | 60 | 52 | 1 |\n",
       "| 5 | 4 | 18 | 15 |  7 |  8 | 23 | 13 | 0 | 6 | 48 | 42 | 1 |\n",
       "| 6 | 5 | 10 | 13 | 20 | 24 | 16 | 26 | 3 | 3 | 49 | 66 | 2 |\n",
       "\n"
      ],
      "text/plain": [
       "  game_no r1p1 r1p2 r2p1 r2p2 r3p1 r3p2 p1_pudding p2_pudding p1_total p2_total\n",
       "1 0       11   11   18   13   17   15   3          3          49       42      \n",
       "2 1       19   13   13   14   11   10   6          0          49       37      \n",
       "3 2       17   19    9   14   17   14   6          0          49       47      \n",
       "4 3       21   28   16   11   17   13   6          0          60       52      \n",
       "5 4       18   15    7    8   23   13   0          6          48       42      \n",
       "6 5       10   13   20   24   16   26   3          3          49       66      \n",
       "  winner\n",
       "1 1     \n",
       "2 1     \n",
       "3 1     \n",
       "4 1     \n",
       "5 1     \n",
       "6 2     "
      ]
     },
     "metadata": {},
     "output_type": "display_data"
    },
    {
     "name": "stdout",
     "output_type": "stream",
     "text": [
      "'data.frame':\t100000 obs. of  12 variables:\n",
      " $ game_no   : int  0 1 2 3 4 5 6 7 8 9 ...\n",
      " $ r1p1      : int  11 19 17 21 18 10 14 17 8 15 ...\n",
      " $ r1p2      : int  11 13 19 28 15 13 19 20 7 16 ...\n",
      " $ r2p1      : int  18 13 9 16 7 20 14 13 15 25 ...\n",
      " $ r2p2      : int  13 14 14 11 8 24 18 18 16 21 ...\n",
      " $ r3p1      : int  17 11 17 17 23 16 10 29 13 17 ...\n",
      " $ r3p2      : int  15 10 14 13 13 26 16 16 15 28 ...\n",
      " $ p1_pudding: int  3 6 6 6 0 3 0 0 3 3 ...\n",
      " $ p2_pudding: int  3 0 0 0 6 3 6 6 3 3 ...\n",
      " $ p1_total  : int  49 49 49 60 48 49 38 59 39 60 ...\n",
      " $ p2_total  : int  42 37 47 52 42 66 59 60 41 68 ...\n",
      " $ winner    : int  1 1 1 1 1 2 2 2 2 2 ...\n"
     ]
    },
    {
     "data": {
      "text/plain": [
       "    game_no           r1p1            r1p2            r2p1      \n",
       " Min.   :    0   Min.   : 3.00   Min.   : 3.00   Min.   : 3.00  \n",
       " 1st Qu.:25000   1st Qu.:12.00   1st Qu.:13.00   1st Qu.:11.00  \n",
       " Median :50000   Median :14.00   Median :16.00   Median :14.00  \n",
       " Mean   :50000   Mean   :14.67   Mean   :16.64   Mean   :14.63  \n",
       " 3rd Qu.:74999   3rd Qu.:17.00   3rd Qu.:20.00   3rd Qu.:17.00  \n",
       " Max.   :99999   Max.   :33.00   Max.   :40.00   Max.   :34.00  \n",
       "      r2p2            r3p1            r3p2         p1_pudding   \n",
       " Min.   : 3.00   Min.   : 3.00   Min.   : 3.00   Min.   :0.000  \n",
       " 1st Qu.:13.00   1st Qu.:11.00   1st Qu.:13.00   1st Qu.:0.000  \n",
       " Median :16.00   Median :14.00   Median :16.00   Median :3.000  \n",
       " Mean   :16.64   Mean   :14.67   Mean   :16.61   Mean   :2.988  \n",
       " 3rd Qu.:20.00   3rd Qu.:17.00   3rd Qu.:20.00   3rd Qu.:6.000  \n",
       " Max.   :40.00   Max.   :34.00   Max.   :40.00   Max.   :6.000  \n",
       "   p2_pudding       p1_total        p2_total         winner     \n",
       " Min.   :0.000   Min.   :20.00   Min.   :23.00   Min.   :0.000  \n",
       " 1st Qu.:0.000   1st Qu.:42.00   1st Qu.:47.00   1st Qu.:1.000  \n",
       " Median :3.000   Median :47.00   Median :53.00   Median :2.000  \n",
       " Mean   :3.012   Mean   :46.97   Mean   :52.89   Mean   :1.645  \n",
       " 3rd Qu.:6.000   3rd Qu.:52.00   3rd Qu.:58.00   3rd Qu.:2.000  \n",
       " Max.   :6.000   Max.   :80.00   Max.   :92.00   Max.   :2.000  "
      ]
     },
     "metadata": {},
     "output_type": "display_data"
    },
    {
     "data": {
      "text/html": [
       "<table class=\"dataframe\">\n",
       "<caption>A data.frame: 1 × 9</caption>\n",
       "<thead>\n",
       "\t<tr><th scope=col>p1_wins</th><th scope=col>p2_wins</th><th scope=col>ties</th><th scope=col>r1p1_mean_score</th><th scope=col>r2p1_mean_score</th><th scope=col>r3p1_mean_score</th><th scope=col>r1p2_mean_score</th><th scope=col>r2p2_mean_score</th><th scope=col>r3p2_mean_score</th></tr>\n",
       "\t<tr><th scope=col>&lt;int&gt;</th><th scope=col>&lt;int&gt;</th><th scope=col>&lt;int&gt;</th><th scope=col>&lt;dbl&gt;</th><th scope=col>&lt;dbl&gt;</th><th scope=col>&lt;dbl&gt;</th><th scope=col>&lt;dbl&gt;</th><th scope=col>&lt;dbl&gt;</th><th scope=col>&lt;dbl&gt;</th></tr>\n",
       "</thead>\n",
       "<tbody>\n",
       "\t<tr><td>29612</td><td>67419</td><td>2969</td><td>14.6725</td><td>14.6337</td><td>14.67365</td><td>16.63507</td><td>16.63564</td><td>16.60584</td></tr>\n",
       "</tbody>\n",
       "</table>\n"
      ],
      "text/latex": [
       "A data.frame: 1 × 9\n",
       "\\begin{tabular}{lllllllll}\n",
       " p1\\_wins & p2\\_wins & ties & r1p1\\_mean\\_score & r2p1\\_mean\\_score & r3p1\\_mean\\_score & r1p2\\_mean\\_score & r2p2\\_mean\\_score & r3p2\\_mean\\_score\\\\\n",
       " <int> & <int> & <int> & <dbl> & <dbl> & <dbl> & <dbl> & <dbl> & <dbl>\\\\\n",
       "\\hline\n",
       "\t 29612 & 67419 & 2969 & 14.6725 & 14.6337 & 14.67365 & 16.63507 & 16.63564 & 16.60584\\\\\n",
       "\\end{tabular}\n"
      ],
      "text/markdown": [
       "\n",
       "A data.frame: 1 × 9\n",
       "\n",
       "| p1_wins &lt;int&gt; | p2_wins &lt;int&gt; | ties &lt;int&gt; | r1p1_mean_score &lt;dbl&gt; | r2p1_mean_score &lt;dbl&gt; | r3p1_mean_score &lt;dbl&gt; | r1p2_mean_score &lt;dbl&gt; | r2p2_mean_score &lt;dbl&gt; | r3p2_mean_score &lt;dbl&gt; |\n",
       "|---|---|---|---|---|---|---|---|---|\n",
       "| 29612 | 67419 | 2969 | 14.6725 | 14.6337 | 14.67365 | 16.63507 | 16.63564 | 16.60584 |\n",
       "\n"
      ],
      "text/plain": [
       "  p1_wins p2_wins ties r1p1_mean_score r2p1_mean_score r3p1_mean_score\n",
       "1 29612   67419   2969 14.6725         14.6337         14.67365       \n",
       "  r1p2_mean_score r2p2_mean_score r3p2_mean_score\n",
       "1 16.63507        16.63564        16.60584       "
      ]
     },
     "metadata": {},
     "output_type": "display_data"
    }
   ],
   "source": [
    "# strategy 3 vs strategy 2\n",
    "games_df = read.csv(\"sushigo2playerstrat3and2.csv\")\n",
    "head(games_df)\n",
    "str(games_df)\n",
    "summary(games_df)\n",
    "\n",
    "num_wins <- games_df %>%\n",
    "    summarize(p1_wins = sum(winner == 1),\n",
    "             p2_wins = sum(winner == 2),\n",
    "             ties = sum(winner == 0),\n",
    "             r1p1_mean_score = mean(r1p1),\n",
    "             r2p1_mean_score = mean(r2p1),\n",
    "             r3p1_mean_score = mean(r3p1),\n",
    "             r1p2_mean_score = mean(r1p2),\n",
    "             r2p2_mean_score = mean(r2p2),\n",
    "             r3p2_mean_score = mean(r3p2))\n",
    "\n",
    "num_wins"
   ]
  },
  {
   "cell_type": "code",
   "execution_count": 5,
   "id": "0029ef45",
   "metadata": {},
   "outputs": [
    {
     "data": {
      "text/html": [
       "<table class=\"dataframe\">\n",
       "<caption>A data.frame: 6 × 12</caption>\n",
       "<thead>\n",
       "\t<tr><th></th><th scope=col>game_no</th><th scope=col>r1p1</th><th scope=col>r1p2</th><th scope=col>r2p1</th><th scope=col>r2p2</th><th scope=col>r3p1</th><th scope=col>r3p2</th><th scope=col>p1_pudding</th><th scope=col>p2_pudding</th><th scope=col>p1_total</th><th scope=col>p2_total</th><th scope=col>winner</th></tr>\n",
       "\t<tr><th></th><th scope=col>&lt;int&gt;</th><th scope=col>&lt;int&gt;</th><th scope=col>&lt;int&gt;</th><th scope=col>&lt;int&gt;</th><th scope=col>&lt;int&gt;</th><th scope=col>&lt;int&gt;</th><th scope=col>&lt;int&gt;</th><th scope=col>&lt;int&gt;</th><th scope=col>&lt;int&gt;</th><th scope=col>&lt;int&gt;</th><th scope=col>&lt;int&gt;</th><th scope=col>&lt;int&gt;</th></tr>\n",
       "</thead>\n",
       "<tbody>\n",
       "\t<tr><th scope=row>1</th><td>0</td><td>19</td><td>14</td><td>15</td><td>14</td><td>22</td><td> 7</td><td>0</td><td>6</td><td>56</td><td>41</td><td>1</td></tr>\n",
       "\t<tr><th scope=row>2</th><td>1</td><td>19</td><td>26</td><td> 7</td><td>22</td><td> 9</td><td>11</td><td>6</td><td>0</td><td>41</td><td>59</td><td>2</td></tr>\n",
       "\t<tr><th scope=row>3</th><td>2</td><td> 8</td><td>20</td><td>19</td><td>20</td><td> 8</td><td>16</td><td>6</td><td>0</td><td>41</td><td>56</td><td>2</td></tr>\n",
       "\t<tr><th scope=row>4</th><td>3</td><td>11</td><td>20</td><td> 9</td><td>21</td><td>15</td><td>18</td><td>0</td><td>6</td><td>35</td><td>65</td><td>2</td></tr>\n",
       "\t<tr><th scope=row>5</th><td>4</td><td>10</td><td>23</td><td>26</td><td>11</td><td>12</td><td>15</td><td>6</td><td>0</td><td>54</td><td>49</td><td>1</td></tr>\n",
       "\t<tr><th scope=row>6</th><td>5</td><td>16</td><td> 9</td><td>16</td><td>21</td><td>19</td><td>23</td><td>6</td><td>0</td><td>57</td><td>53</td><td>1</td></tr>\n",
       "</tbody>\n",
       "</table>\n"
      ],
      "text/latex": [
       "A data.frame: 6 × 12\n",
       "\\begin{tabular}{r|llllllllllll}\n",
       "  & game\\_no & r1p1 & r1p2 & r2p1 & r2p2 & r3p1 & r3p2 & p1\\_pudding & p2\\_pudding & p1\\_total & p2\\_total & winner\\\\\n",
       "  & <int> & <int> & <int> & <int> & <int> & <int> & <int> & <int> & <int> & <int> & <int> & <int>\\\\\n",
       "\\hline\n",
       "\t1 & 0 & 19 & 14 & 15 & 14 & 22 &  7 & 0 & 6 & 56 & 41 & 1\\\\\n",
       "\t2 & 1 & 19 & 26 &  7 & 22 &  9 & 11 & 6 & 0 & 41 & 59 & 2\\\\\n",
       "\t3 & 2 &  8 & 20 & 19 & 20 &  8 & 16 & 6 & 0 & 41 & 56 & 2\\\\\n",
       "\t4 & 3 & 11 & 20 &  9 & 21 & 15 & 18 & 0 & 6 & 35 & 65 & 2\\\\\n",
       "\t5 & 4 & 10 & 23 & 26 & 11 & 12 & 15 & 6 & 0 & 54 & 49 & 1\\\\\n",
       "\t6 & 5 & 16 &  9 & 16 & 21 & 19 & 23 & 6 & 0 & 57 & 53 & 1\\\\\n",
       "\\end{tabular}\n"
      ],
      "text/markdown": [
       "\n",
       "A data.frame: 6 × 12\n",
       "\n",
       "| <!--/--> | game_no &lt;int&gt; | r1p1 &lt;int&gt; | r1p2 &lt;int&gt; | r2p1 &lt;int&gt; | r2p2 &lt;int&gt; | r3p1 &lt;int&gt; | r3p2 &lt;int&gt; | p1_pudding &lt;int&gt; | p2_pudding &lt;int&gt; | p1_total &lt;int&gt; | p2_total &lt;int&gt; | winner &lt;int&gt; |\n",
       "|---|---|---|---|---|---|---|---|---|---|---|---|---|\n",
       "| 1 | 0 | 19 | 14 | 15 | 14 | 22 |  7 | 0 | 6 | 56 | 41 | 1 |\n",
       "| 2 | 1 | 19 | 26 |  7 | 22 |  9 | 11 | 6 | 0 | 41 | 59 | 2 |\n",
       "| 3 | 2 |  8 | 20 | 19 | 20 |  8 | 16 | 6 | 0 | 41 | 56 | 2 |\n",
       "| 4 | 3 | 11 | 20 |  9 | 21 | 15 | 18 | 0 | 6 | 35 | 65 | 2 |\n",
       "| 5 | 4 | 10 | 23 | 26 | 11 | 12 | 15 | 6 | 0 | 54 | 49 | 1 |\n",
       "| 6 | 5 | 16 |  9 | 16 | 21 | 19 | 23 | 6 | 0 | 57 | 53 | 1 |\n",
       "\n"
      ],
      "text/plain": [
       "  game_no r1p1 r1p2 r2p1 r2p2 r3p1 r3p2 p1_pudding p2_pudding p1_total p2_total\n",
       "1 0       19   14   15   14   22    7   0          6          56       41      \n",
       "2 1       19   26    7   22    9   11   6          0          41       59      \n",
       "3 2        8   20   19   20    8   16   6          0          41       56      \n",
       "4 3       11   20    9   21   15   18   0          6          35       65      \n",
       "5 4       10   23   26   11   12   15   6          0          54       49      \n",
       "6 5       16    9   16   21   19   23   6          0          57       53      \n",
       "  winner\n",
       "1 1     \n",
       "2 2     \n",
       "3 2     \n",
       "4 2     \n",
       "5 1     \n",
       "6 1     "
      ]
     },
     "metadata": {},
     "output_type": "display_data"
    },
    {
     "name": "stdout",
     "output_type": "stream",
     "text": [
      "'data.frame':\t100000 obs. of  12 variables:\n",
      " $ game_no   : int  0 1 2 3 4 5 6 7 8 9 ...\n",
      " $ r1p1      : int  19 19 8 11 10 16 11 14 13 17 ...\n",
      " $ r1p2      : int  14 26 20 20 23 9 13 12 16 9 ...\n",
      " $ r2p1      : int  15 7 19 9 26 16 17 9 7 17 ...\n",
      " $ r2p2      : int  14 22 20 21 11 21 13 13 12 10 ...\n",
      " $ r3p1      : int  22 9 8 15 12 19 16 22 13 14 ...\n",
      " $ r3p2      : int  7 11 16 18 15 23 9 14 20 15 ...\n",
      " $ p1_pudding: int  0 6 6 0 6 6 0 0 6 0 ...\n",
      " $ p2_pudding: int  6 0 0 6 0 0 6 6 0 6 ...\n",
      " $ p1_total  : int  56 41 41 35 54 57 44 45 39 48 ...\n",
      " $ p2_total  : int  41 59 56 65 49 53 41 45 48 40 ...\n",
      " $ winner    : int  1 2 2 2 1 1 1 0 2 1 ...\n"
     ]
    },
    {
     "data": {
      "text/plain": [
       "    game_no           r1p1            r1p2            r2p1      \n",
       " Min.   :    0   Min.   : 3.00   Min.   : 3.00   Min.   : 3.00  \n",
       " 1st Qu.:25000   1st Qu.:12.00   1st Qu.:13.00   1st Qu.:12.00  \n",
       " Median :50000   Median :14.00   Median :16.00   Median :14.00  \n",
       " Mean   :50000   Mean   :14.67   Mean   :16.63   Mean   :14.69  \n",
       " 3rd Qu.:74999   3rd Qu.:17.00   3rd Qu.:20.00   3rd Qu.:17.00  \n",
       " Max.   :99999   Max.   :36.00   Max.   :39.00   Max.   :34.00  \n",
       "      r2p2            r3p1            r3p2         p1_pudding   \n",
       " Min.   : 3.00   Min.   : 3.00   Min.   : 3.00   Min.   :0.000  \n",
       " 1st Qu.:13.00   1st Qu.:12.00   1st Qu.:13.00   1st Qu.:0.000  \n",
       " Median :16.00   Median :14.00   Median :16.00   Median :3.000  \n",
       " Mean   :16.63   Mean   :14.66   Mean   :16.62   Mean   :2.998  \n",
       " 3rd Qu.:20.00   3rd Qu.:17.00   3rd Qu.:20.00   3rd Qu.:6.000  \n",
       " Max.   :38.00   Max.   :35.00   Max.   :39.00   Max.   :6.000  \n",
       "   p2_pudding       p1_total        p2_total         winner     \n",
       " Min.   :0.000   Min.   :20.00   Min.   :22.00   Min.   :0.000  \n",
       " 1st Qu.:0.000   1st Qu.:42.00   1st Qu.:47.00   1st Qu.:1.000  \n",
       " Median :3.000   Median :47.00   Median :53.00   Median :2.000  \n",
       " Mean   :3.002   Mean   :47.02   Mean   :52.88   Mean   :1.643  \n",
       " 3rd Qu.:6.000   3rd Qu.:52.00   3rd Qu.:58.00   3rd Qu.:2.000  \n",
       " Max.   :6.000   Max.   :78.00   Max.   :95.00   Max.   :2.000  "
      ]
     },
     "metadata": {},
     "output_type": "display_data"
    },
    {
     "data": {
      "text/html": [
       "<table class=\"dataframe\">\n",
       "<caption>A data.frame: 1 × 9</caption>\n",
       "<thead>\n",
       "\t<tr><th scope=col>p1_wins</th><th scope=col>p2_wins</th><th scope=col>ties</th><th scope=col>r1p1_mean_score</th><th scope=col>r2p1_mean_score</th><th scope=col>r3p1_mean_score</th><th scope=col>r1p2_mean_score</th><th scope=col>r2p2_mean_score</th><th scope=col>r3p2_mean_score</th></tr>\n",
       "\t<tr><th scope=col>&lt;int&gt;</th><th scope=col>&lt;int&gt;</th><th scope=col>&lt;int&gt;</th><th scope=col>&lt;dbl&gt;</th><th scope=col>&lt;dbl&gt;</th><th scope=col>&lt;dbl&gt;</th><th scope=col>&lt;dbl&gt;</th><th scope=col>&lt;dbl&gt;</th><th scope=col>&lt;dbl&gt;</th></tr>\n",
       "</thead>\n",
       "<tbody>\n",
       "\t<tr><td>29624</td><td>67351</td><td>3025</td><td>14.67272</td><td>14.6906</td><td>14.66021</td><td>16.63361</td><td>16.62547</td><td>16.62339</td></tr>\n",
       "</tbody>\n",
       "</table>\n"
      ],
      "text/latex": [
       "A data.frame: 1 × 9\n",
       "\\begin{tabular}{lllllllll}\n",
       " p1\\_wins & p2\\_wins & ties & r1p1\\_mean\\_score & r2p1\\_mean\\_score & r3p1\\_mean\\_score & r1p2\\_mean\\_score & r2p2\\_mean\\_score & r3p2\\_mean\\_score\\\\\n",
       " <int> & <int> & <int> & <dbl> & <dbl> & <dbl> & <dbl> & <dbl> & <dbl>\\\\\n",
       "\\hline\n",
       "\t 29624 & 67351 & 3025 & 14.67272 & 14.6906 & 14.66021 & 16.63361 & 16.62547 & 16.62339\\\\\n",
       "\\end{tabular}\n"
      ],
      "text/markdown": [
       "\n",
       "A data.frame: 1 × 9\n",
       "\n",
       "| p1_wins &lt;int&gt; | p2_wins &lt;int&gt; | ties &lt;int&gt; | r1p1_mean_score &lt;dbl&gt; | r2p1_mean_score &lt;dbl&gt; | r3p1_mean_score &lt;dbl&gt; | r1p2_mean_score &lt;dbl&gt; | r2p2_mean_score &lt;dbl&gt; | r3p2_mean_score &lt;dbl&gt; |\n",
       "|---|---|---|---|---|---|---|---|---|\n",
       "| 29624 | 67351 | 3025 | 14.67272 | 14.6906 | 14.66021 | 16.63361 | 16.62547 | 16.62339 |\n",
       "\n"
      ],
      "text/plain": [
       "  p1_wins p2_wins ties r1p1_mean_score r2p1_mean_score r3p1_mean_score\n",
       "1 29624   67351   3025 14.67272        14.6906         14.66021       \n",
       "  r1p2_mean_score r2p2_mean_score r3p2_mean_score\n",
       "1 16.63361        16.62547        16.62339       "
      ]
     },
     "metadata": {},
     "output_type": "display_data"
    }
   ],
   "source": [
    "# strategy 3 vs strategy 1\n",
    "games_df = read.csv(\"sushigo2playerstrat3and1.csv\")\n",
    "head(games_df)\n",
    "str(games_df)\n",
    "summary(games_df)\n",
    "\n",
    "num_wins <- games_df %>%\n",
    "    summarize(p1_wins = sum(winner == 1),\n",
    "             p2_wins = sum(winner == 2),\n",
    "             ties = sum(winner == 0),\n",
    "             r1p1_mean_score = mean(r1p1),\n",
    "             r2p1_mean_score = mean(r2p1),\n",
    "             r3p1_mean_score = mean(r3p1),\n",
    "             r1p2_mean_score = mean(r1p2),\n",
    "             r2p2_mean_score = mean(r2p2),\n",
    "             r3p2_mean_score = mean(r3p2))\n",
    "\n",
    "num_wins"
   ]
  },
  {
   "cell_type": "code",
   "execution_count": 7,
   "id": "3eb3ed52",
   "metadata": {},
   "outputs": [
    {
     "data": {
      "text/html": [
       "<table class=\"dataframe\">\n",
       "<caption>A data.frame: 6 × 12</caption>\n",
       "<thead>\n",
       "\t<tr><th></th><th scope=col>game_no</th><th scope=col>r1p1</th><th scope=col>r1p2</th><th scope=col>r2p1</th><th scope=col>r2p2</th><th scope=col>r3p1</th><th scope=col>r3p2</th><th scope=col>p1_pudding</th><th scope=col>p2_pudding</th><th scope=col>p1_total</th><th scope=col>p2_total</th><th scope=col>winner</th></tr>\n",
       "\t<tr><th></th><th scope=col>&lt;int&gt;</th><th scope=col>&lt;int&gt;</th><th scope=col>&lt;int&gt;</th><th scope=col>&lt;int&gt;</th><th scope=col>&lt;int&gt;</th><th scope=col>&lt;int&gt;</th><th scope=col>&lt;int&gt;</th><th scope=col>&lt;int&gt;</th><th scope=col>&lt;int&gt;</th><th scope=col>&lt;int&gt;</th><th scope=col>&lt;int&gt;</th><th scope=col>&lt;int&gt;</th></tr>\n",
       "</thead>\n",
       "<tbody>\n",
       "\t<tr><th scope=row>1</th><td>0</td><td>16</td><td> 8</td><td>15</td><td>19</td><td>16</td><td>18</td><td>0</td><td>6</td><td>47</td><td>51</td><td>2</td></tr>\n",
       "\t<tr><th scope=row>2</th><td>1</td><td>18</td><td>20</td><td>23</td><td>24</td><td>21</td><td>15</td><td>3</td><td>3</td><td>65</td><td>62</td><td>1</td></tr>\n",
       "\t<tr><th scope=row>3</th><td>2</td><td>11</td><td>11</td><td>16</td><td>16</td><td>17</td><td>17</td><td>0</td><td>6</td><td>44</td><td>50</td><td>2</td></tr>\n",
       "\t<tr><th scope=row>4</th><td>3</td><td>14</td><td>20</td><td>13</td><td>18</td><td>13</td><td>13</td><td>3</td><td>3</td><td>43</td><td>54</td><td>2</td></tr>\n",
       "\t<tr><th scope=row>5</th><td>4</td><td>18</td><td>18</td><td>10</td><td>11</td><td>22</td><td>14</td><td>3</td><td>3</td><td>53</td><td>46</td><td>1</td></tr>\n",
       "\t<tr><th scope=row>6</th><td>5</td><td>17</td><td>16</td><td>11</td><td>20</td><td>10</td><td> 9</td><td>0</td><td>6</td><td>38</td><td>51</td><td>2</td></tr>\n",
       "</tbody>\n",
       "</table>\n"
      ],
      "text/latex": [
       "A data.frame: 6 × 12\n",
       "\\begin{tabular}{r|llllllllllll}\n",
       "  & game\\_no & r1p1 & r1p2 & r2p1 & r2p2 & r3p1 & r3p2 & p1\\_pudding & p2\\_pudding & p1\\_total & p2\\_total & winner\\\\\n",
       "  & <int> & <int> & <int> & <int> & <int> & <int> & <int> & <int> & <int> & <int> & <int> & <int>\\\\\n",
       "\\hline\n",
       "\t1 & 0 & 16 &  8 & 15 & 19 & 16 & 18 & 0 & 6 & 47 & 51 & 2\\\\\n",
       "\t2 & 1 & 18 & 20 & 23 & 24 & 21 & 15 & 3 & 3 & 65 & 62 & 1\\\\\n",
       "\t3 & 2 & 11 & 11 & 16 & 16 & 17 & 17 & 0 & 6 & 44 & 50 & 2\\\\\n",
       "\t4 & 3 & 14 & 20 & 13 & 18 & 13 & 13 & 3 & 3 & 43 & 54 & 2\\\\\n",
       "\t5 & 4 & 18 & 18 & 10 & 11 & 22 & 14 & 3 & 3 & 53 & 46 & 1\\\\\n",
       "\t6 & 5 & 17 & 16 & 11 & 20 & 10 &  9 & 0 & 6 & 38 & 51 & 2\\\\\n",
       "\\end{tabular}\n"
      ],
      "text/markdown": [
       "\n",
       "A data.frame: 6 × 12\n",
       "\n",
       "| <!--/--> | game_no &lt;int&gt; | r1p1 &lt;int&gt; | r1p2 &lt;int&gt; | r2p1 &lt;int&gt; | r2p2 &lt;int&gt; | r3p1 &lt;int&gt; | r3p2 &lt;int&gt; | p1_pudding &lt;int&gt; | p2_pudding &lt;int&gt; | p1_total &lt;int&gt; | p2_total &lt;int&gt; | winner &lt;int&gt; |\n",
       "|---|---|---|---|---|---|---|---|---|---|---|---|---|\n",
       "| 1 | 0 | 16 |  8 | 15 | 19 | 16 | 18 | 0 | 6 | 47 | 51 | 2 |\n",
       "| 2 | 1 | 18 | 20 | 23 | 24 | 21 | 15 | 3 | 3 | 65 | 62 | 1 |\n",
       "| 3 | 2 | 11 | 11 | 16 | 16 | 17 | 17 | 0 | 6 | 44 | 50 | 2 |\n",
       "| 4 | 3 | 14 | 20 | 13 | 18 | 13 | 13 | 3 | 3 | 43 | 54 | 2 |\n",
       "| 5 | 4 | 18 | 18 | 10 | 11 | 22 | 14 | 3 | 3 | 53 | 46 | 1 |\n",
       "| 6 | 5 | 17 | 16 | 11 | 20 | 10 |  9 | 0 | 6 | 38 | 51 | 2 |\n",
       "\n"
      ],
      "text/plain": [
       "  game_no r1p1 r1p2 r2p1 r2p2 r3p1 r3p2 p1_pudding p2_pudding p1_total p2_total\n",
       "1 0       16    8   15   19   16   18   0          6          47       51      \n",
       "2 1       18   20   23   24   21   15   3          3          65       62      \n",
       "3 2       11   11   16   16   17   17   0          6          44       50      \n",
       "4 3       14   20   13   18   13   13   3          3          43       54      \n",
       "5 4       18   18   10   11   22   14   3          3          53       46      \n",
       "6 5       17   16   11   20   10    9   0          6          38       51      \n",
       "  winner\n",
       "1 2     \n",
       "2 1     \n",
       "3 2     \n",
       "4 2     \n",
       "5 1     \n",
       "6 2     "
      ]
     },
     "metadata": {},
     "output_type": "display_data"
    },
    {
     "name": "stdout",
     "output_type": "stream",
     "text": [
      "'data.frame':\t100000 obs. of  12 variables:\n",
      " $ game_no   : int  0 1 2 3 4 5 6 7 8 9 ...\n",
      " $ r1p1      : int  16 18 11 14 18 17 24 14 11 15 ...\n",
      " $ r1p2      : int  8 20 11 20 18 16 19 26 26 27 ...\n",
      " $ r2p1      : int  15 23 16 13 10 11 12 18 12 13 ...\n",
      " $ r2p2      : int  19 24 16 18 11 20 24 18 17 18 ...\n",
      " $ r3p1      : int  16 21 17 13 22 10 14 17 16 10 ...\n",
      " $ r3p2      : int  18 15 17 13 14 9 24 13 30 22 ...\n",
      " $ p1_pudding: int  0 3 0 3 3 0 6 3 6 6 ...\n",
      " $ p2_pudding: int  6 3 6 3 3 6 0 3 0 0 ...\n",
      " $ p1_total  : int  47 65 44 43 53 38 56 52 45 44 ...\n",
      " $ p2_total  : int  51 62 50 54 46 51 67 60 73 67 ...\n",
      " $ winner    : int  2 1 2 2 1 2 2 2 2 2 ...\n"
     ]
    },
    {
     "data": {
      "text/plain": [
       "    game_no           r1p1            r1p2            r2p1      \n",
       " Min.   :    0   Min.   : 3.00   Min.   : 3.00   Min.   : 3.00  \n",
       " 1st Qu.:25000   1st Qu.:13.00   1st Qu.:12.00   1st Qu.:13.00  \n",
       " Median :50000   Median :16.00   Median :15.00   Median :16.00  \n",
       " Mean   :50000   Mean   :16.65   Mean   :15.77   Mean   :16.61  \n",
       " 3rd Qu.:74999   3rd Qu.:20.00   3rd Qu.:19.00   3rd Qu.:20.00  \n",
       " Max.   :99999   Max.   :40.00   Max.   :40.00   Max.   :37.00  \n",
       "      r2p2            r3p1            r3p2         p1_pudding   \n",
       " Min.   : 3.00   Min.   : 3.00   Min.   : 3.00   Min.   :0.000  \n",
       " 1st Qu.:12.00   1st Qu.:13.00   1st Qu.:12.00   1st Qu.:0.000  \n",
       " Median :15.00   Median :16.00   Median :15.00   Median :3.000  \n",
       " Mean   :15.79   Mean   :16.65   Mean   :15.79   Mean   :2.992  \n",
       " 3rd Qu.:19.00   3rd Qu.:20.00   3rd Qu.:19.00   3rd Qu.:6.000  \n",
       " Max.   :36.00   Max.   :39.00   Max.   :37.00   Max.   :6.000  \n",
       "   p2_pudding       p1_total        p2_total         winner    \n",
       " Min.   :0.000   Min.   :23.00   Min.   :19.00   Min.   :0.00  \n",
       " 1st Qu.:0.000   1st Qu.:47.00   1st Qu.:45.00   1st Qu.:1.00  \n",
       " Median :3.000   Median :53.00   Median :50.00   Median :1.00  \n",
       " Mean   :3.008   Mean   :52.91   Mean   :50.35   Mean   :1.37  \n",
       " 3rd Qu.:6.000   3rd Qu.:58.00   3rd Qu.:56.00   3rd Qu.:2.00  \n",
       " Max.   :6.000   Max.   :89.00   Max.   :86.00   Max.   :2.00  "
      ]
     },
     "metadata": {},
     "output_type": "display_data"
    },
    {
     "data": {
      "text/html": [
       "<table class=\"dataframe\">\n",
       "<caption>A data.frame: 1 × 9</caption>\n",
       "<thead>\n",
       "\t<tr><th scope=col>p1_wins</th><th scope=col>p2_wins</th><th scope=col>ties</th><th scope=col>r1p1_mean_score</th><th scope=col>r2p1_mean_score</th><th scope=col>r3p1_mean_score</th><th scope=col>r1p2_mean_score</th><th scope=col>r2p2_mean_score</th><th scope=col>r3p2_mean_score</th></tr>\n",
       "\t<tr><th scope=col>&lt;int&gt;</th><th scope=col>&lt;int&gt;</th><th scope=col>&lt;int&gt;</th><th scope=col>&lt;dbl&gt;</th><th scope=col>&lt;dbl&gt;</th><th scope=col>&lt;dbl&gt;</th><th scope=col>&lt;dbl&gt;</th><th scope=col>&lt;dbl&gt;</th><th scope=col>&lt;dbl&gt;</th></tr>\n",
       "</thead>\n",
       "<tbody>\n",
       "\t<tr><td>56622</td><td>40207</td><td>3171</td><td>16.65063</td><td>16.61425</td><td>16.65484</td><td>15.77208</td><td>15.78744</td><td>15.78574</td></tr>\n",
       "</tbody>\n",
       "</table>\n"
      ],
      "text/latex": [
       "A data.frame: 1 × 9\n",
       "\\begin{tabular}{lllllllll}\n",
       " p1\\_wins & p2\\_wins & ties & r1p1\\_mean\\_score & r2p1\\_mean\\_score & r3p1\\_mean\\_score & r1p2\\_mean\\_score & r2p2\\_mean\\_score & r3p2\\_mean\\_score\\\\\n",
       " <int> & <int> & <int> & <dbl> & <dbl> & <dbl> & <dbl> & <dbl> & <dbl>\\\\\n",
       "\\hline\n",
       "\t 56622 & 40207 & 3171 & 16.65063 & 16.61425 & 16.65484 & 15.77208 & 15.78744 & 15.78574\\\\\n",
       "\\end{tabular}\n"
      ],
      "text/markdown": [
       "\n",
       "A data.frame: 1 × 9\n",
       "\n",
       "| p1_wins &lt;int&gt; | p2_wins &lt;int&gt; | ties &lt;int&gt; | r1p1_mean_score &lt;dbl&gt; | r2p1_mean_score &lt;dbl&gt; | r3p1_mean_score &lt;dbl&gt; | r1p2_mean_score &lt;dbl&gt; | r2p2_mean_score &lt;dbl&gt; | r3p2_mean_score &lt;dbl&gt; |\n",
       "|---|---|---|---|---|---|---|---|---|\n",
       "| 56622 | 40207 | 3171 | 16.65063 | 16.61425 | 16.65484 | 15.77208 | 15.78744 | 15.78574 |\n",
       "\n"
      ],
      "text/plain": [
       "  p1_wins p2_wins ties r1p1_mean_score r2p1_mean_score r3p1_mean_score\n",
       "1 56622   40207   3171 16.65063        16.61425        16.65484       \n",
       "  r1p2_mean_score r2p2_mean_score r3p2_mean_score\n",
       "1 15.77208        15.78744        15.78574       "
      ]
     },
     "metadata": {},
     "output_type": "display_data"
    }
   ],
   "source": [
    "# player 1 picks with priority:\n",
    "# chopsticks, wasabi, dumpling, squid, maki3, tempura,\n",
    "# salmon, maki2, egg, maki1, sashimi, pudding\n",
    "games_df = read.csv(\"sushigo2playerstrat4.csv\")\n",
    "head(games_df)\n",
    "str(games_df)\n",
    "summary(games_df)\n",
    "\n",
    "num_wins <- games_df %>%\n",
    "    summarize(p1_wins = sum(winner == 1),\n",
    "             p2_wins = sum(winner == 2),\n",
    "             ties = sum(winner == 0),\n",
    "             r1p1_mean_score = mean(r1p1),\n",
    "             r2p1_mean_score = mean(r2p1),\n",
    "             r3p1_mean_score = mean(r3p1),\n",
    "             r1p2_mean_score = mean(r1p2),\n",
    "             r2p2_mean_score = mean(r2p2),\n",
    "             r3p2_mean_score = mean(r3p2))\n",
    "\n",
    "num_wins"
   ]
  },
  {
   "cell_type": "code",
   "execution_count": 8,
   "id": "353517f8",
   "metadata": {},
   "outputs": [
    {
     "data": {
      "text/html": [
       "'4 vs 1'"
      ],
      "text/latex": [
       "'4 vs 1'"
      ],
      "text/markdown": [
       "'4 vs 1'"
      ],
      "text/plain": [
       "[1] \"4 vs 1\""
      ]
     },
     "metadata": {},
     "output_type": "display_data"
    },
    {
     "data": {
      "text/html": [
       "<table class=\"dataframe\">\n",
       "<caption>A data.frame: 1 × 9</caption>\n",
       "<thead>\n",
       "\t<tr><th scope=col>p1_wins</th><th scope=col>p2_wins</th><th scope=col>ties</th><th scope=col>r1p1_mean_score</th><th scope=col>r2p1_mean_score</th><th scope=col>r3p1_mean_score</th><th scope=col>r1p2_mean_score</th><th scope=col>r2p2_mean_score</th><th scope=col>r3p2_mean_score</th></tr>\n",
       "\t<tr><th scope=col>&lt;int&gt;</th><th scope=col>&lt;int&gt;</th><th scope=col>&lt;int&gt;</th><th scope=col>&lt;dbl&gt;</th><th scope=col>&lt;dbl&gt;</th><th scope=col>&lt;dbl&gt;</th><th scope=col>&lt;dbl&gt;</th><th scope=col>&lt;dbl&gt;</th><th scope=col>&lt;dbl&gt;</th></tr>\n",
       "</thead>\n",
       "<tbody>\n",
       "\t<tr><td>48509</td><td>48343</td><td>3148</td><td>16.62588</td><td>16.62094</td><td>16.65433</td><td>16.61967</td><td>16.62379</td><td>16.61333</td></tr>\n",
       "</tbody>\n",
       "</table>\n"
      ],
      "text/latex": [
       "A data.frame: 1 × 9\n",
       "\\begin{tabular}{lllllllll}\n",
       " p1\\_wins & p2\\_wins & ties & r1p1\\_mean\\_score & r2p1\\_mean\\_score & r3p1\\_mean\\_score & r1p2\\_mean\\_score & r2p2\\_mean\\_score & r3p2\\_mean\\_score\\\\\n",
       " <int> & <int> & <int> & <dbl> & <dbl> & <dbl> & <dbl> & <dbl> & <dbl>\\\\\n",
       "\\hline\n",
       "\t 48509 & 48343 & 3148 & 16.62588 & 16.62094 & 16.65433 & 16.61967 & 16.62379 & 16.61333\\\\\n",
       "\\end{tabular}\n"
      ],
      "text/markdown": [
       "\n",
       "A data.frame: 1 × 9\n",
       "\n",
       "| p1_wins &lt;int&gt; | p2_wins &lt;int&gt; | ties &lt;int&gt; | r1p1_mean_score &lt;dbl&gt; | r2p1_mean_score &lt;dbl&gt; | r3p1_mean_score &lt;dbl&gt; | r1p2_mean_score &lt;dbl&gt; | r2p2_mean_score &lt;dbl&gt; | r3p2_mean_score &lt;dbl&gt; |\n",
       "|---|---|---|---|---|---|---|---|---|\n",
       "| 48509 | 48343 | 3148 | 16.62588 | 16.62094 | 16.65433 | 16.61967 | 16.62379 | 16.61333 |\n",
       "\n"
      ],
      "text/plain": [
       "  p1_wins p2_wins ties r1p1_mean_score r2p1_mean_score r3p1_mean_score\n",
       "1 48509   48343   3148 16.62588        16.62094        16.65433       \n",
       "  r1p2_mean_score r2p2_mean_score r3p2_mean_score\n",
       "1 16.61967        16.62379        16.61333       "
      ]
     },
     "metadata": {},
     "output_type": "display_data"
    },
    {
     "data": {
      "text/html": [
       "'4 vs 2'"
      ],
      "text/latex": [
       "'4 vs 2'"
      ],
      "text/markdown": [
       "'4 vs 2'"
      ],
      "text/plain": [
       "[1] \"4 vs 2\""
      ]
     },
     "metadata": {},
     "output_type": "display_data"
    },
    {
     "data": {
      "text/html": [
       "<table class=\"dataframe\">\n",
       "<caption>A data.frame: 1 × 9</caption>\n",
       "<thead>\n",
       "\t<tr><th scope=col>p1_wins</th><th scope=col>p2_wins</th><th scope=col>ties</th><th scope=col>r1p1_mean_score</th><th scope=col>r2p1_mean_score</th><th scope=col>r3p1_mean_score</th><th scope=col>r1p2_mean_score</th><th scope=col>r2p2_mean_score</th><th scope=col>r3p2_mean_score</th></tr>\n",
       "\t<tr><th scope=col>&lt;int&gt;</th><th scope=col>&lt;int&gt;</th><th scope=col>&lt;int&gt;</th><th scope=col>&lt;dbl&gt;</th><th scope=col>&lt;dbl&gt;</th><th scope=col>&lt;dbl&gt;</th><th scope=col>&lt;dbl&gt;</th><th scope=col>&lt;dbl&gt;</th><th scope=col>&lt;dbl&gt;</th></tr>\n",
       "</thead>\n",
       "<tbody>\n",
       "\t<tr><td>48224</td><td>48607</td><td>3169</td><td>16.59838</td><td>16.62422</td><td>16.61837</td><td>16.60871</td><td>16.63703</td><td>16.59788</td></tr>\n",
       "</tbody>\n",
       "</table>\n"
      ],
      "text/latex": [
       "A data.frame: 1 × 9\n",
       "\\begin{tabular}{lllllllll}\n",
       " p1\\_wins & p2\\_wins & ties & r1p1\\_mean\\_score & r2p1\\_mean\\_score & r3p1\\_mean\\_score & r1p2\\_mean\\_score & r2p2\\_mean\\_score & r3p2\\_mean\\_score\\\\\n",
       " <int> & <int> & <int> & <dbl> & <dbl> & <dbl> & <dbl> & <dbl> & <dbl>\\\\\n",
       "\\hline\n",
       "\t 48224 & 48607 & 3169 & 16.59838 & 16.62422 & 16.61837 & 16.60871 & 16.63703 & 16.59788\\\\\n",
       "\\end{tabular}\n"
      ],
      "text/markdown": [
       "\n",
       "A data.frame: 1 × 9\n",
       "\n",
       "| p1_wins &lt;int&gt; | p2_wins &lt;int&gt; | ties &lt;int&gt; | r1p1_mean_score &lt;dbl&gt; | r2p1_mean_score &lt;dbl&gt; | r3p1_mean_score &lt;dbl&gt; | r1p2_mean_score &lt;dbl&gt; | r2p2_mean_score &lt;dbl&gt; | r3p2_mean_score &lt;dbl&gt; |\n",
       "|---|---|---|---|---|---|---|---|---|\n",
       "| 48224 | 48607 | 3169 | 16.59838 | 16.62422 | 16.61837 | 16.60871 | 16.63703 | 16.59788 |\n",
       "\n"
      ],
      "text/plain": [
       "  p1_wins p2_wins ties r1p1_mean_score r2p1_mean_score r3p1_mean_score\n",
       "1 48224   48607   3169 16.59838        16.62422        16.61837       \n",
       "  r1p2_mean_score r2p2_mean_score r3p2_mean_score\n",
       "1 16.60871        16.63703        16.59788       "
      ]
     },
     "metadata": {},
     "output_type": "display_data"
    },
    {
     "data": {
      "text/html": [
       "'4 vs 3'"
      ],
      "text/latex": [
       "'4 vs 3'"
      ],
      "text/markdown": [
       "'4 vs 3'"
      ],
      "text/plain": [
       "[1] \"4 vs 3\""
      ]
     },
     "metadata": {},
     "output_type": "display_data"
    },
    {
     "data": {
      "text/html": [
       "<table class=\"dataframe\">\n",
       "<caption>A data.frame: 1 × 9</caption>\n",
       "<thead>\n",
       "\t<tr><th scope=col>p1_wins</th><th scope=col>p2_wins</th><th scope=col>ties</th><th scope=col>r1p1_mean_score</th><th scope=col>r2p1_mean_score</th><th scope=col>r3p1_mean_score</th><th scope=col>r1p2_mean_score</th><th scope=col>r2p2_mean_score</th><th scope=col>r3p2_mean_score</th></tr>\n",
       "\t<tr><th scope=col>&lt;int&gt;</th><th scope=col>&lt;int&gt;</th><th scope=col>&lt;int&gt;</th><th scope=col>&lt;dbl&gt;</th><th scope=col>&lt;dbl&gt;</th><th scope=col>&lt;dbl&gt;</th><th scope=col>&lt;dbl&gt;</th><th scope=col>&lt;dbl&gt;</th><th scope=col>&lt;dbl&gt;</th></tr>\n",
       "</thead>\n",
       "<tbody>\n",
       "\t<tr><td>67490</td><td>29566</td><td>2944</td><td>16.60606</td><td>16.63697</td><td>16.64159</td><td>14.67095</td><td>14.68265</td><td>14.6733</td></tr>\n",
       "</tbody>\n",
       "</table>\n"
      ],
      "text/latex": [
       "A data.frame: 1 × 9\n",
       "\\begin{tabular}{lllllllll}\n",
       " p1\\_wins & p2\\_wins & ties & r1p1\\_mean\\_score & r2p1\\_mean\\_score & r3p1\\_mean\\_score & r1p2\\_mean\\_score & r2p2\\_mean\\_score & r3p2\\_mean\\_score\\\\\n",
       " <int> & <int> & <int> & <dbl> & <dbl> & <dbl> & <dbl> & <dbl> & <dbl>\\\\\n",
       "\\hline\n",
       "\t 67490 & 29566 & 2944 & 16.60606 & 16.63697 & 16.64159 & 14.67095 & 14.68265 & 14.6733\\\\\n",
       "\\end{tabular}\n"
      ],
      "text/markdown": [
       "\n",
       "A data.frame: 1 × 9\n",
       "\n",
       "| p1_wins &lt;int&gt; | p2_wins &lt;int&gt; | ties &lt;int&gt; | r1p1_mean_score &lt;dbl&gt; | r2p1_mean_score &lt;dbl&gt; | r3p1_mean_score &lt;dbl&gt; | r1p2_mean_score &lt;dbl&gt; | r2p2_mean_score &lt;dbl&gt; | r3p2_mean_score &lt;dbl&gt; |\n",
       "|---|---|---|---|---|---|---|---|---|\n",
       "| 67490 | 29566 | 2944 | 16.60606 | 16.63697 | 16.64159 | 14.67095 | 14.68265 | 14.6733 |\n",
       "\n"
      ],
      "text/plain": [
       "  p1_wins p2_wins ties r1p1_mean_score r2p1_mean_score r3p1_mean_score\n",
       "1 67490   29566   2944 16.60606        16.63697        16.64159       \n",
       "  r1p2_mean_score r2p2_mean_score r3p2_mean_score\n",
       "1 14.67095        14.68265        14.6733        "
      ]
     },
     "metadata": {},
     "output_type": "display_data"
    }
   ],
   "source": [
    "# strategy 4 vs 1\n",
    "games_df = read.csv(\"sushigo2playerstrat4and1.csv\")\n",
    "# head(games_df)\n",
    "# str(games_df)\n",
    "# summary(games_df)\n",
    "\n",
    "num_wins <- games_df %>%\n",
    "    summarize(p1_wins = sum(winner == 1),\n",
    "             p2_wins = sum(winner == 2),\n",
    "             ties = sum(winner == 0),\n",
    "             r1p1_mean_score = mean(r1p1),\n",
    "             r2p1_mean_score = mean(r2p1),\n",
    "             r3p1_mean_score = mean(r3p1),\n",
    "             r1p2_mean_score = mean(r1p2),\n",
    "             r2p2_mean_score = mean(r2p2),\n",
    "             r3p2_mean_score = mean(r3p2))\n",
    "\"4 vs 1\"\n",
    "num_wins\n",
    "\n",
    "# strategy 4 vs 2\n",
    "games_df = read.csv(\"sushigo2playerstrat4and2.csv\")\n",
    "# head(games_df)\n",
    "# str(games_df)\n",
    "# summary(games_df)\n",
    "\n",
    "num_wins <- games_df %>%\n",
    "    summarize(p1_wins = sum(winner == 1),\n",
    "             p2_wins = sum(winner == 2),\n",
    "             ties = sum(winner == 0),\n",
    "             r1p1_mean_score = mean(r1p1),\n",
    "             r2p1_mean_score = mean(r2p1),\n",
    "             r3p1_mean_score = mean(r3p1),\n",
    "             r1p2_mean_score = mean(r1p2),\n",
    "             r2p2_mean_score = mean(r2p2),\n",
    "             r3p2_mean_score = mean(r3p2))\n",
    "\"4 vs 2\"\n",
    "num_wins\n",
    "\n",
    "# strategy 4 vs 3\n",
    "games_df = read.csv(\"sushigo2playerstrat4and3.csv\")\n",
    "# head(games_df)\n",
    "# str(games_df)\n",
    "# summary(games_df)\n",
    "\n",
    "num_wins <- games_df %>%\n",
    "    summarize(p1_wins = sum(winner == 1),\n",
    "             p2_wins = sum(winner == 2),\n",
    "             ties = sum(winner == 0),\n",
    "             r1p1_mean_score = mean(r1p1),\n",
    "             r2p1_mean_score = mean(r2p1),\n",
    "             r3p1_mean_score = mean(r3p1),\n",
    "             r1p2_mean_score = mean(r1p2),\n",
    "             r2p2_mean_score = mean(r2p2),\n",
    "             r3p2_mean_score = mean(r3p2))\n",
    "\"4 vs 3\"\n",
    "num_wins"
   ]
  }
 ],
 "metadata": {
  "kernelspec": {
   "display_name": "R",
   "language": "R",
   "name": "ir"
  },
  "language_info": {
   "codemirror_mode": "r",
   "file_extension": ".r",
   "mimetype": "text/x-r-source",
   "name": "R",
   "pygments_lexer": "r",
   "version": "4.1.0"
  }
 },
 "nbformat": 4,
 "nbformat_minor": 5
}
