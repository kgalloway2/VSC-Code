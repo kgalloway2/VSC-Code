{
 "cells": [
  {
   "cell_type": "code",
   "execution_count": 2,
   "id": "b3b81dfc",
   "metadata": {},
   "outputs": [
    {
     "data": {
      "image/png": "[encoded data removed]",
      "text/plain": [
       "256×256 Array{RGBA{N0f8},2} with eltype RGBA{N0f8}:\n",
       " RGBA{N0f8}(1.0,1.0,1.0,1.0)  …  RGBA{N0f8}(1.0,1.0,1.0,1.0)\n",
       " RGBA{N0f8}(1.0,1.0,1.0,1.0)     RGBA{N0f8}(1.0,1.0,1.0,1.0)\n",
       " RGBA{N0f8}(1.0,1.0,1.0,1.0)     RGBA{N0f8}(1.0,1.0,1.0,1.0)\n",
       " RGBA{N0f8}(1.0,1.0,1.0,1.0)     RGBA{N0f8}(1.0,1.0,1.0,1.0)\n",
       " RGBA{N0f8}(1.0,1.0,1.0,1.0)     RGBA{N0f8}(1.0,1.0,1.0,1.0)\n",
       " RGBA{N0f8}(1.0,1.0,1.0,1.0)  …  RGBA{N0f8}(1.0,1.0,1.0,1.0)\n",
       " RGBA{N0f8}(1.0,1.0,1.0,1.0)     RGBA{N0f8}(1.0,1.0,1.0,1.0)\n",
       " RGBA{N0f8}(1.0,1.0,1.0,1.0)     RGBA{N0f8}(1.0,1.0,1.0,1.0)\n",
       " RGBA{N0f8}(1.0,1.0,1.0,1.0)     RGBA{N0f8}(1.0,1.0,1.0,1.0)\n",
       " RGBA{N0f8}(1.0,1.0,1.0,1.0)     RGBA{N0f8}(1.0,1.0,1.0,1.0)\n",
       " RGBA{N0f8}(1.0,1.0,1.0,1.0)  …  RGBA{N0f8}(1.0,1.0,1.0,1.0)\n",
       " RGBA{N0f8}(1.0,1.0,1.0,1.0)     RGBA{N0f8}(1.0,1.0,1.0,1.0)\n",
       " RGBA{N0f8}(1.0,1.0,1.0,1.0)     RGBA{N0f8}(1.0,1.0,1.0,1.0)\n",
       " ⋮                            ⋱  ⋮\n",
       " RGBA{N0f8}(1.0,1.0,1.0,1.0)     RGBA{N0f8}(1.0,1.0,1.0,1.0)\n",
       " RGBA{N0f8}(1.0,1.0,1.0,1.0)  …  RGBA{N0f8}(1.0,1.0,1.0,1.0)\n",
       " RGBA{N0f8}(1.0,1.0,1.0,1.0)     RGBA{N0f8}(1.0,1.0,1.0,1.0)\n",
       " RGBA{N0f8}(1.0,1.0,1.0,1.0)     RGBA{N0f8}(1.0,1.0,1.0,1.0)\n",
       " RGBA{N0f8}(1.0,1.0,1.0,1.0)     RGBA{N0f8}(1.0,1.0,1.0,1.0)\n",
       " RGBA{N0f8}(1.0,1.0,1.0,1.0)     RGBA{N0f8}(1.0,1.0,1.0,1.0)\n",
       " RGBA{N0f8}(1.0,1.0,1.0,1.0)  …  RGBA{N0f8}(1.0,1.0,1.0,1.0)\n",
       " RGBA{N0f8}(1.0,1.0,1.0,1.0)     RGBA{N0f8}(1.0,1.0,1.0,1.0)\n",
       " RGBA{N0f8}(1.0,1.0,1.0,1.0)     RGBA{N0f8}(1.0,1.0,1.0,1.0)\n",
       " RGBA{N0f8}(1.0,1.0,1.0,1.0)     RGBA{N0f8}(1.0,1.0,1.0,1.0)\n",
       " RGBA{N0f8}(1.0,1.0,1.0,1.0)     RGBA{N0f8}(1.0,1.0,1.0,1.0)\n",
       " RGBA{N0f8}(1.0,1.0,1.0,1.0)  …  RGBA{N0f8}(1.0,1.0,1.0,1.0)"
      ]
     },
     "execution_count": 2,
     "metadata": {},
     "output_type": "execute_result"
    }
   ],
   "source": [
    "#=\n",
    "Pixel art generator (suggested implementation: any programming language you want to master). \n",
    "Build a tool that takes an image as input and samples the image to produce pixel art as output. \n",
    "If you want to improve your front-end skills, generate the resulting pixel art using CSS.\n",
    "=#\n",
    "\n",
    "using LinearAlgebra\n",
    "using SparseArrays\n",
    "using Images\n",
    "using TestImages\n",
    "using Colors\n",
    "\n",
    "before_photo = load(\"C:/Users/kgtrm/Desktop/Files/Pictures/julia_thing/grookey.png\")"
   ]
  },
  {
   "cell_type": "code",
   "execution_count": 3,
   "id": "638df825",
   "metadata": {},
   "outputs": [
    {
     "name": "stdout",
     "output_type": "stream",
     "text": [
      "scale_factors = [1, 2, 4, 8, 16]\n",
      "new_dimensions = [(256.0, 256.0), (128.0, 128.0), (64.0, 64.0), (32.0, 32.0), (16.0, 16.0)]\n"
     ]
    },
    {
     "data": {
      "text/plain": [
       "5-element Vector{Tuple{Float64, Float64}}:\n",
       " (256.0, 256.0)\n",
       " (128.0, 128.0)\n",
       " (64.0, 64.0)\n",
       " (32.0, 32.0)\n",
       " (16.0, 16.0)"
      ]
     },
     "execution_count": 3,
     "metadata": {},
     "output_type": "execute_result"
    }
   ],
   "source": [
    "function factors(number)\n",
    "    factor_list = Int[]\n",
    "    for i in 1:Int(floor(sqrt(number)))\n",
    "        if (number % i == 0)\n",
    "            push!(factor_list, i)\n",
    "        end\n",
    "    end\n",
    "    return factor_list\n",
    "end\n",
    "\n",
    "scale_factors = intersect(factors(size(before_photo)[1]), factors(size(before_photo)[2]))\n",
    "\n",
    "new_dimensions = Tuple{Float64, Float64}[]\n",
    "for i in scale_factors\n",
    "    push!(new_dimensions, (size(before_photo)[1] / i, size(before_photo)[2] / i))\n",
    "end\n",
    ";\n",
    "\n",
    "@show scale_factors\n",
    "@show new_dimensions        "
   ]
  },
  {
   "cell_type": "code",
   "execution_count": 22,
   "id": "4e53e311",
   "metadata": {},
   "outputs": [],
   "source": [
    "scale_by = 2\n",
    "\n",
    "orig_r = size(before_photo)[1]\n",
    "orig_c = size(before_photo)[2]\n",
    "\n",
    "rows = Int(orig_r / scale_by)\n",
    "columns = Int(orig_c / scale_by)\n",
    "\n",
    "sub_dim_x = Int(floor(orig_r / rows))\n",
    "sub_dim_y = Int(floor(orig_c / columns))\n",
    "\n",
    "submatrices = Matrix{RGB{N0f8}}[]\n",
    "for i in 1:rows\n",
    "    for j in 1:columns\n",
    "        submatrix = copy(before_photo[max(Int((i - 1) * orig_r / rows), 1) : Int((i) * orig_r / rows), max(Int((j - 1) * orig_c / columns),1) : Int((j) * orig_c / columns)])\n",
    "        push!(submatrices, submatrix)\n",
    "    end\n",
    "end   "
   ]
  },
  {
   "cell_type": "code",
   "execution_count": 23,
   "id": "9cd9da37",
   "metadata": {
    "scrolled": true
   },
   "outputs": [
    {
     "data": {
      "text/plain": [
       "16384"
      ]
     },
     "execution_count": 23,
     "metadata": {},
     "output_type": "execute_result"
    }
   ],
   "source": [
    "function max_dict(dictionary)\n",
    "    max = 0\n",
    "    current_key = 1\n",
    "    for key in keys(dictionary)\n",
    "        if (dictionary[key] > max)\n",
    "            max = dictionary[key]\n",
    "            current_key = key\n",
    "        end\n",
    "    end\n",
    "    return current_key\n",
    "end\n",
    "\n",
    "\n",
    "function mode(matrix)\n",
    "    item_count_dict = Dict()\n",
    "    for i in matrix\n",
    "        try\n",
    "            item_count_dict[i] += 1\n",
    "        catch\n",
    "            item_count_dict[i] = 0\n",
    "        end\n",
    "    end\n",
    "    return max_dict(item_count_dict)\n",
    "end\n",
    "\n",
    "new_submatrices = RGB{N0f8}[]\n",
    "for i in 1:length(submatrices)\n",
    "    push!(new_submatrices, mode(submatrices[i]))\n",
    "end\n",
    "\n",
    "length(new_submatrices)"
   ]
  },
  {
   "cell_type": "code",
   "execution_count": 24,
   "id": "03f329f6",
   "metadata": {},
   "outputs": [
    {
     "name": "stdout",
     "output_type": "stream",
     "text": [
      "typeof(new_picture) = Matrix{RGB{N0f8}}\n",
      "size(new_picture) = (128, 128)\n"
     ]
    },
    {
     "data": {
      "image/png": "[encoded data removed]",
      "text/plain": [
       "128×128 Array{RGB{N0f8},2} with eltype RGB{N0f8}:\n",
       " RGB{N0f8}(1.0,1.0,1.0)  RGB{N0f8}(1.0,1.0,1.0)  …  RGB{N0f8}(1.0,1.0,1.0)\n",
       " RGB{N0f8}(1.0,1.0,1.0)  RGB{N0f8}(1.0,1.0,1.0)     RGB{N0f8}(1.0,1.0,1.0)\n",
       " RGB{N0f8}(1.0,1.0,1.0)  RGB{N0f8}(1.0,1.0,1.0)     RGB{N0f8}(1.0,1.0,1.0)\n",
       " RGB{N0f8}(1.0,1.0,1.0)  RGB{N0f8}(1.0,1.0,1.0)     RGB{N0f8}(1.0,1.0,1.0)\n",
       " RGB{N0f8}(1.0,1.0,1.0)  RGB{N0f8}(1.0,1.0,1.0)     RGB{N0f8}(1.0,1.0,1.0)\n",
       " RGB{N0f8}(1.0,1.0,1.0)  RGB{N0f8}(1.0,1.0,1.0)  …  RGB{N0f8}(1.0,1.0,1.0)\n",
       " RGB{N0f8}(1.0,1.0,1.0)  RGB{N0f8}(1.0,1.0,1.0)     RGB{N0f8}(1.0,1.0,1.0)\n",
       " RGB{N0f8}(1.0,1.0,1.0)  RGB{N0f8}(1.0,1.0,1.0)     RGB{N0f8}(1.0,1.0,1.0)\n",
       " RGB{N0f8}(1.0,1.0,1.0)  RGB{N0f8}(1.0,1.0,1.0)     RGB{N0f8}(1.0,1.0,1.0)\n",
       " RGB{N0f8}(1.0,1.0,1.0)  RGB{N0f8}(1.0,1.0,1.0)     RGB{N0f8}(1.0,1.0,1.0)\n",
       " RGB{N0f8}(1.0,1.0,1.0)  RGB{N0f8}(1.0,1.0,1.0)  …  RGB{N0f8}(1.0,1.0,1.0)\n",
       " RGB{N0f8}(1.0,1.0,1.0)  RGB{N0f8}(1.0,1.0,1.0)     RGB{N0f8}(1.0,1.0,1.0)\n",
       " RGB{N0f8}(1.0,1.0,1.0)  RGB{N0f8}(1.0,1.0,1.0)     RGB{N0f8}(1.0,1.0,1.0)\n",
       " ⋮                                               ⋱  \n",
       " RGB{N0f8}(1.0,1.0,1.0)  RGB{N0f8}(1.0,1.0,1.0)     RGB{N0f8}(1.0,1.0,1.0)\n",
       " RGB{N0f8}(1.0,1.0,1.0)  RGB{N0f8}(1.0,1.0,1.0)     RGB{N0f8}(1.0,1.0,1.0)\n",
       " RGB{N0f8}(1.0,1.0,1.0)  RGB{N0f8}(1.0,1.0,1.0)     RGB{N0f8}(1.0,1.0,1.0)\n",
       " RGB{N0f8}(1.0,1.0,1.0)  RGB{N0f8}(1.0,1.0,1.0)     RGB{N0f8}(1.0,1.0,1.0)\n",
       " RGB{N0f8}(1.0,1.0,1.0)  RGB{N0f8}(1.0,1.0,1.0)  …  RGB{N0f8}(1.0,1.0,1.0)\n",
       " RGB{N0f8}(1.0,1.0,1.0)  RGB{N0f8}(1.0,1.0,1.0)     RGB{N0f8}(1.0,1.0,1.0)\n",
       " RGB{N0f8}(1.0,1.0,1.0)  RGB{N0f8}(1.0,1.0,1.0)     RGB{N0f8}(1.0,1.0,1.0)\n",
       " RGB{N0f8}(1.0,1.0,1.0)  RGB{N0f8}(1.0,1.0,1.0)     RGB{N0f8}(1.0,1.0,1.0)\n",
       " RGB{N0f8}(1.0,1.0,1.0)  RGB{N0f8}(1.0,1.0,1.0)     RGB{N0f8}(1.0,1.0,1.0)\n",
       " RGB{N0f8}(1.0,1.0,1.0)  RGB{N0f8}(1.0,1.0,1.0)  …  RGB{N0f8}(1.0,1.0,1.0)\n",
       " RGB{N0f8}(1.0,1.0,1.0)  RGB{N0f8}(1.0,1.0,1.0)     RGB{N0f8}(1.0,1.0,1.0)\n",
       " RGB{N0f8}(1.0,1.0,1.0)  RGB{N0f8}(1.0,1.0,1.0)     RGB{N0f8}(1.0,1.0,1.0)"
      ]
     },
     "execution_count": 24,
     "metadata": {},
     "output_type": "execute_result"
    }
   ],
   "source": [
    "new_picture = copy(reshape(new_submatrices, (columns, rows))')\n",
    "\n",
    "@show typeof(new_picture)\n",
    "@show size(new_picture)\n",
    "new_picture"
   ]
  },
  {
   "cell_type": "code",
   "execution_count": 25,
   "id": "00302c88",
   "metadata": {},
   "outputs": [
    {
     "name": "stdout",
     "output_type": "stream",
     "text": [
      "orig_dim = 1.0\n",
      "new_dim = 1.0\n",
      "scale_factor = 2\n"
     ]
    },
    {
     "data": {
      "text/plain": [
       "2"
      ]
     },
     "execution_count": 25,
     "metadata": {},
     "output_type": "execute_result"
    }
   ],
   "source": [
    "orig_dim = size(before_photo)[1] / size(before_photo)[2]\n",
    "new_dim = size(new_picture)[1] / size(new_picture)[2]\n",
    "scale_factor = Int(size(before_photo)[1] / size(new_picture)[1])\n",
    ";\n",
    "\n",
    "@show orig_dim\n",
    "@show new_dim\n",
    "@show scale_factor"
   ]
  },
  {
   "cell_type": "code",
   "execution_count": 26,
   "id": "7eae9089",
   "metadata": {},
   "outputs": [
    {
     "data": {
      "image/png": "[encoded data removed]",
      "text/plain": [
       "256×256 Array{RGBA{N0f8},2} with eltype RGBA{N0f8}:\n",
       " RGBA{N0f8}(1.0,1.0,1.0,1.0)  …  RGBA{N0f8}(1.0,1.0,1.0,1.0)\n",
       " RGBA{N0f8}(1.0,1.0,1.0,1.0)     RGBA{N0f8}(1.0,1.0,1.0,1.0)\n",
       " RGBA{N0f8}(1.0,1.0,1.0,1.0)     RGBA{N0f8}(1.0,1.0,1.0,1.0)\n",
       " RGBA{N0f8}(1.0,1.0,1.0,1.0)     RGBA{N0f8}(1.0,1.0,1.0,1.0)\n",
       " RGBA{N0f8}(1.0,1.0,1.0,1.0)     RGBA{N0f8}(1.0,1.0,1.0,1.0)\n",
       " RGBA{N0f8}(1.0,1.0,1.0,1.0)  …  RGBA{N0f8}(1.0,1.0,1.0,1.0)\n",
       " RGBA{N0f8}(1.0,1.0,1.0,1.0)     RGBA{N0f8}(1.0,1.0,1.0,1.0)\n",
       " RGBA{N0f8}(1.0,1.0,1.0,1.0)     RGBA{N0f8}(1.0,1.0,1.0,1.0)\n",
       " RGBA{N0f8}(1.0,1.0,1.0,1.0)     RGBA{N0f8}(1.0,1.0,1.0,1.0)\n",
       " RGBA{N0f8}(1.0,1.0,1.0,1.0)     RGBA{N0f8}(1.0,1.0,1.0,1.0)\n",
       " RGBA{N0f8}(1.0,1.0,1.0,1.0)  …  RGBA{N0f8}(1.0,1.0,1.0,1.0)\n",
       " RGBA{N0f8}(1.0,1.0,1.0,1.0)     RGBA{N0f8}(1.0,1.0,1.0,1.0)\n",
       " RGBA{N0f8}(1.0,1.0,1.0,1.0)     RGBA{N0f8}(1.0,1.0,1.0,1.0)\n",
       " ⋮                            ⋱  ⋮\n",
       " RGBA{N0f8}(1.0,1.0,1.0,1.0)     RGBA{N0f8}(1.0,1.0,1.0,1.0)\n",
       " RGBA{N0f8}(1.0,1.0,1.0,1.0)  …  RGBA{N0f8}(1.0,1.0,1.0,1.0)\n",
       " RGBA{N0f8}(1.0,1.0,1.0,1.0)     RGBA{N0f8}(1.0,1.0,1.0,1.0)\n",
       " RGBA{N0f8}(1.0,1.0,1.0,1.0)     RGBA{N0f8}(1.0,1.0,1.0,1.0)\n",
       " RGBA{N0f8}(1.0,1.0,1.0,1.0)     RGBA{N0f8}(1.0,1.0,1.0,1.0)\n",
       " RGBA{N0f8}(1.0,1.0,1.0,1.0)     RGBA{N0f8}(1.0,1.0,1.0,1.0)\n",
       " RGBA{N0f8}(1.0,1.0,1.0,1.0)  …  RGBA{N0f8}(1.0,1.0,1.0,1.0)\n",
       " RGBA{N0f8}(1.0,1.0,1.0,1.0)     RGBA{N0f8}(1.0,1.0,1.0,1.0)\n",
       " RGBA{N0f8}(1.0,1.0,1.0,1.0)     RGBA{N0f8}(1.0,1.0,1.0,1.0)\n",
       " RGBA{N0f8}(1.0,1.0,1.0,1.0)     RGBA{N0f8}(1.0,1.0,1.0,1.0)\n",
       " RGBA{N0f8}(1.0,1.0,1.0,1.0)     RGBA{N0f8}(1.0,1.0,1.0,1.0)\n",
       " RGBA{N0f8}(1.0,1.0,1.0,1.0)  …  RGBA{N0f8}(1.0,1.0,1.0,1.0)"
      ]
     },
     "execution_count": 26,
     "metadata": {},
     "output_type": "execute_result"
    }
   ],
   "source": [
    "scaled_pixel = similar(before_photo)\n",
    "\n",
    "for i in 1:size(new_picture)[1]\n",
    "    k = max(Int((i - 1) * orig_r / rows), 1)\n",
    "    for j in 1:size(new_picture)[2]\n",
    "        h = max(Int((j - 1) * orig_c / columns), 1)\n",
    "        pixel = new_picture[i,j]\n",
    "        for k_index in k:(k + scale_factor)\n",
    "            for h_index in h:(h + scale_factor)\n",
    "                scaled_pixel[k_index, h_index] = new_picture[i,j]\n",
    "                #[max(Int((i - 1) * orig_r / rows), 1) : Int((i) * orig_r / rows), max(Int((j - 1) * orig_c / columns),1) : Int((j) * orig_c / columns)])\n",
    "            end\n",
    "        end\n",
    "    end\n",
    "end  \n",
    "\n",
    "scaled_pixel"
   ]
  },
  {
   "cell_type": "code",
   "execution_count": null,
   "id": "ad1a0da5",
   "metadata": {},
   "outputs": [],
   "source": []
  }
 ],
 "metadata": {
  "kernelspec": {
   "display_name": "Julia 1.6.1",
   "language": "julia",
   "name": "julia-1.6"
  },
  "language_info": {
   "file_extension": ".jl",
   "mimetype": "application/julia",
   "name": "julia",
   "version": "1.6.1"
  }
 },
 "nbformat": 4,
 "nbformat_minor": 5
}
