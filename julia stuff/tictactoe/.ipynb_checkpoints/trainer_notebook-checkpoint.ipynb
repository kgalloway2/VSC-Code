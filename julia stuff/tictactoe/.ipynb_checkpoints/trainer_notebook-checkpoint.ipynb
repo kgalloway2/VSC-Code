{
 "cells": [
  {
   "cell_type": "code",
   "execution_count": 236,
   "id": "0db2a206",
   "metadata": {},
   "outputs": [],
   "source": [
    "using Flux\n",
    "using Flux: argmax, crossentropy, throttle\n",
    "using Base.Iterators: repeated\n",
    "using JLD\n",
    "using LinearAlgebra"
   ]
  },
  {
   "cell_type": "code",
   "execution_count": 237,
   "id": "469fb9a6",
   "metadata": {},
   "outputs": [],
   "source": [
    "X = load(\"C:/Users/kgtrm/Documents/VSC Code/julia stuff/tictactoe/dataX.jld\")[\"data\"]\n",
    "X = copy(X')\n",
    "Y = load(\"C:/Users/kgtrm/Documents/VSC Code/julia stuff/tictactoe/dataY.jld\")[\"data\"]\n",
    "Y = copy(Y')\n",
    ";"
   ]
  },
  {
   "cell_type": "code",
   "execution_count": 238,
   "id": "dcae03d9",
   "metadata": {},
   "outputs": [
    {
     "data": {
      "text/plain": [
       "Chain(Dense(9, 36, relu), Dense(36, 36, relu), Dense(36, 9), softmax)"
      ]
     },
     "execution_count": 238,
     "metadata": {},
     "output_type": "execute_result"
    }
   ],
   "source": [
    "neural_net = Chain(Dense(9, 36, relu), Dense(36, 36, relu), Dense(36, 9), softmax)"
   ]
  },
  {
   "cell_type": "code",
   "execution_count": 239,
   "id": "e8d93a6d",
   "metadata": {},
   "outputs": [
    {
     "data": {
      "text/plain": [
       "ADAM(0.001, (0.9, 0.999), IdDict{Any, Any}())"
      ]
     },
     "execution_count": 239,
     "metadata": {},
     "output_type": "execute_result"
    }
   ],
   "source": [
    "loss(x,y) = Flux.crossentropy(neural_net(x),y)\n",
    "accuracy(x,y) = mean(argmax(neural_net(x)) .== argmax(y))\n",
    "\n",
    "trainids = unique(rand(1:size(X)[2], 1650))\n",
    "trainingX = X[:, trainids]\n",
    "trainingY = Y[:, trainids]\n",
    "testids = setdiff(1:size(X)[2], trainids)\n",
    "testingX = X[:, testids]\n",
    "testingY = Y[:, testids]\n",
    ";\n",
    "\n",
    "datasetx = repeated((trainingX,trainingY),200)\n",
    "C = collect(datasetx);\n",
    "\n",
    "evalcb = () -> @show(loss(X,Y))\n",
    "\n",
    "ps = Flux.params(neural_net)\n",
    "\n",
    "opt = ADAM()"
   ]
  },
  {
   "cell_type": "code",
   "execution_count": 249,
   "id": "5f5192ec",
   "metadata": {},
   "outputs": [
    {
     "name": "stdout",
     "output_type": "stream",
     "text": [
      "loss(X, Y) = 0.032663984774585895\n"
     ]
    }
   ],
   "source": [
    "Flux.train!(loss, ps, datasetx, opt, cb = throttle(evalcb, 10))"
   ]
  },
  {
   "cell_type": "code",
   "execution_count": 250,
   "id": "781846f5",
   "metadata": {},
   "outputs": [
    {
     "data": {
      "text/plain": [
       "98.17549956559513"
      ]
     },
     "execution_count": 250,
     "metadata": {},
     "output_type": "execute_result"
    }
   ],
   "source": [
    "correct = 0\n",
    "total = length(testids)\n",
    "for i in 1:length(testids)\n",
    "    if argmax(neural_net(testingX[:,i])) == argmax(testingY[:,i])\n",
    "        correct += 1\n",
    "    end\n",
    "end\n",
    "\n",
    "percent_correct = correct / total * 100"
   ]
  },
  {
   "cell_type": "code",
   "execution_count": 251,
   "id": "a8a8fe19",
   "metadata": {},
   "outputs": [
    {
     "data": {
      "text/plain": [
       "play_game (generic function with 1 method)"
      ]
     },
     "execution_count": 251,
     "metadata": {},
     "output_type": "execute_result"
    }
   ],
   "source": [
    "function generate_blank_board()\n",
    "    board = []\n",
    "    for i in 1:9\n",
    "        push!(board, 0)\n",
    "    end\n",
    "    return board\n",
    "end\n",
    "\n",
    "function display_board(board)\n",
    "    for i in 1:9\n",
    "        if (board[i] == -1)\n",
    "            print(\"|O\")\n",
    "        elseif (board[i] == 1)\n",
    "            print(\"|X\")\n",
    "        elseif (board[i] == 0)\n",
    "            print(\"|_\")\n",
    "        end\n",
    "        if (i % 3 == 0)\n",
    "            print(\"\\n\")\n",
    "        end\n",
    "    end\n",
    "end\n",
    "\n",
    "function is_X_win(board)\n",
    "    if (board[3] == board[5] == board[7] == 1)\n",
    "        return true\n",
    "    elseif (board[1] == board[2] == board[3] == 1)\n",
    "        return true\n",
    "    elseif (board[4] == board[5] == board[6] == 1)\n",
    "        return true\n",
    "    elseif (board[7] == board[8] == board[9] == 1)\n",
    "        return true\n",
    "    elseif (board[1] == board[4] == board[7] == 1)\n",
    "        return true\n",
    "    elseif (board[2] == board[5] == board[8] == 1)\n",
    "        return true\n",
    "    elseif (board[3] == board[6] == board[9] == 1)\n",
    "        return true\n",
    "    elseif (board[1] == board[5] == board[9] == 1)\n",
    "        return true\n",
    "    end\n",
    "    return false\n",
    "end\n",
    "\n",
    "function is_O_win(board)\n",
    "    if (board[3] == board[5] == board[7] == -1)\n",
    "        return true\n",
    "    elseif (board[1] == board[2] == board[3] == -1)\n",
    "        return true\n",
    "    elseif (board[4] == board[5] == board[6] == -1)\n",
    "        return true\n",
    "    elseif (board[7] == board[8] == board[9] == -1)\n",
    "        return true\n",
    "    elseif (board[1] == board[4] == board[7] == -1)\n",
    "        return true\n",
    "    elseif (board[2] == board[5] == board[8] == -1)\n",
    "        return true\n",
    "    elseif (board[3] == board[6] == board[9] == -1)\n",
    "        return true\n",
    "    elseif (board[1] == board[5] == board[9] == -1)\n",
    "        return true\n",
    "    end\n",
    "    return false\n",
    "end\n",
    "\n",
    "function full_board(board)\n",
    "    full = true\n",
    "    for i in board\n",
    "        if i == 0\n",
    "            full = false\n",
    "        end\n",
    "    end\n",
    "    return full\n",
    "end\n",
    "\n",
    "function X_move!(board)\n",
    "    position = argmax(neural_net(board))\n",
    "    if board[position] == 0\n",
    "        board[position] = 1\n",
    "    else\n",
    "        available_moves = []\n",
    "        for place in 1:length(board)\n",
    "            if board[place] == 0\n",
    "                push!(available_moves, place)\n",
    "            end\n",
    "        end\n",
    "        position = rand(available_moves)\n",
    "        board[position] = 1\n",
    "    end\n",
    "end\n",
    "\n",
    "function O_move!(board)\n",
    "    available_moves = []\n",
    "    for place in 1:length(board)\n",
    "        if board[place] == 0\n",
    "            push!(available_moves, place)\n",
    "        end\n",
    "    end\n",
    "    position = rand(available_moves)\n",
    "    board[position] = -1\n",
    "end\n",
    "\n",
    "function play_game()\n",
    "    board = generate_blank_board()\n",
    "    xturn = true\n",
    "    while !is_O_win(board) && !is_X_win(board) && !full_board(board)\n",
    "        # display_board(board)\n",
    "        # println()\n",
    "        if xturn\n",
    "            X_move!(board)\n",
    "            xturn = false\n",
    "        else\n",
    "            O_move!(board)\n",
    "            xturn = true\n",
    "        end\n",
    "    end\n",
    "    # display_board(board)\n",
    "    # println(\"############\")\n",
    "    if is_O_win(board)\n",
    "        return -1, board\n",
    "    elseif is_X_win(board)\n",
    "        return 1, board\n",
    "    elseif full_board(board)\n",
    "        return 0, board\n",
    "    else\n",
    "        return 2, board\n",
    "    end\n",
    "end"
   ]
  },
  {
   "cell_type": "code",
   "execution_count": 252,
   "id": "a169658f",
   "metadata": {},
   "outputs": [
    {
     "name": "stdout",
     "output_type": "stream",
     "text": [
      "number of wins: 952575 win percentage: 95.2575\n",
      "number of losses: 34244 loss percentage: 3.4243999999999994\n",
      "number of cats: 13181 cat percentage: 1.3181\n"
     ]
    }
   ],
   "source": [
    "num_games = 1000000\n",
    "num_wins = 0\n",
    "num_cat = 0\n",
    "num_loss = 0\n",
    "count = 1\n",
    "\n",
    "while count <= num_games\n",
    "    outcome, final_board = play_game()\n",
    "    if outcome == 1\n",
    "        num_wins += 1\n",
    "    elseif outcome == 0\n",
    "        num_cat += 1\n",
    "        # display_board(final_board)\n",
    "        # println()\n",
    "    elseif outcome == -1\n",
    "        num_loss += 1\n",
    "        # display_board(final_board)\n",
    "        # println()\n",
    "    else\n",
    "        println(\"rogue board\")\n",
    "        # display_board(final_board)\n",
    "        # println()\n",
    "    end\n",
    "    count += 1\n",
    "end\n",
    "\n",
    "println(\"number of wins: \", num_wins, \" win percentage: \", num_wins / num_games * 100)\n",
    "println(\"number of losses: \", num_loss, \" loss percentage: \", num_loss / num_games * 100)\n",
    "println(\"number of cats: \", num_cat, \" cat percentage: \", num_cat / num_games * 100)"
   ]
  },
  {
   "cell_type": "code",
   "execution_count": null,
   "id": "b218d452",
   "metadata": {},
   "outputs": [],
   "source": []
  }
 ],
 "metadata": {
  "kernelspec": {
   "display_name": "Julia 1.6.1",
   "language": "julia",
   "name": "julia-1.6"
  },
  "language_info": {
   "file_extension": ".jl",
   "mimetype": "application/julia",
   "name": "julia",
   "version": "1.6.1"
  }
 },
 "nbformat": 4,
 "nbformat_minor": 5
}
