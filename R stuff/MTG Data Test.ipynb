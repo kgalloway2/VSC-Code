{
 "cells": [
  {
   "cell_type": "code",
   "execution_count": 148,
   "id": "96ba39b0",
   "metadata": {},
   "outputs": [],
   "source": [
    "df_1 <- read.csv(\"C:/Users/kgtrm/Downloads/Hooglandia Open 2  Melee.gg.csv\")"
   ]
  },
  {
   "cell_type": "code",
   "execution_count": 149,
   "id": "456146c5",
   "metadata": {},
   "outputs": [
    {
     "name": "stdout",
     "output_type": "stream",
     "text": [
      "'data.frame':\t233 obs. of  8 variables:\n",
      " $ Rank    : int  1 2 3 4 5 6 7 8 9 10 ...\n",
      " $ Player  : chr  \"Irate Nya\" \"Kevindevino92\" \"Craig Kennedy\" \"Ken Segura\" ...\n",
      " $ Decklist: chr  \"Temur Reclamation\" \"Jeskai Fires (Keruga)\" \"Jeskai Fires (Keruga)\" \"Four-color Yorion\" ...\n",
      " $ Record  : chr  \"8-1-0\" \"8-1-0\" \"8-1-0\" \"8-1-0\" ...\n",
      " $ Points  : int  24 24 24 24 24 21 21 21 18 18 ...\n",
      " $ OMW.    : chr  \"67.6896%\" \"63.6772%\" \"63.4656%\" \"63.4039%\" ...\n",
      " $ TGW.    : chr  \"72.7273%\" \"76.1905%\" \"70.8333%\" \"65.3846%\" ...\n",
      " $ OGW.    : chr  \"60.1521%\" \"57.8603%\" \"56.2174%\" \"59.1611%\" ...\n"
     ]
    },
    {
     "data": {
      "text/html": [
       "<table class=\"dataframe\">\n",
       "<caption>A data.frame: 6 × 8</caption>\n",
       "<thead>\n",
       "\t<tr><th></th><th scope=col>Rank</th><th scope=col>Player</th><th scope=col>Decklist</th><th scope=col>Record</th><th scope=col>Points</th><th scope=col>OMW.</th><th scope=col>TGW.</th><th scope=col>OGW.</th></tr>\n",
       "\t<tr><th></th><th scope=col>&lt;int&gt;</th><th scope=col>&lt;chr&gt;</th><th scope=col>&lt;chr&gt;</th><th scope=col>&lt;chr&gt;</th><th scope=col>&lt;int&gt;</th><th scope=col>&lt;chr&gt;</th><th scope=col>&lt;chr&gt;</th><th scope=col>&lt;chr&gt;</th></tr>\n",
       "</thead>\n",
       "<tbody>\n",
       "\t<tr><th scope=row>1</th><td>1</td><td>Irate Nya    </td><td>Temur Reclamation    </td><td>8-1-0</td><td>24</td><td>67.6896%</td><td>72.7273%</td><td>60.1521%</td></tr>\n",
       "\t<tr><th scope=row>2</th><td>2</td><td>Kevindevino92</td><td>Jeskai Fires (Keruga)</td><td>8-1-0</td><td>24</td><td>63.6772%</td><td>76.1905%</td><td>57.8603%</td></tr>\n",
       "\t<tr><th scope=row>3</th><td>3</td><td>Craig Kennedy</td><td>Jeskai Fires (Keruga)</td><td>8-1-0</td><td>24</td><td>63.4656%</td><td>70.8333%</td><td>56.2174%</td></tr>\n",
       "\t<tr><th scope=row>4</th><td>4</td><td>Ken Segura   </td><td>Four-color Yorion    </td><td>8-1-0</td><td>24</td><td>63.4039%</td><td>65.3846%</td><td>59.1611%</td></tr>\n",
       "\t<tr><th scope=row>5</th><td>5</td><td>Hedon        </td><td>Jeskai Fires (Keruga)</td><td>8-1-0</td><td>24</td><td>57.1076%</td><td>69.5652%</td><td>54.0679%</td></tr>\n",
       "\t<tr><th scope=row>6</th><td>6</td><td>Brad Nelson  </td><td>Temur Reclamation    </td><td>7-2-0</td><td>21</td><td>64.8236%</td><td>65.2174%</td><td>60.3917%</td></tr>\n",
       "</tbody>\n",
       "</table>\n"
      ],
      "text/latex": [
       "A data.frame: 6 × 8\n",
       "\\begin{tabular}{r|llllllll}\n",
       "  & Rank & Player & Decklist & Record & Points & OMW. & TGW. & OGW.\\\\\n",
       "  & <int> & <chr> & <chr> & <chr> & <int> & <chr> & <chr> & <chr>\\\\\n",
       "\\hline\n",
       "\t1 & 1 & Irate Nya     & Temur Reclamation     & 8-1-0 & 24 & 67.6896\\% & 72.7273\\% & 60.1521\\%\\\\\n",
       "\t2 & 2 & Kevindevino92 & Jeskai Fires (Keruga) & 8-1-0 & 24 & 63.6772\\% & 76.1905\\% & 57.8603\\%\\\\\n",
       "\t3 & 3 & Craig Kennedy & Jeskai Fires (Keruga) & 8-1-0 & 24 & 63.4656\\% & 70.8333\\% & 56.2174\\%\\\\\n",
       "\t4 & 4 & Ken Segura    & Four-color Yorion     & 8-1-0 & 24 & 63.4039\\% & 65.3846\\% & 59.1611\\%\\\\\n",
       "\t5 & 5 & Hedon         & Jeskai Fires (Keruga) & 8-1-0 & 24 & 57.1076\\% & 69.5652\\% & 54.0679\\%\\\\\n",
       "\t6 & 6 & Brad Nelson   & Temur Reclamation     & 7-2-0 & 21 & 64.8236\\% & 65.2174\\% & 60.3917\\%\\\\\n",
       "\\end{tabular}\n"
      ],
      "text/markdown": [
       "\n",
       "A data.frame: 6 × 8\n",
       "\n",
       "| <!--/--> | Rank &lt;int&gt; | Player &lt;chr&gt; | Decklist &lt;chr&gt; | Record &lt;chr&gt; | Points &lt;int&gt; | OMW. &lt;chr&gt; | TGW. &lt;chr&gt; | OGW. &lt;chr&gt; |\n",
       "|---|---|---|---|---|---|---|---|---|\n",
       "| 1 | 1 | Irate Nya     | Temur Reclamation     | 8-1-0 | 24 | 67.6896% | 72.7273% | 60.1521% |\n",
       "| 2 | 2 | Kevindevino92 | Jeskai Fires (Keruga) | 8-1-0 | 24 | 63.6772% | 76.1905% | 57.8603% |\n",
       "| 3 | 3 | Craig Kennedy | Jeskai Fires (Keruga) | 8-1-0 | 24 | 63.4656% | 70.8333% | 56.2174% |\n",
       "| 4 | 4 | Ken Segura    | Four-color Yorion     | 8-1-0 | 24 | 63.4039% | 65.3846% | 59.1611% |\n",
       "| 5 | 5 | Hedon         | Jeskai Fires (Keruga) | 8-1-0 | 24 | 57.1076% | 69.5652% | 54.0679% |\n",
       "| 6 | 6 | Brad Nelson   | Temur Reclamation     | 7-2-0 | 21 | 64.8236% | 65.2174% | 60.3917% |\n",
       "\n"
      ],
      "text/plain": [
       "  Rank Player        Decklist              Record Points OMW.     TGW.    \n",
       "1 1    Irate Nya     Temur Reclamation     8-1-0  24     67.6896% 72.7273%\n",
       "2 2    Kevindevino92 Jeskai Fires (Keruga) 8-1-0  24     63.6772% 76.1905%\n",
       "3 3    Craig Kennedy Jeskai Fires (Keruga) 8-1-0  24     63.4656% 70.8333%\n",
       "4 4    Ken Segura    Four-color Yorion     8-1-0  24     63.4039% 65.3846%\n",
       "5 5    Hedon         Jeskai Fires (Keruga) 8-1-0  24     57.1076% 69.5652%\n",
       "6 6    Brad Nelson   Temur Reclamation     7-2-0  21     64.8236% 65.2174%\n",
       "  OGW.    \n",
       "1 60.1521%\n",
       "2 57.8603%\n",
       "3 56.2174%\n",
       "4 59.1611%\n",
       "5 54.0679%\n",
       "6 60.3917%"
      ]
     },
     "metadata": {},
     "output_type": "display_data"
    }
   ],
   "source": [
    "str(df_1)\n",
    "head(df_1)"
   ]
  },
  {
   "cell_type": "code",
   "execution_count": 89,
   "id": "c8436608",
   "metadata": {},
   "outputs": [],
   "source": [
    "library(tidyr)\n",
    "library(dplyr)"
   ]
  },
  {
   "cell_type": "code",
   "execution_count": 90,
   "id": "477cf02b",
   "metadata": {},
   "outputs": [
    {
     "data": {
      "text/html": [
       "<style>\n",
       ".list-inline {list-style: none; margin:0; padding: 0}\n",
       ".list-inline>li {display: inline-block}\n",
       ".list-inline>li:not(:last-child)::after {content: \"\\00b7\"; padding: 0 .5ex}\n",
       "</style>\n",
       "<ol class=list-inline><li>10</li><li>1</li><li>0</li></ol>\n"
      ],
      "text/latex": [
       "\\begin{enumerate*}\n",
       "\\item 10\n",
       "\\item 1\n",
       "\\item 0\n",
       "\\end{enumerate*}\n"
      ],
      "text/markdown": [
       "1. 10\n",
       "2. 1\n",
       "3. 0\n",
       "\n",
       "\n"
      ],
      "text/plain": [
       "[1] 10  1  0"
      ]
     },
     "metadata": {},
     "output_type": "display_data"
    }
   ],
   "source": [
    "convert_record_to_wld <- function(record) {\n",
    "    wld <- strsplit(record, '-')\n",
    "    # note that strsplit creates a list whose first element is a list of characters\n",
    "    wld <- wld[[1]]\n",
    "    # make it just a list of characters\n",
    "    # initialize empty vector for numbers\n",
    "    wld_nums <- c()\n",
    "    for (i in 1:length(wld)) {\n",
    "        wld_nums <- append(wld_nums, as.numeric(wld[i]))\n",
    "    }\n",
    "    return(wld_nums)\n",
    "}\n",
    "\n",
    "convert_record_to_wld(\"10-1-0\")"
   ]
  },
  {
   "cell_type": "code",
   "execution_count": 181,
   "id": "23784661",
   "metadata": {},
   "outputs": [
    {
     "data": {
      "text/html": [
       "<table class=\"dataframe\">\n",
       "<caption>A tibble: 27 × 6</caption>\n",
       "<thead>\n",
       "\t<tr><th scope=col>Decklist</th><th scope=col>total_wins</th><th scope=col>total_losses</th><th scope=col>total_draws</th><th scope=col>win_pct</th><th scope=col>win_pct.buckets</th></tr>\n",
       "\t<tr><th scope=col>&lt;chr&gt;</th><th scope=col>&lt;dbl&gt;</th><th scope=col>&lt;dbl&gt;</th><th scope=col>&lt;dbl&gt;</th><th scope=col>&lt;dbl&gt;</th><th scope=col>&lt;fct&gt;</th></tr>\n",
       "</thead>\n",
       "<tbody>\n",
       "\t<tr><td>Boros Discard              </td><td>14</td><td> 6</td><td>0</td><td>70.00000</td><td>(60,70]</td></tr>\n",
       "\t<tr><td>Bant Control               </td><td> 9</td><td> 4</td><td>0</td><td>69.23077</td><td>(60,70]</td></tr>\n",
       "\t<tr><td>Mono-Black Aggrro          </td><td> 9</td><td> 4</td><td>0</td><td>69.23077</td><td>(60,70]</td></tr>\n",
       "\t<tr><td>Temur Adventures (Obosh)   </td><td> 9</td><td> 4</td><td>0</td><td>69.23077</td><td>(60,70]</td></tr>\n",
       "\t<tr><td>Temur Reclamation          </td><td>39</td><td>21</td><td>0</td><td>65.00000</td><td>(60,70]</td></tr>\n",
       "\t<tr><td>Four-color Fires           </td><td>13</td><td> 8</td><td>0</td><td>61.90476</td><td>(60,70]</td></tr>\n",
       "\t<tr><td>Azorius Control            </td><td>12</td><td> 8</td><td>0</td><td>60.00000</td><td>(50,60]</td></tr>\n",
       "\t<tr><td>Esper Hero                 </td><td> 6</td><td> 4</td><td>0</td><td>60.00000</td><td>(50,60]</td></tr>\n",
       "\t<tr><td>Mono-Red Aggro â„         </td><td> 9</td><td> 6</td><td>0</td><td>60.00000</td><td>(50,60]</td></tr>\n",
       "\t<tr><td>Orzhov Control             </td><td> 6</td><td> 4</td><td>0</td><td>60.00000</td><td>(50,60]</td></tr>\n",
       "\t<tr><td>Jeskai Fires (Keruga)      </td><td>48</td><td>38</td><td>0</td><td>55.81395</td><td>(50,60]</td></tr>\n",
       "\t<tr><td>Temur Elementals           </td><td>10</td><td> 8</td><td>0</td><td>55.55556</td><td>(50,60]</td></tr>\n",
       "\t<tr><td>Five-color Niv-Mizzet      </td><td> 7</td><td> 6</td><td>0</td><td>53.84615</td><td>(50,60]</td></tr>\n",
       "\t<tr><td>Rakdos Sacrifice (Jegantha)</td><td>44</td><td>38</td><td>0</td><td>53.65854</td><td>(50,60]</td></tr>\n",
       "\t<tr><td>Simic Ramp                 </td><td> 6</td><td> 6</td><td>0</td><td>50.00000</td><td>(40,50]</td></tr>\n",
       "\t<tr><td>Four-color Yorion          </td><td>21</td><td>23</td><td>0</td><td>47.72727</td><td>(40,50]</td></tr>\n",
       "\t<tr><td>Dimir Flash                </td><td> 9</td><td>10</td><td>0</td><td>47.36842</td><td>(40,50]</td></tr>\n",
       "\t<tr><td>Izzet Phoenix              </td><td> 6</td><td> 7</td><td>0</td><td>46.15385</td><td>(40,50]</td></tr>\n",
       "\t<tr><td>Mono-Blue Tempo            </td><td> 5</td><td> 6</td><td>0</td><td>45.45455</td><td>(40,50]</td></tr>\n",
       "\t<tr><td>Temur Mutate               </td><td>12</td><td>15</td><td>0</td><td>44.44444</td><td>(40,50]</td></tr>\n",
       "\t<tr><td>Jeskai Control             </td><td>15</td><td>19</td><td>0</td><td>44.11765</td><td>(40,50]</td></tr>\n",
       "\t<tr><td>Rakdos Aggro (Obosh)       </td><td>10</td><td>14</td><td>0</td><td>41.66667</td><td>(40,50]</td></tr>\n",
       "\t<tr><td>Jeskai Winota              </td><td>12</td><td>17</td><td>0</td><td>41.37931</td><td>(40,50]</td></tr>\n",
       "\t<tr><td>Bant Control (Yorion)      </td><td> 6</td><td> 9</td><td>0</td><td>40.00000</td><td>(30,40]</td></tr>\n",
       "\t<tr><td>Abzan Midrange             </td><td> 5</td><td>10</td><td>0</td><td>33.33333</td><td>(30,40]</td></tr>\n",
       "\t<tr><td>Sultai Control (Yorion)    </td><td> 5</td><td>14</td><td>0</td><td>26.31579</td><td>(20,30]</td></tr>\n",
       "\t<tr><td>Bant Gyruda                </td><td> 3</td><td>12</td><td>0</td><td>20.00000</td><td>(10,20]</td></tr>\n",
       "</tbody>\n",
       "</table>\n"
      ],
      "text/latex": [
       "A tibble: 27 × 6\n",
       "\\begin{tabular}{llllll}\n",
       " Decklist & total\\_wins & total\\_losses & total\\_draws & win\\_pct & win\\_pct.buckets\\\\\n",
       " <chr> & <dbl> & <dbl> & <dbl> & <dbl> & <fct>\\\\\n",
       "\\hline\n",
       "\t Boros Discard               & 14 &  6 & 0 & 70.00000 & (60,70{]}\\\\\n",
       "\t Bant Control                &  9 &  4 & 0 & 69.23077 & (60,70{]}\\\\\n",
       "\t Mono-Black Aggrro           &  9 &  4 & 0 & 69.23077 & (60,70{]}\\\\\n",
       "\t Temur Adventures (Obosh)    &  9 &  4 & 0 & 69.23077 & (60,70{]}\\\\\n",
       "\t Temur Reclamation           & 39 & 21 & 0 & 65.00000 & (60,70{]}\\\\\n",
       "\t Four-color Fires            & 13 &  8 & 0 & 61.90476 & (60,70{]}\\\\\n",
       "\t Azorius Control             & 12 &  8 & 0 & 60.00000 & (50,60{]}\\\\\n",
       "\t Esper Hero                  &  6 &  4 & 0 & 60.00000 & (50,60{]}\\\\\n",
       "\t Mono-Red Aggro â„          &  9 &  6 & 0 & 60.00000 & (50,60{]}\\\\\n",
       "\t Orzhov Control              &  6 &  4 & 0 & 60.00000 & (50,60{]}\\\\\n",
       "\t Jeskai Fires (Keruga)       & 48 & 38 & 0 & 55.81395 & (50,60{]}\\\\\n",
       "\t Temur Elementals            & 10 &  8 & 0 & 55.55556 & (50,60{]}\\\\\n",
       "\t Five-color Niv-Mizzet       &  7 &  6 & 0 & 53.84615 & (50,60{]}\\\\\n",
       "\t Rakdos Sacrifice (Jegantha) & 44 & 38 & 0 & 53.65854 & (50,60{]}\\\\\n",
       "\t Simic Ramp                  &  6 &  6 & 0 & 50.00000 & (40,50{]}\\\\\n",
       "\t Four-color Yorion           & 21 & 23 & 0 & 47.72727 & (40,50{]}\\\\\n",
       "\t Dimir Flash                 &  9 & 10 & 0 & 47.36842 & (40,50{]}\\\\\n",
       "\t Izzet Phoenix               &  6 &  7 & 0 & 46.15385 & (40,50{]}\\\\\n",
       "\t Mono-Blue Tempo             &  5 &  6 & 0 & 45.45455 & (40,50{]}\\\\\n",
       "\t Temur Mutate                & 12 & 15 & 0 & 44.44444 & (40,50{]}\\\\\n",
       "\t Jeskai Control              & 15 & 19 & 0 & 44.11765 & (40,50{]}\\\\\n",
       "\t Rakdos Aggro (Obosh)        & 10 & 14 & 0 & 41.66667 & (40,50{]}\\\\\n",
       "\t Jeskai Winota               & 12 & 17 & 0 & 41.37931 & (40,50{]}\\\\\n",
       "\t Bant Control (Yorion)       &  6 &  9 & 0 & 40.00000 & (30,40{]}\\\\\n",
       "\t Abzan Midrange              &  5 & 10 & 0 & 33.33333 & (30,40{]}\\\\\n",
       "\t Sultai Control (Yorion)     &  5 & 14 & 0 & 26.31579 & (20,30{]}\\\\\n",
       "\t Bant Gyruda                 &  3 & 12 & 0 & 20.00000 & (10,20{]}\\\\\n",
       "\\end{tabular}\n"
      ],
      "text/markdown": [
       "\n",
       "A tibble: 27 × 6\n",
       "\n",
       "| Decklist &lt;chr&gt; | total_wins &lt;dbl&gt; | total_losses &lt;dbl&gt; | total_draws &lt;dbl&gt; | win_pct &lt;dbl&gt; | win_pct.buckets &lt;fct&gt; |\n",
       "|---|---|---|---|---|---|\n",
       "| Boros Discard               | 14 |  6 | 0 | 70.00000 | (60,70] |\n",
       "| Bant Control                |  9 |  4 | 0 | 69.23077 | (60,70] |\n",
       "| Mono-Black Aggrro           |  9 |  4 | 0 | 69.23077 | (60,70] |\n",
       "| Temur Adventures (Obosh)    |  9 |  4 | 0 | 69.23077 | (60,70] |\n",
       "| Temur Reclamation           | 39 | 21 | 0 | 65.00000 | (60,70] |\n",
       "| Four-color Fires            | 13 |  8 | 0 | 61.90476 | (60,70] |\n",
       "| Azorius Control             | 12 |  8 | 0 | 60.00000 | (50,60] |\n",
       "| Esper Hero                  |  6 |  4 | 0 | 60.00000 | (50,60] |\n",
       "| Mono-Red Aggro â„          |  9 |  6 | 0 | 60.00000 | (50,60] |\n",
       "| Orzhov Control              |  6 |  4 | 0 | 60.00000 | (50,60] |\n",
       "| Jeskai Fires (Keruga)       | 48 | 38 | 0 | 55.81395 | (50,60] |\n",
       "| Temur Elementals            | 10 |  8 | 0 | 55.55556 | (50,60] |\n",
       "| Five-color Niv-Mizzet       |  7 |  6 | 0 | 53.84615 | (50,60] |\n",
       "| Rakdos Sacrifice (Jegantha) | 44 | 38 | 0 | 53.65854 | (50,60] |\n",
       "| Simic Ramp                  |  6 |  6 | 0 | 50.00000 | (40,50] |\n",
       "| Four-color Yorion           | 21 | 23 | 0 | 47.72727 | (40,50] |\n",
       "| Dimir Flash                 |  9 | 10 | 0 | 47.36842 | (40,50] |\n",
       "| Izzet Phoenix               |  6 |  7 | 0 | 46.15385 | (40,50] |\n",
       "| Mono-Blue Tempo             |  5 |  6 | 0 | 45.45455 | (40,50] |\n",
       "| Temur Mutate                | 12 | 15 | 0 | 44.44444 | (40,50] |\n",
       "| Jeskai Control              | 15 | 19 | 0 | 44.11765 | (40,50] |\n",
       "| Rakdos Aggro (Obosh)        | 10 | 14 | 0 | 41.66667 | (40,50] |\n",
       "| Jeskai Winota               | 12 | 17 | 0 | 41.37931 | (40,50] |\n",
       "| Bant Control (Yorion)       |  6 |  9 | 0 | 40.00000 | (30,40] |\n",
       "| Abzan Midrange              |  5 | 10 | 0 | 33.33333 | (30,40] |\n",
       "| Sultai Control (Yorion)     |  5 | 14 | 0 | 26.31579 | (20,30] |\n",
       "| Bant Gyruda                 |  3 | 12 | 0 | 20.00000 | (10,20] |\n",
       "\n"
      ],
      "text/plain": [
       "   Decklist                    total_wins total_losses total_draws win_pct \n",
       "1  Boros Discard               14          6           0           70.00000\n",
       "2  Bant Control                 9          4           0           69.23077\n",
       "3  Mono-Black Aggrro            9          4           0           69.23077\n",
       "4  Temur Adventures (Obosh)     9          4           0           69.23077\n",
       "5  Temur Reclamation           39         21           0           65.00000\n",
       "6  Four-color Fires            13          8           0           61.90476\n",
       "7  Azorius Control             12          8           0           60.00000\n",
       "8  Esper Hero                   6          4           0           60.00000\n",
       "9  Mono-Red Aggro â\\235„           9          6           0           60.00000\n",
       "10 Orzhov Control               6          4           0           60.00000\n",
       "11 Jeskai Fires (Keruga)       48         38           0           55.81395\n",
       "12 Temur Elementals            10          8           0           55.55556\n",
       "13 Five-color Niv-Mizzet        7          6           0           53.84615\n",
       "14 Rakdos Sacrifice (Jegantha) 44         38           0           53.65854\n",
       "15 Simic Ramp                   6          6           0           50.00000\n",
       "16 Four-color Yorion           21         23           0           47.72727\n",
       "17 Dimir Flash                  9         10           0           47.36842\n",
       "18 Izzet Phoenix                6          7           0           46.15385\n",
       "19 Mono-Blue Tempo              5          6           0           45.45455\n",
       "20 Temur Mutate                12         15           0           44.44444\n",
       "21 Jeskai Control              15         19           0           44.11765\n",
       "22 Rakdos Aggro (Obosh)        10         14           0           41.66667\n",
       "23 Jeskai Winota               12         17           0           41.37931\n",
       "24 Bant Control (Yorion)        6          9           0           40.00000\n",
       "25 Abzan Midrange               5         10           0           33.33333\n",
       "26 Sultai Control (Yorion)      5         14           0           26.31579\n",
       "27 Bant Gyruda                  3         12           0           20.00000\n",
       "   win_pct.buckets\n",
       "1  (60,70]        \n",
       "2  (60,70]        \n",
       "3  (60,70]        \n",
       "4  (60,70]        \n",
       "5  (60,70]        \n",
       "6  (60,70]        \n",
       "7  (50,60]        \n",
       "8  (50,60]        \n",
       "9  (50,60]        \n",
       "10 (50,60]        \n",
       "11 (50,60]        \n",
       "12 (50,60]        \n",
       "13 (50,60]        \n",
       "14 (50,60]        \n",
       "15 (40,50]        \n",
       "16 (40,50]        \n",
       "17 (40,50]        \n",
       "18 (40,50]        \n",
       "19 (40,50]        \n",
       "20 (40,50]        \n",
       "21 (40,50]        \n",
       "22 (40,50]        \n",
       "23 (40,50]        \n",
       "24 (30,40]        \n",
       "25 (30,40]        \n",
       "26 (20,30]        \n",
       "27 (10,20]        "
      ]
     },
     "metadata": {},
     "output_type": "display_data"
    }
   ],
   "source": [
    "df_decks <- df_1 %>%\n",
    "    rowwise %>%\n",
    "    mutate(wins = convert_record_to_wld(Record)[1], \n",
    "           losses = convert_record_to_wld(Record)[2], \n",
    "           draws = convert_record_to_wld(Record)[3])\n",
    "\n",
    "df_deck_groups <- df_decks %>%\n",
    "    group_by(Decklist) %>%\n",
    "    summarize(total_wins = sum(wins), \n",
    "              total_losses = sum(losses), \n",
    "              total_draws = sum(draws), \n",
    "              win_pct = 100 * total_wins / (total_wins + total_losses)) %>%\n",
    "    filter(total_wins + total_losses + total_draws >= 10) %>%\n",
    "    arrange(desc(win_pct))\n",
    "\n",
    "df_deck_groups$win_pct.buckets <- cut(df_deck_groups$win_pct,\n",
    "                                c(0, 10, 20, 30, 40, 50, 60, 70, 80, 90))\n",
    "df_deck_groups"
   ]
  },
  {
   "cell_type": "code",
   "execution_count": 92,
   "id": "78de581f",
   "metadata": {},
   "outputs": [],
   "source": [
    "library(ggplot2)"
   ]
  },
  {
   "cell_type": "code",
   "execution_count": 184,
   "id": "741eddc1",
   "metadata": {},
   "outputs": [
    {
     "data": {
      "image/png": "[encoded data removed]",
      "text/plain": [
       "plot without title"
      ]
     },
     "metadata": {
      "image/png": {
       "height": 480,
       "width": 900
      }
     },
     "output_type": "display_data"
    }
   ],
   "source": [
    "options(repr.plot.width=15, repr.plot.height=8)\n",
    "\n",
    "ggplot(aes(x = Decklist, y = total_wins + total_losses), data = df_deck_groups) +\n",
    "    geom_bar(stat = \"identity\", aes(fill = win_pct.buckets)) +\n",
    "    scale_fill_discrete() +\n",
    "    scale_y_continuous(limits = c(0, 90), breaks = seq(0, 90, 5)) +\n",
    "    theme(axis.text.x = element_text(angle = 90)) + \n",
    "    labs(title = \"Win Percentages of Archetypes\", x = \"Deck Archtype\", y = \"Total Matches\")"
   ]
  }
 ],
 "metadata": {
  "kernelspec": {
   "display_name": "R",
   "language": "R",
   "name": "ir"
  },
  "language_info": {
   "codemirror_mode": "r",
   "file_extension": ".r",
   "mimetype": "text/x-r-source",
   "name": "R",
   "pygments_lexer": "r",
   "version": "4.1.0"
  }
 },
 "nbformat": 4,
 "nbformat_minor": 5
}
