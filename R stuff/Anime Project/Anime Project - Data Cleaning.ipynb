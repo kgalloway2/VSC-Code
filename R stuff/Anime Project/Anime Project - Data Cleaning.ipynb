{
 "cells": [
  {
   "cell_type": "code",
   "execution_count": 1,
   "id": "7937ef65",
   "metadata": {
    "collapsed": true
   },
   "outputs": [
    {
     "name": "stderr",
     "output_type": "stream",
     "text": [
      "\n",
      "Attaching package: 'dplyr'\n",
      "\n",
      "\n",
      "The following objects are masked from 'package:stats':\n",
      "\n",
      "    filter, lag\n",
      "\n",
      "\n",
      "The following objects are masked from 'package:base':\n",
      "\n",
      "    intersect, setdiff, setequal, union\n",
      "\n",
      "\n"
     ]
    }
   ],
   "source": [
    "library(tidyr)\n",
    "library(dplyr)"
   ]
  },
  {
   "cell_type": "code",
   "execution_count": 2,
   "id": "51746ebb",
   "metadata": {},
   "outputs": [
    {
     "name": "stderr",
     "output_type": "stream",
     "text": [
      "Warning message in scan(file = file, what = what, sep = sep, quote = quote, dec = dec, :\n",
      "\"embedded nul(s) found in input\"\n"
     ]
    },
    {
     "name": "stdout",
     "output_type": "stream",
     "text": [
      "'data.frame':\t10000 obs. of  5 variables:\n",
      " $ Anime_Name     : chr  \"Fullmetal Alchemist: Brotherhood\" \"Shingeki no Kyojin Season 3 Part 2\" \"Steins;Gate\" \"GintamaÂ°\" ...\n",
      " $ Anime_Episodes : chr  \"TV (64 eps)\" \"TV (10 eps)\" \"TV (24 eps)\" \"TV (51 eps)\" ...\n",
      " $ Anime_Air_Years: chr  \"Apr 2009 - Jul 2010\" \"Apr 2019 - Jul 2019\" \"Apr 2011 - Sep 2011\" \"Apr 2015 - Mar 2016\" ...\n",
      " $ Anime_Rating   : num  9.18 9.11 9.11 9.09 9.08 9.07 9.07 9.06 9.04 9 ...\n",
      " $ Synopsis       : chr  \"\\\"In order for something to be obtained, something of equal value must be lost.\\\"\\n\\nAlchemy is bound by this L\"| __truncated__ \"Seeking to restore humanity's diminishing hope, the Survey Corps embark on a mission to retake Wall Maria, wher\"| __truncated__ \"The self-proclaimed mad scientist Rintarou Okabe rents out a room in a rickety old building in Akihabara, where\"| __truncated__ \"Gintoki, Shinpachi, and Kagura return as the fun-loving but broke members of the Yorozuya team! Living in an al\"| __truncated__ ...\n"
     ]
    },
    {
     "data": {
      "text/html": [
       "<table class=\"dataframe\">\n",
       "<caption>A data.frame: 6 × 5</caption>\n",
       "<thead>\n",
       "\t<tr><th></th><th scope=col>Anime_Name</th><th scope=col>Anime_Episodes</th><th scope=col>Anime_Air_Years</th><th scope=col>Anime_Rating</th><th scope=col>Synopsis</th></tr>\n",
       "\t<tr><th></th><th scope=col>&lt;chr&gt;</th><th scope=col>&lt;chr&gt;</th><th scope=col>&lt;chr&gt;</th><th scope=col>&lt;dbl&gt;</th><th scope=col>&lt;chr&gt;</th></tr>\n",
       "</thead>\n",
       "<tbody>\n",
       "\t<tr><th scope=row>1</th><td>Fullmetal Alchemist: Brotherhood  </td><td>TV (64 eps) </td><td>Apr 2009 - Jul 2010</td><td>9.18</td><td>\"In order for something to be obtained, something of equal value must be lost.\"\n",
       "\n",
       "Alchemy is bound by this Law of Equivalent Exchangeâ€”something the young brothers Edward and Alphonse Elric only realize after attempting human transmutation: the one forbidden act of alchemy. They pay a terrible price for their transgressionâ€”Edward loses his left leg, Alphonse his physical body. It is only by the desperate sacrifice of Edward's right arm that he is able to affix Alphonse's soul to a suit of armor. Devastated and alone, it is the hope that they would both eventually return to their original bodies that gives Edward the inspiration to obtain metal limbs called \"automail\" and become a state alchemist, the Fullmetal Alchemist.\n",
       "\n",
       "Three years of searching later, the brothers seek the Philosopher's Stone, a mythical relic that allows an alchemist to overcome the Law of Equivalent Exchange. Even with military allies Colonel Roy Mustang, Lieutenant Riza Hawkeye, and Lieutenant Colonel Maes Hughes on their side, the brothers find themselves caught up in a nationwide conspiracy that leads them not only to the true nature of the elusive Philosopher's Stone, but their country's murky history as well. In between finding a serial killer and racing against time, Edward and Alphonse must ask themselves if what they are doing will make them human again... or take away their humanity.\n",
       "\n",
       "[Written by MAL Rewrite]</td></tr>\n",
       "\t<tr><th scope=row>2</th><td>Shingeki no Kyojin Season 3 Part 2</td><td>TV (10 eps) </td><td>Apr 2019 - Jul 2019</td><td>9.11</td><td>Seeking to restore humanity's diminishing hope, the Survey Corps embark on a mission to retake Wall Maria, where the battle against the merciless \"Titans\" takes the stage once again.\n",
       "\n",
       "Returning to the tattered Shiganshina District that was once his home, Eren Yeager and the Corps find the town oddly unoccupied by Titans. Even after the outer gate is plugged, they strangely encounter no opposition. The mission progresses smoothly until Armin Arlert, highly suspicious of the enemy's absence, discovers distressing signs of a potential scheme against them. \n",
       "\n",
       "Shingeki no Kyojin Season 3 Part 2 follows Eren as he vows to take back everything that was once his. Alongside him, the Survey Corps striveâ€”through countless sacrificesâ€”to carve a path towards victory and uncover the secrets locked away in the Yeager family's basement.\n",
       "\n",
       "[Written by MAL Rewrite]                                                                                                                                                                                                                                                                                                                                                                                                                                                                                                                                                                        </td></tr>\n",
       "\t<tr><th scope=row>3</th><td>Steins;Gate                       </td><td>TV (24 eps) </td><td>Apr 2011 - Sep 2011</td><td>9.11</td><td>The self-proclaimed mad scientist Rintarou Okabe rents out a room in a rickety old building in Akihabara, where he indulges himself in his hobby of inventing prospective \"future gadgets\" with fellow lab members: Mayuri Shiina, his air-headed childhood friend, and Hashida Itaru, a perverted hacker nicknamed \"Daru.\" The three pass the time by tinkering with their most promising contraption yet, a machine dubbed the \"Phone Microwave,\" which performs the strange function of morphing bananas into piles of green gel.\n",
       "\n",
       "Though miraculous in itself, the phenomenon doesn't provide anything concrete in Okabe's search for a scientific breakthrough; that is, until the lab members are spurred into action by a string of mysterious happenings before stumbling upon an unexpected successâ€”the Phone Microwave can send emails to the past, altering the flow of history.\n",
       "\n",
       "Adapted from the critically acclaimed visual novel by 5pb. and Nitroplus, Steins;Gate takes Okabe through the depths of scientific theory and practicality. Forced across the diverging threads of past and present, Okabe must shoulder the burdens that come with holding the key to the realm of time.\n",
       "\n",
       "[Written by MAL Rewrite]                                                                                                                                                                                                                                   </td></tr>\n",
       "\t<tr><th scope=row>4</th><td>GintamaÂ°                         </td><td>TV (51 eps) </td><td>Apr 2015 - Mar 2016</td><td>9.09</td><td>Gintoki, Shinpachi, and Kagura return as the fun-loving but broke members of the Yorozuya team! Living in an alternate-reality Edo, where swords are prohibited and alien overlords have conquered Japan, they try to thrive on doing whatever work they can get their hands on. However, Shinpachi and Kagura still haven't been paid... Does Gin-chan really spend all that cash playing pachinko?\n",
       "\n",
       "Meanwhile, when Gintoki drunkenly staggers home one night, an alien spaceship crashes nearby. A fatally injured crew member emerges from the ship and gives Gintoki a strange, clock-shaped device, warning him that it is incredibly powerful and must be safeguarded. Mistaking it for his alarm clock, Gintoki proceeds to smash the device the next morning and suddenly discovers that the world outside his apartment has come to a standstill. With Kagura and Shinpachi at his side, he sets off to get the device fixed; though, as usual, nothing is ever that simple for the Yorozuya team.\n",
       "\n",
       "Filled with tongue-in-cheek humor and moments of heartfelt emotion, Gintama's fourth season finds Gintoki and his friends facing both their most hilarious misadventures and most dangerous crises yet.\n",
       "\n",
       "[Written by MAL Rewrite]                                                                                                                                                                                                                      </td></tr>\n",
       "\t<tr><th scope=row>5</th><td>Hunter x Hunter (2011)            </td><td>TV (148 eps)</td><td>Oct 2011 - Sep 2014</td><td>9.08</td><td>Hunter x Hunter is set in a world where Hunters exist to perform all manner of dangerous tasks like capturing criminals and bravely searching for lost treasures in uncharted territories. Twelve-year-old Gon Freecss is determined to become the best Hunter possible in hopes of finding his father, who was a Hunter himself and had long ago abandoned his young son. However, Gon soon realizes the path to achieving his goals is far more challenging than he could have ever imagined.\n",
       "\n",
       "Along the way to becoming an official Hunter, Gon befriends the lively doctor-in-training Leorio, vengeful Kurapika, and rebellious ex-assassin Killua. To attain their own goals and desires, together the four of them take the Hunter Exam, notorious for its low success rate and high probability of death. Throughout their journey, Gon and his friends embark on an adventure that puts them through many hardships and struggles. They will meet a plethora of monsters, creatures, and charactersâ€”all while learning what being a Hunter truly means.\n",
       "\n",
       "[Written by MAL Rewrite]                                                                                                                                                                                                                                                                                                                                                                           </td></tr>\n",
       "\t<tr><th scope=row>6</th><td>Gintama'                          </td><td>TV (51 eps) </td><td>Apr 2011 - Mar 2012</td><td>9.07</td><td>According to an announcement made during this weekend's Jump Festa 2015 event, a new Gintama TV anime will premiere in April 2015. Source: Official site, Otakom...read more                                                                                                                                                                                                                                                                                                                                                                                                                                                                                                                                                                                                                                                                                                                                                                                                                                                                                                                                                                                                                                                                                                                                                                                                                                                                                               </td></tr>\n",
       "</tbody>\n",
       "</table>\n"
      ],
      "text/latex": [
       "A data.frame: 6 × 5\n",
       "\\begin{tabular}{r|lllll}\n",
       "  & Anime\\_Name & Anime\\_Episodes & Anime\\_Air\\_Years & Anime\\_Rating & Synopsis\\\\\n",
       "  & <chr> & <chr> & <chr> & <dbl> & <chr>\\\\\n",
       "\\hline\n",
       "\t1 & Fullmetal Alchemist: Brotherhood   & TV (64 eps)  & Apr 2009 - Jul 2010 & 9.18 & \"In order for something to be obtained, something of equal value must be lost.\"\n",
       "\n",
       "Alchemy is bound by this Law of Equivalent Exchangeâ€”something the young brothers Edward and Alphonse Elric only realize after attempting human transmutation: the one forbidden act of alchemy. They pay a terrible price for their transgressionâ€”Edward loses his left leg, Alphonse his physical body. It is only by the desperate sacrifice of Edward's right arm that he is able to affix Alphonse's soul to a suit of armor. Devastated and alone, it is the hope that they would both eventually return to their original bodies that gives Edward the inspiration to obtain metal limbs called \"automail\" and become a state alchemist, the Fullmetal Alchemist.\n",
       "\n",
       "Three years of searching later, the brothers seek the Philosopher's Stone, a mythical relic that allows an alchemist to overcome the Law of Equivalent Exchange. Even with military allies Colonel Roy Mustang, Lieutenant Riza Hawkeye, and Lieutenant Colonel Maes Hughes on their side, the brothers find themselves caught up in a nationwide conspiracy that leads them not only to the true nature of the elusive Philosopher's Stone, but their country's murky history as well. In between finding a serial killer and racing against time, Edward and Alphonse must ask themselves if what they are doing will make them human again... or take away their humanity.\n",
       "\n",
       "{[}Written by MAL Rewrite{]}\\\\\n",
       "\t2 & Shingeki no Kyojin Season 3 Part 2 & TV (10 eps)  & Apr 2019 - Jul 2019 & 9.11 & Seeking to restore humanity's diminishing hope, the Survey Corps embark on a mission to retake Wall Maria, where the battle against the merciless \"Titans\" takes the stage once again.\n",
       "\n",
       "Returning to the tattered Shiganshina District that was once his home, Eren Yeager and the Corps find the town oddly unoccupied by Titans. Even after the outer gate is plugged, they strangely encounter no opposition. The mission progresses smoothly until Armin Arlert, highly suspicious of the enemy's absence, discovers distressing signs of a potential scheme against them. \n",
       "\n",
       "Shingeki no Kyojin Season 3 Part 2 follows Eren as he vows to take back everything that was once his. Alongside him, the Survey Corps striveâ€”through countless sacrificesâ€”to carve a path towards victory and uncover the secrets locked away in the Yeager family's basement.\n",
       "\n",
       "{[}Written by MAL Rewrite{]}                                                                                                                                                                                                                                                                                                                                                                                                                                                                                                                                                                        \\\\\n",
       "\t3 & Steins;Gate                        & TV (24 eps)  & Apr 2011 - Sep 2011 & 9.11 & The self-proclaimed mad scientist Rintarou Okabe rents out a room in a rickety old building in Akihabara, where he indulges himself in his hobby of inventing prospective \"future gadgets\" with fellow lab members: Mayuri Shiina, his air-headed childhood friend, and Hashida Itaru, a perverted hacker nicknamed \"Daru.\" The three pass the time by tinkering with their most promising contraption yet, a machine dubbed the \"Phone Microwave,\" which performs the strange function of morphing bananas into piles of green gel.\n",
       "\n",
       "Though miraculous in itself, the phenomenon doesn't provide anything concrete in Okabe's search for a scientific breakthrough; that is, until the lab members are spurred into action by a string of mysterious happenings before stumbling upon an unexpected successâ€”the Phone Microwave can send emails to the past, altering the flow of history.\n",
       "\n",
       "Adapted from the critically acclaimed visual novel by 5pb. and Nitroplus, Steins;Gate takes Okabe through the depths of scientific theory and practicality. Forced across the diverging threads of past and present, Okabe must shoulder the burdens that come with holding the key to the realm of time.\n",
       "\n",
       "{[}Written by MAL Rewrite{]}                                                                                                                                                                                                                                   \\\\\n",
       "\t4 & GintamaÂ°                          & TV (51 eps)  & Apr 2015 - Mar 2016 & 9.09 & Gintoki, Shinpachi, and Kagura return as the fun-loving but broke members of the Yorozuya team! Living in an alternate-reality Edo, where swords are prohibited and alien overlords have conquered Japan, they try to thrive on doing whatever work they can get their hands on. However, Shinpachi and Kagura still haven't been paid... Does Gin-chan really spend all that cash playing pachinko?\n",
       "\n",
       "Meanwhile, when Gintoki drunkenly staggers home one night, an alien spaceship crashes nearby. A fatally injured crew member emerges from the ship and gives Gintoki a strange, clock-shaped device, warning him that it is incredibly powerful and must be safeguarded. Mistaking it for his alarm clock, Gintoki proceeds to smash the device the next morning and suddenly discovers that the world outside his apartment has come to a standstill. With Kagura and Shinpachi at his side, he sets off to get the device fixed; though, as usual, nothing is ever that simple for the Yorozuya team.\n",
       "\n",
       "Filled with tongue-in-cheek humor and moments of heartfelt emotion, Gintama's fourth season finds Gintoki and his friends facing both their most hilarious misadventures and most dangerous crises yet.\n",
       "\n",
       "{[}Written by MAL Rewrite{]}                                                                                                                                                                                                                      \\\\\n",
       "\t5 & Hunter x Hunter (2011)             & TV (148 eps) & Oct 2011 - Sep 2014 & 9.08 & Hunter x Hunter is set in a world where Hunters exist to perform all manner of dangerous tasks like capturing criminals and bravely searching for lost treasures in uncharted territories. Twelve-year-old Gon Freecss is determined to become the best Hunter possible in hopes of finding his father, who was a Hunter himself and had long ago abandoned his young son. However, Gon soon realizes the path to achieving his goals is far more challenging than he could have ever imagined.\n",
       "\n",
       "Along the way to becoming an official Hunter, Gon befriends the lively doctor-in-training Leorio, vengeful Kurapika, and rebellious ex-assassin Killua. To attain their own goals and desires, together the four of them take the Hunter Exam, notorious for its low success rate and high probability of death. Throughout their journey, Gon and his friends embark on an adventure that puts them through many hardships and struggles. They will meet a plethora of monsters, creatures, and charactersâ€”all while learning what being a Hunter truly means.\n",
       "\n",
       "{[}Written by MAL Rewrite{]}                                                                                                                                                                                                                                                                                                                                                                           \\\\\n",
       "\t6 & Gintama'                           & TV (51 eps)  & Apr 2011 - Mar 2012 & 9.07 & According to an announcement made during this weekend's Jump Festa 2015 event, a new Gintama TV anime will premiere in April 2015. Source: Official site, Otakom...read more                                                                                                                                                                                                                                                                                                                                                                                                                                                                                                                                                                                                                                                                                                                                                                                                                                                                                                                                                                                                                                                                                                                                                                                                                                                                                               \\\\\n",
       "\\end{tabular}\n"
      ],
      "text/markdown": [
       "\n",
       "A data.frame: 6 × 5\n",
       "\n",
       "| <!--/--> | Anime_Name &lt;chr&gt; | Anime_Episodes &lt;chr&gt; | Anime_Air_Years &lt;chr&gt; | Anime_Rating &lt;dbl&gt; | Synopsis &lt;chr&gt; |\n",
       "|---|---|---|---|---|---|\n",
       "| 1 | Fullmetal Alchemist: Brotherhood   | TV (64 eps)  | Apr 2009 - Jul 2010 | 9.18 | \"In order for something to be obtained, something of equal value must be lost.\"\n",
       "\n",
       "Alchemy is bound by this Law of Equivalent Exchangeâ€”something the young brothers Edward and Alphonse Elric only realize after attempting human transmutation: the one forbidden act of alchemy. They pay a terrible price for their transgressionâ€”Edward loses his left leg, Alphonse his physical body. It is only by the desperate sacrifice of Edward's right arm that he is able to affix Alphonse's soul to a suit of armor. Devastated and alone, it is the hope that they would both eventually return to their original bodies that gives Edward the inspiration to obtain metal limbs called \"automail\" and become a state alchemist, the Fullmetal Alchemist.\n",
       "\n",
       "Three years of searching later, the brothers seek the Philosopher's Stone, a mythical relic that allows an alchemist to overcome the Law of Equivalent Exchange. Even with military allies Colonel Roy Mustang, Lieutenant Riza Hawkeye, and Lieutenant Colonel Maes Hughes on their side, the brothers find themselves caught up in a nationwide conspiracy that leads them not only to the true nature of the elusive Philosopher's Stone, but their country's murky history as well. In between finding a serial killer and racing against time, Edward and Alphonse must ask themselves if what they are doing will make them human again... or take away their humanity.\n",
       "\n",
       "[Written by MAL Rewrite] |\n",
       "| 2 | Shingeki no Kyojin Season 3 Part 2 | TV (10 eps)  | Apr 2019 - Jul 2019 | 9.11 | Seeking to restore humanity's diminishing hope, the Survey Corps embark on a mission to retake Wall Maria, where the battle against the merciless \"Titans\" takes the stage once again.\n",
       "\n",
       "Returning to the tattered Shiganshina District that was once his home, Eren Yeager and the Corps find the town oddly unoccupied by Titans. Even after the outer gate is plugged, they strangely encounter no opposition. The mission progresses smoothly until Armin Arlert, highly suspicious of the enemy's absence, discovers distressing signs of a potential scheme against them. \n",
       "\n",
       "Shingeki no Kyojin Season 3 Part 2 follows Eren as he vows to take back everything that was once his. Alongside him, the Survey Corps striveâ€”through countless sacrificesâ€”to carve a path towards victory and uncover the secrets locked away in the Yeager family's basement.\n",
       "\n",
       "[Written by MAL Rewrite]                                                                                                                                                                                                                                                                                                                                                                                                                                                                                                                                                                         |\n",
       "| 3 | Steins;Gate                        | TV (24 eps)  | Apr 2011 - Sep 2011 | 9.11 | The self-proclaimed mad scientist Rintarou Okabe rents out a room in a rickety old building in Akihabara, where he indulges himself in his hobby of inventing prospective \"future gadgets\" with fellow lab members: Mayuri Shiina, his air-headed childhood friend, and Hashida Itaru, a perverted hacker nicknamed \"Daru.\" The three pass the time by tinkering with their most promising contraption yet, a machine dubbed the \"Phone Microwave,\" which performs the strange function of morphing bananas into piles of green gel.\n",
       "\n",
       "Though miraculous in itself, the phenomenon doesn't provide anything concrete in Okabe's search for a scientific breakthrough; that is, until the lab members are spurred into action by a string of mysterious happenings before stumbling upon an unexpected successâ€”the Phone Microwave can send emails to the past, altering the flow of history.\n",
       "\n",
       "Adapted from the critically acclaimed visual novel by 5pb. and Nitroplus, Steins;Gate takes Okabe through the depths of scientific theory and practicality. Forced across the diverging threads of past and present, Okabe must shoulder the burdens that come with holding the key to the realm of time.\n",
       "\n",
       "[Written by MAL Rewrite]                                                                                                                                                                                                                                    |\n",
       "| 4 | GintamaÂ°                          | TV (51 eps)  | Apr 2015 - Mar 2016 | 9.09 | Gintoki, Shinpachi, and Kagura return as the fun-loving but broke members of the Yorozuya team! Living in an alternate-reality Edo, where swords are prohibited and alien overlords have conquered Japan, they try to thrive on doing whatever work they can get their hands on. However, Shinpachi and Kagura still haven't been paid... Does Gin-chan really spend all that cash playing pachinko?\n",
       "\n",
       "Meanwhile, when Gintoki drunkenly staggers home one night, an alien spaceship crashes nearby. A fatally injured crew member emerges from the ship and gives Gintoki a strange, clock-shaped device, warning him that it is incredibly powerful and must be safeguarded. Mistaking it for his alarm clock, Gintoki proceeds to smash the device the next morning and suddenly discovers that the world outside his apartment has come to a standstill. With Kagura and Shinpachi at his side, he sets off to get the device fixed; though, as usual, nothing is ever that simple for the Yorozuya team.\n",
       "\n",
       "Filled with tongue-in-cheek humor and moments of heartfelt emotion, Gintama's fourth season finds Gintoki and his friends facing both their most hilarious misadventures and most dangerous crises yet.\n",
       "\n",
       "[Written by MAL Rewrite]                                                                                                                                                                                                                       |\n",
       "| 5 | Hunter x Hunter (2011)             | TV (148 eps) | Oct 2011 - Sep 2014 | 9.08 | Hunter x Hunter is set in a world where Hunters exist to perform all manner of dangerous tasks like capturing criminals and bravely searching for lost treasures in uncharted territories. Twelve-year-old Gon Freecss is determined to become the best Hunter possible in hopes of finding his father, who was a Hunter himself and had long ago abandoned his young son. However, Gon soon realizes the path to achieving his goals is far more challenging than he could have ever imagined.\n",
       "\n",
       "Along the way to becoming an official Hunter, Gon befriends the lively doctor-in-training Leorio, vengeful Kurapika, and rebellious ex-assassin Killua. To attain their own goals and desires, together the four of them take the Hunter Exam, notorious for its low success rate and high probability of death. Throughout their journey, Gon and his friends embark on an adventure that puts them through many hardships and struggles. They will meet a plethora of monsters, creatures, and charactersâ€”all while learning what being a Hunter truly means.\n",
       "\n",
       "[Written by MAL Rewrite]                                                                                                                                                                                                                                                                                                                                                                            |\n",
       "| 6 | Gintama'                           | TV (51 eps)  | Apr 2011 - Mar 2012 | 9.07 | According to an announcement made during this weekend's Jump Festa 2015 event, a new Gintama TV anime will premiere in April 2015. Source: Official site, Otakom...read more                                                                                                                                                                                                                                                                                                                                                                                                                                                                                                                                                                                                                                                                                                                                                                                                                                                                                                                                                                                                                                                                                                                                                                                                                                                                                                |\n",
       "\n"
      ],
      "text/plain": [
       "  Anime_Name                         Anime_Episodes Anime_Air_Years    \n",
       "1 Fullmetal Alchemist: Brotherhood   TV (64 eps)    Apr 2009 - Jul 2010\n",
       "2 Shingeki no Kyojin Season 3 Part 2 TV (10 eps)    Apr 2019 - Jul 2019\n",
       "3 Steins;Gate                        TV (24 eps)    Apr 2011 - Sep 2011\n",
       "4 GintamaÂ°                          TV (51 eps)    Apr 2015 - Mar 2016\n",
       "5 Hunter x Hunter (2011)             TV (148 eps)   Oct 2011 - Sep 2014\n",
       "6 Gintama'                           TV (51 eps)    Apr 2011 - Mar 2012\n",
       "  Anime_Rating\n",
       "1 9.18        \n",
       "2 9.11        \n",
       "3 9.11        \n",
       "4 9.09        \n",
       "5 9.08        \n",
       "6 9.07        \n",
       "  Synopsis                                                                                                                                                                                                                                                                                                                                                                                                                                                                                                                                                                                                                                                                                                                                                                                                                                                                                                                                                                                                                                                                                                                                                                                                                                                                                                                                                                                                                                                                   \n",
       "1 \"In order for something to be obtained, something of equal value must be lost.\"\\n\\nAlchemy is bound by this Law of Equivalent Exchangeâ\\200”something the young brothers Edward and Alphonse Elric only realize after attempting human transmutation: the one forbidden act of alchemy. They pay a terrible price for their transgressionâ\\200”Edward loses his left leg, Alphonse his physical body. It is only by the desperate sacrifice of Edward's right arm that he is able to affix Alphonse's soul to a suit of armor. Devastated and alone, it is the hope that they would both eventually return to their original bodies that gives Edward the inspiration to obtain metal limbs called \"automail\" and become a state alchemist, the Fullmetal Alchemist.\\n\\nThree years of searching later, the brothers seek the Philosopher's Stone, a mythical relic that allows an alchemist to overcome the Law of Equivalent Exchange. Even with military allies Colonel Roy Mustang, Lieutenant Riza Hawkeye, and Lieutenant Colonel Maes Hughes on their side, the brothers find themselves caught up in a nationwide conspiracy that leads them not only to the true nature of the elusive Philosopher's Stone, but their country's murky history as well. In between finding a serial killer and racing against time, Edward and Alphonse must ask themselves if what they are doing will make them human again... or take away their humanity.\\n\\n[Written by MAL Rewrite]\n",
       "2 Seeking to restore humanity's diminishing hope, the Survey Corps embark on a mission to retake Wall Maria, where the battle against the merciless \"Titans\" takes the stage once again.\\n\\nReturning to the tattered Shiganshina District that was once his home, Eren Yeager and the Corps find the town oddly unoccupied by Titans. Even after the outer gate is plugged, they strangely encounter no opposition. The mission progresses smoothly until Armin Arlert, highly suspicious of the enemy's absence, discovers distressing signs of a potential scheme against them. \\n\\nShingeki no Kyojin Season 3 Part 2 follows Eren as he vows to take back everything that was once his. Alongside him, the Survey Corps striveâ\\200”through countless sacrificesâ\\200”to carve a path towards victory and uncover the secrets locked away in the Yeager family's basement.\\n\\n[Written by MAL Rewrite]                                                                                                                                                                                                                                                                                                                                                                                                                                                                                                                                                                        \n",
       "3 The self-proclaimed mad scientist Rintarou Okabe rents out a room in a rickety old building in Akihabara, where he indulges himself in his hobby of inventing prospective \"future gadgets\" with fellow lab members: Mayuri Shiina, his air-headed childhood friend, and Hashida Itaru, a perverted hacker nicknamed \"Daru.\" The three pass the time by tinkering with their most promising contraption yet, a machine dubbed the \"Phone Microwave,\" which performs the strange function of morphing bananas into piles of green gel.\\n\\nThough miraculous in itself, the phenomenon doesn't provide anything concrete in Okabe's search for a scientific breakthrough; that is, until the lab members are spurred into action by a string of mysterious happenings before stumbling upon an unexpected successâ\\200”the Phone Microwave can send emails to the past, altering the flow of history.\\n\\nAdapted from the critically acclaimed visual novel by 5pb. and Nitroplus, Steins;Gate takes Okabe through the depths of scientific theory and practicality. Forced across the diverging threads of past and present, Okabe must shoulder the burdens that come with holding the key to the realm of time.\\n\\n[Written by MAL Rewrite]                                                                                                                                                                                                                                   \n",
       "4 Gintoki, Shinpachi, and Kagura return as the fun-loving but broke members of the Yorozuya team! Living in an alternate-reality Edo, where swords are prohibited and alien overlords have conquered Japan, they try to thrive on doing whatever work they can get their hands on. However, Shinpachi and Kagura still haven't been paid... Does Gin-chan really spend all that cash playing pachinko?\\n\\nMeanwhile, when Gintoki drunkenly staggers home one night, an alien spaceship crashes nearby. A fatally injured crew member emerges from the ship and gives Gintoki a strange, clock-shaped device, warning him that it is incredibly powerful and must be safeguarded. Mistaking it for his alarm clock, Gintoki proceeds to smash the device the next morning and suddenly discovers that the world outside his apartment has come to a standstill. With Kagura and Shinpachi at his side, he sets off to get the device fixed; though, as usual, nothing is ever that simple for the Yorozuya team.\\n\\nFilled with tongue-in-cheek humor and moments of heartfelt emotion, Gintama's fourth season finds Gintoki and his friends facing both their most hilarious misadventures and most dangerous crises yet.\\n\\n[Written by MAL Rewrite]                                                                                                                                                                                                                      \n",
       "5 Hunter x Hunter is set in a world where Hunters exist to perform all manner of dangerous tasks like capturing criminals and bravely searching for lost treasures in uncharted territories. Twelve-year-old Gon Freecss is determined to become the best Hunter possible in hopes of finding his father, who was a Hunter himself and had long ago abandoned his young son. However, Gon soon realizes the path to achieving his goals is far more challenging than he could have ever imagined.\\n\\nAlong the way to becoming an official Hunter, Gon befriends the lively doctor-in-training Leorio, vengeful Kurapika, and rebellious ex-assassin Killua. To attain their own goals and desires, together the four of them take the Hunter Exam, notorious for its low success rate and high probability of death. Throughout their journey, Gon and his friends embark on an adventure that puts them through many hardships and struggles. They will meet a plethora of monsters, creatures, and charactersâ\\200”all while learning what being a Hunter truly means.\\n\\n[Written by MAL Rewrite]                                                                                                                                                                                                                                                                                                                                                                           \n",
       "6 According to an announcement made during this weekend's Jump Festa 2015 event, a new Gintama TV anime will premiere in April 2015. Source: Official site, Otakom...read more                                                                                                                                                                                                                                                                                                                                                                                                                                                                                                                                                                                                                                                                                                                                                                                                                                                                                                                                                                                                                                                                                                                                                                                                                                                                                               "
      ]
     },
     "metadata": {},
     "output_type": "display_data"
    }
   ],
   "source": [
    "anime_df <-  read.csv(\"C:/Users/kgtrm/Documents/R projects data/archive anime/Anime_Top10000.csv\")\n",
    "str(anime_df)\n",
    "head(anime_df)"
   ]
  },
  {
   "cell_type": "code",
   "execution_count": 3,
   "id": "7c022090",
   "metadata": {},
   "outputs": [],
   "source": [
    "# going to clean this data a little\n",
    "# split anime_episodes attribute to type and num episodes\n",
    "# transform air years into more, start date, end date, months/years"
   ]
  },
  {
   "cell_type": "code",
   "execution_count": 10,
   "id": "e2081eaf",
   "metadata": {},
   "outputs": [
    {
     "data": {
      "text/html": [
       "<table class=\"dataframe\">\n",
       "<caption>A data.frame: 1 × 5</caption>\n",
       "<thead>\n",
       "\t<tr><th></th><th scope=col>Anime_Name</th><th scope=col>Anime_Episodes</th><th scope=col>Anime_Air_Years</th><th scope=col>Anime_Rating</th><th scope=col>Synopsis</th></tr>\n",
       "\t<tr><th></th><th scope=col>&lt;chr&gt;</th><th scope=col>&lt;chr&gt;</th><th scope=col>&lt;chr&gt;</th><th scope=col>&lt;dbl&gt;</th><th scope=col>&lt;chr&gt;</th></tr>\n",
       "</thead>\n",
       "<tbody>\n",
       "\t<tr><th scope=row>9969</th><td>Bunbuku Chagama (1958)</td><td>Movie (1 eps)</td><td>1958 - 1958</td><td>5.44</td><td>Naoko had a fight with her brother over a trivial thing and pushed him away. She knew she was childish but she ran away from home.</td></tr>\n",
       "</tbody>\n",
       "</table>\n"
      ],
      "text/latex": [
       "A data.frame: 1 × 5\n",
       "\\begin{tabular}{r|lllll}\n",
       "  & Anime\\_Name & Anime\\_Episodes & Anime\\_Air\\_Years & Anime\\_Rating & Synopsis\\\\\n",
       "  & <chr> & <chr> & <chr> & <dbl> & <chr>\\\\\n",
       "\\hline\n",
       "\t9969 & Bunbuku Chagama (1958) & Movie (1 eps) & 1958 - 1958 & 5.44 & Naoko had a fight with her brother over a trivial thing and pushed him away. She knew she was childish but she ran away from home.\\\\\n",
       "\\end{tabular}\n"
      ],
      "text/markdown": [
       "\n",
       "A data.frame: 1 × 5\n",
       "\n",
       "| <!--/--> | Anime_Name &lt;chr&gt; | Anime_Episodes &lt;chr&gt; | Anime_Air_Years &lt;chr&gt; | Anime_Rating &lt;dbl&gt; | Synopsis &lt;chr&gt; |\n",
       "|---|---|---|---|---|---|\n",
       "| 9969 | Bunbuku Chagama (1958) | Movie (1 eps) | 1958 - 1958 | 5.44 | Naoko had a fight with her brother over a trivial thing and pushed him away. She knew she was childish but she ran away from home. |\n",
       "\n"
      ],
      "text/plain": [
       "     Anime_Name             Anime_Episodes Anime_Air_Years Anime_Rating\n",
       "9969 Bunbuku Chagama (1958) Movie (1 eps)  1958 - 1958     5.44        \n",
       "     Synopsis                                                                                                                          \n",
       "9969 Naoko had a fight with her brother over a trivial thing and pushed him away. She knew she was childish but she ran away from home."
      ]
     },
     "metadata": {},
     "output_type": "display_data"
    }
   ],
   "source": [
    "anime_df[anime_df$Anime_Air_Years == \"1958 - 1958\",]\n",
    "# unique(anime_df$Anime_Air_Years)"
   ]
  },
  {
   "cell_type": "code",
   "execution_count": 33,
   "id": "da930b92",
   "metadata": {
    "scrolled": false
   },
   "outputs": [
    {
     "name": "stderr",
     "output_type": "stream",
     "text": [
      "Warning message in mask$eval_all_mutate(quo):\n",
      "\"NAs introduced by coercion\"\n",
      "Warning message:\n",
      "\"Expected 5 pieces. Missing pieces filled with `NA` in 361 rows [36, 84, 91, 169, 270, 346, 354, 496, 713, 844, 895, 918, 1041, 1055, 1056, 1092, 1131, 1161, 1189, 1253, ...].\"\n",
      "Warning message in eval(expr, envir, enclos):\n",
      "\"NAs introduced by coercion\"\n"
     ]
    },
    {
     "data": {
      "text/html": [
       "<table class=\"dataframe\">\n",
       "<caption>A data.frame: 6 × 8</caption>\n",
       "<thead>\n",
       "\t<tr><th></th><th scope=col>Anime_Name</th><th scope=col>Start_Month</th><th scope=col>Start_Year</th><th scope=col>End_Month</th><th scope=col>End_Year</th><th scope=col>Anime_Rating</th><th scope=col>Anime_Type</th><th scope=col>Number_Episodes</th></tr>\n",
       "\t<tr><th></th><th scope=col>&lt;chr&gt;</th><th scope=col>&lt;fct&gt;</th><th scope=col>&lt;int&gt;</th><th scope=col>&lt;fct&gt;</th><th scope=col>&lt;int&gt;</th><th scope=col>&lt;dbl&gt;</th><th scope=col>&lt;chr&gt;</th><th scope=col>&lt;dbl&gt;</th></tr>\n",
       "</thead>\n",
       "<tbody>\n",
       "\t<tr><th scope=row>1</th><td>Fullmetal Alchemist: Brotherhood  </td><td>Apr</td><td>2009</td><td>Jul</td><td>2010</td><td>9.18</td><td>TV </td><td> 64</td></tr>\n",
       "\t<tr><th scope=row>2</th><td>Shingeki no Kyojin Season 3 Part 2</td><td>Apr</td><td>2019</td><td>Jul</td><td>2019</td><td>9.11</td><td>TV </td><td> 10</td></tr>\n",
       "\t<tr><th scope=row>3</th><td>Steins;Gate                       </td><td>Apr</td><td>2011</td><td>Sep</td><td>2011</td><td>9.11</td><td>TV </td><td> 24</td></tr>\n",
       "\t<tr><th scope=row>4</th><td>GintamaÂ°                         </td><td>Apr</td><td>2015</td><td>Mar</td><td>2016</td><td>9.09</td><td>TV </td><td> 51</td></tr>\n",
       "\t<tr><th scope=row>5</th><td>Hunter x Hunter (2011)            </td><td>Oct</td><td>2011</td><td>Sep</td><td>2014</td><td>9.08</td><td>TV </td><td>148</td></tr>\n",
       "\t<tr><th scope=row>6</th><td>Gintama'                          </td><td>Apr</td><td>2011</td><td>Mar</td><td>2012</td><td>9.07</td><td>TV </td><td> 51</td></tr>\n",
       "</tbody>\n",
       "</table>\n"
      ],
      "text/latex": [
       "A data.frame: 6 × 8\n",
       "\\begin{tabular}{r|llllllll}\n",
       "  & Anime\\_Name & Start\\_Month & Start\\_Year & End\\_Month & End\\_Year & Anime\\_Rating & Anime\\_Type & Number\\_Episodes\\\\\n",
       "  & <chr> & <fct> & <int> & <fct> & <int> & <dbl> & <chr> & <dbl>\\\\\n",
       "\\hline\n",
       "\t1 & Fullmetal Alchemist: Brotherhood   & Apr & 2009 & Jul & 2010 & 9.18 & TV  &  64\\\\\n",
       "\t2 & Shingeki no Kyojin Season 3 Part 2 & Apr & 2019 & Jul & 2019 & 9.11 & TV  &  10\\\\\n",
       "\t3 & Steins;Gate                        & Apr & 2011 & Sep & 2011 & 9.11 & TV  &  24\\\\\n",
       "\t4 & GintamaÂ°                          & Apr & 2015 & Mar & 2016 & 9.09 & TV  &  51\\\\\n",
       "\t5 & Hunter x Hunter (2011)             & Oct & 2011 & Sep & 2014 & 9.08 & TV  & 148\\\\\n",
       "\t6 & Gintama'                           & Apr & 2011 & Mar & 2012 & 9.07 & TV  &  51\\\\\n",
       "\\end{tabular}\n"
      ],
      "text/markdown": [
       "\n",
       "A data.frame: 6 × 8\n",
       "\n",
       "| <!--/--> | Anime_Name &lt;chr&gt; | Start_Month &lt;fct&gt; | Start_Year &lt;int&gt; | End_Month &lt;fct&gt; | End_Year &lt;int&gt; | Anime_Rating &lt;dbl&gt; | Anime_Type &lt;chr&gt; | Number_Episodes &lt;dbl&gt; |\n",
       "|---|---|---|---|---|---|---|---|---|\n",
       "| 1 | Fullmetal Alchemist: Brotherhood   | Apr | 2009 | Jul | 2010 | 9.18 | TV  |  64 |\n",
       "| 2 | Shingeki no Kyojin Season 3 Part 2 | Apr | 2019 | Jul | 2019 | 9.11 | TV  |  10 |\n",
       "| 3 | Steins;Gate                        | Apr | 2011 | Sep | 2011 | 9.11 | TV  |  24 |\n",
       "| 4 | GintamaÂ°                          | Apr | 2015 | Mar | 2016 | 9.09 | TV  |  51 |\n",
       "| 5 | Hunter x Hunter (2011)             | Oct | 2011 | Sep | 2014 | 9.08 | TV  | 148 |\n",
       "| 6 | Gintama'                           | Apr | 2011 | Mar | 2012 | 9.07 | TV  |  51 |\n",
       "\n"
      ],
      "text/plain": [
       "  Anime_Name                         Start_Month Start_Year End_Month End_Year\n",
       "1 Fullmetal Alchemist: Brotherhood   Apr         2009       Jul       2010    \n",
       "2 Shingeki no Kyojin Season 3 Part 2 Apr         2019       Jul       2019    \n",
       "3 Steins;Gate                        Apr         2011       Sep       2011    \n",
       "4 GintamaÂ°                          Apr         2015       Mar       2016    \n",
       "5 Hunter x Hunter (2011)             Oct         2011       Sep       2014    \n",
       "6 Gintama'                           Apr         2011       Mar       2012    \n",
       "  Anime_Rating Anime_Type Number_Episodes\n",
       "1 9.18         TV          64            \n",
       "2 9.11         TV          10            \n",
       "3 9.11         TV          24            \n",
       "4 9.09         TV          51            \n",
       "5 9.08         TV         148            \n",
       "6 9.07         TV          51            "
      ]
     },
     "metadata": {},
     "output_type": "display_data"
    },
    {
     "name": "stdout",
     "output_type": "stream",
     "text": [
      "'data.frame':\t10000 obs. of  8 variables:\n",
      " $ Anime_Name     : chr  \"Fullmetal Alchemist: Brotherhood\" \"Shingeki no Kyojin Season 3 Part 2\" \"Steins;Gate\" \"GintamaÂ°\" ...\n",
      " $ Start_Month    : Factor w/ 12 levels \"Jan\",\"Feb\",\"Mar\",..: 4 4 4 4 10 4 12 1 10 10 ...\n",
      " $ Start_Year     : int  2009 2019 2011 2015 2011 2011 2020 1988 2012 2017 ...\n",
      " $ End_Month      : Factor w/ 12 levels \"Jan\",\"Feb\",\"Mar\",..: 7 7 9 3 9 3 3 3 3 3 ...\n",
      " $ End_Year       : int  2010 2019 2011 2016 2014 2012 2021 1997 2013 2018 ...\n",
      " $ Anime_Rating   : num  9.18 9.11 9.11 9.09 9.08 9.07 9.07 9.06 9.04 9 ...\n",
      " $ Anime_Type     : chr  \"TV \" \"TV \" \"TV \" \"TV \" ...\n",
      " $ Number_Episodes: num  64 10 24 51 148 51 16 110 13 22 ...\n"
     ]
    }
   ],
   "source": [
    "anime_df_1 <- anime_df %>%\n",
    "    mutate(Anime_Type = gsub(\"\\\\(.*\",\"\",Anime_Episodes),\n",
    "# some are currently airing at the time of analysis and do not have a number of episodes yet\n",
    "          Number_Episodes = as.numeric(gsub(\".*\\\\(|eps.*\", \"\", Anime_Episodes)),\n",
    "          ) %>%\n",
    "# some are currently airing so no end month or end year\n",
    "    separate(col = Anime_Air_Years, into = c(\"Start_Month\", \"Start_Year\", \"dash\", \"End_Month\", \"End_Year\"), sep = \" \") %>%\n",
    "    select(-Synopsis, -Anime_Episodes)\n",
    "\n",
    "# some only had years in the air date and were incorrectly reformatted\n",
    "anime_df_1$End_Year <- ifelse(anime_df_1$dash != \"-\", anime_df_1$dash, anime_df_1$End_Year)\n",
    "anime_df_1$Start_Year <- ifelse(anime_df_1$dash != \"-\", anime_df_1$Start_Month, anime_df_1$Start_Year)\n",
    "anime_df_1$Start_Month <- ifelse(anime_df_1$dash != \"-\", NA, anime_df_1$Start_Month)\n",
    "anime_df_1$End_Month <- ifelse(anime_df_1$dash != \"-\", NA, anime_df_1$End_Month)\n",
    "\n",
    "anime_df_1 <- select(anime_df_1, -dash)\n",
    "    \n",
    "\n",
    "anime_df_1$Start_Year <- as.integer(anime_df_1$Start_Year)\n",
    "anime_df_1$End_Year <- as.integer(anime_df_1$End_Year)\n",
    "\n",
    "anime_df_1$Start_Month <- factor(anime_df_1$Start_Month, levels = c(\"Jan\", \"Feb\", \"Mar\", \"Apr\", \"May\", \"Jun\", \"Jul\", \"Aug\", \"Sep\", \"Oct\", \"Nov\", \"Dec\", NA))\n",
    "anime_df_1$End_Month <- factor(anime_df_1$End_Month, levels = c(\"Jan\", \"Feb\", \"Mar\", \"Apr\", \"May\", \"Jun\", \"Jul\", \"Aug\", \"Sep\", \"Oct\", \"Nov\", \"Dec\", NA))\n",
    "\n",
    "head(anime_df_1)\n",
    "str(anime_df_1)"
   ]
  },
  {
   "cell_type": "code",
   "execution_count": 34,
   "id": "826f9cba",
   "metadata": {},
   "outputs": [
    {
     "data": {
      "text/html": [
       "<table class=\"dataframe\">\n",
       "<caption>A data.frame: 4 × 8</caption>\n",
       "<thead>\n",
       "\t<tr><th></th><th scope=col>Anime_Name</th><th scope=col>Start_Month</th><th scope=col>Start_Year</th><th scope=col>End_Month</th><th scope=col>End_Year</th><th scope=col>Anime_Rating</th><th scope=col>Anime_Type</th><th scope=col>Number_Episodes</th></tr>\n",
       "\t<tr><th></th><th scope=col>&lt;chr&gt;</th><th scope=col>&lt;fct&gt;</th><th scope=col>&lt;int&gt;</th><th scope=col>&lt;fct&gt;</th><th scope=col>&lt;int&gt;</th><th scope=col>&lt;dbl&gt;</th><th scope=col>&lt;chr&gt;</th><th scope=col>&lt;dbl&gt;</th></tr>\n",
       "</thead>\n",
       "<tbody>\n",
       "\t<tr><th scope=row>7638</th><td>Hakujaden               </td><td>Oct</td><td>1958</td><td>Oct</td><td>1958</td><td>6.14</td><td>Movie </td><td>1</td></tr>\n",
       "\t<tr><th scope=row>9468</th><td>Chuumon no Ooi Ryouriten</td><td>Nov</td><td>1958</td><td>Nov</td><td>1958</td><td>5.63</td><td>Movie </td><td>1</td></tr>\n",
       "\t<tr><th scope=row>9917</th><td>Koguma no Koro-chan     </td><td>Mar</td><td>1958</td><td>Mar</td><td>1958</td><td>5.47</td><td>Movie </td><td>1</td></tr>\n",
       "\t<tr><th scope=row>9969</th><td>Bunbuku Chagama (1958)  </td><td>NA </td><td>1958</td><td>NA </td><td>1958</td><td>5.44</td><td>Movie </td><td>1</td></tr>\n",
       "</tbody>\n",
       "</table>\n"
      ],
      "text/latex": [
       "A data.frame: 4 × 8\n",
       "\\begin{tabular}{r|llllllll}\n",
       "  & Anime\\_Name & Start\\_Month & Start\\_Year & End\\_Month & End\\_Year & Anime\\_Rating & Anime\\_Type & Number\\_Episodes\\\\\n",
       "  & <chr> & <fct> & <int> & <fct> & <int> & <dbl> & <chr> & <dbl>\\\\\n",
       "\\hline\n",
       "\t7638 & Hakujaden                & Oct & 1958 & Oct & 1958 & 6.14 & Movie  & 1\\\\\n",
       "\t9468 & Chuumon no Ooi Ryouriten & Nov & 1958 & Nov & 1958 & 5.63 & Movie  & 1\\\\\n",
       "\t9917 & Koguma no Koro-chan      & Mar & 1958 & Mar & 1958 & 5.47 & Movie  & 1\\\\\n",
       "\t9969 & Bunbuku Chagama (1958)   & NA  & 1958 & NA  & 1958 & 5.44 & Movie  & 1\\\\\n",
       "\\end{tabular}\n"
      ],
      "text/markdown": [
       "\n",
       "A data.frame: 4 × 8\n",
       "\n",
       "| <!--/--> | Anime_Name &lt;chr&gt; | Start_Month &lt;fct&gt; | Start_Year &lt;int&gt; | End_Month &lt;fct&gt; | End_Year &lt;int&gt; | Anime_Rating &lt;dbl&gt; | Anime_Type &lt;chr&gt; | Number_Episodes &lt;dbl&gt; |\n",
       "|---|---|---|---|---|---|---|---|---|\n",
       "| 7638 | Hakujaden                | Oct | 1958 | Oct | 1958 | 6.14 | Movie  | 1 |\n",
       "| 9468 | Chuumon no Ooi Ryouriten | Nov | 1958 | Nov | 1958 | 5.63 | Movie  | 1 |\n",
       "| 9917 | Koguma no Koro-chan      | Mar | 1958 | Mar | 1958 | 5.47 | Movie  | 1 |\n",
       "| 9969 | Bunbuku Chagama (1958)   | NA  | 1958 | NA  | 1958 | 5.44 | Movie  | 1 |\n",
       "\n"
      ],
      "text/plain": [
       "     Anime_Name               Start_Month Start_Year End_Month End_Year\n",
       "7638 Hakujaden                Oct         1958       Oct       1958    \n",
       "9468 Chuumon no Ooi Ryouriten Nov         1958       Nov       1958    \n",
       "9917 Koguma no Koro-chan      Mar         1958       Mar       1958    \n",
       "9969 Bunbuku Chagama (1958)   NA          1958       NA        1958    \n",
       "     Anime_Rating Anime_Type Number_Episodes\n",
       "7638 6.14         Movie      1              \n",
       "9468 5.63         Movie      1              \n",
       "9917 5.47         Movie      1              \n",
       "9969 5.44         Movie      1              "
      ]
     },
     "metadata": {},
     "output_type": "display_data"
    },
    {
     "data": {
      "text/html": [
       "<style>\n",
       ".list-inline {list-style: none; margin:0; padding: 0}\n",
       ".list-inline>li {display: inline-block}\n",
       ".list-inline>li:not(:last-child)::after {content: \"\\00b7\"; padding: 0 .5ex}\n",
       "</style>\n",
       "<ol class=list-inline><li>Apr</li><li>Oct</li><li>Dec</li><li>Jan</li><li>Sep</li><li>Jul</li><li>Aug</li><li>Feb</li><li>Jun</li><li>Nov</li><li>May</li><li>Mar</li><li>&lt;NA&gt;</li></ol>\n",
       "\n",
       "<details>\n",
       "\t<summary style=display:list-item;cursor:pointer>\n",
       "\t\t<strong>Levels</strong>:\n",
       "\t</summary>\n",
       "\t<style>\n",
       "\t.list-inline {list-style: none; margin:0; padding: 0}\n",
       "\t.list-inline>li {display: inline-block}\n",
       "\t.list-inline>li:not(:last-child)::after {content: \"\\00b7\"; padding: 0 .5ex}\n",
       "\t</style>\n",
       "\t<ol class=list-inline><li>'Jan'</li><li>'Feb'</li><li>'Mar'</li><li>'Apr'</li><li>'May'</li><li>'Jun'</li><li>'Jul'</li><li>'Aug'</li><li>'Sep'</li><li>'Oct'</li><li>'Nov'</li><li>'Dec'</li></ol>\n",
       "</details>"
      ],
      "text/latex": [
       "\\begin{enumerate*}\n",
       "\\item Apr\n",
       "\\item Oct\n",
       "\\item Dec\n",
       "\\item Jan\n",
       "\\item Sep\n",
       "\\item Jul\n",
       "\\item Aug\n",
       "\\item Feb\n",
       "\\item Jun\n",
       "\\item Nov\n",
       "\\item May\n",
       "\\item Mar\n",
       "\\item <NA>\n",
       "\\end{enumerate*}\n",
       "\n",
       "\\emph{Levels}: \\begin{enumerate*}\n",
       "\\item 'Jan'\n",
       "\\item 'Feb'\n",
       "\\item 'Mar'\n",
       "\\item 'Apr'\n",
       "\\item 'May'\n",
       "\\item 'Jun'\n",
       "\\item 'Jul'\n",
       "\\item 'Aug'\n",
       "\\item 'Sep'\n",
       "\\item 'Oct'\n",
       "\\item 'Nov'\n",
       "\\item 'Dec'\n",
       "\\end{enumerate*}\n"
      ],
      "text/markdown": [
       "1. Apr\n",
       "2. Oct\n",
       "3. Dec\n",
       "4. Jan\n",
       "5. Sep\n",
       "6. Jul\n",
       "7. Aug\n",
       "8. Feb\n",
       "9. Jun\n",
       "10. Nov\n",
       "11. May\n",
       "12. Mar\n",
       "13. &lt;NA&gt;\n",
       "\n",
       "\n",
       "\n",
       "**Levels**: 1. 'Jan'\n",
       "2. 'Feb'\n",
       "3. 'Mar'\n",
       "4. 'Apr'\n",
       "5. 'May'\n",
       "6. 'Jun'\n",
       "7. 'Jul'\n",
       "8. 'Aug'\n",
       "9. 'Sep'\n",
       "10. 'Oct'\n",
       "11. 'Nov'\n",
       "12. 'Dec'\n",
       "\n",
       "\n"
      ],
      "text/plain": [
       " [1] Apr  Oct  Dec  Jan  Sep  Jul  Aug  Feb  Jun  Nov  May  Mar  <NA>\n",
       "Levels: Jan Feb Mar Apr May Jun Jul Aug Sep Oct Nov Dec"
      ]
     },
     "metadata": {},
     "output_type": "display_data"
    }
   ],
   "source": [
    "anime_df_1[which(anime_df_1$Start_Year == \"1958\"),]\n",
    "unique(anime_df_1$Start_Month)"
   ]
  },
  {
   "cell_type": "code",
   "execution_count": 35,
   "id": "8e9cfaf5",
   "metadata": {},
   "outputs": [],
   "source": [
    "write.csv(anime_df_1, \"C:/Users/kgtrm/Documents/VSC Code/R stuff/Anime Project/AnimeDataCleaned.csv\")"
   ]
  },
  {
   "cell_type": "code",
   "execution_count": null,
   "id": "b1d33c82",
   "metadata": {},
   "outputs": [],
   "source": [
    "# not really enough data here to do as much as originally wanted\n",
    "# can stil look at a few things: \n",
    "#         month ~ rating, num_ep ~ rating, \n",
    "#         types that have risen/fallen in popularity over the past years"
   ]
  }
 ],
 "metadata": {
  "kernelspec": {
   "display_name": "R",
   "language": "R",
   "name": "ir"
  },
  "language_info": {
   "codemirror_mode": "r",
   "file_extension": ".r",
   "mimetype": "text/x-r-source",
   "name": "R",
   "pygments_lexer": "r",
   "version": "4.1.0"
  }
 },
 "nbformat": 4,
 "nbformat_minor": 5
}
