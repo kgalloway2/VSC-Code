{
 "cells": [
  {
   "cell_type": "code",
   "execution_count": 85,
   "id": "86399de6",
   "metadata": {},
   "outputs": [],
   "source": [
    "library(tidyr)\n",
    "library(dplyr)\n",
    "library(ggplot2)\n",
    "options(repr.plot.width=15, repr.plot.height=8)"
   ]
  },
  {
   "cell_type": "code",
   "execution_count": 36,
   "id": "ae8a458c",
   "metadata": {},
   "outputs": [],
   "source": [
    "weather_df <- read.csv(\"C:/Users/kgtrm/Downloads/weatherdata.csv\")"
   ]
  },
  {
   "cell_type": "code",
   "execution_count": 37,
   "id": "3b3614a8",
   "metadata": {},
   "outputs": [
    {
     "name": "stdout",
     "output_type": "stream",
     "text": [
      "'data.frame':\t25604 obs. of  38 variables:\n",
      " $ STATION        : chr  \"US1ALLM0004\" \"US1ALLM0004\" \"US1ALLM0004\" \"US1ALLM0004\" ...\n",
      " $ NAME           : chr  \"VERNON 1.1 NNE, AL US\" \"VERNON 1.1 NNE, AL US\" \"VERNON 1.1 NNE, AL US\" \"VERNON 1.1 NNE, AL US\" ...\n",
      " $ LATITUDE       : num  33.8 33.8 33.8 33.8 33.8 ...\n",
      " $ LONGITUDE      : num  -88.1 -88.1 -88.1 -88.1 -88.1 ...\n",
      " $ ELEVATION      : num  106 106 106 106 106 ...\n",
      " $ DATE           : chr  \"2017-10-31\" \"2017-11-01\" \"2017-11-02\" \"2017-11-03\" ...\n",
      " $ DAPR           : int  NA NA NA NA NA NA NA NA NA NA ...\n",
      " $ DAPR_ATTRIBUTES: chr  \"\" \"\" \"\" \"\" ...\n",
      " $ DASF           : int  NA NA NA NA NA NA NA NA NA NA ...\n",
      " $ DASF_ATTRIBUTES: chr  \"\" \"\" \"\" \"\" ...\n",
      " $ MDPR           : num  NA NA NA NA NA NA NA NA NA NA ...\n",
      " $ MDPR_ATTRIBUTES: chr  \"\" \"\" \"\" \"\" ...\n",
      " $ MDSF           : num  NA NA NA NA NA NA NA NA NA NA ...\n",
      " $ MDSF_ATTRIBUTES: chr  \"\" \"\" \"\" \"\" ...\n",
      " $ PRCP           : num  0 0 0.06 0.03 0.05 0 0 0.01 0.04 0.23 ...\n",
      " $ PRCP_ATTRIBUTES: chr  \",,N\" \",,N\" \",,N\" \",,N\" ...\n",
      " $ SNOW           : num  0 0 NA NA NA NA NA NA NA NA ...\n",
      " $ SNOW_ATTRIBUTES: chr  \",,N\" \",,N\" \"\" \"\" ...\n",
      " $ SNWD           : num  NA NA NA NA NA NA NA NA NA NA ...\n",
      " $ SNWD_ATTRIBUTES: chr  \"\" \"\" \"\" \"\" ...\n",
      " $ TMAX           : int  NA NA NA NA NA NA NA NA NA NA ...\n",
      " $ TMAX_ATTRIBUTES: chr  \"\" \"\" \"\" \"\" ...\n",
      " $ TMIN           : int  NA NA NA NA NA NA NA NA NA NA ...\n",
      " $ TMIN_ATTRIBUTES: chr  \"\" \"\" \"\" \"\" ...\n",
      " $ TOBS           : int  NA NA NA NA NA NA NA NA NA NA ...\n",
      " $ TOBS_ATTRIBUTES: chr  \"\" \"\" \"\" \"\" ...\n",
      " $ WT01           : int  NA NA NA NA NA NA NA NA NA NA ...\n",
      " $ WT01_ATTRIBUTES: chr  \"\" \"\" \"\" \"\" ...\n",
      " $ WT03           : int  NA NA NA NA NA NA NA NA NA NA ...\n",
      " $ WT03_ATTRIBUTES: chr  \"\" \"\" \"\" \"\" ...\n",
      " $ WT04           : int  NA NA NA NA NA NA NA NA NA NA ...\n",
      " $ WT04_ATTRIBUTES: chr  \"\" \"\" \"\" \"\" ...\n",
      " $ WT05           : int  NA NA NA NA NA NA NA NA NA NA ...\n",
      " $ WT05_ATTRIBUTES: chr  \"\" \"\" \"\" \"\" ...\n",
      " $ WT06           : int  NA NA NA NA NA NA NA NA NA NA ...\n",
      " $ WT06_ATTRIBUTES: chr  \"\" \"\" \"\" \"\" ...\n",
      " $ WT11           : int  NA NA NA NA NA NA NA NA NA NA ...\n",
      " $ WT11_ATTRIBUTES: chr  \"\" \"\" \"\" \"\" ...\n"
     ]
    },
    {
     "data": {
      "text/html": [
       "<table class=\"dataframe\">\n",
       "<caption>A data.frame: 6 × 38</caption>\n",
       "<thead>\n",
       "\t<tr><th></th><th scope=col>STATION</th><th scope=col>NAME</th><th scope=col>LATITUDE</th><th scope=col>LONGITUDE</th><th scope=col>ELEVATION</th><th scope=col>DATE</th><th scope=col>DAPR</th><th scope=col>DAPR_ATTRIBUTES</th><th scope=col>DASF</th><th scope=col>DASF_ATTRIBUTES</th><th scope=col>...</th><th scope=col>WT03</th><th scope=col>WT03_ATTRIBUTES</th><th scope=col>WT04</th><th scope=col>WT04_ATTRIBUTES</th><th scope=col>WT05</th><th scope=col>WT05_ATTRIBUTES</th><th scope=col>WT06</th><th scope=col>WT06_ATTRIBUTES</th><th scope=col>WT11</th><th scope=col>WT11_ATTRIBUTES</th></tr>\n",
       "\t<tr><th></th><th scope=col>&lt;chr&gt;</th><th scope=col>&lt;chr&gt;</th><th scope=col>&lt;dbl&gt;</th><th scope=col>&lt;dbl&gt;</th><th scope=col>&lt;dbl&gt;</th><th scope=col>&lt;chr&gt;</th><th scope=col>&lt;int&gt;</th><th scope=col>&lt;chr&gt;</th><th scope=col>&lt;int&gt;</th><th scope=col>&lt;chr&gt;</th><th scope=col>...</th><th scope=col>&lt;int&gt;</th><th scope=col>&lt;chr&gt;</th><th scope=col>&lt;int&gt;</th><th scope=col>&lt;chr&gt;</th><th scope=col>&lt;int&gt;</th><th scope=col>&lt;chr&gt;</th><th scope=col>&lt;int&gt;</th><th scope=col>&lt;chr&gt;</th><th scope=col>&lt;int&gt;</th><th scope=col>&lt;chr&gt;</th></tr>\n",
       "</thead>\n",
       "<tbody>\n",
       "\t<tr><th scope=row>1</th><td>US1ALLM0004</td><td>VERNON 1.1 NNE, AL US</td><td>33.77251</td><td>-88.1039</td><td>106.4</td><td>2017-10-31</td><td>NA</td><td></td><td>NA</td><td></td><td>...</td><td>NA</td><td></td><td>NA</td><td></td><td>NA</td><td></td><td>NA</td><td></td><td>NA</td><td></td></tr>\n",
       "\t<tr><th scope=row>2</th><td>US1ALLM0004</td><td>VERNON 1.1 NNE, AL US</td><td>33.77251</td><td>-88.1039</td><td>106.4</td><td>2017-11-01</td><td>NA</td><td></td><td>NA</td><td></td><td>...</td><td>NA</td><td></td><td>NA</td><td></td><td>NA</td><td></td><td>NA</td><td></td><td>NA</td><td></td></tr>\n",
       "\t<tr><th scope=row>3</th><td>US1ALLM0004</td><td>VERNON 1.1 NNE, AL US</td><td>33.77251</td><td>-88.1039</td><td>106.4</td><td>2017-11-02</td><td>NA</td><td></td><td>NA</td><td></td><td>...</td><td>NA</td><td></td><td>NA</td><td></td><td>NA</td><td></td><td>NA</td><td></td><td>NA</td><td></td></tr>\n",
       "\t<tr><th scope=row>4</th><td>US1ALLM0004</td><td>VERNON 1.1 NNE, AL US</td><td>33.77251</td><td>-88.1039</td><td>106.4</td><td>2017-11-03</td><td>NA</td><td></td><td>NA</td><td></td><td>...</td><td>NA</td><td></td><td>NA</td><td></td><td>NA</td><td></td><td>NA</td><td></td><td>NA</td><td></td></tr>\n",
       "\t<tr><th scope=row>5</th><td>US1ALLM0004</td><td>VERNON 1.1 NNE, AL US</td><td>33.77251</td><td>-88.1039</td><td>106.4</td><td>2017-11-04</td><td>NA</td><td></td><td>NA</td><td></td><td>...</td><td>NA</td><td></td><td>NA</td><td></td><td>NA</td><td></td><td>NA</td><td></td><td>NA</td><td></td></tr>\n",
       "\t<tr><th scope=row>6</th><td>US1ALLM0004</td><td>VERNON 1.1 NNE, AL US</td><td>33.77251</td><td>-88.1039</td><td>106.4</td><td>2017-11-05</td><td>NA</td><td></td><td>NA</td><td></td><td>...</td><td>NA</td><td></td><td>NA</td><td></td><td>NA</td><td></td><td>NA</td><td></td><td>NA</td><td></td></tr>\n",
       "</tbody>\n",
       "</table>\n"
      ],
      "text/latex": [
       "A data.frame: 6 × 38\n",
       "\\begin{tabular}{r|lllllllllllllllllllll}\n",
       "  & STATION & NAME & LATITUDE & LONGITUDE & ELEVATION & DATE & DAPR & DAPR\\_ATTRIBUTES & DASF & DASF\\_ATTRIBUTES & ... & WT03 & WT03\\_ATTRIBUTES & WT04 & WT04\\_ATTRIBUTES & WT05 & WT05\\_ATTRIBUTES & WT06 & WT06\\_ATTRIBUTES & WT11 & WT11\\_ATTRIBUTES\\\\\n",
       "  & <chr> & <chr> & <dbl> & <dbl> & <dbl> & <chr> & <int> & <chr> & <int> & <chr> & ... & <int> & <chr> & <int> & <chr> & <int> & <chr> & <int> & <chr> & <int> & <chr>\\\\\n",
       "\\hline\n",
       "\t1 & US1ALLM0004 & VERNON 1.1 NNE, AL US & 33.77251 & -88.1039 & 106.4 & 2017-10-31 & NA &  & NA &  & ... & NA &  & NA &  & NA &  & NA &  & NA & \\\\\n",
       "\t2 & US1ALLM0004 & VERNON 1.1 NNE, AL US & 33.77251 & -88.1039 & 106.4 & 2017-11-01 & NA &  & NA &  & ... & NA &  & NA &  & NA &  & NA &  & NA & \\\\\n",
       "\t3 & US1ALLM0004 & VERNON 1.1 NNE, AL US & 33.77251 & -88.1039 & 106.4 & 2017-11-02 & NA &  & NA &  & ... & NA &  & NA &  & NA &  & NA &  & NA & \\\\\n",
       "\t4 & US1ALLM0004 & VERNON 1.1 NNE, AL US & 33.77251 & -88.1039 & 106.4 & 2017-11-03 & NA &  & NA &  & ... & NA &  & NA &  & NA &  & NA &  & NA & \\\\\n",
       "\t5 & US1ALLM0004 & VERNON 1.1 NNE, AL US & 33.77251 & -88.1039 & 106.4 & 2017-11-04 & NA &  & NA &  & ... & NA &  & NA &  & NA &  & NA &  & NA & \\\\\n",
       "\t6 & US1ALLM0004 & VERNON 1.1 NNE, AL US & 33.77251 & -88.1039 & 106.4 & 2017-11-05 & NA &  & NA &  & ... & NA &  & NA &  & NA &  & NA &  & NA & \\\\\n",
       "\\end{tabular}\n"
      ],
      "text/markdown": [
       "\n",
       "A data.frame: 6 × 38\n",
       "\n",
       "| <!--/--> | STATION &lt;chr&gt; | NAME &lt;chr&gt; | LATITUDE &lt;dbl&gt; | LONGITUDE &lt;dbl&gt; | ELEVATION &lt;dbl&gt; | DATE &lt;chr&gt; | DAPR &lt;int&gt; | DAPR_ATTRIBUTES &lt;chr&gt; | DASF &lt;int&gt; | DASF_ATTRIBUTES &lt;chr&gt; | ... ... | WT03 &lt;int&gt; | WT03_ATTRIBUTES &lt;chr&gt; | WT04 &lt;int&gt; | WT04_ATTRIBUTES &lt;chr&gt; | WT05 &lt;int&gt; | WT05_ATTRIBUTES &lt;chr&gt; | WT06 &lt;int&gt; | WT06_ATTRIBUTES &lt;chr&gt; | WT11 &lt;int&gt; | WT11_ATTRIBUTES &lt;chr&gt; |\n",
       "|---|---|---|---|---|---|---|---|---|---|---|---|---|---|---|---|---|---|---|---|---|---|\n",
       "| 1 | US1ALLM0004 | VERNON 1.1 NNE, AL US | 33.77251 | -88.1039 | 106.4 | 2017-10-31 | NA | <!----> | NA | <!----> | ... | NA | <!----> | NA | <!----> | NA | <!----> | NA | <!----> | NA | <!----> |\n",
       "| 2 | US1ALLM0004 | VERNON 1.1 NNE, AL US | 33.77251 | -88.1039 | 106.4 | 2017-11-01 | NA | <!----> | NA | <!----> | ... | NA | <!----> | NA | <!----> | NA | <!----> | NA | <!----> | NA | <!----> |\n",
       "| 3 | US1ALLM0004 | VERNON 1.1 NNE, AL US | 33.77251 | -88.1039 | 106.4 | 2017-11-02 | NA | <!----> | NA | <!----> | ... | NA | <!----> | NA | <!----> | NA | <!----> | NA | <!----> | NA | <!----> |\n",
       "| 4 | US1ALLM0004 | VERNON 1.1 NNE, AL US | 33.77251 | -88.1039 | 106.4 | 2017-11-03 | NA | <!----> | NA | <!----> | ... | NA | <!----> | NA | <!----> | NA | <!----> | NA | <!----> | NA | <!----> |\n",
       "| 5 | US1ALLM0004 | VERNON 1.1 NNE, AL US | 33.77251 | -88.1039 | 106.4 | 2017-11-04 | NA | <!----> | NA | <!----> | ... | NA | <!----> | NA | <!----> | NA | <!----> | NA | <!----> | NA | <!----> |\n",
       "| 6 | US1ALLM0004 | VERNON 1.1 NNE, AL US | 33.77251 | -88.1039 | 106.4 | 2017-11-05 | NA | <!----> | NA | <!----> | ... | NA | <!----> | NA | <!----> | NA | <!----> | NA | <!----> | NA | <!----> |\n",
       "\n"
      ],
      "text/plain": [
       "  STATION     NAME                  LATITUDE LONGITUDE ELEVATION DATE      \n",
       "1 US1ALLM0004 VERNON 1.1 NNE, AL US 33.77251 -88.1039  106.4     2017-10-31\n",
       "2 US1ALLM0004 VERNON 1.1 NNE, AL US 33.77251 -88.1039  106.4     2017-11-01\n",
       "3 US1ALLM0004 VERNON 1.1 NNE, AL US 33.77251 -88.1039  106.4     2017-11-02\n",
       "4 US1ALLM0004 VERNON 1.1 NNE, AL US 33.77251 -88.1039  106.4     2017-11-03\n",
       "5 US1ALLM0004 VERNON 1.1 NNE, AL US 33.77251 -88.1039  106.4     2017-11-04\n",
       "6 US1ALLM0004 VERNON 1.1 NNE, AL US 33.77251 -88.1039  106.4     2017-11-05\n",
       "  DAPR DAPR_ATTRIBUTES DASF DASF_ATTRIBUTES ... WT03 WT03_ATTRIBUTES WT04\n",
       "1 NA                   NA                   ... NA                   NA  \n",
       "2 NA                   NA                   ... NA                   NA  \n",
       "3 NA                   NA                   ... NA                   NA  \n",
       "4 NA                   NA                   ... NA                   NA  \n",
       "5 NA                   NA                   ... NA                   NA  \n",
       "6 NA                   NA                   ... NA                   NA  \n",
       "  WT04_ATTRIBUTES WT05 WT05_ATTRIBUTES WT06 WT06_ATTRIBUTES WT11\n",
       "1                 NA                   NA                   NA  \n",
       "2                 NA                   NA                   NA  \n",
       "3                 NA                   NA                   NA  \n",
       "4                 NA                   NA                   NA  \n",
       "5                 NA                   NA                   NA  \n",
       "6                 NA                   NA                   NA  \n",
       "  WT11_ATTRIBUTES\n",
       "1                \n",
       "2                \n",
       "3                \n",
       "4                \n",
       "5                \n",
       "6                "
      ]
     },
     "metadata": {},
     "output_type": "display_data"
    },
    {
     "data": {
      "text/html": [
       "<style>\n",
       ".list-inline {list-style: none; margin:0; padding: 0}\n",
       ".list-inline>li {display: inline-block}\n",
       ".list-inline>li:not(:last-child)::after {content: \"\\00b7\"; padding: 0 .5ex}\n",
       "</style>\n",
       "<ol class=list-inline><li>'STATION'</li><li>'NAME'</li><li>'LATITUDE'</li><li>'LONGITUDE'</li><li>'ELEVATION'</li><li>'DATE'</li><li>'DAPR'</li><li>'DAPR_ATTRIBUTES'</li><li>'DASF'</li><li>'DASF_ATTRIBUTES'</li><li>'MDPR'</li><li>'MDPR_ATTRIBUTES'</li><li>'MDSF'</li><li>'MDSF_ATTRIBUTES'</li><li>'PRCP'</li><li>'PRCP_ATTRIBUTES'</li><li>'SNOW'</li><li>'SNOW_ATTRIBUTES'</li><li>'SNWD'</li><li>'SNWD_ATTRIBUTES'</li><li>'TMAX'</li><li>'TMAX_ATTRIBUTES'</li><li>'TMIN'</li><li>'TMIN_ATTRIBUTES'</li><li>'TOBS'</li><li>'TOBS_ATTRIBUTES'</li><li>'WT01'</li><li>'WT01_ATTRIBUTES'</li><li>'WT03'</li><li>'WT03_ATTRIBUTES'</li><li>'WT04'</li><li>'WT04_ATTRIBUTES'</li><li>'WT05'</li><li>'WT05_ATTRIBUTES'</li><li>'WT06'</li><li>'WT06_ATTRIBUTES'</li><li>'WT11'</li><li>'WT11_ATTRIBUTES'</li></ol>\n"
      ],
      "text/latex": [
       "\\begin{enumerate*}\n",
       "\\item 'STATION'\n",
       "\\item 'NAME'\n",
       "\\item 'LATITUDE'\n",
       "\\item 'LONGITUDE'\n",
       "\\item 'ELEVATION'\n",
       "\\item 'DATE'\n",
       "\\item 'DAPR'\n",
       "\\item 'DAPR\\_ATTRIBUTES'\n",
       "\\item 'DASF'\n",
       "\\item 'DASF\\_ATTRIBUTES'\n",
       "\\item 'MDPR'\n",
       "\\item 'MDPR\\_ATTRIBUTES'\n",
       "\\item 'MDSF'\n",
       "\\item 'MDSF\\_ATTRIBUTES'\n",
       "\\item 'PRCP'\n",
       "\\item 'PRCP\\_ATTRIBUTES'\n",
       "\\item 'SNOW'\n",
       "\\item 'SNOW\\_ATTRIBUTES'\n",
       "\\item 'SNWD'\n",
       "\\item 'SNWD\\_ATTRIBUTES'\n",
       "\\item 'TMAX'\n",
       "\\item 'TMAX\\_ATTRIBUTES'\n",
       "\\item 'TMIN'\n",
       "\\item 'TMIN\\_ATTRIBUTES'\n",
       "\\item 'TOBS'\n",
       "\\item 'TOBS\\_ATTRIBUTES'\n",
       "\\item 'WT01'\n",
       "\\item 'WT01\\_ATTRIBUTES'\n",
       "\\item 'WT03'\n",
       "\\item 'WT03\\_ATTRIBUTES'\n",
       "\\item 'WT04'\n",
       "\\item 'WT04\\_ATTRIBUTES'\n",
       "\\item 'WT05'\n",
       "\\item 'WT05\\_ATTRIBUTES'\n",
       "\\item 'WT06'\n",
       "\\item 'WT06\\_ATTRIBUTES'\n",
       "\\item 'WT11'\n",
       "\\item 'WT11\\_ATTRIBUTES'\n",
       "\\end{enumerate*}\n"
      ],
      "text/markdown": [
       "1. 'STATION'\n",
       "2. 'NAME'\n",
       "3. 'LATITUDE'\n",
       "4. 'LONGITUDE'\n",
       "5. 'ELEVATION'\n",
       "6. 'DATE'\n",
       "7. 'DAPR'\n",
       "8. 'DAPR_ATTRIBUTES'\n",
       "9. 'DASF'\n",
       "10. 'DASF_ATTRIBUTES'\n",
       "11. 'MDPR'\n",
       "12. 'MDPR_ATTRIBUTES'\n",
       "13. 'MDSF'\n",
       "14. 'MDSF_ATTRIBUTES'\n",
       "15. 'PRCP'\n",
       "16. 'PRCP_ATTRIBUTES'\n",
       "17. 'SNOW'\n",
       "18. 'SNOW_ATTRIBUTES'\n",
       "19. 'SNWD'\n",
       "20. 'SNWD_ATTRIBUTES'\n",
       "21. 'TMAX'\n",
       "22. 'TMAX_ATTRIBUTES'\n",
       "23. 'TMIN'\n",
       "24. 'TMIN_ATTRIBUTES'\n",
       "25. 'TOBS'\n",
       "26. 'TOBS_ATTRIBUTES'\n",
       "27. 'WT01'\n",
       "28. 'WT01_ATTRIBUTES'\n",
       "29. 'WT03'\n",
       "30. 'WT03_ATTRIBUTES'\n",
       "31. 'WT04'\n",
       "32. 'WT04_ATTRIBUTES'\n",
       "33. 'WT05'\n",
       "34. 'WT05_ATTRIBUTES'\n",
       "35. 'WT06'\n",
       "36. 'WT06_ATTRIBUTES'\n",
       "37. 'WT11'\n",
       "38. 'WT11_ATTRIBUTES'\n",
       "\n",
       "\n"
      ],
      "text/plain": [
       " [1] \"STATION\"         \"NAME\"            \"LATITUDE\"        \"LONGITUDE\"      \n",
       " [5] \"ELEVATION\"       \"DATE\"            \"DAPR\"            \"DAPR_ATTRIBUTES\"\n",
       " [9] \"DASF\"            \"DASF_ATTRIBUTES\" \"MDPR\"            \"MDPR_ATTRIBUTES\"\n",
       "[13] \"MDSF\"            \"MDSF_ATTRIBUTES\" \"PRCP\"            \"PRCP_ATTRIBUTES\"\n",
       "[17] \"SNOW\"            \"SNOW_ATTRIBUTES\" \"SNWD\"            \"SNWD_ATTRIBUTES\"\n",
       "[21] \"TMAX\"            \"TMAX_ATTRIBUTES\" \"TMIN\"            \"TMIN_ATTRIBUTES\"\n",
       "[25] \"TOBS\"            \"TOBS_ATTRIBUTES\" \"WT01\"            \"WT01_ATTRIBUTES\"\n",
       "[29] \"WT03\"            \"WT03_ATTRIBUTES\" \"WT04\"            \"WT04_ATTRIBUTES\"\n",
       "[33] \"WT05\"            \"WT05_ATTRIBUTES\" \"WT06\"            \"WT06_ATTRIBUTES\"\n",
       "[37] \"WT11\"            \"WT11_ATTRIBUTES\""
      ]
     },
     "metadata": {},
     "output_type": "display_data"
    }
   ],
   "source": [
    "str(weather_df)\n",
    "head(weather_df)\n",
    "colnames(weather_df)"
   ]
  },
  {
   "cell_type": "code",
   "execution_count": 43,
   "id": "514e49d1",
   "metadata": {},
   "outputs": [
    {
     "name": "stdout",
     "output_type": "stream",
     "text": [
      "'data.frame':\t25604 obs. of  18 variables:\n",
      " $ STATION        : chr  \"US1ALLM0004\" \"US1ALLM0004\" \"US1ALLM0004\" \"US1ALLM0004\" ...\n",
      " $ NAME           : chr  \"VERNON 1.1 NNE, AL US\" \"VERNON 1.1 NNE, AL US\" \"VERNON 1.1 NNE, AL US\" \"VERNON 1.1 NNE, AL US\" ...\n",
      " $ LATITUDE       : num  33.8 33.8 33.8 33.8 33.8 ...\n",
      " $ LONGITUDE      : num  -88.1 -88.1 -88.1 -88.1 -88.1 ...\n",
      " $ ELEVATION      : num  106 106 106 106 106 ...\n",
      " $ DATE           : chr  \"2017-10-31\" \"2017-11-01\" \"2017-11-02\" \"2017-11-03\" ...\n",
      " $ PRCP           : num  0 0 0.06 0.03 0.05 0 0 0.01 0.04 0.23 ...\n",
      " $ PRCP_ATTRIBUTES: chr  NA NA NA NA ...\n",
      " $ SNOW           : num  0 0 NA NA NA NA NA NA NA NA ...\n",
      " $ SNOW_ATTRIBUTES: chr  NA NA NA NA ...\n",
      " $ SNWD           : num  NA NA NA NA NA NA NA NA NA NA ...\n",
      " $ SNWD_ATTRIBUTES: chr  NA NA NA NA ...\n",
      " $ TMAX           : int  NA NA NA NA NA NA NA NA NA NA ...\n",
      " $ TMAX_ATTRIBUTES: chr  NA NA NA NA ...\n",
      " $ TMIN           : int  NA NA NA NA NA NA NA NA NA NA ...\n",
      " $ TMIN_ATTRIBUTES: chr  NA NA NA NA ...\n",
      " $ TOBS           : int  NA NA NA NA NA NA NA NA NA NA ...\n",
      " $ TOBS_ATTRIBUTES: chr  NA NA NA NA ...\n"
     ]
    },
    {
     "data": {
      "text/html": [
       "<table class=\"dataframe\">\n",
       "<caption>A data.frame: 6 × 18</caption>\n",
       "<thead>\n",
       "\t<tr><th></th><th scope=col>STATION</th><th scope=col>NAME</th><th scope=col>LATITUDE</th><th scope=col>LONGITUDE</th><th scope=col>ELEVATION</th><th scope=col>DATE</th><th scope=col>PRCP</th><th scope=col>PRCP_ATTRIBUTES</th><th scope=col>SNOW</th><th scope=col>SNOW_ATTRIBUTES</th><th scope=col>SNWD</th><th scope=col>SNWD_ATTRIBUTES</th><th scope=col>TMAX</th><th scope=col>TMAX_ATTRIBUTES</th><th scope=col>TMIN</th><th scope=col>TMIN_ATTRIBUTES</th><th scope=col>TOBS</th><th scope=col>TOBS_ATTRIBUTES</th></tr>\n",
       "\t<tr><th></th><th scope=col>&lt;chr&gt;</th><th scope=col>&lt;chr&gt;</th><th scope=col>&lt;dbl&gt;</th><th scope=col>&lt;dbl&gt;</th><th scope=col>&lt;dbl&gt;</th><th scope=col>&lt;chr&gt;</th><th scope=col>&lt;dbl&gt;</th><th scope=col>&lt;chr&gt;</th><th scope=col>&lt;dbl&gt;</th><th scope=col>&lt;chr&gt;</th><th scope=col>&lt;dbl&gt;</th><th scope=col>&lt;chr&gt;</th><th scope=col>&lt;int&gt;</th><th scope=col>&lt;chr&gt;</th><th scope=col>&lt;int&gt;</th><th scope=col>&lt;chr&gt;</th><th scope=col>&lt;int&gt;</th><th scope=col>&lt;chr&gt;</th></tr>\n",
       "</thead>\n",
       "<tbody>\n",
       "\t<tr><th scope=row>1</th><td>US1ALLM0004</td><td>VERNON 1.1 NNE, AL US</td><td>33.77251</td><td>-88.1039</td><td>106.4</td><td>2017-10-31</td><td>0.00</td><td>NA</td><td> 0</td><td>NA</td><td>NA</td><td>NA</td><td>NA</td><td>NA</td><td>NA</td><td>NA</td><td>NA</td><td>NA</td></tr>\n",
       "\t<tr><th scope=row>2</th><td>US1ALLM0004</td><td>VERNON 1.1 NNE, AL US</td><td>33.77251</td><td>-88.1039</td><td>106.4</td><td>2017-11-01</td><td>0.00</td><td>NA</td><td> 0</td><td>NA</td><td>NA</td><td>NA</td><td>NA</td><td>NA</td><td>NA</td><td>NA</td><td>NA</td><td>NA</td></tr>\n",
       "\t<tr><th scope=row>3</th><td>US1ALLM0004</td><td>VERNON 1.1 NNE, AL US</td><td>33.77251</td><td>-88.1039</td><td>106.4</td><td>2017-11-02</td><td>0.06</td><td>NA</td><td>NA</td><td>NA</td><td>NA</td><td>NA</td><td>NA</td><td>NA</td><td>NA</td><td>NA</td><td>NA</td><td>NA</td></tr>\n",
       "\t<tr><th scope=row>4</th><td>US1ALLM0004</td><td>VERNON 1.1 NNE, AL US</td><td>33.77251</td><td>-88.1039</td><td>106.4</td><td>2017-11-03</td><td>0.03</td><td>NA</td><td>NA</td><td>NA</td><td>NA</td><td>NA</td><td>NA</td><td>NA</td><td>NA</td><td>NA</td><td>NA</td><td>NA</td></tr>\n",
       "\t<tr><th scope=row>5</th><td>US1ALLM0004</td><td>VERNON 1.1 NNE, AL US</td><td>33.77251</td><td>-88.1039</td><td>106.4</td><td>2017-11-04</td><td>0.05</td><td>NA</td><td>NA</td><td>NA</td><td>NA</td><td>NA</td><td>NA</td><td>NA</td><td>NA</td><td>NA</td><td>NA</td><td>NA</td></tr>\n",
       "\t<tr><th scope=row>6</th><td>US1ALLM0004</td><td>VERNON 1.1 NNE, AL US</td><td>33.77251</td><td>-88.1039</td><td>106.4</td><td>2017-11-05</td><td>0.00</td><td>NA</td><td>NA</td><td>NA</td><td>NA</td><td>NA</td><td>NA</td><td>NA</td><td>NA</td><td>NA</td><td>NA</td><td>NA</td></tr>\n",
       "</tbody>\n",
       "</table>\n"
      ],
      "text/latex": [
       "A data.frame: 6 × 18\n",
       "\\begin{tabular}{r|llllllllllllllllll}\n",
       "  & STATION & NAME & LATITUDE & LONGITUDE & ELEVATION & DATE & PRCP & PRCP\\_ATTRIBUTES & SNOW & SNOW\\_ATTRIBUTES & SNWD & SNWD\\_ATTRIBUTES & TMAX & TMAX\\_ATTRIBUTES & TMIN & TMIN\\_ATTRIBUTES & TOBS & TOBS\\_ATTRIBUTES\\\\\n",
       "  & <chr> & <chr> & <dbl> & <dbl> & <dbl> & <chr> & <dbl> & <chr> & <dbl> & <chr> & <dbl> & <chr> & <int> & <chr> & <int> & <chr> & <int> & <chr>\\\\\n",
       "\\hline\n",
       "\t1 & US1ALLM0004 & VERNON 1.1 NNE, AL US & 33.77251 & -88.1039 & 106.4 & 2017-10-31 & 0.00 & NA &  0 & NA & NA & NA & NA & NA & NA & NA & NA & NA\\\\\n",
       "\t2 & US1ALLM0004 & VERNON 1.1 NNE, AL US & 33.77251 & -88.1039 & 106.4 & 2017-11-01 & 0.00 & NA &  0 & NA & NA & NA & NA & NA & NA & NA & NA & NA\\\\\n",
       "\t3 & US1ALLM0004 & VERNON 1.1 NNE, AL US & 33.77251 & -88.1039 & 106.4 & 2017-11-02 & 0.06 & NA & NA & NA & NA & NA & NA & NA & NA & NA & NA & NA\\\\\n",
       "\t4 & US1ALLM0004 & VERNON 1.1 NNE, AL US & 33.77251 & -88.1039 & 106.4 & 2017-11-03 & 0.03 & NA & NA & NA & NA & NA & NA & NA & NA & NA & NA & NA\\\\\n",
       "\t5 & US1ALLM0004 & VERNON 1.1 NNE, AL US & 33.77251 & -88.1039 & 106.4 & 2017-11-04 & 0.05 & NA & NA & NA & NA & NA & NA & NA & NA & NA & NA & NA\\\\\n",
       "\t6 & US1ALLM0004 & VERNON 1.1 NNE, AL US & 33.77251 & -88.1039 & 106.4 & 2017-11-05 & 0.00 & NA & NA & NA & NA & NA & NA & NA & NA & NA & NA & NA\\\\\n",
       "\\end{tabular}\n"
      ],
      "text/markdown": [
       "\n",
       "A data.frame: 6 × 18\n",
       "\n",
       "| <!--/--> | STATION &lt;chr&gt; | NAME &lt;chr&gt; | LATITUDE &lt;dbl&gt; | LONGITUDE &lt;dbl&gt; | ELEVATION &lt;dbl&gt; | DATE &lt;chr&gt; | PRCP &lt;dbl&gt; | PRCP_ATTRIBUTES &lt;chr&gt; | SNOW &lt;dbl&gt; | SNOW_ATTRIBUTES &lt;chr&gt; | SNWD &lt;dbl&gt; | SNWD_ATTRIBUTES &lt;chr&gt; | TMAX &lt;int&gt; | TMAX_ATTRIBUTES &lt;chr&gt; | TMIN &lt;int&gt; | TMIN_ATTRIBUTES &lt;chr&gt; | TOBS &lt;int&gt; | TOBS_ATTRIBUTES &lt;chr&gt; |\n",
       "|---|---|---|---|---|---|---|---|---|---|---|---|---|---|---|---|---|---|---|\n",
       "| 1 | US1ALLM0004 | VERNON 1.1 NNE, AL US | 33.77251 | -88.1039 | 106.4 | 2017-10-31 | 0.00 | NA |  0 | NA | NA | NA | NA | NA | NA | NA | NA | NA |\n",
       "| 2 | US1ALLM0004 | VERNON 1.1 NNE, AL US | 33.77251 | -88.1039 | 106.4 | 2017-11-01 | 0.00 | NA |  0 | NA | NA | NA | NA | NA | NA | NA | NA | NA |\n",
       "| 3 | US1ALLM0004 | VERNON 1.1 NNE, AL US | 33.77251 | -88.1039 | 106.4 | 2017-11-02 | 0.06 | NA | NA | NA | NA | NA | NA | NA | NA | NA | NA | NA |\n",
       "| 4 | US1ALLM0004 | VERNON 1.1 NNE, AL US | 33.77251 | -88.1039 | 106.4 | 2017-11-03 | 0.03 | NA | NA | NA | NA | NA | NA | NA | NA | NA | NA | NA |\n",
       "| 5 | US1ALLM0004 | VERNON 1.1 NNE, AL US | 33.77251 | -88.1039 | 106.4 | 2017-11-04 | 0.05 | NA | NA | NA | NA | NA | NA | NA | NA | NA | NA | NA |\n",
       "| 6 | US1ALLM0004 | VERNON 1.1 NNE, AL US | 33.77251 | -88.1039 | 106.4 | 2017-11-05 | 0.00 | NA | NA | NA | NA | NA | NA | NA | NA | NA | NA | NA |\n",
       "\n"
      ],
      "text/plain": [
       "  STATION     NAME                  LATITUDE LONGITUDE ELEVATION DATE      \n",
       "1 US1ALLM0004 VERNON 1.1 NNE, AL US 33.77251 -88.1039  106.4     2017-10-31\n",
       "2 US1ALLM0004 VERNON 1.1 NNE, AL US 33.77251 -88.1039  106.4     2017-11-01\n",
       "3 US1ALLM0004 VERNON 1.1 NNE, AL US 33.77251 -88.1039  106.4     2017-11-02\n",
       "4 US1ALLM0004 VERNON 1.1 NNE, AL US 33.77251 -88.1039  106.4     2017-11-03\n",
       "5 US1ALLM0004 VERNON 1.1 NNE, AL US 33.77251 -88.1039  106.4     2017-11-04\n",
       "6 US1ALLM0004 VERNON 1.1 NNE, AL US 33.77251 -88.1039  106.4     2017-11-05\n",
       "  PRCP PRCP_ATTRIBUTES SNOW SNOW_ATTRIBUTES SNWD SNWD_ATTRIBUTES TMAX\n",
       "1 0.00 NA               0   NA              NA   NA              NA  \n",
       "2 0.00 NA               0   NA              NA   NA              NA  \n",
       "3 0.06 NA              NA   NA              NA   NA              NA  \n",
       "4 0.03 NA              NA   NA              NA   NA              NA  \n",
       "5 0.05 NA              NA   NA              NA   NA              NA  \n",
       "6 0.00 NA              NA   NA              NA   NA              NA  \n",
       "  TMAX_ATTRIBUTES TMIN TMIN_ATTRIBUTES TOBS TOBS_ATTRIBUTES\n",
       "1 NA              NA   NA              NA   NA             \n",
       "2 NA              NA   NA              NA   NA             \n",
       "3 NA              NA   NA              NA   NA             \n",
       "4 NA              NA   NA              NA   NA             \n",
       "5 NA              NA   NA              NA   NA             \n",
       "6 NA              NA   NA              NA   NA             "
      ]
     },
     "metadata": {},
     "output_type": "display_data"
    }
   ],
   "source": [
    "# remove columns with >= 50% NA values\n",
    "weather_df[weather_df == \"\"] <- NA\n",
    "weather_df[weather_df == \",,N\"] <- NA\n",
    "weather_df[weather_df == \"NA\"] <- NA\n",
    "\n",
    "columns_with_data <- weather_df %>%\n",
    "    select(which(colMeans(is.na(.)) < 0.5))\n",
    "\n",
    "str(columns_with_data)\n",
    "head(columns_with_data)"
   ]
  },
  {
   "cell_type": "code",
   "execution_count": 57,
   "id": "022275dc",
   "metadata": {},
   "outputs": [],
   "source": [
    "# split date into year, month, day attributes\n",
    "weather_data_dated <- columns_with_data %>%\n",
    "    separate(col = \"DATE\", into = c(\"YEAR\", \"MONTH\", \"DAY\"), sep = \"-\")\n",
    "\n",
    "weather_data_dated$YEAR <- as.numeric(weather_data_dated$YEAR)\n",
    "weather_data_dated$MONTH <- as.numeric(weather_data_dated$MONTH)\n",
    "weather_data_dated$DAY <- as.numeric(weather_data_dated$DAY)\n",
    "\n",
    "# weather_data_dated"
   ]
  },
  {
   "cell_type": "code",
   "execution_count": 76,
   "id": "b037cf3c",
   "metadata": {
    "scrolled": false
   },
   "outputs": [
    {
     "name": "stderr",
     "output_type": "stream",
     "text": [
      "`geom_smooth()` using method = 'loess' and formula 'y ~ x'\n",
      "\n",
      "Warning message:\n",
      "\"Removed 5 rows containing non-finite values (stat_smooth).\"\n",
      "`geom_smooth()` using method = 'loess' and formula 'y ~ x'\n",
      "\n",
      "Warning message:\n",
      "\"Removed 5 rows containing non-finite values (stat_smooth).\"\n",
      "Warning message:\n",
      "\"Removed 5 rows containing missing values (geom_point).\"\n",
      "Warning message:\n",
      "\"Removed 5 rows containing missing values (geom_point).\"\n"
     ]
    },
    {
     "data": {
      "image/png": "[encoded data removed]",
      "text/plain": [
       "plot without title"
      ]
     },
     "metadata": {
      "image/png": {
       "height": 420,
       "width": 420
      }
     },
     "output_type": "display_data"
    }
   ],
   "source": [
    "# let's look at average yearly temperatures\n",
    "\n",
    "yearly_temps <- weather_data_dated %>%\n",
    "    group_by(YEAR) %>%\n",
    "    summarize(AVG_MAX_TEMP = mean(TMAX, na.rm = TRUE),\n",
    "             AVG_MIN_TEMP = mean(TMIN, na.rm = TRUE))\n",
    "\n",
    "# yearly_temps\n",
    "\n",
    "ggplot(data = yearly_temps) +\n",
    "    geom_point(aes(x = YEAR, y = AVG_MIN_TEMP), color = \"blue\") +\n",
    "    geom_smooth(aes(x = YEAR, y = AVG_MIN_TEMP), color= \"black\") +\n",
    "    geom_point(aes(x = YEAR, y = AVG_MAX_TEMP), color = \"red\") +\n",
    "    geom_smooth(aes(x = YEAR, y = AVG_MAX_TEMP), color= \"black\")\n"
   ]
  },
  {
   "cell_type": "code",
   "execution_count": 86,
   "id": "60a8eb9f",
   "metadata": {},
   "outputs": [
    {
     "name": "stderr",
     "output_type": "stream",
     "text": [
      "`geom_smooth()` using method = 'loess' and formula 'y ~ x'\n",
      "\n",
      "Warning message:\n",
      "\"Removed 5 rows containing non-finite values (stat_smooth).\"\n",
      "`geom_smooth()` using method = 'loess' and formula 'y ~ x'\n",
      "\n",
      "Warning message:\n",
      "\"Removed 5 rows containing non-finite values (stat_smooth).\"\n",
      "Warning message:\n",
      "\"Removed 5 rows containing missing values (geom_point).\"\n",
      "Warning message:\n",
      "\"Removed 5 rows containing missing values (geom_point).\"\n"
     ]
    },
    {
     "data": {
      "image/png": "[encoded data removed]",
      "text/plain": [
       "plot without title"
      ]
     },
     "metadata": {
      "image/png": {
       "height": 480,
       "width": 900
      }
     },
     "output_type": "display_data"
    }
   ],
   "source": [
    "# let's look at median yearly temperatures\n",
    "\n",
    "yearly_temps <- weather_data_dated %>%\n",
    "    group_by(YEAR) %>%\n",
    "    summarize(MED_MAX_TEMP = median(TMAX, na.rm = TRUE),\n",
    "             MED_MIN_TEMP = median(TMIN, na.rm = TRUE))\n",
    "\n",
    "# yearly_temps\n",
    "\n",
    "ggplot(data = yearly_temps) +\n",
    "    geom_point(aes(x = YEAR, y = MED_MIN_TEMP), color = \"blue\") +\n",
    "    geom_smooth(aes(x = YEAR, y = MED_MIN_TEMP), color= \"black\") +\n",
    "    geom_point(aes(x = YEAR, y = MED_MAX_TEMP), color = \"red\") +\n",
    "    geom_smooth(aes(x = YEAR, y = MED_MAX_TEMP), color= \"black\")"
   ]
  },
  {
   "cell_type": "code",
   "execution_count": 92,
   "id": "0728e98c",
   "metadata": {},
   "outputs": [
    {
     "name": "stderr",
     "output_type": "stream",
     "text": [
      "`summarise()` has grouped output by 'MONTH'. You can override using the `.groups` argument.\n",
      "\n",
      "`geom_smooth()` using method = 'gam' and formula 'y ~ s(x, bs = \"cs\")'\n",
      "\n",
      "`geom_smooth()` using method = 'gam' and formula 'y ~ s(x, bs = \"cs\")'\n",
      "\n"
     ]
    },
    {
     "data": {
      "image/png": "[encoded data removed]",
      "text/plain": [
       "plot without title"
      ]
     },
     "metadata": {
      "image/png": {
       "height": 480,
       "width": 900
      }
     },
     "output_type": "display_data"
    }
   ],
   "source": [
    "# let's look at average monthly temperatures\n",
    "\n",
    "yearly_temps <- weather_data_dated %>%\n",
    "    group_by(MONTH) %>%\n",
    "    summarize(MONTH = MONTH,\n",
    "             AVG_MAX_TEMP = mean(TMAX, na.rm = TRUE),\n",
    "             AVG_MIN_TEMP = mean(TMIN, na.rm = TRUE))\n",
    "\n",
    "# yearly_temps\n",
    "\n",
    "ggplot(data = yearly_temps) +\n",
    "    geom_point(aes(x = MONTH, y = AVG_MIN_TEMP), color = \"blue\") +\n",
    "    geom_smooth(aes(x = MONTH, y = AVG_MIN_TEMP), color= \"black\") +\n",
    "    geom_point(aes(x = MONTH, y = AVG_MAX_TEMP), color = \"red\") +\n",
    "    geom_smooth(aes(x = MONTH, y = AVG_MAX_TEMP), color= \"black\")"
   ]
  }
 ],
 "metadata": {
  "kernelspec": {
   "display_name": "R",
   "language": "R",
   "name": "ir"
  },
  "language_info": {
   "codemirror_mode": "r",
   "file_extension": ".r",
   "mimetype": "text/x-r-source",
   "name": "R",
   "pygments_lexer": "r",
   "version": "4.1.0"
  }
 },
 "nbformat": 4,
 "nbformat_minor": 5
}
