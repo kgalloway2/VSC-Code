{
 "cells": [
  {
   "cell_type": "code",
   "execution_count": 52,
   "id": "cc6a367e",
   "metadata": {
    "collapsed": true
   },
   "outputs": [
    {
     "name": "stderr",
     "output_type": "stream",
     "text": [
      "\n",
      "Attaching package: 'lubridate'\n",
      "\n",
      "\n",
      "The following objects are masked from 'package:base':\n",
      "\n",
      "    date, intersect, setdiff, union\n",
      "\n",
      "\n"
     ]
    }
   ],
   "source": [
    "library(dplyr)\n",
    "library(ggplot2)\n",
    "library(lubridate)"
   ]
  },
  {
   "cell_type": "code",
   "execution_count": 12,
   "id": "d090d418",
   "metadata": {},
   "outputs": [
    {
     "data": {
      "text/html": [
       "<table class=\"dataframe\">\n",
       "<caption>A data.frame: 6 × 7</caption>\n",
       "<thead>\n",
       "\t<tr><th></th><th scope=col>place</th><th scope=col>date</th><th scope=col>verification_status</th><th scope=col>emulator</th><th scope=col>platform</th><th scope=col>region</th><th scope=col>realtime</th></tr>\n",
       "\t<tr><th></th><th scope=col>&lt;int&gt;</th><th scope=col>&lt;chr&gt;</th><th scope=col>&lt;chr&gt;</th><th scope=col>&lt;chr&gt;</th><th scope=col>&lt;chr&gt;</th><th scope=col>&lt;chr&gt;</th><th scope=col>&lt;dbl&gt;</th></tr>\n",
       "</thead>\n",
       "<tbody>\n",
       "\t<tr><th scope=row>1</th><td>1</td><td>2021-07-10</td><td>verified</td><td>False</td><td>v06dk3e4</td><td>o316x197</td><td>4403</td></tr>\n",
       "\t<tr><th scope=row>2</th><td>2</td><td>2020-06-28</td><td>verified</td><td>False</td><td>v06dk3e4</td><td>o316x197</td><td>4424</td></tr>\n",
       "\t<tr><th scope=row>3</th><td>3</td><td>2021-05-30</td><td>verified</td><td>False</td><td>v06dk3e4</td><td>o316x197</td><td>4439</td></tr>\n",
       "\t<tr><th scope=row>4</th><td>4</td><td>2019-12-28</td><td>verified</td><td>False</td><td>v06dk3e4</td><td>o316x197</td><td>4453</td></tr>\n",
       "\t<tr><th scope=row>5</th><td>5</td><td>2021-05-26</td><td>verified</td><td>False</td><td>v06dk3e4</td><td>o316x197</td><td>4454</td></tr>\n",
       "\t<tr><th scope=row>6</th><td>6</td><td>2020-06-06</td><td>verified</td><td>False</td><td>v06dk3e4</td><td>o316x197</td><td>4462</td></tr>\n",
       "</tbody>\n",
       "</table>\n"
      ],
      "text/latex": [
       "A data.frame: 6 × 7\n",
       "\\begin{tabular}{r|lllllll}\n",
       "  & place & date & verification\\_status & emulator & platform & region & realtime\\\\\n",
       "  & <int> & <chr> & <chr> & <chr> & <chr> & <chr> & <dbl>\\\\\n",
       "\\hline\n",
       "\t1 & 1 & 2021-07-10 & verified & False & v06dk3e4 & o316x197 & 4403\\\\\n",
       "\t2 & 2 & 2020-06-28 & verified & False & v06dk3e4 & o316x197 & 4424\\\\\n",
       "\t3 & 3 & 2021-05-30 & verified & False & v06dk3e4 & o316x197 & 4439\\\\\n",
       "\t4 & 4 & 2019-12-28 & verified & False & v06dk3e4 & o316x197 & 4453\\\\\n",
       "\t5 & 5 & 2021-05-26 & verified & False & v06dk3e4 & o316x197 & 4454\\\\\n",
       "\t6 & 6 & 2020-06-06 & verified & False & v06dk3e4 & o316x197 & 4462\\\\\n",
       "\\end{tabular}\n"
      ],
      "text/markdown": [
       "\n",
       "A data.frame: 6 × 7\n",
       "\n",
       "| <!--/--> | place &lt;int&gt; | date &lt;chr&gt; | verification_status &lt;chr&gt; | emulator &lt;chr&gt; | platform &lt;chr&gt; | region &lt;chr&gt; | realtime &lt;dbl&gt; |\n",
       "|---|---|---|---|---|---|---|---|\n",
       "| 1 | 1 | 2021-07-10 | verified | False | v06dk3e4 | o316x197 | 4403 |\n",
       "| 2 | 2 | 2020-06-28 | verified | False | v06dk3e4 | o316x197 | 4424 |\n",
       "| 3 | 3 | 2021-05-30 | verified | False | v06dk3e4 | o316x197 | 4439 |\n",
       "| 4 | 4 | 2019-12-28 | verified | False | v06dk3e4 | o316x197 | 4453 |\n",
       "| 5 | 5 | 2021-05-26 | verified | False | v06dk3e4 | o316x197 | 4454 |\n",
       "| 6 | 6 | 2020-06-06 | verified | False | v06dk3e4 | o316x197 | 4462 |\n",
       "\n"
      ],
      "text/plain": [
       "  place date       verification_status emulator platform region   realtime\n",
       "1 1     2021-07-10 verified            False    v06dk3e4 o316x197 4403    \n",
       "2 2     2020-06-28 verified            False    v06dk3e4 o316x197 4424    \n",
       "3 3     2021-05-30 verified            False    v06dk3e4 o316x197 4439    \n",
       "4 4     2019-12-28 verified            False    v06dk3e4 o316x197 4453    \n",
       "5 5     2021-05-26 verified            False    v06dk3e4 o316x197 4454    \n",
       "6 6     2020-06-06 verified            False    v06dk3e4 o316x197 4462    "
      ]
     },
     "metadata": {},
     "output_type": "display_data"
    },
    {
     "name": "stdout",
     "output_type": "stream",
     "text": [
      "'data.frame':\t1313 obs. of  7 variables:\n",
      " $ place              : int  1 2 3 4 5 6 7 8 9 10 ...\n",
      " $ date               : chr  \"2021-07-10\" \"2020-06-28\" \"2021-05-30\" \"2019-12-28\" ...\n",
      " $ verification_status: chr  \"verified\" \"verified\" \"verified\" \"verified\" ...\n",
      " $ emulator           : chr  \"False\" \"False\" \"False\" \"False\" ...\n",
      " $ platform           : chr  \"v06dk3e4\" \"v06dk3e4\" \"v06dk3e4\" \"v06dk3e4\" ...\n",
      " $ region             : chr  \"o316x197\" \"o316x197\" \"o316x197\" \"o316x197\" ...\n",
      " $ realtime           : num  4403 4424 4439 4453 4454 ...\n"
     ]
    }
   ],
   "source": [
    "# data as of 7/15/2021\n",
    "leaderboard <- read.csv(\"C:/Users/kgtrm/Documents/VSC Code/API Stuff/SMSLeaderboard.csv\")\n",
    "\n",
    "head(leaderboard)\n",
    "str(leaderboard)"
   ]
  },
  {
   "cell_type": "code",
   "execution_count": 16,
   "id": "56857a26",
   "metadata": {},
   "outputs": [
    {
     "data": {
      "text/html": [
       "<table class=\"dataframe\">\n",
       "<caption>A data.frame: 6 × 7</caption>\n",
       "<thead>\n",
       "\t<tr><th></th><th scope=col>place</th><th scope=col>date</th><th scope=col>verification_status</th><th scope=col>emulator</th><th scope=col>platform</th><th scope=col>region</th><th scope=col>realtime</th></tr>\n",
       "\t<tr><th></th><th scope=col>&lt;int&gt;</th><th scope=col>&lt;date&gt;</th><th scope=col>&lt;chr&gt;</th><th scope=col>&lt;lgl&gt;</th><th scope=col>&lt;chr&gt;</th><th scope=col>&lt;chr&gt;</th><th scope=col>&lt;dbl&gt;</th></tr>\n",
       "</thead>\n",
       "<tbody>\n",
       "\t<tr><th scope=row>1</th><td>1</td><td>2021-07-10</td><td>verified</td><td>FALSE</td><td>v06dk3e4</td><td>o316x197</td><td>4403</td></tr>\n",
       "\t<tr><th scope=row>2</th><td>2</td><td>2020-06-28</td><td>verified</td><td>FALSE</td><td>v06dk3e4</td><td>o316x197</td><td>4424</td></tr>\n",
       "\t<tr><th scope=row>3</th><td>3</td><td>2021-05-30</td><td>verified</td><td>FALSE</td><td>v06dk3e4</td><td>o316x197</td><td>4439</td></tr>\n",
       "\t<tr><th scope=row>4</th><td>4</td><td>2019-12-28</td><td>verified</td><td>FALSE</td><td>v06dk3e4</td><td>o316x197</td><td>4453</td></tr>\n",
       "\t<tr><th scope=row>5</th><td>5</td><td>2021-05-26</td><td>verified</td><td>FALSE</td><td>v06dk3e4</td><td>o316x197</td><td>4454</td></tr>\n",
       "\t<tr><th scope=row>6</th><td>6</td><td>2020-06-06</td><td>verified</td><td>FALSE</td><td>v06dk3e4</td><td>o316x197</td><td>4462</td></tr>\n",
       "</tbody>\n",
       "</table>\n"
      ],
      "text/latex": [
       "A data.frame: 6 × 7\n",
       "\\begin{tabular}{r|lllllll}\n",
       "  & place & date & verification\\_status & emulator & platform & region & realtime\\\\\n",
       "  & <int> & <date> & <chr> & <lgl> & <chr> & <chr> & <dbl>\\\\\n",
       "\\hline\n",
       "\t1 & 1 & 2021-07-10 & verified & FALSE & v06dk3e4 & o316x197 & 4403\\\\\n",
       "\t2 & 2 & 2020-06-28 & verified & FALSE & v06dk3e4 & o316x197 & 4424\\\\\n",
       "\t3 & 3 & 2021-05-30 & verified & FALSE & v06dk3e4 & o316x197 & 4439\\\\\n",
       "\t4 & 4 & 2019-12-28 & verified & FALSE & v06dk3e4 & o316x197 & 4453\\\\\n",
       "\t5 & 5 & 2021-05-26 & verified & FALSE & v06dk3e4 & o316x197 & 4454\\\\\n",
       "\t6 & 6 & 2020-06-06 & verified & FALSE & v06dk3e4 & o316x197 & 4462\\\\\n",
       "\\end{tabular}\n"
      ],
      "text/markdown": [
       "\n",
       "A data.frame: 6 × 7\n",
       "\n",
       "| <!--/--> | place &lt;int&gt; | date &lt;date&gt; | verification_status &lt;chr&gt; | emulator &lt;lgl&gt; | platform &lt;chr&gt; | region &lt;chr&gt; | realtime &lt;dbl&gt; |\n",
       "|---|---|---|---|---|---|---|---|\n",
       "| 1 | 1 | 2021-07-10 | verified | FALSE | v06dk3e4 | o316x197 | 4403 |\n",
       "| 2 | 2 | 2020-06-28 | verified | FALSE | v06dk3e4 | o316x197 | 4424 |\n",
       "| 3 | 3 | 2021-05-30 | verified | FALSE | v06dk3e4 | o316x197 | 4439 |\n",
       "| 4 | 4 | 2019-12-28 | verified | FALSE | v06dk3e4 | o316x197 | 4453 |\n",
       "| 5 | 5 | 2021-05-26 | verified | FALSE | v06dk3e4 | o316x197 | 4454 |\n",
       "| 6 | 6 | 2020-06-06 | verified | FALSE | v06dk3e4 | o316x197 | 4462 |\n",
       "\n"
      ],
      "text/plain": [
       "  place date       verification_status emulator platform region   realtime\n",
       "1 1     2021-07-10 verified            FALSE    v06dk3e4 o316x197 4403    \n",
       "2 2     2020-06-28 verified            FALSE    v06dk3e4 o316x197 4424    \n",
       "3 3     2021-05-30 verified            FALSE    v06dk3e4 o316x197 4439    \n",
       "4 4     2019-12-28 verified            FALSE    v06dk3e4 o316x197 4453    \n",
       "5 5     2021-05-26 verified            FALSE    v06dk3e4 o316x197 4454    \n",
       "6 6     2020-06-06 verified            FALSE    v06dk3e4 o316x197 4462    "
      ]
     },
     "metadata": {},
     "output_type": "display_data"
    }
   ],
   "source": [
    "# let's change the attributes to more appropriate data types\n",
    "leaderboard$date <- as.Date(leaderboard$date)\n",
    "leaderboard$emulator <- ifelse(leaderboard$emulator == \"False\", FALSE, TRUE)\n",
    "\n",
    "head(leaderboard)"
   ]
  },
  {
   "cell_type": "code",
   "execution_count": 41,
   "id": "ec89f637",
   "metadata": {},
   "outputs": [
    {
     "data": {
      "text/plain": [
       "   Min. 1st Qu.  Median    Mean 3rd Qu.    Max. \n",
       "   4403    5269    6174    7064    7505   86627 "
      ]
     },
     "metadata": {},
     "output_type": "display_data"
    },
    {
     "data": {
      "text/html": [
       "<table class=\"dataframe\">\n",
       "<caption>A data.frame: 1 × 7</caption>\n",
       "<thead>\n",
       "\t<tr><th></th><th scope=col>place</th><th scope=col>date</th><th scope=col>verification_status</th><th scope=col>emulator</th><th scope=col>platform</th><th scope=col>region</th><th scope=col>realtime</th></tr>\n",
       "\t<tr><th></th><th scope=col>&lt;int&gt;</th><th scope=col>&lt;date&gt;</th><th scope=col>&lt;chr&gt;</th><th scope=col>&lt;lgl&gt;</th><th scope=col>&lt;chr&gt;</th><th scope=col>&lt;chr&gt;</th><th scope=col>&lt;dbl&gt;</th></tr>\n",
       "</thead>\n",
       "<tbody>\n",
       "\t<tr><th scope=row>852</th><td>852</td><td>2008-12-05</td><td>verified</td><td>FALSE</td><td>4p9z06rn</td><td></td><td>6950</td></tr>\n",
       "</tbody>\n",
       "</table>\n"
      ],
      "text/latex": [
       "A data.frame: 1 × 7\n",
       "\\begin{tabular}{r|lllllll}\n",
       "  & place & date & verification\\_status & emulator & platform & region & realtime\\\\\n",
       "  & <int> & <date> & <chr> & <lgl> & <chr> & <chr> & <dbl>\\\\\n",
       "\\hline\n",
       "\t852 & 852 & 2008-12-05 & verified & FALSE & 4p9z06rn &  & 6950\\\\\n",
       "\\end{tabular}\n"
      ],
      "text/markdown": [
       "\n",
       "A data.frame: 1 × 7\n",
       "\n",
       "| <!--/--> | place &lt;int&gt; | date &lt;date&gt; | verification_status &lt;chr&gt; | emulator &lt;lgl&gt; | platform &lt;chr&gt; | region &lt;chr&gt; | realtime &lt;dbl&gt; |\n",
       "|---|---|---|---|---|---|---|---|\n",
       "| 852 | 852 | 2008-12-05 | verified | FALSE | 4p9z06rn | <!----> | 6950 |\n",
       "\n"
      ],
      "text/plain": [
       "    place date       verification_status emulator platform region realtime\n",
       "852 852   2008-12-05 verified            FALSE    4p9z06rn        6950    "
      ]
     },
     "metadata": {},
     "output_type": "display_data"
    }
   ],
   "source": [
    "summary(leaderboard$realtime)\n",
    "\n",
    "today <- as.Date(\"2021-07-16\")\n",
    "cur_max = 0\n",
    "# difference <- as.numeric(today - leaderboard[1,2])\n",
    "# difference\n",
    "# difference > cur_max\n",
    "for (i in 1:nrow(leaderboard)) {\n",
    "    difference <- as.numeric(today - leaderboard[i,2])\n",
    "    if (!is.na(difference)) {\n",
    "        if (difference > cur_max) {\n",
    "            oldest_index <- i\n",
    "            cur_max <- difference\n",
    "        }\n",
    "    }\n",
    "}\n",
    "\n",
    "leaderboard[oldest_index,]"
   ]
  },
  {
   "cell_type": "code",
   "execution_count": 83,
   "id": "ed1cd276",
   "metadata": {},
   "outputs": [
    {
     "data": {
      "text/plain": [
       "   Min. 1st Qu.  Median    Mean 3rd Qu.    Max. \n",
       "   4403    5264    6153    6750    7435   20064 "
      ]
     },
     "metadata": {},
     "output_type": "display_data"
    },
    {
     "name": "stderr",
     "output_type": "stream",
     "text": [
      "Warning message:\n",
      "\"Removed 42 rows containing missing values (geom_point).\"\n"
     ]
    },
    {
     "data": {
      "image/png": "[encoded data removed]",
      "text/plain": [
       "plot without title"
      ]
     },
     "metadata": {
      "image/png": {
       "height": 420,
       "width": 420
      }
     },
     "output_type": "display_data"
    }
   ],
   "source": [
    "\n",
    "without_top_5 <- leaderboard[leaderboard$realtime < quantile(leaderboard$realtime, 0.95),]\n",
    "summary(without_top_10$realtime)\n",
    "\n",
    "ggplot(data = without_top_5, aes(x = date, y = realtime)) +\n",
    "    geom_point()"
   ]
  },
  {
   "cell_type": "code",
   "execution_count": 84,
   "id": "ea52b282",
   "metadata": {},
   "outputs": [
    {
     "name": "stderr",
     "output_type": "stream",
     "text": [
      "Warning message:\n",
      "\"Removed 1 row(s) containing missing values (geom_path).\"\n",
      "Warning message:\n",
      "\"Removed 1 row(s) containing missing values (geom_path).\"\n"
     ]
    },
    {
     "data": {
      "image/png": "[encoded data removed]",
      "text/plain": [
       "plot without title"
      ]
     },
     "metadata": {
      "image/png": {
       "height": 420,
       "width": 420
      }
     },
     "output_type": "display_data"
    }
   ],
   "source": [
    "leaderboard_1 <- without_top_5 %>%\n",
    "    mutate(month = month(without_top_5$date),\n",
    "           day = day(without_top_5$date),\n",
    "           year = year(without_top_5$date),\n",
    "          year_month = year + ((month + 1) / 12))\n",
    "\n",
    "stats_by_months_years <- leaderboard_1 %>%\n",
    "    group_by(year_month) %>%\n",
    "    summarize(fastest = min(realtime, na.rm = TRUE),\n",
    "             mean_time = mean(realtime, na.rm = TRUE))\n",
    "\n",
    "stats_by_months_years$min_fastest <- cummin(stats_by_months_years$fastest)\n",
    "\n",
    "# stats_by_months_years\n",
    "\n",
    "ggplot(data = stats_by_months_years, aes(x = year_month)) +\n",
    "    geom_line(aes(y = min_fastest)) +\n",
    "    geom_line(aes(y = mean_time))"
   ]
  }
 ],
 "metadata": {
  "kernelspec": {
   "display_name": "R",
   "language": "R",
   "name": "ir"
  },
  "language_info": {
   "codemirror_mode": "r",
   "file_extension": ".r",
   "mimetype": "text/x-r-source",
   "name": "R",
   "pygments_lexer": "r",
   "version": "4.1.0"
  }
 },
 "nbformat": 4,
 "nbformat_minor": 5
}
