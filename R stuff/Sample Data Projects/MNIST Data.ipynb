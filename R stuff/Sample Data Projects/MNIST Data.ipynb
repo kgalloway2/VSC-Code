{
 "cells": [
  {
   "cell_type": "code",
   "execution_count": 1,
   "id": "7d65df1a",
   "metadata": {
    "collapsed": true
   },
   "outputs": [
    {
     "name": "stderr",
     "output_type": "stream",
     "text": [
      "\n",
      "Attaching package: 'dplyr'\n",
      "\n",
      "\n",
      "The following objects are masked from 'package:stats':\n",
      "\n",
      "    filter, lag\n",
      "\n",
      "\n",
      "The following objects are masked from 'package:base':\n",
      "\n",
      "    intersect, setdiff, setequal, union\n",
      "\n",
      "\n",
      "Loading required package: lattice\n",
      "\n",
      "Loading required package: ggplot2\n",
      "\n",
      "\n",
      "Attaching package: 'neuralnet'\n",
      "\n",
      "\n",
      "The following object is masked from 'package:dplyr':\n",
      "\n",
      "    compute\n",
      "\n",
      "\n"
     ]
    }
   ],
   "source": [
    "library(dplyr)\n",
    "library(caret)\n",
    "library(neuralnet)\n",
    "library(e1071)"
   ]
  },
  {
   "cell_type": "code",
   "execution_count": 2,
   "id": "9aedf4d8",
   "metadata": {},
   "outputs": [
    {
     "data": {
      "text/html": [
       "<table class=\"dataframe\">\n",
       "<caption>A data.frame: 6 × 785</caption>\n",
       "<thead>\n",
       "\t<tr><th></th><th scope=col>label</th><th scope=col>pixel0</th><th scope=col>pixel1</th><th scope=col>pixel2</th><th scope=col>pixel3</th><th scope=col>pixel4</th><th scope=col>pixel5</th><th scope=col>pixel6</th><th scope=col>pixel7</th><th scope=col>pixel8</th><th scope=col>...</th><th scope=col>pixel774</th><th scope=col>pixel775</th><th scope=col>pixel776</th><th scope=col>pixel777</th><th scope=col>pixel778</th><th scope=col>pixel779</th><th scope=col>pixel780</th><th scope=col>pixel781</th><th scope=col>pixel782</th><th scope=col>pixel783</th></tr>\n",
       "\t<tr><th></th><th scope=col>&lt;int&gt;</th><th scope=col>&lt;int&gt;</th><th scope=col>&lt;int&gt;</th><th scope=col>&lt;int&gt;</th><th scope=col>&lt;int&gt;</th><th scope=col>&lt;int&gt;</th><th scope=col>&lt;int&gt;</th><th scope=col>&lt;int&gt;</th><th scope=col>&lt;int&gt;</th><th scope=col>&lt;int&gt;</th><th scope=col>...</th><th scope=col>&lt;int&gt;</th><th scope=col>&lt;int&gt;</th><th scope=col>&lt;int&gt;</th><th scope=col>&lt;int&gt;</th><th scope=col>&lt;int&gt;</th><th scope=col>&lt;int&gt;</th><th scope=col>&lt;int&gt;</th><th scope=col>&lt;int&gt;</th><th scope=col>&lt;int&gt;</th><th scope=col>&lt;int&gt;</th></tr>\n",
       "</thead>\n",
       "<tbody>\n",
       "\t<tr><th scope=row>1</th><td>1</td><td>0</td><td>0</td><td>0</td><td>0</td><td>0</td><td>0</td><td>0</td><td>0</td><td>0</td><td>...</td><td>0</td><td>0</td><td>0</td><td>0</td><td>0</td><td>0</td><td>0</td><td>0</td><td>0</td><td>0</td></tr>\n",
       "\t<tr><th scope=row>2</th><td>0</td><td>0</td><td>0</td><td>0</td><td>0</td><td>0</td><td>0</td><td>0</td><td>0</td><td>0</td><td>...</td><td>0</td><td>0</td><td>0</td><td>0</td><td>0</td><td>0</td><td>0</td><td>0</td><td>0</td><td>0</td></tr>\n",
       "\t<tr><th scope=row>3</th><td>1</td><td>0</td><td>0</td><td>0</td><td>0</td><td>0</td><td>0</td><td>0</td><td>0</td><td>0</td><td>...</td><td>0</td><td>0</td><td>0</td><td>0</td><td>0</td><td>0</td><td>0</td><td>0</td><td>0</td><td>0</td></tr>\n",
       "\t<tr><th scope=row>4</th><td>4</td><td>0</td><td>0</td><td>0</td><td>0</td><td>0</td><td>0</td><td>0</td><td>0</td><td>0</td><td>...</td><td>0</td><td>0</td><td>0</td><td>0</td><td>0</td><td>0</td><td>0</td><td>0</td><td>0</td><td>0</td></tr>\n",
       "\t<tr><th scope=row>5</th><td>0</td><td>0</td><td>0</td><td>0</td><td>0</td><td>0</td><td>0</td><td>0</td><td>0</td><td>0</td><td>...</td><td>0</td><td>0</td><td>0</td><td>0</td><td>0</td><td>0</td><td>0</td><td>0</td><td>0</td><td>0</td></tr>\n",
       "\t<tr><th scope=row>6</th><td>0</td><td>0</td><td>0</td><td>0</td><td>0</td><td>0</td><td>0</td><td>0</td><td>0</td><td>0</td><td>...</td><td>0</td><td>0</td><td>0</td><td>0</td><td>0</td><td>0</td><td>0</td><td>0</td><td>0</td><td>0</td></tr>\n",
       "</tbody>\n",
       "</table>\n"
      ],
      "text/latex": [
       "A data.frame: 6 × 785\n",
       "\\begin{tabular}{r|lllllllllllllllllllll}\n",
       "  & label & pixel0 & pixel1 & pixel2 & pixel3 & pixel4 & pixel5 & pixel6 & pixel7 & pixel8 & ... & pixel774 & pixel775 & pixel776 & pixel777 & pixel778 & pixel779 & pixel780 & pixel781 & pixel782 & pixel783\\\\\n",
       "  & <int> & <int> & <int> & <int> & <int> & <int> & <int> & <int> & <int> & <int> & ... & <int> & <int> & <int> & <int> & <int> & <int> & <int> & <int> & <int> & <int>\\\\\n",
       "\\hline\n",
       "\t1 & 1 & 0 & 0 & 0 & 0 & 0 & 0 & 0 & 0 & 0 & ... & 0 & 0 & 0 & 0 & 0 & 0 & 0 & 0 & 0 & 0\\\\\n",
       "\t2 & 0 & 0 & 0 & 0 & 0 & 0 & 0 & 0 & 0 & 0 & ... & 0 & 0 & 0 & 0 & 0 & 0 & 0 & 0 & 0 & 0\\\\\n",
       "\t3 & 1 & 0 & 0 & 0 & 0 & 0 & 0 & 0 & 0 & 0 & ... & 0 & 0 & 0 & 0 & 0 & 0 & 0 & 0 & 0 & 0\\\\\n",
       "\t4 & 4 & 0 & 0 & 0 & 0 & 0 & 0 & 0 & 0 & 0 & ... & 0 & 0 & 0 & 0 & 0 & 0 & 0 & 0 & 0 & 0\\\\\n",
       "\t5 & 0 & 0 & 0 & 0 & 0 & 0 & 0 & 0 & 0 & 0 & ... & 0 & 0 & 0 & 0 & 0 & 0 & 0 & 0 & 0 & 0\\\\\n",
       "\t6 & 0 & 0 & 0 & 0 & 0 & 0 & 0 & 0 & 0 & 0 & ... & 0 & 0 & 0 & 0 & 0 & 0 & 0 & 0 & 0 & 0\\\\\n",
       "\\end{tabular}\n"
      ],
      "text/markdown": [
       "\n",
       "A data.frame: 6 × 785\n",
       "\n",
       "| <!--/--> | label &lt;int&gt; | pixel0 &lt;int&gt; | pixel1 &lt;int&gt; | pixel2 &lt;int&gt; | pixel3 &lt;int&gt; | pixel4 &lt;int&gt; | pixel5 &lt;int&gt; | pixel6 &lt;int&gt; | pixel7 &lt;int&gt; | pixel8 &lt;int&gt; | ... ... | pixel774 &lt;int&gt; | pixel775 &lt;int&gt; | pixel776 &lt;int&gt; | pixel777 &lt;int&gt; | pixel778 &lt;int&gt; | pixel779 &lt;int&gt; | pixel780 &lt;int&gt; | pixel781 &lt;int&gt; | pixel782 &lt;int&gt; | pixel783 &lt;int&gt; |\n",
       "|---|---|---|---|---|---|---|---|---|---|---|---|---|---|---|---|---|---|---|---|---|---|\n",
       "| 1 | 1 | 0 | 0 | 0 | 0 | 0 | 0 | 0 | 0 | 0 | ... | 0 | 0 | 0 | 0 | 0 | 0 | 0 | 0 | 0 | 0 |\n",
       "| 2 | 0 | 0 | 0 | 0 | 0 | 0 | 0 | 0 | 0 | 0 | ... | 0 | 0 | 0 | 0 | 0 | 0 | 0 | 0 | 0 | 0 |\n",
       "| 3 | 1 | 0 | 0 | 0 | 0 | 0 | 0 | 0 | 0 | 0 | ... | 0 | 0 | 0 | 0 | 0 | 0 | 0 | 0 | 0 | 0 |\n",
       "| 4 | 4 | 0 | 0 | 0 | 0 | 0 | 0 | 0 | 0 | 0 | ... | 0 | 0 | 0 | 0 | 0 | 0 | 0 | 0 | 0 | 0 |\n",
       "| 5 | 0 | 0 | 0 | 0 | 0 | 0 | 0 | 0 | 0 | 0 | ... | 0 | 0 | 0 | 0 | 0 | 0 | 0 | 0 | 0 | 0 |\n",
       "| 6 | 0 | 0 | 0 | 0 | 0 | 0 | 0 | 0 | 0 | 0 | ... | 0 | 0 | 0 | 0 | 0 | 0 | 0 | 0 | 0 | 0 |\n",
       "\n"
      ],
      "text/plain": [
       "  label pixel0 pixel1 pixel2 pixel3 pixel4 pixel5 pixel6 pixel7 pixel8 ...\n",
       "1 1     0      0      0      0      0      0      0      0      0      ...\n",
       "2 0     0      0      0      0      0      0      0      0      0      ...\n",
       "3 1     0      0      0      0      0      0      0      0      0      ...\n",
       "4 4     0      0      0      0      0      0      0      0      0      ...\n",
       "5 0     0      0      0      0      0      0      0      0      0      ...\n",
       "6 0     0      0      0      0      0      0      0      0      0      ...\n",
       "  pixel774 pixel775 pixel776 pixel777 pixel778 pixel779 pixel780 pixel781\n",
       "1 0        0        0        0        0        0        0        0       \n",
       "2 0        0        0        0        0        0        0        0       \n",
       "3 0        0        0        0        0        0        0        0       \n",
       "4 0        0        0        0        0        0        0        0       \n",
       "5 0        0        0        0        0        0        0        0       \n",
       "6 0        0        0        0        0        0        0        0       \n",
       "  pixel782 pixel783\n",
       "1 0        0       \n",
       "2 0        0       \n",
       "3 0        0       \n",
       "4 0        0       \n",
       "5 0        0       \n",
       "6 0        0       "
      ]
     },
     "metadata": {},
     "output_type": "display_data"
    },
    {
     "data": {
      "text/html": [
       "<table class=\"dataframe\">\n",
       "<caption>A data.frame: 6 × 784</caption>\n",
       "<thead>\n",
       "\t<tr><th></th><th scope=col>pixel0</th><th scope=col>pixel1</th><th scope=col>pixel2</th><th scope=col>pixel3</th><th scope=col>pixel4</th><th scope=col>pixel5</th><th scope=col>pixel6</th><th scope=col>pixel7</th><th scope=col>pixel8</th><th scope=col>pixel9</th><th scope=col>...</th><th scope=col>pixel774</th><th scope=col>pixel775</th><th scope=col>pixel776</th><th scope=col>pixel777</th><th scope=col>pixel778</th><th scope=col>pixel779</th><th scope=col>pixel780</th><th scope=col>pixel781</th><th scope=col>pixel782</th><th scope=col>pixel783</th></tr>\n",
       "\t<tr><th></th><th scope=col>&lt;int&gt;</th><th scope=col>&lt;int&gt;</th><th scope=col>&lt;int&gt;</th><th scope=col>&lt;int&gt;</th><th scope=col>&lt;int&gt;</th><th scope=col>&lt;int&gt;</th><th scope=col>&lt;int&gt;</th><th scope=col>&lt;int&gt;</th><th scope=col>&lt;int&gt;</th><th scope=col>&lt;int&gt;</th><th scope=col>...</th><th scope=col>&lt;int&gt;</th><th scope=col>&lt;int&gt;</th><th scope=col>&lt;int&gt;</th><th scope=col>&lt;int&gt;</th><th scope=col>&lt;int&gt;</th><th scope=col>&lt;int&gt;</th><th scope=col>&lt;int&gt;</th><th scope=col>&lt;int&gt;</th><th scope=col>&lt;int&gt;</th><th scope=col>&lt;int&gt;</th></tr>\n",
       "</thead>\n",
       "<tbody>\n",
       "\t<tr><th scope=row>1</th><td>0</td><td>0</td><td>0</td><td>0</td><td>0</td><td>0</td><td>0</td><td>0</td><td>0</td><td>0</td><td>...</td><td>0</td><td>0</td><td>0</td><td>0</td><td>0</td><td>0</td><td>0</td><td>0</td><td>0</td><td>0</td></tr>\n",
       "\t<tr><th scope=row>2</th><td>0</td><td>0</td><td>0</td><td>0</td><td>0</td><td>0</td><td>0</td><td>0</td><td>0</td><td>0</td><td>...</td><td>0</td><td>0</td><td>0</td><td>0</td><td>0</td><td>0</td><td>0</td><td>0</td><td>0</td><td>0</td></tr>\n",
       "\t<tr><th scope=row>3</th><td>0</td><td>0</td><td>0</td><td>0</td><td>0</td><td>0</td><td>0</td><td>0</td><td>0</td><td>0</td><td>...</td><td>0</td><td>0</td><td>0</td><td>0</td><td>0</td><td>0</td><td>0</td><td>0</td><td>0</td><td>0</td></tr>\n",
       "\t<tr><th scope=row>4</th><td>0</td><td>0</td><td>0</td><td>0</td><td>0</td><td>0</td><td>0</td><td>0</td><td>0</td><td>0</td><td>...</td><td>0</td><td>0</td><td>0</td><td>0</td><td>0</td><td>0</td><td>0</td><td>0</td><td>0</td><td>0</td></tr>\n",
       "\t<tr><th scope=row>5</th><td>0</td><td>0</td><td>0</td><td>0</td><td>0</td><td>0</td><td>0</td><td>0</td><td>0</td><td>0</td><td>...</td><td>0</td><td>0</td><td>0</td><td>0</td><td>0</td><td>0</td><td>0</td><td>0</td><td>0</td><td>0</td></tr>\n",
       "\t<tr><th scope=row>6</th><td>0</td><td>0</td><td>0</td><td>0</td><td>0</td><td>0</td><td>0</td><td>0</td><td>0</td><td>0</td><td>...</td><td>0</td><td>0</td><td>0</td><td>0</td><td>0</td><td>0</td><td>0</td><td>0</td><td>0</td><td>0</td></tr>\n",
       "</tbody>\n",
       "</table>\n"
      ],
      "text/latex": [
       "A data.frame: 6 × 784\n",
       "\\begin{tabular}{r|lllllllllllllllllllll}\n",
       "  & pixel0 & pixel1 & pixel2 & pixel3 & pixel4 & pixel5 & pixel6 & pixel7 & pixel8 & pixel9 & ... & pixel774 & pixel775 & pixel776 & pixel777 & pixel778 & pixel779 & pixel780 & pixel781 & pixel782 & pixel783\\\\\n",
       "  & <int> & <int> & <int> & <int> & <int> & <int> & <int> & <int> & <int> & <int> & ... & <int> & <int> & <int> & <int> & <int> & <int> & <int> & <int> & <int> & <int>\\\\\n",
       "\\hline\n",
       "\t1 & 0 & 0 & 0 & 0 & 0 & 0 & 0 & 0 & 0 & 0 & ... & 0 & 0 & 0 & 0 & 0 & 0 & 0 & 0 & 0 & 0\\\\\n",
       "\t2 & 0 & 0 & 0 & 0 & 0 & 0 & 0 & 0 & 0 & 0 & ... & 0 & 0 & 0 & 0 & 0 & 0 & 0 & 0 & 0 & 0\\\\\n",
       "\t3 & 0 & 0 & 0 & 0 & 0 & 0 & 0 & 0 & 0 & 0 & ... & 0 & 0 & 0 & 0 & 0 & 0 & 0 & 0 & 0 & 0\\\\\n",
       "\t4 & 0 & 0 & 0 & 0 & 0 & 0 & 0 & 0 & 0 & 0 & ... & 0 & 0 & 0 & 0 & 0 & 0 & 0 & 0 & 0 & 0\\\\\n",
       "\t5 & 0 & 0 & 0 & 0 & 0 & 0 & 0 & 0 & 0 & 0 & ... & 0 & 0 & 0 & 0 & 0 & 0 & 0 & 0 & 0 & 0\\\\\n",
       "\t6 & 0 & 0 & 0 & 0 & 0 & 0 & 0 & 0 & 0 & 0 & ... & 0 & 0 & 0 & 0 & 0 & 0 & 0 & 0 & 0 & 0\\\\\n",
       "\\end{tabular}\n"
      ],
      "text/markdown": [
       "\n",
       "A data.frame: 6 × 784\n",
       "\n",
       "| <!--/--> | pixel0 &lt;int&gt; | pixel1 &lt;int&gt; | pixel2 &lt;int&gt; | pixel3 &lt;int&gt; | pixel4 &lt;int&gt; | pixel5 &lt;int&gt; | pixel6 &lt;int&gt; | pixel7 &lt;int&gt; | pixel8 &lt;int&gt; | pixel9 &lt;int&gt; | ... ... | pixel774 &lt;int&gt; | pixel775 &lt;int&gt; | pixel776 &lt;int&gt; | pixel777 &lt;int&gt; | pixel778 &lt;int&gt; | pixel779 &lt;int&gt; | pixel780 &lt;int&gt; | pixel781 &lt;int&gt; | pixel782 &lt;int&gt; | pixel783 &lt;int&gt; |\n",
       "|---|---|---|---|---|---|---|---|---|---|---|---|---|---|---|---|---|---|---|---|---|---|\n",
       "| 1 | 0 | 0 | 0 | 0 | 0 | 0 | 0 | 0 | 0 | 0 | ... | 0 | 0 | 0 | 0 | 0 | 0 | 0 | 0 | 0 | 0 |\n",
       "| 2 | 0 | 0 | 0 | 0 | 0 | 0 | 0 | 0 | 0 | 0 | ... | 0 | 0 | 0 | 0 | 0 | 0 | 0 | 0 | 0 | 0 |\n",
       "| 3 | 0 | 0 | 0 | 0 | 0 | 0 | 0 | 0 | 0 | 0 | ... | 0 | 0 | 0 | 0 | 0 | 0 | 0 | 0 | 0 | 0 |\n",
       "| 4 | 0 | 0 | 0 | 0 | 0 | 0 | 0 | 0 | 0 | 0 | ... | 0 | 0 | 0 | 0 | 0 | 0 | 0 | 0 | 0 | 0 |\n",
       "| 5 | 0 | 0 | 0 | 0 | 0 | 0 | 0 | 0 | 0 | 0 | ... | 0 | 0 | 0 | 0 | 0 | 0 | 0 | 0 | 0 | 0 |\n",
       "| 6 | 0 | 0 | 0 | 0 | 0 | 0 | 0 | 0 | 0 | 0 | ... | 0 | 0 | 0 | 0 | 0 | 0 | 0 | 0 | 0 | 0 |\n",
       "\n"
      ],
      "text/plain": [
       "  pixel0 pixel1 pixel2 pixel3 pixel4 pixel5 pixel6 pixel7 pixel8 pixel9 ...\n",
       "1 0      0      0      0      0      0      0      0      0      0      ...\n",
       "2 0      0      0      0      0      0      0      0      0      0      ...\n",
       "3 0      0      0      0      0      0      0      0      0      0      ...\n",
       "4 0      0      0      0      0      0      0      0      0      0      ...\n",
       "5 0      0      0      0      0      0      0      0      0      0      ...\n",
       "6 0      0      0      0      0      0      0      0      0      0      ...\n",
       "  pixel774 pixel775 pixel776 pixel777 pixel778 pixel779 pixel780 pixel781\n",
       "1 0        0        0        0        0        0        0        0       \n",
       "2 0        0        0        0        0        0        0        0       \n",
       "3 0        0        0        0        0        0        0        0       \n",
       "4 0        0        0        0        0        0        0        0       \n",
       "5 0        0        0        0        0        0        0        0       \n",
       "6 0        0        0        0        0        0        0        0       \n",
       "  pixel782 pixel783\n",
       "1 0        0       \n",
       "2 0        0       \n",
       "3 0        0       \n",
       "4 0        0       \n",
       "5 0        0       \n",
       "6 0        0       "
      ]
     },
     "metadata": {},
     "output_type": "display_data"
    }
   ],
   "source": [
    "# this uses the MNIST data\n",
    "df_train <- read.csv(\"C:/Users/kgtrm/Documents/R projects data/MNIST_train.csv\")\n",
    "df_test <- read.csv(\"C:/Users/kgtrm/Documents/R projects data/MNIST_test.csv\")\n",
    "\n",
    "head(df_train)\n",
    "head(df_test)"
   ]
  },
  {
   "cell_type": "code",
   "execution_count": 3,
   "id": "a5d48bb8",
   "metadata": {},
   "outputs": [
    {
     "data": {
      "image/png": "[encoded data removed]",
      "text/plain": [
       "plot without title"
      ]
     },
     "metadata": {
      "image/png": {
       "height": 420,
       "width": 420
      }
     },
     "output_type": "display_data"
    }
   ],
   "source": [
    "# we can check to see if the data is uniformly distributed over labels\n",
    "label.freq = table(df_train$label)\n",
    "barplot(label.freq)\n",
    "# close enough!"
   ]
  },
  {
   "cell_type": "code",
   "execution_count": 4,
   "id": "29fee7ab",
   "metadata": {},
   "outputs": [
    {
     "data": {
      "text/html": [],
      "text/latex": [],
      "text/markdown": [],
      "text/plain": [
       "integer(0)"
      ]
     },
     "metadata": {},
     "output_type": "display_data"
    }
   ],
   "source": [
    "# check for NAs in the data\n",
    "which(is.na(df_train))\n",
    "# no return here so we're good"
   ]
  },
  {
   "cell_type": "code",
   "execution_count": 5,
   "id": "ad7635bc",
   "metadata": {},
   "outputs": [],
   "source": [
    "# convert label to a categorical variable instead of just a string\n",
    "df_train$label <- as.factor(df_train$label)"
   ]
  },
  {
   "cell_type": "code",
   "execution_count": 6,
   "id": "c44ba61b",
   "metadata": {},
   "outputs": [],
   "source": [
    "# separate pixels from the training and testing sets\n",
    "df_train_pixel <- df_train[,2:ncol(df_train)]\n",
    "# df_test already was all pixels\n",
    "df_test_pixel <- df_test[, 1:ncol(df_test)]"
   ]
  },
  {
   "cell_type": "code",
   "execution_count": 7,
   "id": "66c268ab",
   "metadata": {},
   "outputs": [
    {
     "name": "stderr",
     "output_type": "stream",
     "text": [
      "Warning message in cor(df_train[sapply(df_train, is.numeric)]):\n",
      "\"the standard deviation is zero\"\n"
     ]
    }
   ],
   "source": [
    "## Excluding highly correlated variabls\n",
    "# obtaining correlation matrix\n",
    "MatCor <- cor(df_train[sapply(df_train, is.numeric)])\n",
    "# standard deviation was 0 so we can't use the correlation matrix"
   ]
  },
  {
   "cell_type": "code",
   "execution_count": 8,
   "id": "8a92ea14",
   "metadata": {},
   "outputs": [],
   "source": [
    "library(caret)\n",
    "# we will use nearZeroVar to preprocess the pixels"
   ]
  },
  {
   "cell_type": "code",
   "execution_count": 9,
   "id": "4d4643ea",
   "metadata": {},
   "outputs": [],
   "source": [
    "df_zeroVar <- as.data.frame(colnames(df_train_pixel[nearZeroVar(df_train_pixel)]))\n",
    "# this selected 532 of 784 pixels that can be used"
   ]
  },
  {
   "cell_type": "code",
   "execution_count": 10,
   "id": "dd9fd752",
   "metadata": {},
   "outputs": [],
   "source": [
    "train_nzv <- nearZeroVar(df_train_pixel)\n",
    "test_nzv <- nearZeroVar(df_test_pixel)\n",
    "# we then filter our training and test to use those"
   ]
  },
  {
   "cell_type": "code",
   "execution_count": 11,
   "id": "8467c6a6",
   "metadata": {},
   "outputs": [],
   "source": [
    "# now make new dataframes using these selected pixels\n",
    "df_train_postnzv <- df_train_pixel[, -train_nzv]\n",
    "df_test_postnzv <- df_test_pixel[, -train_nzv]"
   ]
  },
  {
   "cell_type": "code",
   "execution_count": 12,
   "id": "aa2a0cc3",
   "metadata": {},
   "outputs": [
    {
     "data": {
      "text/html": [
       "<style>\n",
       ".list-inline {list-style: none; margin:0; padding: 0}\n",
       ".list-inline>li {display: inline-block}\n",
       ".list-inline>li:not(:last-child)::after {content: \"\\00b7\"; padding: 0 .5ex}\n",
       "</style>\n",
       "<ol class=list-inline><li>42000</li><li>91</li></ol>\n"
      ],
      "text/latex": [
       "\\begin{enumerate*}\n",
       "\\item 42000\n",
       "\\item 91\n",
       "\\end{enumerate*}\n"
      ],
      "text/markdown": [
       "1. 42000\n",
       "2. 91\n",
       "\n",
       "\n"
      ],
      "text/plain": [
       "[1] 42000    91"
      ]
     },
     "metadata": {},
     "output_type": "display_data"
    },
    {
     "data": {
      "text/html": [
       "<style>\n",
       ".list-inline {list-style: none; margin:0; padding: 0}\n",
       ".list-inline>li {display: inline-block}\n",
       ".list-inline>li:not(:last-child)::after {content: \"\\00b7\"; padding: 0 .5ex}\n",
       "</style>\n",
       "<ol class=list-inline><li>28000</li><li>91</li></ol>\n"
      ],
      "text/latex": [
       "\\begin{enumerate*}\n",
       "\\item 28000\n",
       "\\item 91\n",
       "\\end{enumerate*}\n"
      ],
      "text/markdown": [
       "1. 28000\n",
       "2. 91\n",
       "\n",
       "\n"
      ],
      "text/plain": [
       "[1] 28000    91"
      ]
     },
     "metadata": {},
     "output_type": "display_data"
    }
   ],
   "source": [
    "# now preprocess with PCA (principal component analysis)\n",
    "train_preProcValues <- preProcess(df_train_postnzv, method = c(\"pca\"))\n",
    "test_preProcValues <- preProcess(df_test_postnzv, method = c(\"pca\"))\n",
    "\n",
    "x_trainTransformed <- predict(train_preProcValues, df_train_postnzv)\n",
    "x_testTransformed <- predict(test_preProcValues, df_test_postnzv)\n",
    "\n",
    "# second value of dims should match\n",
    "dim(x_trainTransformed)\n",
    "dim(x_testTransformed)"
   ]
  },
  {
   "cell_type": "code",
   "execution_count": 13,
   "id": "2539e97e",
   "metadata": {},
   "outputs": [
    {
     "data": {
      "text/html": [
       "<style>\n",
       ".list-inline {list-style: none; margin:0; padding: 0}\n",
       ".list-inline>li {display: inline-block}\n",
       ".list-inline>li:not(:last-child)::after {content: \"\\00b7\"; padding: 0 .5ex}\n",
       "</style>\n",
       "<ol class=list-inline><li>42000</li><li>92</li></ol>\n"
      ],
      "text/latex": [
       "\\begin{enumerate*}\n",
       "\\item 42000\n",
       "\\item 92\n",
       "\\end{enumerate*}\n"
      ],
      "text/markdown": [
       "1. 42000\n",
       "2. 92\n",
       "\n",
       "\n"
      ],
      "text/plain": [
       "[1] 42000    92"
      ]
     },
     "metadata": {},
     "output_type": "display_data"
    }
   ],
   "source": [
    "## now that we've processed the data, it's time to build the models\n",
    "## Building Models\n",
    "\n",
    "# 1. Multiclass logistic regression\n",
    "df_train_final <- x_trainTransformed\n",
    "df_train_final$label <- df_train$label\n",
    "\n",
    "dim(df_train_final)"
   ]
  },
  {
   "cell_type": "code",
   "execution_count": 14,
   "id": "27f7a3b7",
   "metadata": {},
   "outputs": [],
   "source": [
    "LR_model <- glm(label~., family = binomial(link = \"logit\"), data = df_train_final)\n",
    "# LR_model"
   ]
  },
  {
   "cell_type": "code",
   "execution_count": 15,
   "id": "12a30686",
   "metadata": {},
   "outputs": [
    {
     "data": {
      "text/html": [
       "<style>\n",
       ".dl-inline {width: auto; margin:0; padding: 0}\n",
       ".dl-inline>dt, .dl-inline>dd {float: none; width: auto; display: inline-block}\n",
       ".dl-inline>dt::after {content: \":\\0020\"; padding-right: .5ex}\n",
       ".dl-inline>dt:not(:first-of-type) {padding-left: .5ex}\n",
       "</style><dl class=dl-inline><dt>1</dt><dd>0.978944511050134</dd><dt>2</dt><dd>0.0292621838736372</dd><dt>3</dt><dd>0.999968202110845</dd><dt>4</dt><dd>0.979145649081227</dd><dt>5</dt><dd>0.999481977146639</dd><dt>6</dt><dd>0.99958843147839</dd></dl>\n"
      ],
      "text/latex": [
       "\\begin{description*}\n",
       "\\item[1] 0.978944511050134\n",
       "\\item[2] 0.0292621838736372\n",
       "\\item[3] 0.999968202110845\n",
       "\\item[4] 0.979145649081227\n",
       "\\item[5] 0.999481977146639\n",
       "\\item[6] 0.99958843147839\n",
       "\\end{description*}\n"
      ],
      "text/markdown": [
       "1\n",
       ":   0.9789445110501342\n",
       ":   0.02926218387363723\n",
       ":   0.9999682021108454\n",
       ":   0.9791456490812275\n",
       ":   0.9994819771466396\n",
       ":   0.99958843147839\n",
       "\n"
      ],
      "text/plain": [
       "         1          2          3          4          5          6 \n",
       "0.97894451 0.02926218 0.99996820 0.97914565 0.99948198 0.99958843 "
      ]
     },
     "metadata": {},
     "output_type": "display_data"
    }
   ],
   "source": [
    "LR_fitted <- predict(LR_model, newdata = x_testTransformed, type = \"response\")\n",
    "head(LR_fitted)"
   ]
  },
  {
   "cell_type": "code",
   "execution_count": 16,
   "id": "b539b7f1",
   "metadata": {},
   "outputs": [],
   "source": [
    "# LR_confusionMatrix <- confusionMatrix(LR_fitted, df_train_final$label)\n",
    "# LR_confusionmatrix\n",
    "# this causes error since types in LR_fitted don't match labels"
   ]
  },
  {
   "cell_type": "code",
   "execution_count": 17,
   "id": "8823267b",
   "metadata": {},
   "outputs": [],
   "source": [
    "# table(factor(LR_fitted, levels = min(x_testTransformed):max(x_testTransformed)),\n",
    "#      factor(x_testTransformed, levels = min(x_testTransformed):max(x_testTransformed)))\n",
    "# not working and can't figure it out"
   ]
  },
  {
   "cell_type": "code",
   "execution_count": 18,
   "id": "e95d185c",
   "metadata": {},
   "outputs": [],
   "source": [
    "# LR_accuracy <- as.numeric(LR_confusionMatrix$overall[\"Accuracy\"])\n",
    "# won't work since last thing didn't"
   ]
  },
  {
   "cell_type": "code",
   "execution_count": 19,
   "id": "b4156ade",
   "metadata": {
    "collapsed": true
   },
   "outputs": [
    {
     "name": "stderr",
     "output_type": "stream",
     "text": [
      "randomForest 4.6-14\n",
      "\n",
      "Type rfNews() to see new features/changes/bug fixes.\n",
      "\n",
      "\n",
      "Attaching package: 'randomForest'\n",
      "\n",
      "\n",
      "The following object is masked from 'package:ggplot2':\n",
      "\n",
      "    margin\n",
      "\n",
      "\n",
      "The following object is masked from 'package:dplyr':\n",
      "\n",
      "    combine\n",
      "\n",
      "\n"
     ]
    }
   ],
   "source": [
    "# 2. Random Forests\n",
    "library(randomForest)"
   ]
  },
  {
   "cell_type": "code",
   "execution_count": 20,
   "id": "75b71888",
   "metadata": {},
   "outputs": [],
   "source": [
    "samplerows <- sample(1:nrow(df_train_pixel), nrow(df_train) * 0.6, replace = FALSE)\n",
    "df_train_rf <- x_trainTransformed[samplerows,]\n",
    "df_test_rf <- x_trainTransformed[-samplerows,]"
   ]
  },
  {
   "cell_type": "code",
   "execution_count": 21,
   "id": "6d195924",
   "metadata": {},
   "outputs": [],
   "source": [
    "train_labels <- as.factor(df_train[samplerows,]$label)\n",
    "test_labels <- as.factor(df_train[-samplerows]$label)"
   ]
  },
  {
   "cell_type": "code",
   "execution_count": 22,
   "id": "75782c60",
   "metadata": {},
   "outputs": [
    {
     "data": {
      "text/plain": [
       "predict_labels\n",
       "   0    1    2    3    4    5    6    7    8    9 \n",
       "1723 1889 1672 1817 1705 1441 1643 1766 1523 1621 "
      ]
     },
     "metadata": {},
     "output_type": "display_data"
    }
   ],
   "source": [
    "RF_Model <-randomForest(df_train_rf, train_labels, ntree = 10)\n",
    "predict_labels <- predict(RF_Model, df_test_rf)\n",
    "table(predict_labels)"
   ]
  },
  {
   "cell_type": "code",
   "execution_count": null,
   "id": "886d2ba7",
   "metadata": {},
   "outputs": [],
   "source": [
    "library(e1071)"
   ]
  },
  {
   "cell_type": "code",
   "execution_count": null,
   "id": "75456f70",
   "metadata": {},
   "outputs": [],
   "source": [
    "# SVM_Model <- svm(label~., data = df_train_final)\n",
    "# I think this data is too large for my computer to create\n",
    "# an svm model in a timely manner"
   ]
  },
  {
   "cell_type": "code",
   "execution_count": null,
   "id": "523838a5",
   "metadata": {},
   "outputs": [],
   "source": [
    "# summary(SVM_Model)\n",
    "\n",
    "# prediction <- predict(SVM_Model, df_test_rf)\n",
    "# table(prediction, df_test_rf$label)"
   ]
  }
 ],
 "metadata": {
  "kernelspec": {
   "display_name": "R",
   "language": "R",
   "name": "ir"
  },
  "language_info": {
   "codemirror_mode": "r",
   "file_extension": ".r",
   "mimetype": "text/x-r-source",
   "name": "R",
   "pygments_lexer": "r",
   "version": "4.1.0"
  }
 },
 "nbformat": 4,
 "nbformat_minor": 5
}
