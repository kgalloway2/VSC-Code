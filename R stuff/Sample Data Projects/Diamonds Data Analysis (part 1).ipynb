{
 "cells": [
  {
   "cell_type": "code",
   "execution_count": 6,
   "id": "bf230344",
   "metadata": {},
   "outputs": [],
   "source": [
    "# diamondsbig dataset seems to have disappeared while I was working.\n",
    "# see part 2 for workaround\n",
    "\n",
    "library(ggplot2)\n",
    "library(tidyr)\n",
    "library(GGally)\n",
    "library(dplyr)"
   ]
  },
  {
   "cell_type": "code",
   "execution_count": 13,
   "id": "5e721b4f",
   "metadata": {},
   "outputs": [
    {
     "ename": "ERROR",
     "evalue": "Error: `data` must be uniquely named but does not have names\n",
     "output_type": "error",
     "traceback": [
      "Error: `data` must be uniquely named but does not have names\nTraceback:\n",
      "1. qplot(x = price, data = diamondsbig, binwidth = 10)",
      "2. eval_tidy(mapping$x, data, caller_env)",
      "3. rlang::abort(x)",
      "4. signal_abort(cnd)"
     ]
    }
   ],
   "source": [
    "# file is already in ggplot2. seems to be called diamondsbig\n",
    "# str(diamondsbig)\n",
    "\n",
    "\n",
    "qplot(x = price, data = diamondsbig, binwidth = 10) +\n",
    "    scale_x_continuous(limits = c(300, 1000), breaks = seq(300, 1000, 100)) +\n",
    "    facet_wrap(~cut)\n",
    "\n",
    "# this creates a histogram of the prices\n",
    "# note the parameters for the x-values in scale_x_continuous\n",
    "# then the histogram is split (faceted) by the cut of the diamond (good, v.good, or ideal)"
   ]
  },
  {
   "cell_type": "code",
   "execution_count": 14,
   "id": "f332c1f2",
   "metadata": {},
   "outputs": [
    {
     "ename": "ERROR",
     "evalue": "Error: `data` must be uniquely named but does not have names\n",
     "output_type": "error",
     "traceback": [
      "Error: `data` must be uniquely named but does not have names\nTraceback:\n",
      "1. qplot(x = price, data = diamondsbig, binwidth = 10)",
      "2. eval_tidy(mapping$x, data, caller_env)",
      "3. rlang::abort(x)",
      "4. signal_abort(cnd)"
     ]
    }
   ],
   "source": [
    "# another histogram of the same data but this time facted by color\n",
    "qplot(x = price, data = diamondsbig, binwidth = 10) +\n",
    "    scale_x_continuous(limits = c(300, 1000), breaks = seq(300, 1000, 50)) + \n",
    "    facet_wrap(~color)"
   ]
  },
  {
   "cell_type": "code",
   "execution_count": 52,
   "id": "c32fce89",
   "metadata": {},
   "outputs": [
    {
     "data": {
      "text/plain": [
       "     carat           cut             color          clarity      \n",
       " Min.   :0.200   Good  : 59680   G      :96204   SI1    :116631  \n",
       " 1st Qu.:0.500   V.Good:168896   F      :93573   VS2    :111082  \n",
       " Median :0.900   Ideal :369448   E      :93483   SI2    :104300  \n",
       " Mean   :1.071                   H      :86619   VS1    : 97730  \n",
       " 3rd Qu.:1.500                   D      :73630   VVS2   : 65500  \n",
       " Max.   :9.250                   I      :70282   VVS1   : 54798  \n",
       "                                 (Other):84233   (Other): 47983  \n",
       "     table           depth               cert        measurements      \n",
       " Min.   : 0.00   Min.   : 0.00   GIA       :463555   Length:598024     \n",
       " 1st Qu.:56.00   1st Qu.:61.00   IGI       : 43667   Class :character  \n",
       " Median :58.00   Median :62.10   EGL       : 33814   Mode  :character  \n",
       " Mean   :57.63   Mean   :61.06   EGL USA   : 16079                     \n",
       " 3rd Qu.:59.00   3rd Qu.:62.70   EGL Intl. : 11447                     \n",
       " Max.   :75.90   Max.   :81.30   EGL ISRAEL: 11301                     \n",
       "                                 (Other)   : 18161                     \n",
       "     price             x                y                z         \n",
       " Min.   :  300   Min.   : 0.150   Min.   : 1.000   Min.   : 0.040  \n",
       " 1st Qu.: 1220   1st Qu.: 4.740   1st Qu.: 4.970   1st Qu.: 3.120  \n",
       " Median : 3503   Median : 5.780   Median : 6.050   Median : 3.860  \n",
       " Mean   : 8753   Mean   : 5.991   Mean   : 6.199   Mean   : 4.033  \n",
       " 3rd Qu.:11174   3rd Qu.: 6.970   3rd Qu.: 7.230   3rd Qu.: 4.610  \n",
       " Max.   :99990   Max.   :13.890   Max.   :13.890   Max.   :13.180  \n",
       " NA's   :713     NA's   :1815     NA's   :1852     NA's   :2544    "
      ]
     },
     "metadata": {},
     "output_type": "display_data"
    }
   ],
   "source": [
    "summary(diamondsbig)"
   ]
  },
  {
   "cell_type": "code",
   "execution_count": 64,
   "id": "47d237de",
   "metadata": {},
   "outputs": [
    {
     "data": {
      "text/html": [
       "10764"
      ],
      "text/latex": [
       "10764"
      ],
      "text/markdown": [
       "10764"
      ],
      "text/plain": [
       "[1] 10764"
      ]
     },
     "metadata": {},
     "output_type": "display_data"
    },
    {
     "data": {
      "text/html": [
       "713"
      ],
      "text/latex": [
       "713"
      ],
      "text/markdown": [
       "713"
      ],
      "text/plain": [
       "[1] 713"
      ]
     },
     "metadata": {},
     "output_type": "display_data"
    },
    {
     "data": {
      "text/html": [
       "113627"
      ],
      "text/latex": [
       "113627"
      ],
      "text/markdown": [
       "113627"
      ],
      "text/plain": [
       "[1] 113627"
      ]
     },
     "metadata": {},
     "output_type": "display_data"
    },
    {
     "data": {
      "text/html": [
       "70282"
      ],
      "text/latex": [
       "70282"
      ],
      "text/markdown": [
       "70282"
      ],
      "text/plain": [
       "[1] 70282"
      ]
     },
     "metadata": {},
     "output_type": "display_data"
    },
    {
     "data": {
      "text/html": [
       "<table class=\"dataframe\">\n",
       "<caption>A tibble: 9 × 2</caption>\n",
       "<thead>\n",
       "\t<tr><th scope=col>color</th><th scope=col>count</th></tr>\n",
       "\t<tr><th scope=col>&lt;fct&gt;</th><th scope=col>&lt;int&gt;</th></tr>\n",
       "</thead>\n",
       "<tbody>\n",
       "\t<tr><td>L</td><td> 9656</td></tr>\n",
       "\t<tr><td>K</td><td>25868</td></tr>\n",
       "\t<tr><td>J</td><td>48709</td></tr>\n",
       "\t<tr><td>I</td><td>70282</td></tr>\n",
       "\t<tr><td>H</td><td>86619</td></tr>\n",
       "\t<tr><td>G</td><td>96204</td></tr>\n",
       "\t<tr><td>F</td><td>93573</td></tr>\n",
       "\t<tr><td>E</td><td>93483</td></tr>\n",
       "\t<tr><td>D</td><td>73630</td></tr>\n",
       "</tbody>\n",
       "</table>\n"
      ],
      "text/latex": [
       "A tibble: 9 × 2\n",
       "\\begin{tabular}{ll}\n",
       " color & count\\\\\n",
       " <fct> & <int>\\\\\n",
       "\\hline\n",
       "\t L &  9656\\\\\n",
       "\t K & 25868\\\\\n",
       "\t J & 48709\\\\\n",
       "\t I & 70282\\\\\n",
       "\t H & 86619\\\\\n",
       "\t G & 96204\\\\\n",
       "\t F & 93573\\\\\n",
       "\t E & 93483\\\\\n",
       "\t D & 73630\\\\\n",
       "\\end{tabular}\n"
      ],
      "text/markdown": [
       "\n",
       "A tibble: 9 × 2\n",
       "\n",
       "| color &lt;fct&gt; | count &lt;int&gt; |\n",
       "|---|---|\n",
       "| L |  9656 |\n",
       "| K | 25868 |\n",
       "| J | 48709 |\n",
       "| I | 70282 |\n",
       "| H | 86619 |\n",
       "| G | 96204 |\n",
       "| F | 93573 |\n",
       "| E | 93483 |\n",
       "| D | 73630 |\n",
       "\n"
      ],
      "text/plain": [
       "  color count\n",
       "1 L      9656\n",
       "2 K     25868\n",
       "3 J     48709\n",
       "4 I     70282\n",
       "5 H     86619\n",
       "6 G     96204\n",
       "7 F     93573\n",
       "8 E     93483\n",
       "9 D     73630"
      ]
     },
     "metadata": {},
     "output_type": "display_data"
    }
   ],
   "source": [
    "# now counting numbers of diamonds below/above certain prices\n",
    "a1 <- nrow(diamondsbig[diamondsbig$price < 500,])\n",
    "a1\n",
    "a2 <- nrow(diamondsbig[diamondsbig$price < 250,])\n",
    "a2\n",
    "a3 <- nrow(diamondsbig[diamondsbig$price >= 15000,])\n",
    "a3\n",
    "\n",
    "# could similarly look at numbers by color\n",
    "a4 <- nrow(diamondsbig[diamondsbig$color == 'I', ])\n",
    "a4\n",
    "\n",
    "# note that summarize was in dplyr library\n",
    "group_by_colors <- diamondsbig %>%\n",
    "    group_by(color) %>%\n",
    "    summarize(count = n())\n",
    "group_by_colors"
   ]
  },
  {
   "cell_type": "code",
   "execution_count": 65,
   "id": "41ee047f",
   "metadata": {},
   "outputs": [
    {
     "name": "stderr",
     "output_type": "stream",
     "text": [
      "`stat_bin()` using `bins = 30`. Pick better value with `binwidth`.\n",
      "\n",
      "Warning message:\n",
      "\"Removed 713 rows containing non-finite values (stat_bin).\"\n"
     ]
    },
    {
     "name": "stdout",
     "output_type": "stream",
     "text": [
      "'data.frame':\t598024 obs. of  12 variables:\n",
      " $ carat       : num  0.25 0.23 0.34 0.21 0.31 0.2 0.2 0.22 0.23 0.2 ...\n",
      " $ cut         : Factor w/ 3 levels \"Good\",\"V.Good\",..: 2 1 1 2 2 1 1 2 2 1 ...\n",
      " $ color       : Factor w/ 9 levels \"L\",\"K\",\"J\",\"I\",..: 2 6 3 9 2 6 6 9 2 7 ...\n",
      " $ clarity     : Factor w/ 10 levels \"I3\",\"I2\",\"I1\",..: 3 3 2 3 3 4 4 3 4 5 ...\n",
      " $ table       : num  59 61 58 60 59 60 63 61 57.5 65 ...\n",
      " $ depth       : num  63.7 58.1 58.7 60.6 62.2 64.4 62.6 59.2 63.6 54.9 ...\n",
      " $ cert        : Factor w/ 9 levels \"GIA\",\"IGI\",\"EGL\",..: 1 1 1 1 3 1 1 1 2 1 ...\n",
      " $ measurements: chr  \"3.96 x 3.95 x 2.52\" \"4.00 x 4.05 x 2.30\" \"4.56 x 4.53 x 2.67\" \"3.80 x 3.82 x 2.31\" ...\n",
      " $ price       : num  NA NA NA NA NA NA NA NA NA NA ...\n",
      " $ x           : num  3.96 4 4.56 3.8 4.35 3.74 3.72 3.95 3.87 3.83 ...\n",
      " $ y           : num  3.95 4.05 4.53 3.82 4.26 3.67 3.65 3.97 3.9 4 ...\n",
      " $ z           : num  2.52 2.3 2.67 2.31 2.68 2.38 2.31 2.34 2.47 2.14 ...\n"
     ]
    },
    {
     "data": {
      "image/png": "[encoded data removed]",
      "text/plain": [
       "plot without title"
      ]
     },
     "metadata": {
      "image/png": {
       "height": 420,
       "width": 420
      }
     },
     "output_type": "display_data"
    }
   ],
   "source": [
    "# another histogram of prices, faceted by cut, but with a different scale\n",
    "\n",
    "qplot(x = price, data = diamondsbig) +\n",
    "    facet_wrap(~cut, scales = \"free_y\")\n",
    "\n",
    "str(diamondsbig)"
   ]
  },
  {
   "cell_type": "code",
   "execution_count": 83,
   "id": "038ed155",
   "metadata": {},
   "outputs": [
    {
     "name": "stderr",
     "output_type": "stream",
     "text": [
      "Warning message:\n",
      "\"Removed 713 rows containing non-finite values (stat_bin).\"\n"
     ]
    },
    {
     "data": {
      "image/png": "[encoded data removed]",
      "text/plain": [
       "plot without title"
      ]
     },
     "metadata": {
      "image/png": {
       "height": 420,
       "width": 420
      }
     },
     "output_type": "display_data"
    },
    {
     "data": {
      "image/png": "[encoded data removed]",
      "text/plain": [
       "plot without title"
      ]
     },
     "metadata": {
      "image/png": {
       "height": 420,
       "width": 420
      }
     },
     "output_type": "display_data"
    }
   ],
   "source": [
    "# another histogram of prices per carat\n",
    "qplot(x = price/carat, data = diamondsbig, binwidth = 1) +\n",
    "    scale_x_log10()+\n",
    "    facet_wrap(~cut, scales = \"free_y\")\n",
    "\n",
    "# going to attempt to replicate with ggplot\n",
    "\n",
    "hist1 <- ggplot(diamondsbig, aes(x = price / carat)) +\n",
    "    geom_bar(aes(cut))\n",
    "\n",
    "hist1\n",
    "# that's as good as it got"
   ]
  },
  {
   "cell_type": "code",
   "execution_count": 96,
   "id": "9968d1cf",
   "metadata": {},
   "outputs": [
    {
     "name": "stderr",
     "output_type": "stream",
     "text": [
      "Warning message:\n",
      "\"Removed 713 rows containing non-finite values (stat_bin).\"\n"
     ]
    },
    {
     "data": {
      "image/png": "[encoded data removed]",
      "text/plain": [
       "plot without title"
      ]
     },
     "metadata": {
      "image/png": {
       "height": 420,
       "width": 420
      }
     },
     "output_type": "display_data"
    }
   ],
   "source": [
    "# another histogram\n",
    "qplot(x = price, data = diamondsbig, binwidth = 5) +\n",
    "    scale_x_log10()+#limits = c(0, 1000), breaks = seq(0, 1000, 50)) +\n",
    "    facet_wrap(~cut, scales = \"free_y\")\n",
    "\n",
    "# seems to be some mistake in the commented out part"
   ]
  },
  {
   "cell_type": "code",
   "execution_count": 98,
   "id": "1beab1b0",
   "metadata": {},
   "outputs": [
    {
     "name": "stderr",
     "output_type": "stream",
     "text": [
      "Warning message:\n",
      "\"Removed 246487 rows containing non-finite values (stat_boxplot).\"\n"
     ]
    },
    {
     "data": {
      "image/png": "[encoded data removed]",
      "text/plain": [
       "plot without title"
      ]
     },
     "metadata": {
      "image/png": {
       "height": 420,
       "width": 420
      }
     },
     "output_type": "display_data"
    }
   ],
   "source": [
    "# boxplots! this one is of price per carat vs diamond cut\n",
    "qplot(y = price/carat, x = cut, data = diamondsbig, geom = \"boxplot\") +\n",
    "    scale_y_continuous(limits = c(0, 5000), breaks = seq(0, 5000, 500)) +\n",
    "    labs(title = \"Test Title\")"
   ]
  },
  {
   "cell_type": "code",
   "execution_count": 103,
   "id": "fd62c72f",
   "metadata": {},
   "outputs": [
    {
     "name": "stderr",
     "output_type": "stream",
     "text": [
      "Warning message:\n",
      "\"Removed 247773 rows containing non-finite values (stat_boxplot).\"\n"
     ]
    },
    {
     "data": {
      "image/png": "[encoded data removed]",
      "text/plain": [
       "plot without title"
      ]
     },
     "metadata": {
      "image/png": {
       "height": 420,
       "width": 420
      }
     },
     "output_type": "display_data"
    }
   ],
   "source": [
    "# another boxplot price vs clarity\n",
    "qplot(y = price, x = clarity, data = diamondsbig, geom = \"boxplot\") +\n",
    "    scale_y_continuous(limits = c(0, 5000), breaks = seq(0, 5000, 500))"
   ]
  },
  {
   "cell_type": "code",
   "execution_count": 105,
   "id": "39384c96",
   "metadata": {},
   "outputs": [
    {
     "name": "stderr",
     "output_type": "stream",
     "text": [
      "Warning message:\n",
      "\"Removed 247773 rows containing non-finite values (stat_boxplot).\"\n"
     ]
    },
    {
     "data": {
      "image/png": "[encoded data removed]",
      "text/plain": [
       "plot without title"
      ]
     },
     "metadata": {
      "image/png": {
       "height": 420,
       "width": 420
      }
     },
     "output_type": "display_data"
    }
   ],
   "source": [
    "# one more boxplot of price vs color\n",
    "qplot(y = price, x = color, data = diamondsbig, geom = \"boxplot\") +\n",
    "    scale_y_continuous(limits = c(0, 5000), breaks = seq(0, 5000, 500))\n"
   ]
  },
  {
   "cell_type": "code",
   "execution_count": 112,
   "id": "4e319c19",
   "metadata": {},
   "outputs": [
    {
     "data": {
      "text/html": [
       "238"
      ],
      "text/latex": [
       "238"
      ],
      "text/markdown": [
       "238"
      ],
      "text/plain": [
       "[1] 238"
      ]
     },
     "metadata": {},
     "output_type": "display_data"
    },
    {
     "data": {
      "text/html": [
       "9563.5"
      ],
      "text/latex": [
       "9563.5"
      ],
      "text/markdown": [
       "9563.5"
      ],
      "text/plain": [
       "[1] 9563.5"
      ]
     },
     "metadata": {},
     "output_type": "display_data"
    },
    {
     "data": {
      "text/html": [
       "9777"
      ],
      "text/latex": [
       "9777"
      ],
      "text/markdown": [
       "9777"
      ],
      "text/plain": [
       "[1] 9777"
      ]
     },
     "metadata": {},
     "output_type": "display_data"
    },
    {
     "data": {
      "text/plain": [
       "   Min. 1st Qu.  Median    Mean 3rd Qu.    Max.    NA's \n",
       "    301    1050    2690    8266   10614   99920      67 "
      ]
     },
     "metadata": {},
     "output_type": "display_data"
    },
    {
     "data": {
      "text/plain": [
       "   Min. 1st Qu.  Median    Mean 3rd Qu.    Max.    NA's \n",
       "    300    1575    4697    9424   11352   99806      64 "
      ]
     },
     "metadata": {},
     "output_type": "display_data"
    }
   ],
   "source": [
    "# find the interquartile range of subsets of the data\n",
    "IQR(subset(diamondsbig, price < 1000)$price)\n",
    "IQR(subset(diamondsbig, color == \"D\")$price, na.rm = TRUE)\n",
    "IQR(subset(diamondsbig, color == \"J\")$price, na.rm = TRUE)\n",
    "\n",
    "summary(subset(diamondsbig, color == \"D\")$price)\n",
    "summary(subset(diamondsbig, color == \"J\")$price)"
   ]
  },
  {
   "cell_type": "code",
   "execution_count": null,
   "id": "264b9856",
   "metadata": {},
   "outputs": [],
   "source": []
  }
 ],
 "metadata": {
  "kernelspec": {
   "display_name": "R",
   "language": "R",
   "name": "ir"
  },
  "language_info": {
   "codemirror_mode": "r",
   "file_extension": ".r",
   "mimetype": "text/x-r-source",
   "name": "R",
   "pygments_lexer": "r",
   "version": "4.1.0"
  }
 },
 "nbformat": 4,
 "nbformat_minor": 5
}
