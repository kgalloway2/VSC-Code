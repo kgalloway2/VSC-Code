{
 "cells": [
  {
   "cell_type": "code",
   "execution_count": 3,
   "id": "899dfd72",
   "metadata": {
    "collapsed": true
   },
   "outputs": [
    {
     "name": "stderr",
     "output_type": "stream",
     "text": [
      "Loading required package: e1071\n",
      "\n"
     ]
    }
   ],
   "source": [
    "require(e1071)"
   ]
  },
  {
   "cell_type": "code",
   "execution_count": 4,
   "id": "4f6fed53",
   "metadata": {},
   "outputs": [
    {
     "data": {
      "text/html": [
       "<table class=\"dataframe\">\n",
       "<caption>A data.frame: 6 × 5</caption>\n",
       "<thead>\n",
       "\t<tr><th></th><th scope=col>Sepal.Length</th><th scope=col>Sepal.Width</th><th scope=col>Petal.Length</th><th scope=col>Petal.Width</th><th scope=col>Species</th></tr>\n",
       "\t<tr><th></th><th scope=col>&lt;dbl&gt;</th><th scope=col>&lt;dbl&gt;</th><th scope=col>&lt;dbl&gt;</th><th scope=col>&lt;dbl&gt;</th><th scope=col>&lt;fct&gt;</th></tr>\n",
       "</thead>\n",
       "<tbody>\n",
       "\t<tr><th scope=row>1</th><td>5.1</td><td>3.5</td><td>1.4</td><td>0.2</td><td>setosa</td></tr>\n",
       "\t<tr><th scope=row>2</th><td>4.9</td><td>3.0</td><td>1.4</td><td>0.2</td><td>setosa</td></tr>\n",
       "\t<tr><th scope=row>3</th><td>4.7</td><td>3.2</td><td>1.3</td><td>0.2</td><td>setosa</td></tr>\n",
       "\t<tr><th scope=row>4</th><td>4.6</td><td>3.1</td><td>1.5</td><td>0.2</td><td>setosa</td></tr>\n",
       "\t<tr><th scope=row>5</th><td>5.0</td><td>3.6</td><td>1.4</td><td>0.2</td><td>setosa</td></tr>\n",
       "\t<tr><th scope=row>6</th><td>5.4</td><td>3.9</td><td>1.7</td><td>0.4</td><td>setosa</td></tr>\n",
       "</tbody>\n",
       "</table>\n"
      ],
      "text/latex": [
       "A data.frame: 6 × 5\n",
       "\\begin{tabular}{r|lllll}\n",
       "  & Sepal.Length & Sepal.Width & Petal.Length & Petal.Width & Species\\\\\n",
       "  & <dbl> & <dbl> & <dbl> & <dbl> & <fct>\\\\\n",
       "\\hline\n",
       "\t1 & 5.1 & 3.5 & 1.4 & 0.2 & setosa\\\\\n",
       "\t2 & 4.9 & 3.0 & 1.4 & 0.2 & setosa\\\\\n",
       "\t3 & 4.7 & 3.2 & 1.3 & 0.2 & setosa\\\\\n",
       "\t4 & 4.6 & 3.1 & 1.5 & 0.2 & setosa\\\\\n",
       "\t5 & 5.0 & 3.6 & 1.4 & 0.2 & setosa\\\\\n",
       "\t6 & 5.4 & 3.9 & 1.7 & 0.4 & setosa\\\\\n",
       "\\end{tabular}\n"
      ],
      "text/markdown": [
       "\n",
       "A data.frame: 6 × 5\n",
       "\n",
       "| <!--/--> | Sepal.Length &lt;dbl&gt; | Sepal.Width &lt;dbl&gt; | Petal.Length &lt;dbl&gt; | Petal.Width &lt;dbl&gt; | Species &lt;fct&gt; |\n",
       "|---|---|---|---|---|---|\n",
       "| 1 | 5.1 | 3.5 | 1.4 | 0.2 | setosa |\n",
       "| 2 | 4.9 | 3.0 | 1.4 | 0.2 | setosa |\n",
       "| 3 | 4.7 | 3.2 | 1.3 | 0.2 | setosa |\n",
       "| 4 | 4.6 | 3.1 | 1.5 | 0.2 | setosa |\n",
       "| 5 | 5.0 | 3.6 | 1.4 | 0.2 | setosa |\n",
       "| 6 | 5.4 | 3.9 | 1.7 | 0.4 | setosa |\n",
       "\n"
      ],
      "text/plain": [
       "  Sepal.Length Sepal.Width Petal.Length Petal.Width Species\n",
       "1 5.1          3.5         1.4          0.2         setosa \n",
       "2 4.9          3.0         1.4          0.2         setosa \n",
       "3 4.7          3.2         1.3          0.2         setosa \n",
       "4 4.6          3.1         1.5          0.2         setosa \n",
       "5 5.0          3.6         1.4          0.2         setosa \n",
       "6 5.4          3.9         1.7          0.4         setosa "
      ]
     },
     "metadata": {},
     "output_type": "display_data"
    }
   ],
   "source": [
    "\n",
    "# load the data into the variable iris\n",
    "data(\"iris\")\n",
    "# look at its head\n",
    "head(iris)"
   ]
  },
  {
   "cell_type": "code",
   "execution_count": 5,
   "id": "393d79fc",
   "metadata": {},
   "outputs": [
    {
     "name": "stdout",
     "output_type": "stream",
     "text": [
      "'data.frame':\t150 obs. of  5 variables:\n",
      " $ Sepal.Length: num  5.1 4.9 4.7 4.6 5 5.4 4.6 5 4.4 4.9 ...\n",
      " $ Sepal.Width : num  3.5 3 3.2 3.1 3.6 3.9 3.4 3.4 2.9 3.1 ...\n",
      " $ Petal.Length: num  1.4 1.4 1.3 1.5 1.4 1.7 1.4 1.5 1.4 1.5 ...\n",
      " $ Petal.Width : num  0.2 0.2 0.2 0.2 0.2 0.4 0.3 0.2 0.2 0.1 ...\n",
      " $ Species     : Factor w/ 3 levels \"setosa\",\"versicolor\",..: 1 1 1 1 1 1 1 1 1 1 ...\n"
     ]
    }
   ],
   "source": [
    "str(iris)"
   ]
  },
  {
   "cell_type": "code",
   "execution_count": 6,
   "id": "0a41b565",
   "metadata": {
    "collapsed": true
   },
   "outputs": [
    {
     "name": "stderr",
     "output_type": "stream",
     "text": [
      "Loading required package: dplyr\n",
      "\n",
      "\n",
      "Attaching package: 'dplyr'\n",
      "\n",
      "\n",
      "The following objects are masked from 'package:stats':\n",
      "\n",
      "    filter, lag\n",
      "\n",
      "\n",
      "The following objects are masked from 'package:base':\n",
      "\n",
      "    intersect, setdiff, setequal, union\n",
      "\n",
      "\n"
     ]
    }
   ],
   "source": [
    "require(dplyr)"
   ]
  },
  {
   "cell_type": "code",
   "execution_count": 18,
   "id": "3569149f",
   "metadata": {},
   "outputs": [],
   "source": [
    "# divide features and outcome (species) into separate data set\n",
    "# make a training set of 70% of the iris data\n",
    "train <- iris[sample(nrow(iris), 105),]\n",
    "# just converting \"ids\" to numbers rather than characters\n",
    "sid <- as.numeric(rownames(train))\n",
    "# test set is the iris data without all the training samples\n",
    "test <- iris[-sid,]"
   ]
  },
  {
   "cell_type": "code",
   "execution_count": 19,
   "id": "9d617f76",
   "metadata": {},
   "outputs": [
    {
     "data": {
      "text/plain": [
       "\n",
       "Call:\n",
       "svm(formula = Species ~ ., data = train, kernel = \"radial\")\n",
       "\n",
       "\n",
       "Parameters:\n",
       "   SVM-Type:  C-classification \n",
       " SVM-Kernel:  radial \n",
       "       cost:  1 \n",
       "\n",
       "Number of Support Vectors:  43\n",
       "\n",
       " ( 7 18 18 )\n",
       "\n",
       "\n",
       "Number of Classes:  3 \n",
       "\n",
       "Levels: \n",
       " setosa versicolor virginica\n",
       "\n",
       "\n"
      ]
     },
     "metadata": {},
     "output_type": "display_data"
    }
   ],
   "source": [
    "# build a classifier based on the training set using a radial kernel\n",
    "svmModel_radial <- svm(Species ~ ., data = train, kernel = \"radial\")\n",
    "summary(svmModel_radial)"
   ]
  },
  {
   "cell_type": "code",
   "execution_count": 20,
   "id": "e6741a16",
   "metadata": {},
   "outputs": [
    {
     "data": {
      "text/plain": [
       "            \n",
       "pred_radial  setosa versicolor virginica\n",
       "  setosa         13          0         0\n",
       "  versicolor      0         17         0\n",
       "  virginica       0          0        15"
      ]
     },
     "metadata": {},
     "output_type": "display_data"
    }
   ],
   "source": [
    "# apply svm to test set\n",
    "pred_radial <- predict(svmModel_radial, test)\n",
    "# view confusion matrix to check results\n",
    "table(pred_radial, test$Species)"
   ]
  },
  {
   "cell_type": "code",
   "execution_count": 21,
   "id": "3be7f985",
   "metadata": {},
   "outputs": [
    {
     "data": {
      "text/plain": [
       "\n",
       "Call:\n",
       "svm(formula = Species ~ ., data = train, kernel = \"linear\")\n",
       "\n",
       "\n",
       "Parameters:\n",
       "   SVM-Type:  C-classification \n",
       " SVM-Kernel:  linear \n",
       "       cost:  1 \n",
       "\n",
       "Number of Support Vectors:  26\n",
       "\n",
       " ( 2 11 13 )\n",
       "\n",
       "\n",
       "Number of Classes:  3 \n",
       "\n",
       "Levels: \n",
       " setosa versicolor virginica\n",
       "\n",
       "\n"
      ]
     },
     "metadata": {},
     "output_type": "display_data"
    },
    {
     "data": {
      "text/plain": [
       "            \n",
       "pred_linear  setosa versicolor virginica\n",
       "  setosa         13          0         0\n",
       "  versicolor      0         16         0\n",
       "  virginica       0          1        15"
      ]
     },
     "metadata": {},
     "output_type": "display_data"
    }
   ],
   "source": [
    "# now with a linear kernel\n",
    "svmModel_linear <- svm(Species ~ ., data = train, kernel = \"linear\")\n",
    "summary(svmModel_linear)\n",
    "\n",
    "pred_linear <- predict(svmModel_linear, test)\n",
    "table(pred_linear, test$Species)"
   ]
  },
  {
   "cell_type": "code",
   "execution_count": 22,
   "id": "d21ce02b",
   "metadata": {},
   "outputs": [
    {
     "data": {
      "text/plain": [
       "\n",
       "Call:\n",
       "svm(formula = Species ~ ., data = train, kernel = \"linear\", cost = 1, \n",
       "    gamma = 0.5)\n",
       "\n",
       "\n",
       "Parameters:\n",
       "   SVM-Type:  C-classification \n",
       " SVM-Kernel:  linear \n",
       "       cost:  1 \n",
       "\n",
       "Number of Support Vectors:  26\n",
       "\n",
       " ( 2 11 13 )\n",
       "\n",
       "\n",
       "Number of Classes:  3 \n",
       "\n",
       "Levels: \n",
       " setosa versicolor virginica\n",
       "\n",
       "\n"
      ]
     },
     "metadata": {},
     "output_type": "display_data"
    },
    {
     "data": {
      "text/plain": [
       "             \n",
       "pred_linear_1 setosa versicolor virginica\n",
       "   setosa         13          0         0\n",
       "   versicolor      0         16         0\n",
       "   virginica       0          1        15"
      ]
     },
     "metadata": {},
     "output_type": "display_data"
    }
   ],
   "source": [
    "# the radial kernel had no misclassifications \n",
    "# while the linear kernel only had one\n",
    "# let's retry linear with some adjusted parameters\n",
    "svmModel_linear_1 <- svm(Species ~ ., data = train, kernel = \"linear\", cost = 1, gamma = 0.5)\n",
    "summary(svmModel_linear_1)\n",
    "\n",
    "pred_linear_1 <- predict(svmModel_linear_1, test)\n",
    "table(pred_linear_1, test$Species)"
   ]
  },
  {
   "cell_type": "code",
   "execution_count": 23,
   "id": "9ce34e50",
   "metadata": {},
   "outputs": [
    {
     "data": {
      "text/plain": [
       "\n",
       "Call:\n",
       "svm(formula = Species ~ ., data = train, kernel = \"linear\", cost = 0.1, \n",
       "    gamma = 0.5)\n",
       "\n",
       "\n",
       "Parameters:\n",
       "   SVM-Type:  C-classification \n",
       " SVM-Kernel:  linear \n",
       "       cost:  0.1 \n",
       "\n",
       "Number of Support Vectors:  52\n",
       "\n",
       " ( 6 20 26 )\n",
       "\n",
       "\n",
       "Number of Classes:  3 \n",
       "\n",
       "Levels: \n",
       " setosa versicolor virginica\n",
       "\n",
       "\n"
      ]
     },
     "metadata": {},
     "output_type": "display_data"
    },
    {
     "data": {
      "text/plain": [
       "             \n",
       "pred_linear_2 setosa versicolor virginica\n",
       "   setosa         13          0         0\n",
       "   versicolor      0         16         0\n",
       "   virginica       0          1        15"
      ]
     },
     "metadata": {},
     "output_type": "display_data"
    }
   ],
   "source": [
    "# still a misclassification so let's adjust again\n",
    "svmModel_linear_2 <- svm(Species ~ ., data = train, kernel = \"linear\", cost = 0.1, gamma = 0.5)\n",
    "summary(svmModel_linear_2)\n",
    "\n",
    "pred_linear_2 <- predict(svmModel_linear_2, test)\n",
    "table(pred_linear_2, test$Species)"
   ]
  },
  {
   "cell_type": "code",
   "execution_count": 24,
   "id": "c846c65c",
   "metadata": {},
   "outputs": [
    {
     "data": {
      "text/plain": [
       "\n",
       "Call:\n",
       "svm(formula = Species ~ ., data = train, kernel = \"linear\", cost = 100, \n",
       "    gamma = 0.5)\n",
       "\n",
       "\n",
       "Parameters:\n",
       "   SVM-Type:  C-classification \n",
       " SVM-Kernel:  linear \n",
       "       cost:  100 \n",
       "\n",
       "Number of Support Vectors:  14\n",
       "\n",
       " ( 2 6 6 )\n",
       "\n",
       "\n",
       "Number of Classes:  3 \n",
       "\n",
       "Levels: \n",
       " setosa versicolor virginica\n",
       "\n",
       "\n"
      ]
     },
     "metadata": {},
     "output_type": "display_data"
    },
    {
     "data": {
      "text/plain": [
       "             \n",
       "pred_linear_3 setosa versicolor virginica\n",
       "   setosa         13          0         0\n",
       "   versicolor      0         16         1\n",
       "   virginica       0          1        14"
      ]
     },
     "metadata": {},
     "output_type": "display_data"
    }
   ],
   "source": [
    "# still a misclassification so let's adjust again\n",
    "svmModel_linear_3 <- svm(Species ~ ., data = train, kernel = \"linear\", cost = 100, gamma = 0.5)\n",
    "summary(svmModel_linear_3)\n",
    "\n",
    "pred_linear_3 <- predict(svmModel_linear_3, test)\n",
    "table(pred_linear_3, test$Species)"
   ]
  },
  {
   "cell_type": "code",
   "execution_count": 25,
   "id": "2daa8e3f",
   "metadata": {},
   "outputs": [],
   "source": [
    "# now two misclassifications\n",
    "?svm"
   ]
  }
 ],
 "metadata": {
  "kernelspec": {
   "display_name": "R",
   "language": "R",
   "name": "ir"
  },
  "language_info": {
   "codemirror_mode": "r",
   "file_extension": ".r",
   "mimetype": "text/x-r-source",
   "name": "R",
   "pygments_lexer": "r",
   "version": "4.1.0"
  }
 },
 "nbformat": 4,
 "nbformat_minor": 5
}
