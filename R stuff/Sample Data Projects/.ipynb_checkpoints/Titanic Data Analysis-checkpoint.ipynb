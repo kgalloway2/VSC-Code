{
 "cells": [
  {
   "cell_type": "code",
   "execution_count": 46,
   "id": "9d2fe3b9",
   "metadata": {},
   "outputs": [
    {
     "name": "stdout",
     "output_type": "stream",
     "text": [
      "'data.frame':\t891 obs. of  12 variables:\n",
      " $ PassengerId: int  1 2 3 4 5 6 7 8 9 10 ...\n",
      " $ Survived   : int  0 1 1 1 0 0 0 0 1 1 ...\n",
      " $ Pclass     : int  3 1 3 1 3 3 1 3 3 2 ...\n",
      " $ Name       : chr  \"Braund, Mr. Owen Harris\" \"Cumings, Mrs. John Bradley (Florence Briggs Thayer)\" \"Heikkinen, Miss. Laina\" \"Futrelle, Mrs. Jacques Heath (Lily May Peel)\" ...\n",
      " $ Sex        : chr  \"male\" \"female\" \"female\" \"female\" ...\n",
      " $ Age        : num  22 38 26 35 35 NA 54 2 27 14 ...\n",
      " $ SibSp      : int  1 1 0 1 0 0 0 3 0 1 ...\n",
      " $ Parch      : int  0 0 0 0 0 0 0 1 2 0 ...\n",
      " $ Ticket     : chr  \"A/5 21171\" \"PC 17599\" \"STON/O2. 3101282\" \"113803\" ...\n",
      " $ Fare       : num  7.25 71.28 7.92 53.1 8.05 ...\n",
      " $ Cabin      : chr  \"\" \"C85\" \"\" \"C123\" ...\n",
      " $ Embarked   : chr  \"S\" \"C\" \"S\" \"S\" ...\n"
     ]
    }
   ],
   "source": [
    "df_titanic_train <- read.csv(\"C:/Users/kgtrm/Documents/R projects data/TitanicTrain.csv\")\n",
    "str(df_titanic_train)"
   ]
  },
  {
   "cell_type": "code",
   "execution_count": 47,
   "id": "c74b2301",
   "metadata": {},
   "outputs": [
    {
     "data": {
      "text/plain": [
       "   Min. 1st Qu.  Median    Mean 3rd Qu.    Max.    NA's \n",
       "   0.42   20.12   28.00   29.70   38.00   80.00     177 "
      ]
     },
     "metadata": {},
     "output_type": "display_data"
    }
   ],
   "source": [
    "summary(df_titanic_train$Age)"
   ]
  },
  {
   "cell_type": "code",
   "execution_count": 4,
   "id": "35d4605a",
   "metadata": {},
   "outputs": [],
   "source": [
    "library(rpart)"
   ]
  },
  {
   "cell_type": "code",
   "execution_count": 48,
   "id": "ecba9b9c",
   "metadata": {},
   "outputs": [],
   "source": [
    "age_pred <- rpart(Age ~ Pclass + Sex + SibSp + Parch + Fare,\n",
    "                 data = df_titanic_train[!is.na(df_titanic_train$Age),],\n",
    "                 method = \"anova\"\n",
    "                 )"
   ]
  },
  {
   "cell_type": "code",
   "execution_count": 49,
   "id": "7ea3be4d",
   "metadata": {},
   "outputs": [],
   "source": [
    "# now we replace the NAs using the age_pred model\n",
    "df_titanic_train$Age[is.na(df_titanic_train$Age)] <- predict(age_pred,\n",
    "                                                            df_titanic_train[is.na(df_titanic_train$Age),])\n",
    "# note: Cabin was originally included as part of the prediction model \n",
    "# but I took it out since it didn't have all the levels in the non-NAs\n",
    "# and thus could not predict for the NAs"
   ]
  },
  {
   "cell_type": "code",
   "execution_count": 50,
   "id": "945f0542",
   "metadata": {},
   "outputs": [
    {
     "data": {
      "text/plain": [
       "   Min. 1st Qu.  Median    Mean 3rd Qu.    Max. \n",
       "   0.42   21.53   27.84   29.56   37.00   80.00 "
      ]
     },
     "metadata": {},
     "output_type": "display_data"
    }
   ],
   "source": [
    "summary(df_titanic_train$Age)\n",
    "# look at that. the stats barely changed"
   ]
  },
  {
   "cell_type": "code",
   "execution_count": 11,
   "id": "87c0f90a",
   "metadata": {},
   "outputs": [
    {
     "data": {
      "text/plain": [
       "   Length     Class      Mode \n",
       "      891 character character "
      ]
     },
     "metadata": {},
     "output_type": "display_data"
    }
   ],
   "source": [
    "summary(df_titanic_train$Embarked)"
   ]
  },
  {
   "cell_type": "code",
   "execution_count": 13,
   "id": "db27b931",
   "metadata": {},
   "outputs": [
    {
     "data": {
      "text/html": [
       "<style>\n",
       ".list-inline {list-style: none; margin:0; padding: 0}\n",
       ".list-inline>li {display: inline-block}\n",
       ".list-inline>li:not(:last-child)::after {content: \"\\00b7\"; padding: 0 .5ex}\n",
       "</style>\n",
       "<ol class=list-inline><li>62</li><li>830</li></ol>\n"
      ],
      "text/latex": [
       "\\begin{enumerate*}\n",
       "\\item 62\n",
       "\\item 830\n",
       "\\end{enumerate*}\n"
      ],
      "text/markdown": [
       "1. 62\n",
       "2. 830\n",
       "\n",
       "\n"
      ],
      "text/plain": [
       "[1]  62 830"
      ]
     },
     "metadata": {},
     "output_type": "display_data"
    }
   ],
   "source": [
    "which(df_titanic_train$Embarked == '')\n",
    "# some of the rows are missing the embarked value (which is the same for everyone)"
   ]
  },
  {
   "cell_type": "code",
   "execution_count": 51,
   "id": "e8c134e9",
   "metadata": {},
   "outputs": [],
   "source": [
    "df_titanic_train$Embarked[c(62, 830)] <- 'S'\n",
    "df_titanic_train$Embarked <- factor(df_titanic_train$Embarked)"
   ]
  },
  {
   "cell_type": "code",
   "execution_count": 15,
   "id": "d080d4b1",
   "metadata": {},
   "outputs": [
    {
     "data": {
      "text/plain": [
       "   Min. 1st Qu.  Median    Mean 3rd Qu.    Max. \n",
       "   0.00    7.91   14.45   32.20   31.00  512.33 "
      ]
     },
     "metadata": {},
     "output_type": "display_data"
    }
   ],
   "source": [
    "summary(df_titanic_train$Fare)"
   ]
  },
  {
   "cell_type": "code",
   "execution_count": 17,
   "id": "164240b9",
   "metadata": {
    "collapsed": true
   },
   "outputs": [
    {
     "name": "stderr",
     "output_type": "stream",
     "text": [
      "randomForest 4.6-14\n",
      "\n",
      "Type rfNews() to see new features/changes/bug fixes.\n",
      "\n"
     ]
    }
   ],
   "source": [
    "library(randomForest)"
   ]
  },
  {
   "cell_type": "code",
   "execution_count": 52,
   "id": "d4e102a1",
   "metadata": {},
   "outputs": [],
   "source": [
    "set.seed(12345)\n",
    "df_titanic_train$Survived <- as.factor(df_titanic_train$Survived)\n",
    "df_titanic_train$Pclass <- as.factor(df_titanic_train$Pclass)"
   ]
  },
  {
   "cell_type": "code",
   "execution_count": 53,
   "id": "e12f7617",
   "metadata": {},
   "outputs": [],
   "source": [
    "# initialize the model\n",
    "fit <- randomForest(Survived ~ Age + Pclass + Sex + SibSp + Parch + Fare + Embarked,\n",
    "                   data = df_titanic_train,\n",
    "                   ntree = 5000,\n",
    "                   importance = TRUE)"
   ]
  },
  {
   "cell_type": "code",
   "execution_count": 54,
   "id": "7d79f6d6",
   "metadata": {},
   "outputs": [
    {
     "name": "stdout",
     "output_type": "stream",
     "text": [
      "'data.frame':\t418 obs. of  11 variables:\n",
      " $ PassengerId: int  892 893 894 895 896 897 898 899 900 901 ...\n",
      " $ Pclass     : int  3 3 2 3 3 3 3 2 3 3 ...\n",
      " $ Name       : chr  \"Kelly, Mr. James\" \"Wilkes, Mrs. James (Ellen Needs)\" \"Myles, Mr. Thomas Francis\" \"Wirz, Mr. Albert\" ...\n",
      " $ Sex        : chr  \"male\" \"female\" \"male\" \"male\" ...\n",
      " $ Age        : num  34.5 47 62 27 22 14 30 26 18 21 ...\n",
      " $ SibSp      : int  0 1 0 0 1 0 0 1 0 2 ...\n",
      " $ Parch      : int  0 0 0 0 1 0 0 1 0 0 ...\n",
      " $ Ticket     : chr  \"330911\" \"363272\" \"240276\" \"315154\" ...\n",
      " $ Fare       : num  7.83 7 9.69 8.66 12.29 ...\n",
      " $ Cabin      : chr  \"\" \"\" \"\" \"\" ...\n",
      " $ Embarked   : chr  \"Q\" \"S\" \"Q\" \"S\" ...\n"
     ]
    },
    {
     "data": {
      "text/plain": [
       "   Min. 1st Qu.  Median    Mean 3rd Qu.    Max.    NA's \n",
       "   0.17   21.00   27.00   30.27   39.00   76.00      86 "
      ]
     },
     "metadata": {},
     "output_type": "display_data"
    }
   ],
   "source": [
    "# test model\n",
    "df_titanic_test <- read.csv(\"C:/Users/kgtrm/Documents/R projects data/TitanicTest.csv\")\n",
    "str(df_titanic_test)\n",
    "summary(df_titanic_test$Age)"
   ]
  },
  {
   "cell_type": "code",
   "execution_count": 55,
   "id": "0fdc9507",
   "metadata": {},
   "outputs": [
    {
     "data": {
      "text/plain": [
       "   Min. 1st Qu.  Median    Mean 3rd Qu.    Max. \n",
       "   0.17   22.00   26.12   29.78   36.38   76.00 "
      ]
     },
     "metadata": {},
     "output_type": "display_data"
    }
   ],
   "source": [
    "# we again need to fill in missing values\n",
    "age_pred_test <- rpart(Age ~ Pclass + Sex + SibSp + Parch + Fare,\n",
    "                      data = df_titanic_test[!is.na(df_titanic_test$Age),],\n",
    "                      method = \"anova\"\n",
    "                      )\n",
    "\n",
    "df_titanic_test$Age[is.na(df_titanic_test$Age)] <- predict(age_pred_test,\n",
    "                                                          df_titanic_test[is.na(df_titanic_test$Age),])\n",
    "\n",
    "summary(df_titanic_test$Age)"
   ]
  },
  {
   "cell_type": "code",
   "execution_count": 56,
   "id": "934f525d",
   "metadata": {},
   "outputs": [
    {
     "data": {
      "text/plain": [
       "   Length     Class      Mode \n",
       "      418 character character "
      ]
     },
     "metadata": {},
     "output_type": "display_data"
    },
    {
     "data": {
      "text/plain": [
       "   Min. 1st Qu.  Median    Mean 3rd Qu.    Max.    NA's \n",
       "  0.000   7.896  14.454  35.627  31.500 512.329       1 "
      ]
     },
     "metadata": {},
     "output_type": "display_data"
    }
   ],
   "source": [
    "summary(df_titanic_test$Embarked)\n",
    "summary(df_titanic_test$Fare)"
   ]
  },
  {
   "cell_type": "code",
   "execution_count": 23,
   "id": "0be1b4db",
   "metadata": {},
   "outputs": [
    {
     "data": {
      "text/html": [
       "153"
      ],
      "text/latex": [
       "153"
      ],
      "text/markdown": [
       "153"
      ],
      "text/plain": [
       "[1] 153"
      ]
     },
     "metadata": {},
     "output_type": "display_data"
    }
   ],
   "source": [
    "# one NA in Fare so we will replace with the median value\n",
    "which(is.na(df_titanic_test$Fare))"
   ]
  },
  {
   "cell_type": "code",
   "execution_count": 57,
   "id": "198949f6",
   "metadata": {},
   "outputs": [],
   "source": [
    "df_titanic_test$Fare[153] <- median(df_titanic_test$Fare, na.rm = TRUE)"
   ]
  },
  {
   "cell_type": "code",
   "execution_count": 58,
   "id": "19b8bcfe",
   "metadata": {},
   "outputs": [],
   "source": [
    "# change type of Pclass and Embarked, to match it with the type in train\n",
    "df_titanic_test$Pclass <- as.factor(df_titanic_test$Pclass)\n",
    "df_titanic_test$Embarked <- as.factor(df_titanic_test$Embarked)"
   ]
  },
  {
   "cell_type": "code",
   "execution_count": 59,
   "id": "5315748b",
   "metadata": {},
   "outputs": [],
   "source": [
    "Prediction <- predict(fit, df_titanic_test)"
   ]
  },
  {
   "cell_type": "code",
   "execution_count": 60,
   "id": "b4ffdc2c",
   "metadata": {},
   "outputs": [],
   "source": [
    "df_predictions <- as.data.frame(Prediction)\n",
    "df_predictions$PassengerId <- df_titanic_test$PassengerId\n",
    "df_predictions <- df_predictions[,c(2,1)]"
   ]
  },
  {
   "cell_type": "code",
   "execution_count": 61,
   "id": "9aadada0",
   "metadata": {},
   "outputs": [
    {
     "data": {
      "text/html": [
       "<table class=\"dataframe\">\n",
       "<caption>A data.frame: 418 × 2</caption>\n",
       "<thead>\n",
       "\t<tr><th></th><th scope=col>PassengerId</th><th scope=col>Survived</th></tr>\n",
       "\t<tr><th></th><th scope=col>&lt;int&gt;</th><th scope=col>&lt;fct&gt;</th></tr>\n",
       "</thead>\n",
       "<tbody>\n",
       "\t<tr><th scope=row>1</th><td>892</td><td>0</td></tr>\n",
       "\t<tr><th scope=row>2</th><td>893</td><td>0</td></tr>\n",
       "\t<tr><th scope=row>3</th><td>894</td><td>0</td></tr>\n",
       "\t<tr><th scope=row>4</th><td>895</td><td>0</td></tr>\n",
       "\t<tr><th scope=row>5</th><td>896</td><td>0</td></tr>\n",
       "\t<tr><th scope=row>6</th><td>897</td><td>0</td></tr>\n",
       "\t<tr><th scope=row>7</th><td>898</td><td>0</td></tr>\n",
       "\t<tr><th scope=row>8</th><td>899</td><td>0</td></tr>\n",
       "\t<tr><th scope=row>9</th><td>900</td><td>1</td></tr>\n",
       "\t<tr><th scope=row>10</th><td>901</td><td>0</td></tr>\n",
       "\t<tr><th scope=row>11</th><td>902</td><td>0</td></tr>\n",
       "\t<tr><th scope=row>12</th><td>903</td><td>0</td></tr>\n",
       "\t<tr><th scope=row>13</th><td>904</td><td>1</td></tr>\n",
       "\t<tr><th scope=row>14</th><td>905</td><td>0</td></tr>\n",
       "\t<tr><th scope=row>15</th><td>906</td><td>1</td></tr>\n",
       "\t<tr><th scope=row>16</th><td>907</td><td>1</td></tr>\n",
       "\t<tr><th scope=row>17</th><td>908</td><td>0</td></tr>\n",
       "\t<tr><th scope=row>18</th><td>909</td><td>0</td></tr>\n",
       "\t<tr><th scope=row>19</th><td>910</td><td>0</td></tr>\n",
       "\t<tr><th scope=row>20</th><td>911</td><td>0</td></tr>\n",
       "\t<tr><th scope=row>21</th><td>912</td><td>1</td></tr>\n",
       "\t<tr><th scope=row>22</th><td>913</td><td>0</td></tr>\n",
       "\t<tr><th scope=row>23</th><td>914</td><td>1</td></tr>\n",
       "\t<tr><th scope=row>24</th><td>915</td><td>0</td></tr>\n",
       "\t<tr><th scope=row>25</th><td>916</td><td>1</td></tr>\n",
       "\t<tr><th scope=row>26</th><td>917</td><td>0</td></tr>\n",
       "\t<tr><th scope=row>27</th><td>918</td><td>1</td></tr>\n",
       "\t<tr><th scope=row>28</th><td>919</td><td>0</td></tr>\n",
       "\t<tr><th scope=row>29</th><td>920</td><td>0</td></tr>\n",
       "\t<tr><th scope=row>30</th><td>921</td><td>0</td></tr>\n",
       "\t<tr><th scope=row>...</th><td>...</td><td>...</td></tr>\n",
       "\t<tr><th scope=row>389</th><td>1280</td><td>0</td></tr>\n",
       "\t<tr><th scope=row>390</th><td>1281</td><td>0</td></tr>\n",
       "\t<tr><th scope=row>391</th><td>1282</td><td>0</td></tr>\n",
       "\t<tr><th scope=row>392</th><td>1283</td><td>1</td></tr>\n",
       "\t<tr><th scope=row>393</th><td>1284</td><td>0</td></tr>\n",
       "\t<tr><th scope=row>394</th><td>1285</td><td>0</td></tr>\n",
       "\t<tr><th scope=row>395</th><td>1286</td><td>0</td></tr>\n",
       "\t<tr><th scope=row>396</th><td>1287</td><td>1</td></tr>\n",
       "\t<tr><th scope=row>397</th><td>1288</td><td>0</td></tr>\n",
       "\t<tr><th scope=row>398</th><td>1289</td><td>1</td></tr>\n",
       "\t<tr><th scope=row>399</th><td>1290</td><td>0</td></tr>\n",
       "\t<tr><th scope=row>400</th><td>1291</td><td>0</td></tr>\n",
       "\t<tr><th scope=row>401</th><td>1292</td><td>1</td></tr>\n",
       "\t<tr><th scope=row>402</th><td>1293</td><td>0</td></tr>\n",
       "\t<tr><th scope=row>403</th><td>1294</td><td>1</td></tr>\n",
       "\t<tr><th scope=row>404</th><td>1295</td><td>0</td></tr>\n",
       "\t<tr><th scope=row>405</th><td>1296</td><td>0</td></tr>\n",
       "\t<tr><th scope=row>406</th><td>1297</td><td>0</td></tr>\n",
       "\t<tr><th scope=row>407</th><td>1298</td><td>0</td></tr>\n",
       "\t<tr><th scope=row>408</th><td>1299</td><td>0</td></tr>\n",
       "\t<tr><th scope=row>409</th><td>1300</td><td>1</td></tr>\n",
       "\t<tr><th scope=row>410</th><td>1301</td><td>1</td></tr>\n",
       "\t<tr><th scope=row>411</th><td>1302</td><td>1</td></tr>\n",
       "\t<tr><th scope=row>412</th><td>1303</td><td>1</td></tr>\n",
       "\t<tr><th scope=row>413</th><td>1304</td><td>0</td></tr>\n",
       "\t<tr><th scope=row>414</th><td>1305</td><td>0</td></tr>\n",
       "\t<tr><th scope=row>415</th><td>1306</td><td>1</td></tr>\n",
       "\t<tr><th scope=row>416</th><td>1307</td><td>0</td></tr>\n",
       "\t<tr><th scope=row>417</th><td>1308</td><td>0</td></tr>\n",
       "\t<tr><th scope=row>418</th><td>1309</td><td>1</td></tr>\n",
       "</tbody>\n",
       "</table>\n"
      ],
      "text/latex": [
       "A data.frame: 418 × 2\n",
       "\\begin{tabular}{r|ll}\n",
       "  & PassengerId & Survived\\\\\n",
       "  & <int> & <fct>\\\\\n",
       "\\hline\n",
       "\t1 & 892 & 0\\\\\n",
       "\t2 & 893 & 0\\\\\n",
       "\t3 & 894 & 0\\\\\n",
       "\t4 & 895 & 0\\\\\n",
       "\t5 & 896 & 0\\\\\n",
       "\t6 & 897 & 0\\\\\n",
       "\t7 & 898 & 0\\\\\n",
       "\t8 & 899 & 0\\\\\n",
       "\t9 & 900 & 1\\\\\n",
       "\t10 & 901 & 0\\\\\n",
       "\t11 & 902 & 0\\\\\n",
       "\t12 & 903 & 0\\\\\n",
       "\t13 & 904 & 1\\\\\n",
       "\t14 & 905 & 0\\\\\n",
       "\t15 & 906 & 1\\\\\n",
       "\t16 & 907 & 1\\\\\n",
       "\t17 & 908 & 0\\\\\n",
       "\t18 & 909 & 0\\\\\n",
       "\t19 & 910 & 0\\\\\n",
       "\t20 & 911 & 0\\\\\n",
       "\t21 & 912 & 1\\\\\n",
       "\t22 & 913 & 0\\\\\n",
       "\t23 & 914 & 1\\\\\n",
       "\t24 & 915 & 0\\\\\n",
       "\t25 & 916 & 1\\\\\n",
       "\t26 & 917 & 0\\\\\n",
       "\t27 & 918 & 1\\\\\n",
       "\t28 & 919 & 0\\\\\n",
       "\t29 & 920 & 0\\\\\n",
       "\t30 & 921 & 0\\\\\n",
       "\t... & ... & ...\\\\\n",
       "\t389 & 1280 & 0\\\\\n",
       "\t390 & 1281 & 0\\\\\n",
       "\t391 & 1282 & 0\\\\\n",
       "\t392 & 1283 & 1\\\\\n",
       "\t393 & 1284 & 0\\\\\n",
       "\t394 & 1285 & 0\\\\\n",
       "\t395 & 1286 & 0\\\\\n",
       "\t396 & 1287 & 1\\\\\n",
       "\t397 & 1288 & 0\\\\\n",
       "\t398 & 1289 & 1\\\\\n",
       "\t399 & 1290 & 0\\\\\n",
       "\t400 & 1291 & 0\\\\\n",
       "\t401 & 1292 & 1\\\\\n",
       "\t402 & 1293 & 0\\\\\n",
       "\t403 & 1294 & 1\\\\\n",
       "\t404 & 1295 & 0\\\\\n",
       "\t405 & 1296 & 0\\\\\n",
       "\t406 & 1297 & 0\\\\\n",
       "\t407 & 1298 & 0\\\\\n",
       "\t408 & 1299 & 0\\\\\n",
       "\t409 & 1300 & 1\\\\\n",
       "\t410 & 1301 & 1\\\\\n",
       "\t411 & 1302 & 1\\\\\n",
       "\t412 & 1303 & 1\\\\\n",
       "\t413 & 1304 & 0\\\\\n",
       "\t414 & 1305 & 0\\\\\n",
       "\t415 & 1306 & 1\\\\\n",
       "\t416 & 1307 & 0\\\\\n",
       "\t417 & 1308 & 0\\\\\n",
       "\t418 & 1309 & 1\\\\\n",
       "\\end{tabular}\n"
      ],
      "text/markdown": [
       "\n",
       "A data.frame: 418 × 2\n",
       "\n",
       "| <!--/--> | PassengerId &lt;int&gt; | Survived &lt;fct&gt; |\n",
       "|---|---|---|\n",
       "| 1 | 892 | 0 |\n",
       "| 2 | 893 | 0 |\n",
       "| 3 | 894 | 0 |\n",
       "| 4 | 895 | 0 |\n",
       "| 5 | 896 | 0 |\n",
       "| 6 | 897 | 0 |\n",
       "| 7 | 898 | 0 |\n",
       "| 8 | 899 | 0 |\n",
       "| 9 | 900 | 1 |\n",
       "| 10 | 901 | 0 |\n",
       "| 11 | 902 | 0 |\n",
       "| 12 | 903 | 0 |\n",
       "| 13 | 904 | 1 |\n",
       "| 14 | 905 | 0 |\n",
       "| 15 | 906 | 1 |\n",
       "| 16 | 907 | 1 |\n",
       "| 17 | 908 | 0 |\n",
       "| 18 | 909 | 0 |\n",
       "| 19 | 910 | 0 |\n",
       "| 20 | 911 | 0 |\n",
       "| 21 | 912 | 1 |\n",
       "| 22 | 913 | 0 |\n",
       "| 23 | 914 | 1 |\n",
       "| 24 | 915 | 0 |\n",
       "| 25 | 916 | 1 |\n",
       "| 26 | 917 | 0 |\n",
       "| 27 | 918 | 1 |\n",
       "| 28 | 919 | 0 |\n",
       "| 29 | 920 | 0 |\n",
       "| 30 | 921 | 0 |\n",
       "| ... | ... | ... |\n",
       "| 389 | 1280 | 0 |\n",
       "| 390 | 1281 | 0 |\n",
       "| 391 | 1282 | 0 |\n",
       "| 392 | 1283 | 1 |\n",
       "| 393 | 1284 | 0 |\n",
       "| 394 | 1285 | 0 |\n",
       "| 395 | 1286 | 0 |\n",
       "| 396 | 1287 | 1 |\n",
       "| 397 | 1288 | 0 |\n",
       "| 398 | 1289 | 1 |\n",
       "| 399 | 1290 | 0 |\n",
       "| 400 | 1291 | 0 |\n",
       "| 401 | 1292 | 1 |\n",
       "| 402 | 1293 | 0 |\n",
       "| 403 | 1294 | 1 |\n",
       "| 404 | 1295 | 0 |\n",
       "| 405 | 1296 | 0 |\n",
       "| 406 | 1297 | 0 |\n",
       "| 407 | 1298 | 0 |\n",
       "| 408 | 1299 | 0 |\n",
       "| 409 | 1300 | 1 |\n",
       "| 410 | 1301 | 1 |\n",
       "| 411 | 1302 | 1 |\n",
       "| 412 | 1303 | 1 |\n",
       "| 413 | 1304 | 0 |\n",
       "| 414 | 1305 | 0 |\n",
       "| 415 | 1306 | 1 |\n",
       "| 416 | 1307 | 0 |\n",
       "| 417 | 1308 | 0 |\n",
       "| 418 | 1309 | 1 |\n",
       "\n"
      ],
      "text/plain": [
       "    PassengerId Survived\n",
       "1   892         0       \n",
       "2   893         0       \n",
       "3   894         0       \n",
       "4   895         0       \n",
       "5   896         0       \n",
       "6   897         0       \n",
       "7   898         0       \n",
       "8   899         0       \n",
       "9   900         1       \n",
       "10  901         0       \n",
       "11  902         0       \n",
       "12  903         0       \n",
       "13  904         1       \n",
       "14  905         0       \n",
       "15  906         1       \n",
       "16  907         1       \n",
       "17  908         0       \n",
       "18  909         0       \n",
       "19  910         0       \n",
       "20  911         0       \n",
       "21  912         1       \n",
       "22  913         0       \n",
       "23  914         1       \n",
       "24  915         0       \n",
       "25  916         1       \n",
       "26  917         0       \n",
       "27  918         1       \n",
       "28  919         0       \n",
       "29  920         0       \n",
       "30  921         0       \n",
       "... ...         ...     \n",
       "389 1280        0       \n",
       "390 1281        0       \n",
       "391 1282        0       \n",
       "392 1283        1       \n",
       "393 1284        0       \n",
       "394 1285        0       \n",
       "395 1286        0       \n",
       "396 1287        1       \n",
       "397 1288        0       \n",
       "398 1289        1       \n",
       "399 1290        0       \n",
       "400 1291        0       \n",
       "401 1292        1       \n",
       "402 1293        0       \n",
       "403 1294        1       \n",
       "404 1295        0       \n",
       "405 1296        0       \n",
       "406 1297        0       \n",
       "407 1298        0       \n",
       "408 1299        0       \n",
       "409 1300        1       \n",
       "410 1301        1       \n",
       "411 1302        1       \n",
       "412 1303        1       \n",
       "413 1304        0       \n",
       "414 1305        0       \n",
       "415 1306        1       \n",
       "416 1307        0       \n",
       "417 1308        0       \n",
       "418 1309        1       "
      ]
     },
     "metadata": {},
     "output_type": "display_data"
    }
   ],
   "source": [
    "colnames(df_predictions) <- c(\"PassengerId\", \"Survived\")\n",
    "df_predictions"
   ]
  },
  {
   "cell_type": "code",
   "execution_count": 35,
   "id": "7093a862",
   "metadata": {
    "collapsed": true
   },
   "outputs": [
    {
     "name": "stderr",
     "output_type": "stream",
     "text": [
      "Loading required package: grid\n",
      "\n",
      "Loading required package: mvtnorm\n",
      "\n",
      "Loading required package: modeltools\n",
      "\n",
      "Loading required package: stats4\n",
      "\n",
      "Loading required package: strucchange\n",
      "\n",
      "Loading required package: zoo\n",
      "\n",
      "\n",
      "Attaching package: 'zoo'\n",
      "\n",
      "\n",
      "The following objects are masked from 'package:base':\n",
      "\n",
      "    as.Date, as.Date.numeric\n",
      "\n",
      "\n",
      "Loading required package: sandwich\n",
      "\n"
     ]
    }
   ],
   "source": [
    "# improve the model\n",
    "library(party)\n",
    "# not sure this one worked correctly"
   ]
  },
  {
   "cell_type": "code",
   "execution_count": 62,
   "id": "4da1e51d",
   "metadata": {},
   "outputs": [],
   "source": [
    "df_titanic_train$Sex <- as.factor(df_titanic_train$Sex)"
   ]
  },
  {
   "cell_type": "code",
   "execution_count": 63,
   "id": "38187873",
   "metadata": {},
   "outputs": [],
   "source": [
    "set.seed(12345)\n",
    "fit_better <- cforest(Survived ~ Age + Pclass + Sex + SibSp + Parch + Fare + Embarked,\n",
    "                     data = df_titanic_train,\n",
    "                     controls = cforest_unbiased(ntree = 2000, mtry = 3))\n",
    "\n",
    "Prediction_new <- predict(fit_better, df_titanic_test, OOB = TRUE, type = \"response\")"
   ]
  },
  {
   "cell_type": "code",
   "execution_count": 70,
   "id": "8f629ca6",
   "metadata": {
    "collapsed": true
   },
   "outputs": [
    {
     "name": "stderr",
     "output_type": "stream",
     "text": [
      "\n",
      "Attaching package: 'dplyr'\n",
      "\n",
      "\n",
      "The following object is masked from 'package:randomForest':\n",
      "\n",
      "    combine\n",
      "\n",
      "\n",
      "The following objects are masked from 'package:stats':\n",
      "\n",
      "    filter, lag\n",
      "\n",
      "\n",
      "The following objects are masked from 'package:base':\n",
      "\n",
      "    intersect, setdiff, setequal, union\n",
      "\n",
      "\n"
     ]
    }
   ],
   "source": [
    "library(dplyr)"
   ]
  },
  {
   "cell_type": "code",
   "execution_count": 71,
   "id": "918ab639",
   "metadata": {},
   "outputs": [],
   "source": [
    "all_ids <- union(df_titanic_train$PassengerId, df_titanic_test$PassengerId)"
   ]
  },
  {
   "cell_type": "code",
   "execution_count": 72,
   "id": "b9bf1455",
   "metadata": {},
   "outputs": [
    {
     "name": "stdout",
     "output_type": "stream",
     "text": [
      " int [1:1309] 1 2 3 4 5 6 7 8 9 10 ...\n"
     ]
    }
   ],
   "source": [
    "str(all_ids)"
   ]
  },
  {
   "cell_type": "code",
   "execution_count": 75,
   "id": "ee79d698",
   "metadata": {},
   "outputs": [],
   "source": [
    "df_predictions_better <- as.data.frame(Prediction_new)\n",
    "df_predictions_better$PassengerId <- df_titanic_train$PassengerId\n",
    "df_predictions_better <- df_predictions_better[,c(2,1)]"
   ]
  },
  {
   "cell_type": "code",
   "execution_count": 76,
   "id": "05e7a4b8",
   "metadata": {},
   "outputs": [
    {
     "data": {
      "text/html": [
       "<table class=\"dataframe\">\n",
       "<caption>A data.frame: 891 × 2</caption>\n",
       "<thead>\n",
       "\t<tr><th scope=col>PassengerId</th><th scope=col>Survived</th></tr>\n",
       "\t<tr><th scope=col>&lt;int&gt;</th><th scope=col>&lt;fct&gt;</th></tr>\n",
       "</thead>\n",
       "<tbody>\n",
       "\t<tr><td> 1</td><td>0</td></tr>\n",
       "\t<tr><td> 2</td><td>1</td></tr>\n",
       "\t<tr><td> 3</td><td>0</td></tr>\n",
       "\t<tr><td> 4</td><td>1</td></tr>\n",
       "\t<tr><td> 5</td><td>0</td></tr>\n",
       "\t<tr><td> 6</td><td>0</td></tr>\n",
       "\t<tr><td> 7</td><td>0</td></tr>\n",
       "\t<tr><td> 8</td><td>0</td></tr>\n",
       "\t<tr><td> 9</td><td>0</td></tr>\n",
       "\t<tr><td>10</td><td>1</td></tr>\n",
       "\t<tr><td>11</td><td>1</td></tr>\n",
       "\t<tr><td>12</td><td>1</td></tr>\n",
       "\t<tr><td>13</td><td>0</td></tr>\n",
       "\t<tr><td>14</td><td>0</td></tr>\n",
       "\t<tr><td>15</td><td>1</td></tr>\n",
       "\t<tr><td>16</td><td>1</td></tr>\n",
       "\t<tr><td>17</td><td>0</td></tr>\n",
       "\t<tr><td>18</td><td>0</td></tr>\n",
       "\t<tr><td>19</td><td>1</td></tr>\n",
       "\t<tr><td>20</td><td>1</td></tr>\n",
       "\t<tr><td>21</td><td>0</td></tr>\n",
       "\t<tr><td>22</td><td>0</td></tr>\n",
       "\t<tr><td>23</td><td>1</td></tr>\n",
       "\t<tr><td>24</td><td>0</td></tr>\n",
       "\t<tr><td>25</td><td>0</td></tr>\n",
       "\t<tr><td>26</td><td>0</td></tr>\n",
       "\t<tr><td>27</td><td>0</td></tr>\n",
       "\t<tr><td>28</td><td>0</td></tr>\n",
       "\t<tr><td>29</td><td>1</td></tr>\n",
       "\t<tr><td>30</td><td>0</td></tr>\n",
       "\t<tr><td>...</td><td>...</td></tr>\n",
       "\t<tr><td>862</td><td>0</td></tr>\n",
       "\t<tr><td>863</td><td>1</td></tr>\n",
       "\t<tr><td>864</td><td>0</td></tr>\n",
       "\t<tr><td>865</td><td>0</td></tr>\n",
       "\t<tr><td>866</td><td>1</td></tr>\n",
       "\t<tr><td>867</td><td>1</td></tr>\n",
       "\t<tr><td>868</td><td>0</td></tr>\n",
       "\t<tr><td>869</td><td>0</td></tr>\n",
       "\t<tr><td>870</td><td>0</td></tr>\n",
       "\t<tr><td>871</td><td>0</td></tr>\n",
       "\t<tr><td>872</td><td>1</td></tr>\n",
       "\t<tr><td>873</td><td>0</td></tr>\n",
       "\t<tr><td>874</td><td>0</td></tr>\n",
       "\t<tr><td>875</td><td>1</td></tr>\n",
       "\t<tr><td>876</td><td>1</td></tr>\n",
       "\t<tr><td>877</td><td>0</td></tr>\n",
       "\t<tr><td>878</td><td>0</td></tr>\n",
       "\t<tr><td>879</td><td>0</td></tr>\n",
       "\t<tr><td>880</td><td>1</td></tr>\n",
       "\t<tr><td>881</td><td>1</td></tr>\n",
       "\t<tr><td>882</td><td>0</td></tr>\n",
       "\t<tr><td>883</td><td>1</td></tr>\n",
       "\t<tr><td>884</td><td>0</td></tr>\n",
       "\t<tr><td>885</td><td>0</td></tr>\n",
       "\t<tr><td>886</td><td>0</td></tr>\n",
       "\t<tr><td>887</td><td>0</td></tr>\n",
       "\t<tr><td>888</td><td>1</td></tr>\n",
       "\t<tr><td>889</td><td>0</td></tr>\n",
       "\t<tr><td>890</td><td>0</td></tr>\n",
       "\t<tr><td>891</td><td>0</td></tr>\n",
       "</tbody>\n",
       "</table>\n"
      ],
      "text/latex": [
       "A data.frame: 891 × 2\n",
       "\\begin{tabular}{ll}\n",
       " PassengerId & Survived\\\\\n",
       " <int> & <fct>\\\\\n",
       "\\hline\n",
       "\t  1 & 0\\\\\n",
       "\t  2 & 1\\\\\n",
       "\t  3 & 0\\\\\n",
       "\t  4 & 1\\\\\n",
       "\t  5 & 0\\\\\n",
       "\t  6 & 0\\\\\n",
       "\t  7 & 0\\\\\n",
       "\t  8 & 0\\\\\n",
       "\t  9 & 0\\\\\n",
       "\t 10 & 1\\\\\n",
       "\t 11 & 1\\\\\n",
       "\t 12 & 1\\\\\n",
       "\t 13 & 0\\\\\n",
       "\t 14 & 0\\\\\n",
       "\t 15 & 1\\\\\n",
       "\t 16 & 1\\\\\n",
       "\t 17 & 0\\\\\n",
       "\t 18 & 0\\\\\n",
       "\t 19 & 1\\\\\n",
       "\t 20 & 1\\\\\n",
       "\t 21 & 0\\\\\n",
       "\t 22 & 0\\\\\n",
       "\t 23 & 1\\\\\n",
       "\t 24 & 0\\\\\n",
       "\t 25 & 0\\\\\n",
       "\t 26 & 0\\\\\n",
       "\t 27 & 0\\\\\n",
       "\t 28 & 0\\\\\n",
       "\t 29 & 1\\\\\n",
       "\t 30 & 0\\\\\n",
       "\t ... & ...\\\\\n",
       "\t 862 & 0\\\\\n",
       "\t 863 & 1\\\\\n",
       "\t 864 & 0\\\\\n",
       "\t 865 & 0\\\\\n",
       "\t 866 & 1\\\\\n",
       "\t 867 & 1\\\\\n",
       "\t 868 & 0\\\\\n",
       "\t 869 & 0\\\\\n",
       "\t 870 & 0\\\\\n",
       "\t 871 & 0\\\\\n",
       "\t 872 & 1\\\\\n",
       "\t 873 & 0\\\\\n",
       "\t 874 & 0\\\\\n",
       "\t 875 & 1\\\\\n",
       "\t 876 & 1\\\\\n",
       "\t 877 & 0\\\\\n",
       "\t 878 & 0\\\\\n",
       "\t 879 & 0\\\\\n",
       "\t 880 & 1\\\\\n",
       "\t 881 & 1\\\\\n",
       "\t 882 & 0\\\\\n",
       "\t 883 & 1\\\\\n",
       "\t 884 & 0\\\\\n",
       "\t 885 & 0\\\\\n",
       "\t 886 & 0\\\\\n",
       "\t 887 & 0\\\\\n",
       "\t 888 & 1\\\\\n",
       "\t 889 & 0\\\\\n",
       "\t 890 & 0\\\\\n",
       "\t 891 & 0\\\\\n",
       "\\end{tabular}\n"
      ],
      "text/markdown": [
       "\n",
       "A data.frame: 891 × 2\n",
       "\n",
       "| PassengerId &lt;int&gt; | Survived &lt;fct&gt; |\n",
       "|---|---|\n",
       "|  1 | 0 |\n",
       "|  2 | 1 |\n",
       "|  3 | 0 |\n",
       "|  4 | 1 |\n",
       "|  5 | 0 |\n",
       "|  6 | 0 |\n",
       "|  7 | 0 |\n",
       "|  8 | 0 |\n",
       "|  9 | 0 |\n",
       "| 10 | 1 |\n",
       "| 11 | 1 |\n",
       "| 12 | 1 |\n",
       "| 13 | 0 |\n",
       "| 14 | 0 |\n",
       "| 15 | 1 |\n",
       "| 16 | 1 |\n",
       "| 17 | 0 |\n",
       "| 18 | 0 |\n",
       "| 19 | 1 |\n",
       "| 20 | 1 |\n",
       "| 21 | 0 |\n",
       "| 22 | 0 |\n",
       "| 23 | 1 |\n",
       "| 24 | 0 |\n",
       "| 25 | 0 |\n",
       "| 26 | 0 |\n",
       "| 27 | 0 |\n",
       "| 28 | 0 |\n",
       "| 29 | 1 |\n",
       "| 30 | 0 |\n",
       "| ... | ... |\n",
       "| 862 | 0 |\n",
       "| 863 | 1 |\n",
       "| 864 | 0 |\n",
       "| 865 | 0 |\n",
       "| 866 | 1 |\n",
       "| 867 | 1 |\n",
       "| 868 | 0 |\n",
       "| 869 | 0 |\n",
       "| 870 | 0 |\n",
       "| 871 | 0 |\n",
       "| 872 | 1 |\n",
       "| 873 | 0 |\n",
       "| 874 | 0 |\n",
       "| 875 | 1 |\n",
       "| 876 | 1 |\n",
       "| 877 | 0 |\n",
       "| 878 | 0 |\n",
       "| 879 | 0 |\n",
       "| 880 | 1 |\n",
       "| 881 | 1 |\n",
       "| 882 | 0 |\n",
       "| 883 | 1 |\n",
       "| 884 | 0 |\n",
       "| 885 | 0 |\n",
       "| 886 | 0 |\n",
       "| 887 | 0 |\n",
       "| 888 | 1 |\n",
       "| 889 | 0 |\n",
       "| 890 | 0 |\n",
       "| 891 | 0 |\n",
       "\n"
      ],
      "text/plain": [
       "    PassengerId Survived\n",
       "1    1          0       \n",
       "2    2          1       \n",
       "3    3          0       \n",
       "4    4          1       \n",
       "5    5          0       \n",
       "6    6          0       \n",
       "7    7          0       \n",
       "8    8          0       \n",
       "9    9          0       \n",
       "10  10          1       \n",
       "11  11          1       \n",
       "12  12          1       \n",
       "13  13          0       \n",
       "14  14          0       \n",
       "15  15          1       \n",
       "16  16          1       \n",
       "17  17          0       \n",
       "18  18          0       \n",
       "19  19          1       \n",
       "20  20          1       \n",
       "21  21          0       \n",
       "22  22          0       \n",
       "23  23          1       \n",
       "24  24          0       \n",
       "25  25          0       \n",
       "26  26          0       \n",
       "27  27          0       \n",
       "28  28          0       \n",
       "29  29          1       \n",
       "30  30          0       \n",
       "... ...         ...     \n",
       "862 862         0       \n",
       "863 863         1       \n",
       "864 864         0       \n",
       "865 865         0       \n",
       "866 866         1       \n",
       "867 867         1       \n",
       "868 868         0       \n",
       "869 869         0       \n",
       "870 870         0       \n",
       "871 871         0       \n",
       "872 872         1       \n",
       "873 873         0       \n",
       "874 874         0       \n",
       "875 875         1       \n",
       "876 876         1       \n",
       "877 877         0       \n",
       "878 878         0       \n",
       "879 879         0       \n",
       "880 880         1       \n",
       "881 881         1       \n",
       "882 882         0       \n",
       "883 883         1       \n",
       "884 884         0       \n",
       "885 885         0       \n",
       "886 886         0       \n",
       "887 887         0       \n",
       "888 888         1       \n",
       "889 889         0       \n",
       "890 890         0       \n",
       "891 891         0       "
      ]
     },
     "metadata": {},
     "output_type": "display_data"
    }
   ],
   "source": [
    "colnames(df_predictions_better) <- c(\"PassengerId\", \"Survived\")\n",
    "df_predictions_better"
   ]
  }
 ],
 "metadata": {
  "kernelspec": {
   "display_name": "R",
   "language": "R",
   "name": "ir"
  },
  "language_info": {
   "codemirror_mode": "r",
   "file_extension": ".r",
   "mimetype": "text/x-r-source",
   "name": "R",
   "pygments_lexer": "r",
   "version": "4.1.0"
  }
 },
 "nbformat": 4,
 "nbformat_minor": 5
}
