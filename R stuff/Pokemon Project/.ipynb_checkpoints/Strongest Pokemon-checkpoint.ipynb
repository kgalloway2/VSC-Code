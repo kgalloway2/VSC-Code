{
 "cells": [
  {
   "cell_type": "markdown",
   "id": "0c29919f",
   "metadata": {},
   "source": [
    "# Strongest Pokemon\n",
    "## An Anaylsis by Keaton Galloway"
   ]
  },
  {
   "cell_type": "markdown",
   "id": "5fcb454b",
   "metadata": {},
   "source": [
    "## 1. Introduction\n",
    "The purpose of this analysis is to find the \"strongest Pokemon\" and to see whether or not Pokemon have become stronger over time. It begins by loosely defining the \"strongest Pokemon\" as those with the highest Base Stat Totals (BST). The data set used contains information on over 1000 Pokemon (including alternate forms) from generations 1-8. This information includes base stats, BST, experience yield, egg cycle, types, generation, and more.\n",
    "\n",
    "The initial definition of high BST is then worked with to find groups of pokemon on which to focus: strongest types, top 10% of BST, with/without legendary Pokemon, with/without fully-evolved pokemon. In general, every group provides the same answer to \"Who are the strongest Pokemon?\". Dragons outrank other Pokemon consistently. Additionally, the data shows that Pokemon have become stronger over time in nearly all stats, not just BST.\n",
    "\n",
    "This paper will begin by investigating the correlations between the numeric values of the data set. It then looks at the relationships between types and BSTs, the top three types by BST (dragon, steel, pyschic), the top 10% of Pokemon by BST, and the generational trends of Pokemon stats. Finally, it concludes with a discussion of the strength of the \"strongest Pokemon\" definition and aspects of Pokemon to consider beyond just the BST."
   ]
  },
  {
   "cell_type": "markdown",
   "id": "af1a1a4e",
   "metadata": {},
   "source": [
    "## 2. Body\n",
    "\n",
    "### Data\n",
    "The data set used for this analysis (Appendix A) contains information on all 1074 Pokemon (this number is including alternate forms) from generations 1-8 of the Pokemon games with 47 initial attributes for each Pokemon. From these 47, the only ones used in the analysis are alternate form name, height, weight, primary and secondary type, games of origin, all six stats (health, attack, defense, special attack, special defense, speed), BST, all six EV yields and the EV yield total, catch rate, experience growth total, and experience yield. Moreover, two additional attributes are created and used: fully-evolved (a boolean denoting whether or not the pokemon is fully-evolved) and generation (an integer denoting the generation from which the pokemon originates). Note that fully-evolved means that the Pokemon evolves no further, so single-stage Pokemon are counted as fully-evolved.\n",
    "\n",
    "### Methods\n",
    "The methods used for this analysis are simple and straightforward. A pearson correlation measure is used to look at the strength of the relationships between all numeric attributes of the data. Multiple summary statistics are used to evaluate the data, including mean, median, max, min, and interquartile range. \n",
    "\n",
    "<div style=\"page-break-after: always;\"></div>"
   ]
  },
  {
   "attachments": {},
   "cell_type": "markdown",
   "id": "892dc2d4",
   "metadata": {},
   "source": [
    "### Analysis\n",
    "#### Correlation\n",
    "Using the Pearson correlation, a matrix was constructed containing the correlation values between each numeric attribute of the data. A few of these were discarded outright: correlation between each attribute and itself and the correlations between the several \"id numbers\" (X, pokemon.id, pokedex.number, and generation). Additionally, correlations involving EV values were discarded since EVs only take values from 1-3 and strong correlations here are meaningless for the goal of this analysis. Finally, any remaining values less than 0.6 (and greater than -0.6) were discarded. This value was chosen to cut off attributes without significant relationships to help focus the analysis on strongly related attributes. The following pairs of attributes remained:\n",
    "\n",
    "<ul>\n",
    "    <li>Health.Stat and Base.Stat.Total</li>\n",
    "    <li>Health.Stat and Experience.Yield</li>\n",
    "    <li>Attack.Stat and Base.Stat.Total</li>\n",
    "    <li>Attack.Stat and Experience.Yield</li>\n",
    "    <li>Defense.Stat and Base.Stat.Total</li>\n",
    "    <li>Special.Attack.Stat and Base.Stat.Total</li>\n",
    "    <li>Special.Attack.Stat and Experience.Yield</li>\n",
    "    <li>Special.Defense.Stat and Base.Stat.Total</li>\n",
    "    <li>Special.Defense.Stat and Experience.Yield</li>\n",
    "    <li>Base.Stat.Total and Catch.Rate</li>\n",
    "    <li>Base.Stat.Total and Experience.Yield</li>\n",
    "    <li>Catch.Rate and Experience.Yield</li>\n",
    "</ul>\n",
    "\n",
    "The following pairs will have their graphs included and discussed here: Attack and BST, Catch Rate and BST, Experience Yield and BST, and Experience Yield and Catch Rate.\n",
    "\n",
    "##### Attack and BST\n",
    "<img align=\"left\" src=\"AttackAndBST.png\" width=500 height=500 />\n",
    "\n",
    "The high correlation between the Attack and BST makes sense. BST is a total of all the stats, so Pokemon with high stats will have high BSTs. Similarly, Pokemon with high BSTs likely have a high stat (or multiple high stats). Health, Defense, Special Attack, and Special Defense also exhibit this same high correlation with BST. These pairs are included because notably Speed does not have a high correlation with BST.This seems to suggest that speed is unimportant when it comes to deciding whether a Pokemon is strong or not. \n",
    "\n",
    "Note that Attack was chosen as the representative since it had the highest correlation. This will be relevant during the Types discussion below."
   ]
  },
  {
   "attachments": {},
   "cell_type": "markdown",
   "id": "06b463b9",
   "metadata": {},
   "source": [
    "##### Catch Rate and BST\n",
    "<img align=\"left\" src=\"CatchRateAndBST.png\" width=500 height=500 />\n",
    "\n",
    "Catch Rate is a value which helps to determine the probability of the successful capture of a Pokemon (along with type of ball used, health status, and others). A high catch rate means the Pokemon is easier to catch. A low catch rate means the Pokemon is harder to catch. This negative correlation makes sense since stronger Pokemon would be harder to catch. Notably, there exist a few outliers with a catch rate of 255 due to the presence of specific in-game events where those Pokemon are intentionally easy to capture."
   ]
  },
  {
   "attachments": {},
   "cell_type": "markdown",
   "id": "96bbca03",
   "metadata": {},
   "source": [
    "##### Experience Yield and BST\n",
    "<img align=\"left\" src=\"ExperienceYieldAndBST.png\" width=500 height=500 />\n",
    "\n",
    "Experience Yield is a value used to calculate the amount of experience points received in battle (along with other factors, such as levels, wild battle vs. trainer battle, nt others). Higher experience yield indicates a higher amount of experience points. This is the highest correlation value of all the data (disregarding the values between attributes and themselves). This strong correlation makes sense because stronger Pokemon will give more experience. A handful of outliers exist due to spcial Pokemon like Audino, Chansey, and Blissey who were intentionally given very large experience yields.\n",
    "\n",
    "A notable feature of this graph is that the points all seem to lie along three lines. There exists three linear relationships based on another attribute. Further investigation showed that this was the EV Yield Total."
   ]
  },
  {
   "attachments": {},
   "cell_type": "markdown",
   "id": "67c81007",
   "metadata": {},
   "source": [
    "<img align=\"left\" src=\"ExpYieldAndBSTByEV.png\" width=500 height=400 />\n",
    "\n",
    "These linear relationships make sense based on the general idea of learning from battle. Gaining experience points and EVs (effort values) represents the Pokemon learning from battle. The more experience you earn, the more you learned. So is is expected that we would see a similar relationship with EV totals. The more EVs you receive, the more you learned. "
   ]
  },
  {
   "attachments": {},
   "cell_type": "markdown",
   "id": "6f7f56ae",
   "metadata": {},
   "source": [
    "##### Experience Yield and Catch Rate\n",
    "<img align=\"left\" src=\"ExperienceYieldAndCatchRate.png\" width=500 height=500 />\n",
    "\n",
    "Catch Rate and Experience Yield exhibit a negative correlation similar to that of Catch Rate and BST. This follows from the result earlier that stronger Pokemon (by BST) are harder to catch (lower catch rates). Similarly, stronger Pokemon (by experience yield) are harder to catch."
   ]
  },
  {
   "attachments": {},
   "cell_type": "markdown",
   "id": "db1276bd",
   "metadata": {},
   "source": [
    "#### Types\n",
    "The next focus of analysis was the types of Pokemon and how they relate to mean BST. The same comparisons were evaulated on subsets of the data consisting of fully-evolved pokemon, legendary pokemon, and non-legendary pokemon.\n",
    "\n",
    "##### Types and Mean BST\n",
    "<img src=\"TypesAndMeanBST.png\" width=900 height=600 />\n",
    "\n",
    "The Pokemon data set was grouped based on types. For example, the Bug type group contains all Pokemon for whom Bug is a primary or secondary type. With this grouping, the mean BST was calculated for each type and graphed. Clearly, the Dragon type far exceeds any other type. Notably, Psychic and Steel are the next two highest in mean BST."
   ]
  },
  {
   "attachments": {},
   "cell_type": "markdown",
   "id": "58aceda6",
   "metadata": {},
   "source": [
    "##### Types and Mean BST (Only Fully Evolved)\n",
    "<img src=\"EvolvedTypesAndMeanBST.png\" width=900 height=600 />\n",
    "\n",
    "The data was also subsetted based on whether or not the Pokemon was fully evolved. Again, grouping based on type and calculating mean BST, the above graph was obtained. Again, Dragon is well above every other type, with Psychic and Steel  the next two highest in mean BST."
   ]
  },
  {
   "attachments": {},
   "cell_type": "markdown",
   "id": "de8c8b8a",
   "metadata": {},
   "source": [
    "##### Number of Types\n",
    "<img align=\"left\" src=\"EvolvedNumTypesAndBST.png\" width=300 height=300 />\n",
    "\n",
    "This analysis also considered how the number of types relates to mean BST for both all Pokemon and only fully evolved Pokemon. In both cases (all = blue, evolved = pink), having 2 types indicated a higher mean BST. "
   ]
  },
  {
   "attachments": {},
   "cell_type": "markdown",
   "id": "99637fe1",
   "metadata": {},
   "source": [
    "##### Legendary VS Non-Legendary - Types and Mean BST\n",
    "<img src=\"LegVSNonLegAndBST.png\" width=900 height=600 />\n",
    "\n",
    "Finally, the mean BSTs per type were compared for legendary and non-legendary Pokemon (legendary = pink, non=legendary = blue). As expected, legendary Pokemon have higher BSTs on average in every type. A more notable finding here is that Dragons maintain their supremacy in both the legendary and non-legendary subsets. \n",
    "\n",
    "It is also important to point out here that a couple of these data points are very much skewed. For example, there are only five Poison typed legendary Pokemon."
   ]
  },
  {
   "attachments": {},
   "cell_type": "markdown",
   "id": "ed6aa08d",
   "metadata": {},
   "source": [
    "#### Top Three Types\n",
    "The next stage of analysis focused on the six stats (health, attack, defense, special attack, special defense, and speed) of the top three types (as ranked by mean BST) dragon, steel, and psychic. \n",
    "\n",
    "Note that although this section will only address means of the stats, the conclusions are similar for the medians of the stats as well.\n",
    "\n",
    "##### Mean Stat Values (All Pokemon)\n",
    "<img align=\"right\" src=\"MeanStatsTopThree.png\" width=400 height=500 />\n",
    "\n",
    "As the correlation values showed earlier, attack and special attack seem to be good predictors for high BST. Here we see that each of the three top types have at least one of high attack or special attack. Steel also has incredibly high base defense, which aligns with expectations based on the design intentions of steel type Pokemon (strong, sturdy, defensive Pokemon). Speed again seems to not matter since it is the lowest stat for two of the top three."
   ]
  },
  {
   "attachments": {},
   "cell_type": "markdown",
   "id": "52bbe974",
   "metadata": {},
   "source": [
    "##### Mean Stat Values (Fully Evolved Pokemon)\n",
    "<img align=\"right\" src=\"MeanStatsEvolved.png\" width=400 height=500 />\n",
    "\n",
    "The conclusions here are similar to those discussed above."
   ]
  },
  {
   "attachments": {},
   "cell_type": "markdown",
   "id": "8e2993cf",
   "metadata": {},
   "source": [
    "##### Mean Stat Values (Non-Legendary Pokemon)\n",
    "<img align=\"right\" src=\"MeanStatsNonLeg.png\" width=400 height=500 />\n",
    "\n",
    "The conclusions here are similar to those discussed above."
   ]
  },
  {
   "attachments": {},
   "cell_type": "markdown",
   "id": "3b702c36",
   "metadata": {},
   "source": [
    "##### Mean Stat Values (Legendary Pokemon)\n",
    "<img align=\"right\" src=\"MeanStatsLeg.png\" width=400 height=500 />\n",
    "\n",
    "The conclusions here are similar to those discussed above. Notably here, the mean health is skewed in Dragon by the alternate form of Eternatus, which has a base health of 255 for an in-game event. "
   ]
  },
  {
   "attachments": {},
   "cell_type": "markdown",
   "id": "020da72f",
   "metadata": {},
   "source": [
    "#### Top 10% by BST\n",
    "<img src=\"NumEachTypeTop10.png\" width=900 height=300 />\n",
    "\n",
    "The top 10% of Pokemon by BST included all Pokemon with a BST greater than or equal to 600. This includes 111 Pokemon, mostly Legendary Pokemon and Mega-Evolved Pokemon. Again, the data shows that Dragon pokemon are very well-represented in the strongest Pokemon. Additionally, Psychic has even more representatives than Dragon. Also, the 3rd most represented type here is Steel. These align with our results from the top three types by mean BST. "
   ]
  },
  {
   "attachments": {},
   "cell_type": "markdown",
   "id": "3b5c9c91",
   "metadata": {},
   "source": [
    "#### Generational Trends\n",
    "The last topic addressed by this analysis are generational trends that appear in Pokemon stats. The stats looked at across the 8 generations are health, attack, defense, special attack, special defense, speed, BST, and experience yield. Many of these have shown a correlation with strength by the previous sections. \n",
    "\n",
    "##### Mean/Median BST\n",
    "<img align=\"left\" src=\"GenTrendsBST.png\" width=400 height=400 />\n",
    "\n",
    "Looking at the trendlines of the mean and median BSTs across the 8 generations clearly shows an upward trend. As the subsequent sections will show, this trend continues even when considering the Mega-Evolutions of generation 6, different subsets of the data (fully-evolved, legendary, etc.), and different base stats."
   ]
  },
  {
   "attachments": {},
   "cell_type": "markdown",
   "id": "81b53a51",
   "metadata": {},
   "source": [
    "##### Mean/Median of Attributes by Generation\n",
    "<img src=\"MeanMedianGenStats.png\" width=800 height=800 />\n",
    "\n",
    "This collection of graphs shows that the upward trend of strength is present in each base stat in addition to the BST. Moreover, Experience Yield has also trended upwards over generations."
   ]
  },
  {
   "attachments": {},
   "cell_type": "markdown",
   "id": "85c9e532",
   "metadata": {},
   "source": [
    "##### Mean/Median of Attributes by Generation (Non-Legendary Pokemon)\n",
    "<img src=\"TrendsNoLeg.png\" width=800 height=800 />\n",
    "\n",
    "This collection of graphs shows that the upward trends persist even without legendary pokemon for all attributes (except speed, which was significantly higher in the first generation). "
   ]
  },
  {
   "attachments": {},
   "cell_type": "markdown",
   "id": "1ca6d969",
   "metadata": {},
   "source": [
    "##### Mean/Median of Attributes by Generation (No Mega-Evolutions)\n",
    "<img src=\"NoMegaTrends.png\" width=800 height=800 />\n",
    "\n",
    "Finally, this collection of graphs shows that the upward trend is still present when the Mega-Evolutions of generation 6 are discluded (since they were skewing the data of the previous two sets of graphs). "
   ]
  },
  {
   "cell_type": "markdown",
   "id": "dfec3375",
   "metadata": {},
   "source": [
    "## 3. Conclusion(s)/Discussion\n",
    "\n",
    "### Results\n",
    "This analysis produced seven key findings:\n",
    "\n",
    "<ol>\n",
    "<li>There exist strong correlations between Attack and BST, Catch Rate and BST, Experience Yield and BST, and Experience Yield and Catch Rate.</li>\n",
    "<li>Dragon type Pokemon far exceeds any other type when comparing mean BSTs. Psychic and Steel are the next two highest in mean BST.</li>\n",
    "<li>For all Pokemon and the subset of fully evolved Pokemon, having 2 types indicates a higher BST on average. </li>\n",
    "<li>Legendary Pokemon have higher BSTs on average in every type. Moreover, Dragon types still have higher mean BSTs than every other type in both the legendary and non-legendary subsets. </li>\n",
    "<li>For Dragon, Psychic, and Steel types, attack and special attack appear to be good predictors for high BSTs, while speed again does not.</li>\n",
    "<li>TThe most well-represented types among the top 10% of Pokemon (by BST) are Psychic, Dragon, and Steel (in that order). This aligns with the second finding above. </li>\n",
    "<li>There exist clear upward trends among the mean and median BSTs across the 8 generations when looking at the six base stats, BST, and experience yield. Moreover, this trend continues even when considering the Mega-Evolutions of generation 6 and different subsets of the data (fully-evolved, legendary, etc.).</li>\n",
    "</ol>\n",
    "\n",
    "In summation, the strongest POkemon are Dragon types, followed by Psychic types and Steel types. Dragon types outrank every other type consistently. Additionally, all Pokemon have become stronger over generations.\n",
    "\n",
    "### Future Areas of Interest\n",
    "During the analysis of the stats of the top three types, a question emerged: How do the top three types' base stats compare to average base stats? This question was not relevant for the purposes of this analysis, but could be of interest in a future analysis concerning the relative strength of the strongest Pokemon.\n"
   ]
  },
  {
   "cell_type": "markdown",
   "id": "3d2053ad",
   "metadata": {},
   "source": [
    "## 4. Appendix\n",
    "\n",
    "### Data Used\n",
    "The data used for this analysis was taken from https://www.kaggle.com/mrdew25/pokemon-database with a CCO: Public Domain license.\n",
    "\n",
    "### Scripts Used\n",
    "The code used for formatting, analyzing, and presenting data is present on my github page, https://github.com/kgalloway2/VSC-Code/tree/master/R%20stuff/Pokemon%20Project."
   ]
  }
 ],
 "metadata": {
  "kernelspec": {
   "display_name": "R",
   "language": "R",
   "name": "ir"
  },
  "language_info": {
   "codemirror_mode": "r",
   "file_extension": ".r",
   "mimetype": "text/x-r-source",
   "name": "R",
   "pygments_lexer": "r",
   "version": "4.1.0"
  }
 },
 "nbformat": 4,
 "nbformat_minor": 5
}
