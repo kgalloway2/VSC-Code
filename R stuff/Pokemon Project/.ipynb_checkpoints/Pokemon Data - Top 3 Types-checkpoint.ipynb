{
 "cells": [
  {
   "cell_type": "code",
   "execution_count": 1,
   "id": "e4895527",
   "metadata": {
    "collapsed": true
   },
   "outputs": [
    {
     "name": "stdout",
     "output_type": "stream",
     "text": [
      "'data.frame':\t1076 obs. of  50 variables:\n",
      " $ X                                : int  1 2 3 4 5 6 7 8 9 10 ...\n",
      " $ ï..Pokemon.Id                    : int  1 2 3 4 5 6 7 8 9 10 ...\n",
      " $ Pokedex.Number                   : int  1 2 3 3 4 5 6 6 6 7 ...\n",
      " $ Pokemon.Name                     : chr  \"Bulbasaur\" \"Ivysaur\" \"Venusaur\" \"Venusaur\" ...\n",
      " $ Classification                   : chr  \"Seed Pokemon\" \"Seed Pokemon\" \"Seed Pokemon\" \"Seed Pokemon\" ...\n",
      " $ Alternate.Form.Name              : chr  \"NULL\" \"NULL\" \"NULL\" \"Mega\" ...\n",
      " $ Original.Pokemon.ID              : chr  \"NULL\" \"NULL\" \"NULL\" \"3\" ...\n",
      " $ Legendary.Type                   : chr  \"NULL\" \"NULL\" \"NULL\" \"NULL\" ...\n",
      " $ Pokemon.Height                   : num  0.7 1 2 2.4 0.6 1.1 1.7 1.7 1.7 0.5 ...\n",
      " $ Pokemon.Weight                   : num  6.9 13 100 155.5 8.5 ...\n",
      " $ Primary.Type                     : chr  \"Grass\" \"Grass\" \"Grass\" \"Grass\" ...\n",
      " $ Secondary.Type                   : chr  \"Poison\" \"Poison\" \"Poison\" \"Poison\" ...\n",
      " $ Primary.Ability                  : chr  \"Overgrow\" \"Overgrow\" \"Overgrow\" \"Thick Fat\" ...\n",
      " $ Primary.Ability.Description      : chr  \"Powers up Grass-type moves when the PokÃ©mon's HP is low.\" \"Powers up Grass-type moves when the PokÃ©mon's HP is low.\" \"Powers up Grass-type moves when the PokÃ©mon's HP is low.\" \"The PokÃ©mon is protected by a layer of thick fat, which halves the damage taken from Fire- and Ice-type moves. \" ...\n",
      " $ Secondary.Ability                : chr  \"NULL\" \"NULL\" \"NULL\" \"NULL\" ...\n",
      " $ Secondary.Ability.Description    : chr  \"NULL\" \"NULL\" \"NULL\" \"NULL\" ...\n",
      " $ Hidden.Ability                   : chr  \"Chlorophyll\" \"Chlorophyll\" \"Chlorophyll\" \"NULL\" ...\n",
      " $ Hidden.Ability.Description       : chr  \"Boosts the PokÃ©mon's Speed stat in harsh sunlight. \" \"Boosts the PokÃ©mon's Speed stat in harsh sunlight. \" \"Boosts the PokÃ©mon's Speed stat in harsh sunlight. \" \"NULL\" ...\n",
      " $ Special.Event.Ability            : chr  \"NULL\" \"NULL\" \"NULL\" \"NULL\" ...\n",
      " $ Special.Event.Ability.Description: chr  \"NULL\" \"NULL\" \"NULL\" \"NULL\" ...\n",
      " $ Male.Ratio                       : num  87.5 87.5 87.5 87.5 87.5 87.5 87.5 87.5 87.5 87.5 ...\n",
      " $ Female.Ratio                     : num  12.5 12.5 12.5 12.5 12.5 12.5 12.5 12.5 12.5 12.5 ...\n",
      " $ Base.Happiness                   : int  70 70 70 70 70 70 70 70 70 70 ...\n",
      " $ Game.s..of.Origin                : chr  \"Red\" \"Red\" \"Red\" \"X\" ...\n",
      " $ Region.of.Origin                 : chr  \"Kanto\" \"Kanto\" \"Kanto\" \"Kalos\" ...\n",
      " $ Health.Stat                      : int  45 60 80 80 39 58 78 78 78 44 ...\n",
      " $ Attack.Stat                      : int  49 62 82 100 52 64 84 130 104 48 ...\n",
      " $ Defense.Stat                     : int  49 63 83 123 43 58 78 111 78 65 ...\n",
      " $ Special.Attack.Stat              : int  65 80 100 122 60 80 109 130 159 50 ...\n",
      " $ Special.Defense.Stat             : int  65 80 100 120 50 65 85 85 115 64 ...\n",
      " $ Speed.Stat                       : int  45 60 80 80 65 80 100 100 100 43 ...\n",
      " $ Base.Stat.Total                  : int  318 405 525 625 309 405 534 634 634 314 ...\n",
      " $ Health.EV                        : int  0 0 0 0 0 0 0 0 0 0 ...\n",
      " $ Attack.EV                        : int  0 0 0 0 0 0 0 0 0 0 ...\n",
      " $ Defense.EV                       : int  0 0 0 0 0 0 0 0 0 1 ...\n",
      " $ Special.Attack.EV                : int  1 1 2 2 0 1 3 3 3 0 ...\n",
      " $ Special.Defense.EV               : int  0 1 1 1 0 0 0 0 0 0 ...\n",
      " $ Speed.EV                         : int  0 0 0 0 1 1 0 0 0 0 ...\n",
      " $ EV.Yield.Total                   : int  1 2 3 3 1 2 3 3 3 1 ...\n",
      " $ Catch.Rate                       : int  45 45 45 45 45 45 45 45 45 45 ...\n",
      " $ Experience.Growth                : chr  \"Medium Slow\" \"Medium Slow\" \"Medium Slow\" \"Medium Slow\" ...\n",
      " $ Experience.Growth.Total          : int  1059860 1059860 1059860 1059860 1059860 1059860 1059860 1059860 1059860 1059860 ...\n",
      " $ Experience.Yield                 : int  64 142 236 281 62 142 240 285 285 63 ...\n",
      " $ Primary.Egg.Group                : chr  \"Monster\" \"Monster\" \"Monster\" \"Monster\" ...\n",
      " $ Secondary.Egg.Group              : chr  \"Grass\" \"Grass\" \"Grass\" \"Grass\" ...\n",
      " $ Egg.Cycle.Count                  : int  20 20 20 20 20 20 20 20 20 20 ...\n",
      " $ Pre.Evolution.Pokemon.Id         : chr  \"NULL\" \"1\" \"2\" \"NULL\" ...\n",
      " $ Evolution.Details                : chr  \"NULL\" \"Level 16\" \"Level 32\" \"NULL\" ...\n",
      " $ Fully.Evolved                    : logi  FALSE FALSE TRUE TRUE FALSE FALSE ...\n",
      " $ Generation                       : int  1 1 1 6 1 1 1 6 6 1 ...\n"
     ]
    }
   ],
   "source": [
    "poke_df <- read.csv(\"C:/Users/kgtrm/Documents/VSC Code/R stuff/Pokemon Project/PokemonDataCleaned.csv\")\n",
    "str(poke_df)"
   ]
  },
  {
   "cell_type": "code",
   "execution_count": 2,
   "id": "8f718bbe",
   "metadata": {
    "collapsed": true
   },
   "outputs": [
    {
     "name": "stderr",
     "output_type": "stream",
     "text": [
      "\n",
      "Attaching package: 'dplyr'\n",
      "\n",
      "\n",
      "The following objects are masked from 'package:stats':\n",
      "\n",
      "    filter, lag\n",
      "\n",
      "\n",
      "The following objects are masked from 'package:base':\n",
      "\n",
      "    intersect, setdiff, setequal, union\n",
      "\n",
      "\n"
     ]
    }
   ],
   "source": [
    "library(ggplot2)\n",
    "library(tidyr)\n",
    "library(dplyr)\n",
    "# options(repr.plot.width=15, repr.plot.height=8)"
   ]
  },
  {
   "cell_type": "code",
   "execution_count": 3,
   "id": "1f4e9041",
   "metadata": {},
   "outputs": [],
   "source": [
    "# isolate the top 3 types (dragon, steel, psychic)\n",
    "\n",
    "top_types <- poke_df %>%\n",
    "    filter(Primary.Type == \"Dragon\" | Primary.Type == \"Steel\" | Primary.Type == \"Psychic\" |\n",
    "          Secondary.Type == \"Dragon\" | Secondary.Type == \"Steel\" | Secondary.Type == \"Psychic\") %>%\n",
    "    arrange(Pokedex.Number)\n",
    "\n",
    "# top_types"
   ]
  },
  {
   "cell_type": "code",
   "execution_count": 4,
   "id": "e17aadab",
   "metadata": {},
   "outputs": [],
   "source": [
    "# let's make a dataframe for each\n",
    "dragon_df <- top_types %>%\n",
    "    filter(Primary.Type == \"Dragon\" | Secondary.Type == \"Dragon\") %>%\n",
    "    arrange(Pokedex.Number)\n",
    "\n",
    "steel_df <- top_types %>%\n",
    "    filter(Primary.Type == \"Steel\" | Secondary.Type == \"Steel\") %>%\n",
    "    arrange(Pokedex.Number)\n",
    "\n",
    "psychic_df <- top_types %>%\n",
    "    filter(Primary.Type == \"Psychic\" | Secondary.Type == \"Psychic\") %>%\n",
    "    arrange(Pokedex.Number)"
   ]
  },
  {
   "cell_type": "code",
   "execution_count": 5,
   "id": "8d7121ab",
   "metadata": {},
   "outputs": [
    {
     "data": {
      "text/html": [
       "<table class=\"dataframe\">\n",
       "<caption>A data.frame: 3 × 42</caption>\n",
       "<thead>\n",
       "\t<tr><th scope=col>Mean.Health</th><th scope=col>Median.Health</th><th scope=col>MinHealth</th><th scope=col>MaxHealth</th><th scope=col>IQRHealth</th><th scope=col>Mean.Attack</th><th scope=col>Median.Attack</th><th scope=col>MinAttack</th><th scope=col>MaxAttack</th><th scope=col>IQRAttack</th><th scope=col>...</th><th scope=col>MinBase.Stat.Total</th><th scope=col>MaxBase.Stat.Total</th><th scope=col>IQRBase.Stat.Total</th><th scope=col>Mean.Experience.Yield</th><th scope=col>Median.Experience.Yield</th><th scope=col>MinExperience.Yield</th><th scope=col>MaxExperience.Yield</th><th scope=col>IQRExperience.Yield</th><th scope=col>Count</th><th scope=col>Type</th></tr>\n",
       "\t<tr><th scope=col>&lt;dbl&gt;</th><th scope=col>&lt;dbl&gt;</th><th scope=col>&lt;int&gt;</th><th scope=col>&lt;int&gt;</th><th scope=col>&lt;dbl&gt;</th><th scope=col>&lt;dbl&gt;</th><th scope=col>&lt;dbl&gt;</th><th scope=col>&lt;int&gt;</th><th scope=col>&lt;int&gt;</th><th scope=col>&lt;dbl&gt;</th><th scope=col>...</th><th scope=col>&lt;int&gt;</th><th scope=col>&lt;int&gt;</th><th scope=col>&lt;dbl&gt;</th><th scope=col>&lt;dbl&gt;</th><th scope=col>&lt;dbl&gt;</th><th scope=col>&lt;int&gt;</th><th scope=col>&lt;int&gt;</th><th scope=col>&lt;dbl&gt;</th><th scope=col>&lt;int&gt;</th><th scope=col>&lt;chr&gt;</th></tr>\n",
       "</thead>\n",
       "<tbody>\n",
       "\t<tr><td>88.35526</td><td>80</td><td>28</td><td>255</td><td>32.5</td><td>101.07895</td><td>100</td><td>30</td><td>180</td><td>40</td><td>...</td><td>245</td><td>1125</td><td>196.5</td><td>216.2105</td><td>226.5</td><td>49</td><td>563</td><td>131</td><td> 76</td><td>Dragon </td></tr>\n",
       "\t<tr><td>71.06667</td><td>70</td><td>10</td><td>137</td><td>21.5</td><td> 98.28000</td><td> 95</td><td>24</td><td>181</td><td>50</td><td>...</td><td>265</td><td> 720</td><td>142.5</td><td>187.6533</td><td>175.0</td><td>53</td><td>360</td><td>101</td><td> 75</td><td>Steel  </td></tr>\n",
       "\t<tr><td>73.23577</td><td>70</td><td>20</td><td>190</td><td>33.0</td><td> 75.36585</td><td> 70</td><td>20</td><td>190</td><td>47</td><td>...</td><td>198</td><td> 780</td><td>205.0</td><td>184.9024</td><td>172.0</td><td> 0</td><td>351</td><td>140</td><td>123</td><td>Psychic</td></tr>\n",
       "</tbody>\n",
       "</table>\n"
      ],
      "text/latex": [
       "A data.frame: 3 × 42\n",
       "\\begin{tabular}{lllllllllllllllllllll}\n",
       " Mean.Health & Median.Health & MinHealth & MaxHealth & IQRHealth & Mean.Attack & Median.Attack & MinAttack & MaxAttack & IQRAttack & ... & MinBase.Stat.Total & MaxBase.Stat.Total & IQRBase.Stat.Total & Mean.Experience.Yield & Median.Experience.Yield & MinExperience.Yield & MaxExperience.Yield & IQRExperience.Yield & Count & Type\\\\\n",
       " <dbl> & <dbl> & <int> & <int> & <dbl> & <dbl> & <dbl> & <int> & <int> & <dbl> & ... & <int> & <int> & <dbl> & <dbl> & <dbl> & <int> & <int> & <dbl> & <int> & <chr>\\\\\n",
       "\\hline\n",
       "\t 88.35526 & 80 & 28 & 255 & 32.5 & 101.07895 & 100 & 30 & 180 & 40 & ... & 245 & 1125 & 196.5 & 216.2105 & 226.5 & 49 & 563 & 131 &  76 & Dragon \\\\\n",
       "\t 71.06667 & 70 & 10 & 137 & 21.5 &  98.28000 &  95 & 24 & 181 & 50 & ... & 265 &  720 & 142.5 & 187.6533 & 175.0 & 53 & 360 & 101 &  75 & Steel  \\\\\n",
       "\t 73.23577 & 70 & 20 & 190 & 33.0 &  75.36585 &  70 & 20 & 190 & 47 & ... & 198 &  780 & 205.0 & 184.9024 & 172.0 &  0 & 351 & 140 & 123 & Psychic\\\\\n",
       "\\end{tabular}\n"
      ],
      "text/markdown": [
       "\n",
       "A data.frame: 3 × 42\n",
       "\n",
       "| Mean.Health &lt;dbl&gt; | Median.Health &lt;dbl&gt; | MinHealth &lt;int&gt; | MaxHealth &lt;int&gt; | IQRHealth &lt;dbl&gt; | Mean.Attack &lt;dbl&gt; | Median.Attack &lt;dbl&gt; | MinAttack &lt;int&gt; | MaxAttack &lt;int&gt; | IQRAttack &lt;dbl&gt; | ... ... | MinBase.Stat.Total &lt;int&gt; | MaxBase.Stat.Total &lt;int&gt; | IQRBase.Stat.Total &lt;dbl&gt; | Mean.Experience.Yield &lt;dbl&gt; | Median.Experience.Yield &lt;dbl&gt; | MinExperience.Yield &lt;int&gt; | MaxExperience.Yield &lt;int&gt; | IQRExperience.Yield &lt;dbl&gt; | Count &lt;int&gt; | Type &lt;chr&gt; |\n",
       "|---|---|---|---|---|---|---|---|---|---|---|---|---|---|---|---|---|---|---|---|---|\n",
       "| 88.35526 | 80 | 28 | 255 | 32.5 | 101.07895 | 100 | 30 | 180 | 40 | ... | 245 | 1125 | 196.5 | 216.2105 | 226.5 | 49 | 563 | 131 |  76 | Dragon  |\n",
       "| 71.06667 | 70 | 10 | 137 | 21.5 |  98.28000 |  95 | 24 | 181 | 50 | ... | 265 |  720 | 142.5 | 187.6533 | 175.0 | 53 | 360 | 101 |  75 | Steel   |\n",
       "| 73.23577 | 70 | 20 | 190 | 33.0 |  75.36585 |  70 | 20 | 190 | 47 | ... | 198 |  780 | 205.0 | 184.9024 | 172.0 |  0 | 351 | 140 | 123 | Psychic |\n",
       "\n"
      ],
      "text/plain": [
       "  Mean.Health Median.Health MinHealth MaxHealth IQRHealth Mean.Attack\n",
       "1 88.35526    80            28        255       32.5      101.07895  \n",
       "2 71.06667    70            10        137       21.5       98.28000  \n",
       "3 73.23577    70            20        190       33.0       75.36585  \n",
       "  Median.Attack MinAttack MaxAttack IQRAttack ... MinBase.Stat.Total\n",
       "1 100           30        180       40        ... 245               \n",
       "2  95           24        181       50        ... 265               \n",
       "3  70           20        190       47        ... 198               \n",
       "  MaxBase.Stat.Total IQRBase.Stat.Total Mean.Experience.Yield\n",
       "1 1125               196.5              216.2105             \n",
       "2  720               142.5              187.6533             \n",
       "3  780               205.0              184.9024             \n",
       "  Median.Experience.Yield MinExperience.Yield MaxExperience.Yield\n",
       "1 226.5                   49                  563                \n",
       "2 175.0                   53                  360                \n",
       "3 172.0                    0                  351                \n",
       "  IQRExperience.Yield Count Type   \n",
       "1 131                  76   Dragon \n",
       "2 101                  75   Steel  \n",
       "3 140                 123   Psychic"
      ]
     },
     "metadata": {},
     "output_type": "display_data"
    }
   ],
   "source": [
    "dragon_stats <- dragon_df %>%\n",
    "    summarize(Mean.Health = mean(Health.Stat), Median.Health = median(Health.Stat), MinHealth = min(Health.Stat), MaxHealth = max(Health.Stat), IQRHealth = IQR(Health.Stat),\n",
    "             Mean.Attack = mean(Attack.Stat), Median.Attack = median(Attack.Stat), MinAttack = min(Attack.Stat), MaxAttack = max(Attack.Stat), IQRAttack = IQR(Attack.Stat),\n",
    "             Mean.Defense = mean(Defense.Stat), Median.Defense = median(Defense.Stat), MinDefense = min(Defense.Stat), MaxDefense = max(Defense.Stat), IQRDefense = IQR(Special.Defense.Stat),\n",
    "             Mean.Special.Attack = mean(Special.Attack.Stat), Median.Special.Attack = median(Special.Attack.Stat), MinSpecial.Attack = min(Special.Attack.Stat), MaxSpecial.Attack = max(Special.Attack.Stat), IQRSpecial.Attack = IQR(Attack.Stat),\n",
    "             Mean.Special.Defense = mean(Special.Defense.Stat), Median.Special.Defense = median(Special.Defense.Stat), MinSpecial.Defense = min(Special.Defense.Stat), MaxSpecial.Defense = max(Special.Defense.Stat), IQRSpecial.Defense = IQR(Special.Defense.Stat),\n",
    "             Mean.Speed = mean(Speed.Stat), Median.Speed = median(Speed.Stat), MinSpeed = min(Speed.Stat), MaxSpeed = max(Speed.Stat), IQRSpeed = IQR(Speed.Stat),\n",
    "             Mean.Base.Stat.Total = mean(Base.Stat.Total), Median.Base.Stat.Total = median(Base.Stat.Total), MinBase.Stat.Total = min(Base.Stat.Total), MaxBase.Stat.Total = max(Base.Stat.Total), IQRBase.Stat.Total = IQR(Base.Stat.Total),\n",
    "             Mean.Experience.Yield = mean(Experience.Yield), Median.Experience.Yield = median(Experience.Yield), MinExperience.Yield = min(Experience.Yield), MaxExperience.Yield = max(Experience.Yield), IQRExperience.Yield = IQR(Experience.Yield),\n",
    "             Count = n(),\n",
    "             Type = \"Dragon\")\n",
    "\n",
    "steel_stats <- steel_df %>%\n",
    "    summarize(Mean.Health = mean(Health.Stat), Median.Health = median(Health.Stat), MinHealth = min(Health.Stat), MaxHealth = max(Health.Stat), IQRHealth = IQR(Health.Stat),\n",
    "             Mean.Attack = mean(Attack.Stat), Median.Attack = median(Attack.Stat), MinAttack = min(Attack.Stat), MaxAttack = max(Attack.Stat), IQRAttack = IQR(Attack.Stat),\n",
    "             Mean.Defense = mean(Defense.Stat), Median.Defense = median(Defense.Stat), MinDefense = min(Defense.Stat), MaxDefense = max(Defense.Stat), IQRDefense = IQR(Special.Defense.Stat),\n",
    "             Mean.Special.Attack = mean(Special.Attack.Stat), Median.Special.Attack = median(Special.Attack.Stat), MinSpecial.Attack = min(Special.Attack.Stat), MaxSpecial.Attack = max(Special.Attack.Stat), IQRSpecial.Attack = IQR(Attack.Stat),\n",
    "             Mean.Special.Defense = mean(Special.Defense.Stat), Median.Special.Defense = median(Special.Defense.Stat), MinSpecial.Defense = min(Special.Defense.Stat), MaxSpecial.Defense = max(Special.Defense.Stat), IQRSpecial.Defense = IQR(Special.Defense.Stat),\n",
    "             Mean.Speed = mean(Speed.Stat), Median.Speed = median(Speed.Stat), MinSpeed = min(Speed.Stat), MaxSpeed = max(Speed.Stat), IQRSpeed = IQR(Speed.Stat),\n",
    "             Mean.Base.Stat.Total = mean(Base.Stat.Total), Median.Base.Stat.Total = median(Base.Stat.Total), MinBase.Stat.Total = min(Base.Stat.Total), MaxBase.Stat.Total = max(Base.Stat.Total), IQRBase.Stat.Total = IQR(Base.Stat.Total),\n",
    "             Mean.Experience.Yield = mean(Experience.Yield), Median.Experience.Yield = median(Experience.Yield), MinExperience.Yield = min(Experience.Yield), MaxExperience.Yield = max(Experience.Yield), IQRExperience.Yield = IQR(Experience.Yield),\n",
    "             Count = n(),\n",
    "             Type = \"Steel\")\n",
    "\n",
    "psychic_stats <- psychic_df %>%\n",
    "    summarize(Mean.Health = mean(Health.Stat), Median.Health = median(Health.Stat), MinHealth = min(Health.Stat), MaxHealth = max(Health.Stat), IQRHealth = IQR(Health.Stat),\n",
    "             Mean.Attack = mean(Attack.Stat), Median.Attack = median(Attack.Stat), MinAttack = min(Attack.Stat), MaxAttack = max(Attack.Stat), IQRAttack = IQR(Attack.Stat),\n",
    "             Mean.Defense = mean(Defense.Stat), Median.Defense = median(Defense.Stat), MinDefense = min(Defense.Stat), MaxDefense = max(Defense.Stat), IQRDefense = IQR(Special.Defense.Stat),\n",
    "             Mean.Special.Attack = mean(Special.Attack.Stat), Median.Special.Attack = median(Special.Attack.Stat), MinSpecial.Attack = min(Special.Attack.Stat), MaxSpecial.Attack = max(Special.Attack.Stat), IQRSpecial.Attack = IQR(Attack.Stat),\n",
    "             Mean.Special.Defense = mean(Special.Defense.Stat), Median.Special.Defense = median(Special.Defense.Stat), MinSpecial.Defense = min(Special.Defense.Stat), MaxSpecial.Defense = max(Special.Defense.Stat), IQRSpecial.Defense = IQR(Special.Defense.Stat),\n",
    "             Mean.Speed = mean(Speed.Stat), Median.Speed = median(Speed.Stat), MinSpeed = min(Speed.Stat), MaxSpeed = max(Speed.Stat), IQRSpeed = IQR(Speed.Stat),\n",
    "             Mean.Base.Stat.Total = mean(Base.Stat.Total), Median.Base.Stat.Total = median(Base.Stat.Total), MinBase.Stat.Total = min(Base.Stat.Total), MaxBase.Stat.Total = max(Base.Stat.Total), IQRBase.Stat.Total = IQR(Base.Stat.Total),\n",
    "             Mean.Experience.Yield = mean(Experience.Yield), Median.Experience.Yield = median(Experience.Yield), MinExperience.Yield = min(Experience.Yield), MaxExperience.Yield = max(Experience.Yield), IQRExperience.Yield = IQR(Experience.Yield),\n",
    "             Count = n(),\n",
    "             Type = \"Psychic\")\n",
    "\n",
    "all_stats <- rbind(dragon_stats, steel_stats, psychic_stats)\n",
    "all_stats"
   ]
  },
  {
   "cell_type": "code",
   "execution_count": 11,
   "id": "3b9208be",
   "metadata": {},
   "outputs": [
    {
     "data": {
      "image/png": "[encoded data removed]",
      "text/plain": [
       "plot without title"
      ]
     },
     "metadata": {
      "image/png": {
       "height": 420,
       "width": 420
      }
     },
     "output_type": "display_data"
    },
    {
     "name": "stderr",
     "output_type": "stream",
     "text": [
      "Saving 6.67 x 6.67 in image\n",
      "\n"
     ]
    },
    {
     "data": {
      "image/png": "[encoded data removed]",
      "text/plain": [
       "plot without title"
      ]
     },
     "metadata": {
      "image/png": {
       "height": 420,
       "width": 420
      }
     },
     "output_type": "display_data"
    }
   ],
   "source": [
    "# let's look at the means/medians of each of the six stats for each type\n",
    "ggplot(data = all_stats) +\n",
    "    geom_point(aes(x = Type, y = Mean.Health, color = \"Health\")) +\n",
    "    geom_point(aes(x = Type, y = Mean.Attack, color = \"Attack\")) +\n",
    "    geom_point(aes(x = Type, y = Mean.Defense, color = \"Defense\")) +\n",
    "    geom_point(aes(x = Type, y = Mean.Special.Attack, color = \"Special Attack\")) +\n",
    "    geom_point(aes(x = Type, y = Mean.Special.Defense, color = \"Special Defense\")) +\n",
    "    geom_point(aes(x = Type, y = Mean.Speed, color = \"Speed\")) +\n",
    "    labs(title = \"Mean Stat Values for Top Three Types\")+\n",
    "    ylab(label = \"\") +\n",
    "    scale_color_manual(values = c(\"Green\", \"Red\", \"Blue\", \"Pink\", \"Purple\", \"Yellow\"),\n",
    "                       breaks = c(\"Health\", \"Attack\", \"Defense\", \"Special Attack\", \"Special Defense\", \"Speed\"))\n",
    "\n",
    "ggsave(\"MeanStatsTopThree.png\", width = 4, height = 5)\n",
    "\n",
    "ggplot(data = all_stats) +\n",
    "    geom_point(aes(x = Type, y = Median.Health, color = \"Health\")) +\n",
    "    geom_point(aes(x = Type, y = Median.Attack, color = \"Attack\")) +\n",
    "    geom_point(aes(x = Type, y = Median.Defense, color = \"Defense\")) +\n",
    "    geom_point(aes(x = Type, y = Median.Special.Attack, color = \"Special Attack\")) +\n",
    "    geom_point(aes(x = Type, y = Median.Special.Defense, color = \"Special Defense\")) +\n",
    "    geom_point(aes(x = Type, y = Median.Speed, color = \"Speed\")) +\n",
    "    labs(title = \"Median Stat Values for Top Three Types\")+\n",
    "    ylab(label = \"\") +\n",
    "    scale_color_manual(values = c(\"Green\", \"Red\", \"Blue\", \"Pink\", \"Purple\", \"Yellow\"),\n",
    "                       breaks = c(\"Health\", \"Attack\", \"Defense\", \"Special Attack\", \"Special Defense\", \"Speed\"))\n",
    "\n",
    "ggsave(\"MedianStatsTopThree.png\")"
   ]
  },
  {
   "cell_type": "code",
   "execution_count": 133,
   "id": "1e348b4f",
   "metadata": {},
   "outputs": [],
   "source": [
    "# let's see if we can combine those into one plot\n",
    "# let's look at the means of each of the six stats for each type\n",
    "\n",
    "# ggplot(data = all_stats, aes(shape = \"Mean\")) +\n",
    "#     geom_point(aes(x = Type, y = Mean.Health, color = \"Health\")) +\n",
    "#     geom_point(aes(x = Type, y = Mean.Attack, color = \"Attack\")) +\n",
    "#     geom_point(aes(x = Type, y = Mean.Defense, color = \"Defense\")) +\n",
    "#     geom_point(aes(x = Type, y = Mean.Special.Attack, color = \"Special Attack\")) +\n",
    "#     geom_point(aes(x = Type, y = Mean.Special.Defense, color = \"Special Defense\")) +\n",
    "#     geom_point(aes(x = Type, y = Mean.Speed, color = \"Speed\")) +\n",
    "#     geom_point(aes(x = Type, y = Median.Health, color = \"Health\"), shape = 17) +\n",
    "#     geom_point(aes(x = Type, y = Median.Attack, color = \"Attack\"), shape = 17) +\n",
    "#     geom_point(aes(x = Type, y = Median.Defense, color = \"Defense\"), shape = 17) +\n",
    "#     geom_point(aes(x = Type, y = Median.Special.Attack, color = \"Special Attack\"), shape = 17) +\n",
    "#     geom_point(aes(x = Type, y = Median.Special.Defense, color = \"Special Defense\"), shape = 17) +\n",
    "#     geom_point(aes(x = Type, y = Median.Speed, color = \"Speed\"), shape = 17) +\n",
    "#     labs(title = \"Mean/Median Stat Values for Top Three Types\")+\n",
    "#     ylab(label = \"\") +\n",
    "#     scale_color_manual(values = c(\"Green\", \"Red\", \"Blue\", \"Pink\", \"Purple\", \"Yellow\"),\n",
    "#                        breaks = c(\"Health\", \"Attack\", \"Defense\", \"Special Attack\", \"Special Defense\", \"Speed\")) +\n",
    "#     scale_shape_manual(values = c(19, 17),\n",
    "#                        breaks = c(\"Mean\", \"Median\"))\n",
    "\n",
    "# really just need to reformat the data and then plot it so it is easier to work with"
   ]
  },
  {
   "cell_type": "code",
   "execution_count": 12,
   "id": "55d644e5",
   "metadata": {},
   "outputs": [],
   "source": [
    "# only fully-evolved\n",
    "evolved_dragon <- dragon_df %>%\n",
    "    filter(Fully.Evolved == TRUE)\n",
    "evolved_steel <- steel_df %>%\n",
    "    filter(Fully.Evolved == TRUE)\n",
    "evolved_psychic <- psychic_df %>%\n",
    "    filter(Fully.Evolved == TRUE)\n",
    "\n",
    "# no legendaries\n",
    "noleg_dragon <- dragon_df %>%\n",
    "    filter(Legendary.Type == \"NULL\")\n",
    "noleg_steel <- steel_df %>%\n",
    "    filter(Legendary.Type == \"NULL\")\n",
    "noleg_psychic <- psychic_df %>%\n",
    "    filter(Legendary.Type == \"NULL\")\n",
    "\n",
    "# only legendaries\n",
    "leg_dragon <- dragon_df %>%\n",
    "    filter(Legendary.Type != \"NULL\")\n",
    "leg_steel <- steel_df %>%\n",
    "    filter(Legendary.Type != \"NULL\")\n",
    "leg_psychic <- psychic_df %>%\n",
    "    filter(Legendary.Type != \"NULL\")"
   ]
  },
  {
   "cell_type": "code",
   "execution_count": 13,
   "id": "7d8ad575",
   "metadata": {},
   "outputs": [
    {
     "data": {
      "text/html": [
       "<table class=\"dataframe\">\n",
       "<caption>A data.frame: 3 × 42</caption>\n",
       "<thead>\n",
       "\t<tr><th scope=col>Mean.Health</th><th scope=col>Median.Health</th><th scope=col>MinHealth</th><th scope=col>MaxHealth</th><th scope=col>IQRHealth</th><th scope=col>Mean.Attack</th><th scope=col>Median.Attack</th><th scope=col>MinAttack</th><th scope=col>MaxAttack</th><th scope=col>IQRAttack</th><th scope=col>...</th><th scope=col>MinBase.Stat.Total</th><th scope=col>MaxBase.Stat.Total</th><th scope=col>IQRBase.Stat.Total</th><th scope=col>Mean.Experience.Yield</th><th scope=col>Median.Experience.Yield</th><th scope=col>MinExperience.Yield</th><th scope=col>MaxExperience.Yield</th><th scope=col>IQRExperience.Yield</th><th scope=col>Count</th><th scope=col>Type</th></tr>\n",
       "\t<tr><th scope=col>&lt;dbl&gt;</th><th scope=col>&lt;dbl&gt;</th><th scope=col>&lt;int&gt;</th><th scope=col>&lt;int&gt;</th><th scope=col>&lt;dbl&gt;</th><th scope=col>&lt;dbl&gt;</th><th scope=col>&lt;dbl&gt;</th><th scope=col>&lt;int&gt;</th><th scope=col>&lt;int&gt;</th><th scope=col>&lt;dbl&gt;</th><th scope=col>...</th><th scope=col>&lt;int&gt;</th><th scope=col>&lt;int&gt;</th><th scope=col>&lt;dbl&gt;</th><th scope=col>&lt;dbl&gt;</th><th scope=col>&lt;dbl&gt;</th><th scope=col>&lt;int&gt;</th><th scope=col>&lt;int&gt;</th><th scope=col>&lt;dbl&gt;</th><th scope=col>&lt;int&gt;</th><th scope=col>&lt;chr&gt;</th></tr>\n",
       "</thead>\n",
       "<tbody>\n",
       "\t<tr><td>100.78571</td><td>90.0</td><td>54</td><td>255</td><td>31.25</td><td>111.17857</td><td>107.5</td><td>60</td><td>180</td><td>28.25</td><td>...</td><td>485</td><td>1125</td><td>152.25</td><td>258.6429</td><td>270.0</td><td>170</td><td>563</td><td>119.0</td><td>56</td><td>Dragon </td></tr>\n",
       "\t<tr><td> 79.23214</td><td>70.5</td><td>35</td><td>137</td><td>27.00</td><td>109.28571</td><td>103.0</td><td>50</td><td>181</td><td>43.50</td><td>...</td><td>380</td><td> 720</td><td>106.25</td><td>220.6250</td><td>216.5</td><td>133</td><td>360</td><td> 90.5</td><td>56</td><td>Steel  </td></tr>\n",
       "\t<tr><td> 81.28090</td><td>80.0</td><td>40</td><td>190</td><td>32.00</td><td> 88.76404</td><td> 85.0</td><td>30</td><td>190</td><td>35.00</td><td>...</td><td>336</td><td> 780</td><td>115.00</td><td>226.2697</td><td>233.0</td><td>  0</td><td>351</td><td>100.0</td><td>89</td><td>Psychic</td></tr>\n",
       "</tbody>\n",
       "</table>\n"
      ],
      "text/latex": [
       "A data.frame: 3 × 42\n",
       "\\begin{tabular}{lllllllllllllllllllll}\n",
       " Mean.Health & Median.Health & MinHealth & MaxHealth & IQRHealth & Mean.Attack & Median.Attack & MinAttack & MaxAttack & IQRAttack & ... & MinBase.Stat.Total & MaxBase.Stat.Total & IQRBase.Stat.Total & Mean.Experience.Yield & Median.Experience.Yield & MinExperience.Yield & MaxExperience.Yield & IQRExperience.Yield & Count & Type\\\\\n",
       " <dbl> & <dbl> & <int> & <int> & <dbl> & <dbl> & <dbl> & <int> & <int> & <dbl> & ... & <int> & <int> & <dbl> & <dbl> & <dbl> & <int> & <int> & <dbl> & <int> & <chr>\\\\\n",
       "\\hline\n",
       "\t 100.78571 & 90.0 & 54 & 255 & 31.25 & 111.17857 & 107.5 & 60 & 180 & 28.25 & ... & 485 & 1125 & 152.25 & 258.6429 & 270.0 & 170 & 563 & 119.0 & 56 & Dragon \\\\\n",
       "\t  79.23214 & 70.5 & 35 & 137 & 27.00 & 109.28571 & 103.0 & 50 & 181 & 43.50 & ... & 380 &  720 & 106.25 & 220.6250 & 216.5 & 133 & 360 &  90.5 & 56 & Steel  \\\\\n",
       "\t  81.28090 & 80.0 & 40 & 190 & 32.00 &  88.76404 &  85.0 & 30 & 190 & 35.00 & ... & 336 &  780 & 115.00 & 226.2697 & 233.0 &   0 & 351 & 100.0 & 89 & Psychic\\\\\n",
       "\\end{tabular}\n"
      ],
      "text/markdown": [
       "\n",
       "A data.frame: 3 × 42\n",
       "\n",
       "| Mean.Health &lt;dbl&gt; | Median.Health &lt;dbl&gt; | MinHealth &lt;int&gt; | MaxHealth &lt;int&gt; | IQRHealth &lt;dbl&gt; | Mean.Attack &lt;dbl&gt; | Median.Attack &lt;dbl&gt; | MinAttack &lt;int&gt; | MaxAttack &lt;int&gt; | IQRAttack &lt;dbl&gt; | ... ... | MinBase.Stat.Total &lt;int&gt; | MaxBase.Stat.Total &lt;int&gt; | IQRBase.Stat.Total &lt;dbl&gt; | Mean.Experience.Yield &lt;dbl&gt; | Median.Experience.Yield &lt;dbl&gt; | MinExperience.Yield &lt;int&gt; | MaxExperience.Yield &lt;int&gt; | IQRExperience.Yield &lt;dbl&gt; | Count &lt;int&gt; | Type &lt;chr&gt; |\n",
       "|---|---|---|---|---|---|---|---|---|---|---|---|---|---|---|---|---|---|---|---|---|\n",
       "| 100.78571 | 90.0 | 54 | 255 | 31.25 | 111.17857 | 107.5 | 60 | 180 | 28.25 | ... | 485 | 1125 | 152.25 | 258.6429 | 270.0 | 170 | 563 | 119.0 | 56 | Dragon  |\n",
       "|  79.23214 | 70.5 | 35 | 137 | 27.00 | 109.28571 | 103.0 | 50 | 181 | 43.50 | ... | 380 |  720 | 106.25 | 220.6250 | 216.5 | 133 | 360 |  90.5 | 56 | Steel   |\n",
       "|  81.28090 | 80.0 | 40 | 190 | 32.00 |  88.76404 |  85.0 | 30 | 190 | 35.00 | ... | 336 |  780 | 115.00 | 226.2697 | 233.0 |   0 | 351 | 100.0 | 89 | Psychic |\n",
       "\n"
      ],
      "text/plain": [
       "  Mean.Health Median.Health MinHealth MaxHealth IQRHealth Mean.Attack\n",
       "1 100.78571   90.0          54        255       31.25     111.17857  \n",
       "2  79.23214   70.5          35        137       27.00     109.28571  \n",
       "3  81.28090   80.0          40        190       32.00      88.76404  \n",
       "  Median.Attack MinAttack MaxAttack IQRAttack ... MinBase.Stat.Total\n",
       "1 107.5         60        180       28.25     ... 485               \n",
       "2 103.0         50        181       43.50     ... 380               \n",
       "3  85.0         30        190       35.00     ... 336               \n",
       "  MaxBase.Stat.Total IQRBase.Stat.Total Mean.Experience.Yield\n",
       "1 1125               152.25             258.6429             \n",
       "2  720               106.25             220.6250             \n",
       "3  780               115.00             226.2697             \n",
       "  Median.Experience.Yield MinExperience.Yield MaxExperience.Yield\n",
       "1 270.0                   170                 563                \n",
       "2 216.5                   133                 360                \n",
       "3 233.0                     0                 351                \n",
       "  IQRExperience.Yield Count Type   \n",
       "1 119.0               56    Dragon \n",
       "2  90.5               56    Steel  \n",
       "3 100.0               89    Psychic"
      ]
     },
     "metadata": {},
     "output_type": "display_data"
    }
   ],
   "source": [
    "evolved_dragon_stats <- evolved_dragon %>%\n",
    "    summarize(Mean.Health = mean(Health.Stat), Median.Health = median(Health.Stat), MinHealth = min(Health.Stat), MaxHealth = max(Health.Stat), IQRHealth = IQR(Health.Stat),\n",
    "             Mean.Attack = mean(Attack.Stat), Median.Attack = median(Attack.Stat), MinAttack = min(Attack.Stat), MaxAttack = max(Attack.Stat), IQRAttack = IQR(Attack.Stat),\n",
    "             Mean.Defense = mean(Defense.Stat), Median.Defense = median(Defense.Stat), MinDefense = min(Defense.Stat), MaxDefense = max(Defense.Stat), IQRDefense = IQR(Special.Defense.Stat),\n",
    "             Mean.Special.Attack = mean(Special.Attack.Stat), Median.Special.Attack = median(Special.Attack.Stat), MinSpecial.Attack = min(Special.Attack.Stat), MaxSpecial.Attack = max(Special.Attack.Stat), IQRSpecial.Attack = IQR(Attack.Stat),\n",
    "             Mean.Special.Defense = mean(Special.Defense.Stat), Median.Special.Defense = median(Special.Defense.Stat), MinSpecial.Defense = min(Special.Defense.Stat), MaxSpecial.Defense = max(Special.Defense.Stat), IQRSpecial.Defense = IQR(Special.Defense.Stat),\n",
    "             Mean.Speed = mean(Speed.Stat), Median.Speed = median(Speed.Stat), MinSpeed = min(Speed.Stat), MaxSpeed = max(Speed.Stat), IQRSpeed = IQR(Speed.Stat),\n",
    "             Mean.Base.Stat.Total = mean(Base.Stat.Total), Median.Base.Stat.Total = median(Base.Stat.Total), MinBase.Stat.Total = min(Base.Stat.Total), MaxBase.Stat.Total = max(Base.Stat.Total), IQRBase.Stat.Total = IQR(Base.Stat.Total),\n",
    "             Mean.Experience.Yield = mean(Experience.Yield), Median.Experience.Yield = median(Experience.Yield), MinExperience.Yield = min(Experience.Yield), MaxExperience.Yield = max(Experience.Yield), IQRExperience.Yield = IQR(Experience.Yield),\n",
    "             Count = n(),\n",
    "             Type = \"Dragon\")\n",
    "\n",
    "evolved_steel_stats <- evolved_steel %>%\n",
    "    summarize(Mean.Health = mean(Health.Stat), Median.Health = median(Health.Stat), MinHealth = min(Health.Stat), MaxHealth = max(Health.Stat), IQRHealth = IQR(Health.Stat),\n",
    "             Mean.Attack = mean(Attack.Stat), Median.Attack = median(Attack.Stat), MinAttack = min(Attack.Stat), MaxAttack = max(Attack.Stat), IQRAttack = IQR(Attack.Stat),\n",
    "             Mean.Defense = mean(Defense.Stat), Median.Defense = median(Defense.Stat), MinDefense = min(Defense.Stat), MaxDefense = max(Defense.Stat), IQRDefense = IQR(Special.Defense.Stat),\n",
    "             Mean.Special.Attack = mean(Special.Attack.Stat), Median.Special.Attack = median(Special.Attack.Stat), MinSpecial.Attack = min(Special.Attack.Stat), MaxSpecial.Attack = max(Special.Attack.Stat), IQRSpecial.Attack = IQR(Attack.Stat),\n",
    "             Mean.Special.Defense = mean(Special.Defense.Stat), Median.Special.Defense = median(Special.Defense.Stat), MinSpecial.Defense = min(Special.Defense.Stat), MaxSpecial.Defense = max(Special.Defense.Stat), IQRSpecial.Defense = IQR(Special.Defense.Stat),\n",
    "             Mean.Speed = mean(Speed.Stat), Median.Speed = median(Speed.Stat), MinSpeed = min(Speed.Stat), MaxSpeed = max(Speed.Stat), IQRSpeed = IQR(Speed.Stat),\n",
    "             Mean.Base.Stat.Total = mean(Base.Stat.Total), Median.Base.Stat.Total = median(Base.Stat.Total), MinBase.Stat.Total = min(Base.Stat.Total), MaxBase.Stat.Total = max(Base.Stat.Total), IQRBase.Stat.Total = IQR(Base.Stat.Total),\n",
    "             Mean.Experience.Yield = mean(Experience.Yield), Median.Experience.Yield = median(Experience.Yield), MinExperience.Yield = min(Experience.Yield), MaxExperience.Yield = max(Experience.Yield), IQRExperience.Yield = IQR(Experience.Yield),\n",
    "             Count = n(),\n",
    "             Type = \"Steel\")\n",
    "\n",
    "evolved_psychic_stats <- evolved_psychic %>%\n",
    "    summarize(Mean.Health = mean(Health.Stat), Median.Health = median(Health.Stat), MinHealth = min(Health.Stat), MaxHealth = max(Health.Stat), IQRHealth = IQR(Health.Stat),\n",
    "             Mean.Attack = mean(Attack.Stat), Median.Attack = median(Attack.Stat), MinAttack = min(Attack.Stat), MaxAttack = max(Attack.Stat), IQRAttack = IQR(Attack.Stat),\n",
    "             Mean.Defense = mean(Defense.Stat), Median.Defense = median(Defense.Stat), MinDefense = min(Defense.Stat), MaxDefense = max(Defense.Stat), IQRDefense = IQR(Special.Defense.Stat),\n",
    "             Mean.Special.Attack = mean(Special.Attack.Stat), Median.Special.Attack = median(Special.Attack.Stat), MinSpecial.Attack = min(Special.Attack.Stat), MaxSpecial.Attack = max(Special.Attack.Stat), IQRSpecial.Attack = IQR(Attack.Stat),\n",
    "             Mean.Special.Defense = mean(Special.Defense.Stat), Median.Special.Defense = median(Special.Defense.Stat), MinSpecial.Defense = min(Special.Defense.Stat), MaxSpecial.Defense = max(Special.Defense.Stat), IQRSpecial.Defense = IQR(Special.Defense.Stat),\n",
    "             Mean.Speed = mean(Speed.Stat), Median.Speed = median(Speed.Stat), MinSpeed = min(Speed.Stat), MaxSpeed = max(Speed.Stat), IQRSpeed = IQR(Speed.Stat),\n",
    "             Mean.Base.Stat.Total = mean(Base.Stat.Total), Median.Base.Stat.Total = median(Base.Stat.Total), MinBase.Stat.Total = min(Base.Stat.Total), MaxBase.Stat.Total = max(Base.Stat.Total), IQRBase.Stat.Total = IQR(Base.Stat.Total),\n",
    "             Mean.Experience.Yield = mean(Experience.Yield), Median.Experience.Yield = median(Experience.Yield), MinExperience.Yield = min(Experience.Yield), MaxExperience.Yield = max(Experience.Yield), IQRExperience.Yield = IQR(Experience.Yield),\n",
    "             Count = n(),\n",
    "             Type = \"Psychic\")\n",
    "\n",
    "all_evolved_stats <- rbind(evolved_dragon_stats, evolved_steel_stats, evolved_psychic_stats)\n",
    "all_evolved_stats"
   ]
  },
  {
   "cell_type": "code",
   "execution_count": 14,
   "id": "5bc75e81",
   "metadata": {},
   "outputs": [
    {
     "data": {
      "image/png": "[encoded data removed]",
      "text/plain": [
       "plot without title"
      ]
     },
     "metadata": {
      "image/png": {
       "height": 420,
       "width": 420
      }
     },
     "output_type": "display_data"
    },
    {
     "data": {
      "image/png": "[encoded data removed]",
      "text/plain": [
       "plot without title"
      ]
     },
     "metadata": {
      "image/png": {
       "height": 420,
       "width": 420
      }
     },
     "output_type": "display_data"
    }
   ],
   "source": [
    "# let's look at the means/medians of each of the six stats for each type\n",
    "ggplot(data = all_evolved_stats) +\n",
    "    geom_point(aes(x = Type, y = Mean.Health, color = \"Health\")) +\n",
    "    geom_point(aes(x = Type, y = Mean.Attack, color = \"Attack\")) +\n",
    "    geom_point(aes(x = Type, y = Mean.Defense, color = \"Defense\")) +\n",
    "    geom_point(aes(x = Type, y = Mean.Special.Attack, color = \"Special Attack\")) +\n",
    "    geom_point(aes(x = Type, y = Mean.Special.Defense, color = \"Special Defense\")) +\n",
    "    geom_point(aes(x = Type, y = Mean.Speed, color = \"Speed\")) +\n",
    "    labs(title = \"Mean Stat Values for Top Three Types\", subtitle = \"Only Fully Evolved Pokemon\")+\n",
    "    ylab(label = \"\") +\n",
    "    scale_color_manual(values = c(\"Green\", \"Red\", \"Blue\", \"Pink\", \"Purple\", \"Yellow\"),\n",
    "                       breaks = c(\"Health\", \"Attack\", \"Defense\", \"Special Attack\", \"Special Defense\", \"Speed\"))\n",
    "\n",
    "ggsave(\"MeanStatsEvolved.png\", width = 4, height = 5)\n",
    "\n",
    "ggplot(data = all_evolved_stats) +\n",
    "    geom_point(aes(x = Type, y = Median.Health, color = \"Health\")) +\n",
    "    geom_point(aes(x = Type, y = Median.Attack, color = \"Attack\")) +\n",
    "    geom_point(aes(x = Type, y = Median.Defense, color = \"Defense\")) +\n",
    "    geom_point(aes(x = Type, y = Median.Special.Attack, color = \"Special Attack\")) +\n",
    "    geom_point(aes(x = Type, y = Median.Special.Defense, color = \"Special Defense\")) +\n",
    "    geom_point(aes(x = Type, y = Median.Speed, color = \"Speed\")) +\n",
    "    labs(title = \"Median Stat Values for Top Three Types\", subtitle = \"Only Fully Evolved Pokemon\")+\n",
    "    ylab(label = \"\") +\n",
    "    scale_color_manual(values = c(\"Green\", \"Red\", \"Blue\", \"Pink\", \"Purple\", \"Yellow\"),\n",
    "                       breaks = c(\"Health\", \"Attack\", \"Defense\", \"Special Attack\", \"Special Defense\", \"Speed\"))"
   ]
  },
  {
   "cell_type": "code",
   "execution_count": 16,
   "id": "92052bec",
   "metadata": {},
   "outputs": [
    {
     "data": {
      "text/html": [
       "<table class=\"dataframe\">\n",
       "<caption>A data.frame: 3 × 42</caption>\n",
       "<thead>\n",
       "\t<tr><th scope=col>Mean.Health</th><th scope=col>Median.Health</th><th scope=col>MinHealth</th><th scope=col>MaxHealth</th><th scope=col>IQRHealth</th><th scope=col>Mean.Attack</th><th scope=col>Median.Attack</th><th scope=col>MinAttack</th><th scope=col>MaxAttack</th><th scope=col>IQRAttack</th><th scope=col>...</th><th scope=col>MinBase.Stat.Total</th><th scope=col>MaxBase.Stat.Total</th><th scope=col>IQRBase.Stat.Total</th><th scope=col>Mean.Experience.Yield</th><th scope=col>Median.Experience.Yield</th><th scope=col>MinExperience.Yield</th><th scope=col>MaxExperience.Yield</th><th scope=col>IQRExperience.Yield</th><th scope=col>Count</th><th scope=col>Type</th></tr>\n",
       "\t<tr><th scope=col>&lt;dbl&gt;</th><th scope=col>&lt;dbl&gt;</th><th scope=col>&lt;int&gt;</th><th scope=col>&lt;int&gt;</th><th scope=col>&lt;dbl&gt;</th><th scope=col>&lt;dbl&gt;</th><th scope=col>&lt;dbl&gt;</th><th scope=col>&lt;int&gt;</th><th scope=col>&lt;int&gt;</th><th scope=col>&lt;dbl&gt;</th><th scope=col>...</th><th scope=col>&lt;int&gt;</th><th scope=col>&lt;int&gt;</th><th scope=col>&lt;dbl&gt;</th><th scope=col>&lt;dbl&gt;</th><th scope=col>&lt;dbl&gt;</th><th scope=col>&lt;int&gt;</th><th scope=col>&lt;int&gt;</th><th scope=col>&lt;dbl&gt;</th><th scope=col>&lt;int&gt;</th><th scope=col>&lt;chr&gt;</th></tr>\n",
       "</thead>\n",
       "<tbody>\n",
       "\t<tr><td>72.48148</td><td>73.5</td><td>28</td><td>110</td><td>27.00</td><td>94.27778</td><td>95</td><td>30</td><td>170</td><td>35.00</td><td>...</td><td>245</td><td>700</td><td>187.5</td><td>178.2778</td><td>171.0</td><td>49</td><td>315</td><td>119.25</td><td>54</td><td>Dragon </td></tr>\n",
       "\t<tr><td>64.93103</td><td>65.0</td><td>10</td><td>122</td><td>19.75</td><td>91.77586</td><td>88</td><td>24</td><td>150</td><td>38.75</td><td>...</td><td>265</td><td>700</td><td> 88.5</td><td>161.8621</td><td>168.5</td><td>53</td><td>315</td><td> 39.75</td><td>58</td><td>Steel  </td></tr>\n",
       "\t<tr><td>67.48315</td><td>65.0</td><td>20</td><td>190</td><td>25.00</td><td>62.82022</td><td>57</td><td>20</td><td>165</td><td>30.00</td><td>...</td><td>198</td><td>700</td><td>170.0</td><td>149.8876</td><td>163.0</td><td> 0</td><td>315</td><td>116.00</td><td>89</td><td>Psychic</td></tr>\n",
       "</tbody>\n",
       "</table>\n"
      ],
      "text/latex": [
       "A data.frame: 3 × 42\n",
       "\\begin{tabular}{lllllllllllllllllllll}\n",
       " Mean.Health & Median.Health & MinHealth & MaxHealth & IQRHealth & Mean.Attack & Median.Attack & MinAttack & MaxAttack & IQRAttack & ... & MinBase.Stat.Total & MaxBase.Stat.Total & IQRBase.Stat.Total & Mean.Experience.Yield & Median.Experience.Yield & MinExperience.Yield & MaxExperience.Yield & IQRExperience.Yield & Count & Type\\\\\n",
       " <dbl> & <dbl> & <int> & <int> & <dbl> & <dbl> & <dbl> & <int> & <int> & <dbl> & ... & <int> & <int> & <dbl> & <dbl> & <dbl> & <int> & <int> & <dbl> & <int> & <chr>\\\\\n",
       "\\hline\n",
       "\t 72.48148 & 73.5 & 28 & 110 & 27.00 & 94.27778 & 95 & 30 & 170 & 35.00 & ... & 245 & 700 & 187.5 & 178.2778 & 171.0 & 49 & 315 & 119.25 & 54 & Dragon \\\\\n",
       "\t 64.93103 & 65.0 & 10 & 122 & 19.75 & 91.77586 & 88 & 24 & 150 & 38.75 & ... & 265 & 700 &  88.5 & 161.8621 & 168.5 & 53 & 315 &  39.75 & 58 & Steel  \\\\\n",
       "\t 67.48315 & 65.0 & 20 & 190 & 25.00 & 62.82022 & 57 & 20 & 165 & 30.00 & ... & 198 & 700 & 170.0 & 149.8876 & 163.0 &  0 & 315 & 116.00 & 89 & Psychic\\\\\n",
       "\\end{tabular}\n"
      ],
      "text/markdown": [
       "\n",
       "A data.frame: 3 × 42\n",
       "\n",
       "| Mean.Health &lt;dbl&gt; | Median.Health &lt;dbl&gt; | MinHealth &lt;int&gt; | MaxHealth &lt;int&gt; | IQRHealth &lt;dbl&gt; | Mean.Attack &lt;dbl&gt; | Median.Attack &lt;dbl&gt; | MinAttack &lt;int&gt; | MaxAttack &lt;int&gt; | IQRAttack &lt;dbl&gt; | ... ... | MinBase.Stat.Total &lt;int&gt; | MaxBase.Stat.Total &lt;int&gt; | IQRBase.Stat.Total &lt;dbl&gt; | Mean.Experience.Yield &lt;dbl&gt; | Median.Experience.Yield &lt;dbl&gt; | MinExperience.Yield &lt;int&gt; | MaxExperience.Yield &lt;int&gt; | IQRExperience.Yield &lt;dbl&gt; | Count &lt;int&gt; | Type &lt;chr&gt; |\n",
       "|---|---|---|---|---|---|---|---|---|---|---|---|---|---|---|---|---|---|---|---|---|\n",
       "| 72.48148 | 73.5 | 28 | 110 | 27.00 | 94.27778 | 95 | 30 | 170 | 35.00 | ... | 245 | 700 | 187.5 | 178.2778 | 171.0 | 49 | 315 | 119.25 | 54 | Dragon  |\n",
       "| 64.93103 | 65.0 | 10 | 122 | 19.75 | 91.77586 | 88 | 24 | 150 | 38.75 | ... | 265 | 700 |  88.5 | 161.8621 | 168.5 | 53 | 315 |  39.75 | 58 | Steel   |\n",
       "| 67.48315 | 65.0 | 20 | 190 | 25.00 | 62.82022 | 57 | 20 | 165 | 30.00 | ... | 198 | 700 | 170.0 | 149.8876 | 163.0 |  0 | 315 | 116.00 | 89 | Psychic |\n",
       "\n"
      ],
      "text/plain": [
       "  Mean.Health Median.Health MinHealth MaxHealth IQRHealth Mean.Attack\n",
       "1 72.48148    73.5          28        110       27.00     94.27778   \n",
       "2 64.93103    65.0          10        122       19.75     91.77586   \n",
       "3 67.48315    65.0          20        190       25.00     62.82022   \n",
       "  Median.Attack MinAttack MaxAttack IQRAttack ... MinBase.Stat.Total\n",
       "1 95            30        170       35.00     ... 245               \n",
       "2 88            24        150       38.75     ... 265               \n",
       "3 57            20        165       30.00     ... 198               \n",
       "  MaxBase.Stat.Total IQRBase.Stat.Total Mean.Experience.Yield\n",
       "1 700                187.5              178.2778             \n",
       "2 700                 88.5              161.8621             \n",
       "3 700                170.0              149.8876             \n",
       "  Median.Experience.Yield MinExperience.Yield MaxExperience.Yield\n",
       "1 171.0                   49                  315                \n",
       "2 168.5                   53                  315                \n",
       "3 163.0                    0                  315                \n",
       "  IQRExperience.Yield Count Type   \n",
       "1 119.25              54    Dragon \n",
       "2  39.75              58    Steel  \n",
       "3 116.00              89    Psychic"
      ]
     },
     "metadata": {},
     "output_type": "display_data"
    },
    {
     "data": {
      "image/png": "[encoded data removed]",
      "text/plain": [
       "plot without title"
      ]
     },
     "metadata": {
      "image/png": {
       "height": 420,
       "width": 420
      }
     },
     "output_type": "display_data"
    },
    {
     "data": {
      "image/png": "[encoded data removed]",
      "text/plain": [
       "plot without title"
      ]
     },
     "metadata": {
      "image/png": {
       "height": 420,
       "width": 420
      }
     },
     "output_type": "display_data"
    }
   ],
   "source": [
    "noleg_dragon_stats <- noleg_dragon %>%\n",
    "    summarize(Mean.Health = mean(Health.Stat), Median.Health = median(Health.Stat), MinHealth = min(Health.Stat), MaxHealth = max(Health.Stat), IQRHealth = IQR(Health.Stat),\n",
    "             Mean.Attack = mean(Attack.Stat), Median.Attack = median(Attack.Stat), MinAttack = min(Attack.Stat), MaxAttack = max(Attack.Stat), IQRAttack = IQR(Attack.Stat),\n",
    "             Mean.Defense = mean(Defense.Stat), Median.Defense = median(Defense.Stat), MinDefense = min(Defense.Stat), MaxDefense = max(Defense.Stat), IQRDefense = IQR(Special.Defense.Stat),\n",
    "             Mean.Special.Attack = mean(Special.Attack.Stat), Median.Special.Attack = median(Special.Attack.Stat), MinSpecial.Attack = min(Special.Attack.Stat), MaxSpecial.Attack = max(Special.Attack.Stat), IQRSpecial.Attack = IQR(Attack.Stat),\n",
    "             Mean.Special.Defense = mean(Special.Defense.Stat), Median.Special.Defense = median(Special.Defense.Stat), MinSpecial.Defense = min(Special.Defense.Stat), MaxSpecial.Defense = max(Special.Defense.Stat), IQRSpecial.Defense = IQR(Special.Defense.Stat),\n",
    "             Mean.Speed = mean(Speed.Stat), Median.Speed = median(Speed.Stat), MinSpeed = min(Speed.Stat), MaxSpeed = max(Speed.Stat), IQRSpeed = IQR(Speed.Stat),\n",
    "             Mean.Base.Stat.Total = mean(Base.Stat.Total), Median.Base.Stat.Total = median(Base.Stat.Total), MinBase.Stat.Total = min(Base.Stat.Total), MaxBase.Stat.Total = max(Base.Stat.Total), IQRBase.Stat.Total = IQR(Base.Stat.Total),\n",
    "             Mean.Experience.Yield = mean(Experience.Yield), Median.Experience.Yield = median(Experience.Yield), MinExperience.Yield = min(Experience.Yield), MaxExperience.Yield = max(Experience.Yield), IQRExperience.Yield = IQR(Experience.Yield),\n",
    "             Count = n(),\n",
    "             Type = \"Dragon\")\n",
    "\n",
    "noleg_steel_stats <- noleg_steel %>%\n",
    "    summarize(Mean.Health = mean(Health.Stat), Median.Health = median(Health.Stat), MinHealth = min(Health.Stat), MaxHealth = max(Health.Stat), IQRHealth = IQR(Health.Stat),\n",
    "             Mean.Attack = mean(Attack.Stat), Median.Attack = median(Attack.Stat), MinAttack = min(Attack.Stat), MaxAttack = max(Attack.Stat), IQRAttack = IQR(Attack.Stat),\n",
    "             Mean.Defense = mean(Defense.Stat), Median.Defense = median(Defense.Stat), MinDefense = min(Defense.Stat), MaxDefense = max(Defense.Stat), IQRDefense = IQR(Special.Defense.Stat),\n",
    "             Mean.Special.Attack = mean(Special.Attack.Stat), Median.Special.Attack = median(Special.Attack.Stat), MinSpecial.Attack = min(Special.Attack.Stat), MaxSpecial.Attack = max(Special.Attack.Stat), IQRSpecial.Attack = IQR(Attack.Stat),\n",
    "             Mean.Special.Defense = mean(Special.Defense.Stat), Median.Special.Defense = median(Special.Defense.Stat), MinSpecial.Defense = min(Special.Defense.Stat), MaxSpecial.Defense = max(Special.Defense.Stat), IQRSpecial.Defense = IQR(Special.Defense.Stat),\n",
    "             Mean.Speed = mean(Speed.Stat), Median.Speed = median(Speed.Stat), MinSpeed = min(Speed.Stat), MaxSpeed = max(Speed.Stat), IQRSpeed = IQR(Speed.Stat),\n",
    "             Mean.Base.Stat.Total = mean(Base.Stat.Total), Median.Base.Stat.Total = median(Base.Stat.Total), MinBase.Stat.Total = min(Base.Stat.Total), MaxBase.Stat.Total = max(Base.Stat.Total), IQRBase.Stat.Total = IQR(Base.Stat.Total),\n",
    "             Mean.Experience.Yield = mean(Experience.Yield), Median.Experience.Yield = median(Experience.Yield), MinExperience.Yield = min(Experience.Yield), MaxExperience.Yield = max(Experience.Yield), IQRExperience.Yield = IQR(Experience.Yield),\n",
    "             Count = n(),\n",
    "             Type = \"Steel\")\n",
    "\n",
    "noleg_psychic_stats <- noleg_psychic %>%\n",
    "    summarize(Mean.Health = mean(Health.Stat), Median.Health = median(Health.Stat), MinHealth = min(Health.Stat), MaxHealth = max(Health.Stat), IQRHealth = IQR(Health.Stat),\n",
    "             Mean.Attack = mean(Attack.Stat), Median.Attack = median(Attack.Stat), MinAttack = min(Attack.Stat), MaxAttack = max(Attack.Stat), IQRAttack = IQR(Attack.Stat),\n",
    "             Mean.Defense = mean(Defense.Stat), Median.Defense = median(Defense.Stat), MinDefense = min(Defense.Stat), MaxDefense = max(Defense.Stat), IQRDefense = IQR(Special.Defense.Stat),\n",
    "             Mean.Special.Attack = mean(Special.Attack.Stat), Median.Special.Attack = median(Special.Attack.Stat), MinSpecial.Attack = min(Special.Attack.Stat), MaxSpecial.Attack = max(Special.Attack.Stat), IQRSpecial.Attack = IQR(Attack.Stat),\n",
    "             Mean.Special.Defense = mean(Special.Defense.Stat), Median.Special.Defense = median(Special.Defense.Stat), MinSpecial.Defense = min(Special.Defense.Stat), MaxSpecial.Defense = max(Special.Defense.Stat), IQRSpecial.Defense = IQR(Special.Defense.Stat),\n",
    "             Mean.Speed = mean(Speed.Stat), Median.Speed = median(Speed.Stat), MinSpeed = min(Speed.Stat), MaxSpeed = max(Speed.Stat), IQRSpeed = IQR(Speed.Stat),\n",
    "             Mean.Base.Stat.Total = mean(Base.Stat.Total), Median.Base.Stat.Total = median(Base.Stat.Total), MinBase.Stat.Total = min(Base.Stat.Total), MaxBase.Stat.Total = max(Base.Stat.Total), IQRBase.Stat.Total = IQR(Base.Stat.Total),\n",
    "             Mean.Experience.Yield = mean(Experience.Yield), Median.Experience.Yield = median(Experience.Yield), MinExperience.Yield = min(Experience.Yield), MaxExperience.Yield = max(Experience.Yield), IQRExperience.Yield = IQR(Experience.Yield),\n",
    "             Count = n(),\n",
    "             Type = \"Psychic\")\n",
    "\n",
    "all_noleg_stats <- rbind(noleg_dragon_stats, noleg_steel_stats, noleg_psychic_stats)\n",
    "all_noleg_stats\n",
    "\n",
    "ggplot(data = all_noleg_stats) +\n",
    "    geom_point(aes(x = Type, y = Mean.Health, color = \"Health\")) +\n",
    "    geom_point(aes(x = Type, y = Mean.Attack, color = \"Attack\")) +\n",
    "    geom_point(aes(x = Type, y = Mean.Defense, color = \"Defense\")) +\n",
    "    geom_point(aes(x = Type, y = Mean.Special.Attack, color = \"Special Attack\")) +\n",
    "    geom_point(aes(x = Type, y = Mean.Special.Defense, color = \"Special Defense\")) +\n",
    "    geom_point(aes(x = Type, y = Mean.Speed, color = \"Speed\")) +\n",
    "    labs(title = \"Mean Stat Values for Top Three Types\", subtitle = \"Non-Legendary Pokemon\")+\n",
    "    ylab(label = \"\") +\n",
    "    scale_color_manual(values = c(\"Green\", \"Red\", \"Blue\", \"Pink\", \"Purple\", \"Yellow\"),\n",
    "                       breaks = c(\"Health\", \"Attack\", \"Defense\", \"Special Attack\", \"Special Defense\", \"Speed\"))\n",
    "\n",
    "ggsave(\"MeanStatsNonLeg.png\", width = 4, height = 5)\n",
    "\n",
    "ggplot(data = all_noleg_stats) +\n",
    "    geom_point(aes(x = Type, y = Median.Health, color = \"Health\")) +\n",
    "    geom_point(aes(x = Type, y = Median.Attack, color = \"Attack\")) +\n",
    "    geom_point(aes(x = Type, y = Median.Defense, color = \"Defense\")) +\n",
    "    geom_point(aes(x = Type, y = Median.Special.Attack, color = \"Special Attack\")) +\n",
    "    geom_point(aes(x = Type, y = Median.Special.Defense, color = \"Special Defense\")) +\n",
    "    geom_point(aes(x = Type, y = Median.Speed, color = \"Speed\")) +\n",
    "    labs(title = \"Median Stat Values for Top Three Types\", subtitle = \"Non-Legendary Pokemon\")+\n",
    "    ylab(label = \"\") +\n",
    "    scale_color_manual(values = c(\"Green\", \"Red\", \"Blue\", \"Pink\", \"Purple\", \"Yellow\"),\n",
    "                       breaks = c(\"Health\", \"Attack\", \"Defense\", \"Special Attack\", \"Special Defense\", \"Speed\"))"
   ]
  },
  {
   "cell_type": "code",
   "execution_count": 18,
   "id": "7918b6d4",
   "metadata": {},
   "outputs": [
    {
     "data": {
      "text/html": [
       "<table class=\"dataframe\">\n",
       "<caption>A data.frame: 3 × 42</caption>\n",
       "<thead>\n",
       "\t<tr><th scope=col>Mean.Health</th><th scope=col>Median.Health</th><th scope=col>MinHealth</th><th scope=col>MaxHealth</th><th scope=col>IQRHealth</th><th scope=col>Mean.Attack</th><th scope=col>Median.Attack</th><th scope=col>MinAttack</th><th scope=col>MaxAttack</th><th scope=col>IQRAttack</th><th scope=col>...</th><th scope=col>MinBase.Stat.Total</th><th scope=col>MaxBase.Stat.Total</th><th scope=col>IQRBase.Stat.Total</th><th scope=col>Mean.Experience.Yield</th><th scope=col>Median.Experience.Yield</th><th scope=col>MinExperience.Yield</th><th scope=col>MaxExperience.Yield</th><th scope=col>IQRExperience.Yield</th><th scope=col>Count</th><th scope=col>Type</th></tr>\n",
       "\t<tr><th scope=col>&lt;dbl&gt;</th><th scope=col>&lt;dbl&gt;</th><th scope=col>&lt;int&gt;</th><th scope=col>&lt;int&gt;</th><th scope=col>&lt;dbl&gt;</th><th scope=col>&lt;dbl&gt;</th><th scope=col>&lt;dbl&gt;</th><th scope=col>&lt;int&gt;</th><th scope=col>&lt;int&gt;</th><th scope=col>&lt;dbl&gt;</th><th scope=col>...</th><th scope=col>&lt;int&gt;</th><th scope=col>&lt;int&gt;</th><th scope=col>&lt;dbl&gt;</th><th scope=col>&lt;dbl&gt;</th><th scope=col>&lt;dbl&gt;</th><th scope=col>&lt;int&gt;</th><th scope=col>&lt;int&gt;</th><th scope=col>&lt;dbl&gt;</th><th scope=col>&lt;int&gt;</th><th scope=col>&lt;chr&gt;</th></tr>\n",
       "</thead>\n",
       "<tbody>\n",
       "\t<tr><td>127.31818</td><td>106.5</td><td>54</td><td>255</td><td>49.75</td><td>117.7727</td><td>117.5</td><td>73</td><td>180</td><td>27.5</td><td>...</td><td>486</td><td>1125</td><td> 97.5</td><td>309.3182</td><td>306</td><td>219</td><td>563</td><td>40</td><td>22</td><td>Dragon </td></tr>\n",
       "\t<tr><td> 92.00000</td><td> 92.0</td><td>46</td><td>137</td><td>20.00</td><td>120.4706</td><td>120.0</td><td>65</td><td>181</td><td>48.0</td><td>...</td><td>300</td><td> 720</td><td>100.0</td><td>275.6471</td><td>270</td><td>135</td><td>360</td><td>45</td><td>17</td><td>Steel  </td></tr>\n",
       "\t<tr><td> 88.29412</td><td> 97.0</td><td>43</td><td>137</td><td>23.75</td><td>108.2059</td><td>100.0</td><td>29</td><td>190</td><td>49.0</td><td>...</td><td>200</td><td> 780</td><td> 80.0</td><td>276.5588</td><td>270</td><td> 40</td><td>351</td><td>36</td><td>34</td><td>Psychic</td></tr>\n",
       "</tbody>\n",
       "</table>\n"
      ],
      "text/latex": [
       "A data.frame: 3 × 42\n",
       "\\begin{tabular}{lllllllllllllllllllll}\n",
       " Mean.Health & Median.Health & MinHealth & MaxHealth & IQRHealth & Mean.Attack & Median.Attack & MinAttack & MaxAttack & IQRAttack & ... & MinBase.Stat.Total & MaxBase.Stat.Total & IQRBase.Stat.Total & Mean.Experience.Yield & Median.Experience.Yield & MinExperience.Yield & MaxExperience.Yield & IQRExperience.Yield & Count & Type\\\\\n",
       " <dbl> & <dbl> & <int> & <int> & <dbl> & <dbl> & <dbl> & <int> & <int> & <dbl> & ... & <int> & <int> & <dbl> & <dbl> & <dbl> & <int> & <int> & <dbl> & <int> & <chr>\\\\\n",
       "\\hline\n",
       "\t 127.31818 & 106.5 & 54 & 255 & 49.75 & 117.7727 & 117.5 & 73 & 180 & 27.5 & ... & 486 & 1125 &  97.5 & 309.3182 & 306 & 219 & 563 & 40 & 22 & Dragon \\\\\n",
       "\t  92.00000 &  92.0 & 46 & 137 & 20.00 & 120.4706 & 120.0 & 65 & 181 & 48.0 & ... & 300 &  720 & 100.0 & 275.6471 & 270 & 135 & 360 & 45 & 17 & Steel  \\\\\n",
       "\t  88.29412 &  97.0 & 43 & 137 & 23.75 & 108.2059 & 100.0 & 29 & 190 & 49.0 & ... & 200 &  780 &  80.0 & 276.5588 & 270 &  40 & 351 & 36 & 34 & Psychic\\\\\n",
       "\\end{tabular}\n"
      ],
      "text/markdown": [
       "\n",
       "A data.frame: 3 × 42\n",
       "\n",
       "| Mean.Health &lt;dbl&gt; | Median.Health &lt;dbl&gt; | MinHealth &lt;int&gt; | MaxHealth &lt;int&gt; | IQRHealth &lt;dbl&gt; | Mean.Attack &lt;dbl&gt; | Median.Attack &lt;dbl&gt; | MinAttack &lt;int&gt; | MaxAttack &lt;int&gt; | IQRAttack &lt;dbl&gt; | ... ... | MinBase.Stat.Total &lt;int&gt; | MaxBase.Stat.Total &lt;int&gt; | IQRBase.Stat.Total &lt;dbl&gt; | Mean.Experience.Yield &lt;dbl&gt; | Median.Experience.Yield &lt;dbl&gt; | MinExperience.Yield &lt;int&gt; | MaxExperience.Yield &lt;int&gt; | IQRExperience.Yield &lt;dbl&gt; | Count &lt;int&gt; | Type &lt;chr&gt; |\n",
       "|---|---|---|---|---|---|---|---|---|---|---|---|---|---|---|---|---|---|---|---|---|\n",
       "| 127.31818 | 106.5 | 54 | 255 | 49.75 | 117.7727 | 117.5 | 73 | 180 | 27.5 | ... | 486 | 1125 |  97.5 | 309.3182 | 306 | 219 | 563 | 40 | 22 | Dragon  |\n",
       "|  92.00000 |  92.0 | 46 | 137 | 20.00 | 120.4706 | 120.0 | 65 | 181 | 48.0 | ... | 300 |  720 | 100.0 | 275.6471 | 270 | 135 | 360 | 45 | 17 | Steel   |\n",
       "|  88.29412 |  97.0 | 43 | 137 | 23.75 | 108.2059 | 100.0 | 29 | 190 | 49.0 | ... | 200 |  780 |  80.0 | 276.5588 | 270 |  40 | 351 | 36 | 34 | Psychic |\n",
       "\n"
      ],
      "text/plain": [
       "  Mean.Health Median.Health MinHealth MaxHealth IQRHealth Mean.Attack\n",
       "1 127.31818   106.5         54        255       49.75     117.7727   \n",
       "2  92.00000    92.0         46        137       20.00     120.4706   \n",
       "3  88.29412    97.0         43        137       23.75     108.2059   \n",
       "  Median.Attack MinAttack MaxAttack IQRAttack ... MinBase.Stat.Total\n",
       "1 117.5         73        180       27.5      ... 486               \n",
       "2 120.0         65        181       48.0      ... 300               \n",
       "3 100.0         29        190       49.0      ... 200               \n",
       "  MaxBase.Stat.Total IQRBase.Stat.Total Mean.Experience.Yield\n",
       "1 1125                97.5              309.3182             \n",
       "2  720               100.0              275.6471             \n",
       "3  780                80.0              276.5588             \n",
       "  Median.Experience.Yield MinExperience.Yield MaxExperience.Yield\n",
       "1 306                     219                 563                \n",
       "2 270                     135                 360                \n",
       "3 270                      40                 351                \n",
       "  IQRExperience.Yield Count Type   \n",
       "1 40                  22    Dragon \n",
       "2 45                  17    Steel  \n",
       "3 36                  34    Psychic"
      ]
     },
     "metadata": {},
     "output_type": "display_data"
    },
    {
     "data": {
      "image/png": "[encoded data removed]",
      "text/plain": [
       "plot without title"
      ]
     },
     "metadata": {
      "image/png": {
       "height": 420,
       "width": 420
      }
     },
     "output_type": "display_data"
    },
    {
     "data": {
      "image/png": "[encoded data removed]",
      "text/plain": [
       "plot without title"
      ]
     },
     "metadata": {
      "image/png": {
       "height": 420,
       "width": 420
      }
     },
     "output_type": "display_data"
    }
   ],
   "source": [
    "leg_dragon_stats <- leg_dragon %>%\n",
    "    summarize(Mean.Health = mean(Health.Stat), Median.Health = median(Health.Stat), MinHealth = min(Health.Stat), MaxHealth = max(Health.Stat), IQRHealth = IQR(Health.Stat),\n",
    "             Mean.Attack = mean(Attack.Stat), Median.Attack = median(Attack.Stat), MinAttack = min(Attack.Stat), MaxAttack = max(Attack.Stat), IQRAttack = IQR(Attack.Stat),\n",
    "             Mean.Defense = mean(Defense.Stat), Median.Defense = median(Defense.Stat), MinDefense = min(Defense.Stat), MaxDefense = max(Defense.Stat), IQRDefense = IQR(Special.Defense.Stat),\n",
    "             Mean.Special.Attack = mean(Special.Attack.Stat), Median.Special.Attack = median(Special.Attack.Stat), MinSpecial.Attack = min(Special.Attack.Stat), MaxSpecial.Attack = max(Special.Attack.Stat), IQRSpecial.Attack = IQR(Attack.Stat),\n",
    "             Mean.Special.Defense = mean(Special.Defense.Stat), Median.Special.Defense = median(Special.Defense.Stat), MinSpecial.Defense = min(Special.Defense.Stat), MaxSpecial.Defense = max(Special.Defense.Stat), IQRSpecial.Defense = IQR(Special.Defense.Stat),\n",
    "             Mean.Speed = mean(Speed.Stat), Median.Speed = median(Speed.Stat), MinSpeed = min(Speed.Stat), MaxSpeed = max(Speed.Stat), IQRSpeed = IQR(Speed.Stat),\n",
    "             Mean.Base.Stat.Total = mean(Base.Stat.Total), Median.Base.Stat.Total = median(Base.Stat.Total), MinBase.Stat.Total = min(Base.Stat.Total), MaxBase.Stat.Total = max(Base.Stat.Total), IQRBase.Stat.Total = IQR(Base.Stat.Total),\n",
    "             Mean.Experience.Yield = mean(Experience.Yield), Median.Experience.Yield = median(Experience.Yield), MinExperience.Yield = min(Experience.Yield), MaxExperience.Yield = max(Experience.Yield), IQRExperience.Yield = IQR(Experience.Yield),\n",
    "             Count = n(),\n",
    "             Type = \"Dragon\")\n",
    "\n",
    "leg_steel_stats <- leg_steel %>%\n",
    "    summarize(Mean.Health = mean(Health.Stat), Median.Health = median(Health.Stat), MinHealth = min(Health.Stat), MaxHealth = max(Health.Stat), IQRHealth = IQR(Health.Stat),\n",
    "             Mean.Attack = mean(Attack.Stat), Median.Attack = median(Attack.Stat), MinAttack = min(Attack.Stat), MaxAttack = max(Attack.Stat), IQRAttack = IQR(Attack.Stat),\n",
    "             Mean.Defense = mean(Defense.Stat), Median.Defense = median(Defense.Stat), MinDefense = min(Defense.Stat), MaxDefense = max(Defense.Stat), IQRDefense = IQR(Special.Defense.Stat),\n",
    "             Mean.Special.Attack = mean(Special.Attack.Stat), Median.Special.Attack = median(Special.Attack.Stat), MinSpecial.Attack = min(Special.Attack.Stat), MaxSpecial.Attack = max(Special.Attack.Stat), IQRSpecial.Attack = IQR(Attack.Stat),\n",
    "             Mean.Special.Defense = mean(Special.Defense.Stat), Median.Special.Defense = median(Special.Defense.Stat), MinSpecial.Defense = min(Special.Defense.Stat), MaxSpecial.Defense = max(Special.Defense.Stat), IQRSpecial.Defense = IQR(Special.Defense.Stat),\n",
    "             Mean.Speed = mean(Speed.Stat), Median.Speed = median(Speed.Stat), MinSpeed = min(Speed.Stat), MaxSpeed = max(Speed.Stat), IQRSpeed = IQR(Speed.Stat),\n",
    "             Mean.Base.Stat.Total = mean(Base.Stat.Total), Median.Base.Stat.Total = median(Base.Stat.Total), MinBase.Stat.Total = min(Base.Stat.Total), MaxBase.Stat.Total = max(Base.Stat.Total), IQRBase.Stat.Total = IQR(Base.Stat.Total),\n",
    "             Mean.Experience.Yield = mean(Experience.Yield), Median.Experience.Yield = median(Experience.Yield), MinExperience.Yield = min(Experience.Yield), MaxExperience.Yield = max(Experience.Yield), IQRExperience.Yield = IQR(Experience.Yield),\n",
    "             Count = n(),\n",
    "             Type = \"Steel\")\n",
    "\n",
    "leg_psychic_stats <- leg_psychic %>%\n",
    "    summarize(Mean.Health = mean(Health.Stat), Median.Health = median(Health.Stat), MinHealth = min(Health.Stat), MaxHealth = max(Health.Stat), IQRHealth = IQR(Health.Stat),\n",
    "             Mean.Attack = mean(Attack.Stat), Median.Attack = median(Attack.Stat), MinAttack = min(Attack.Stat), MaxAttack = max(Attack.Stat), IQRAttack = IQR(Attack.Stat),\n",
    "             Mean.Defense = mean(Defense.Stat), Median.Defense = median(Defense.Stat), MinDefense = min(Defense.Stat), MaxDefense = max(Defense.Stat), IQRDefense = IQR(Special.Defense.Stat),\n",
    "             Mean.Special.Attack = mean(Special.Attack.Stat), Median.Special.Attack = median(Special.Attack.Stat), MinSpecial.Attack = min(Special.Attack.Stat), MaxSpecial.Attack = max(Special.Attack.Stat), IQRSpecial.Attack = IQR(Attack.Stat),\n",
    "             Mean.Special.Defense = mean(Special.Defense.Stat), Median.Special.Defense = median(Special.Defense.Stat), MinSpecial.Defense = min(Special.Defense.Stat), MaxSpecial.Defense = max(Special.Defense.Stat), IQRSpecial.Defense = IQR(Special.Defense.Stat),\n",
    "             Mean.Speed = mean(Speed.Stat), Median.Speed = median(Speed.Stat), MinSpeed = min(Speed.Stat), MaxSpeed = max(Speed.Stat), IQRSpeed = IQR(Speed.Stat),\n",
    "             Mean.Base.Stat.Total = mean(Base.Stat.Total), Median.Base.Stat.Total = median(Base.Stat.Total), MinBase.Stat.Total = min(Base.Stat.Total), MaxBase.Stat.Total = max(Base.Stat.Total), IQRBase.Stat.Total = IQR(Base.Stat.Total),\n",
    "             Mean.Experience.Yield = mean(Experience.Yield), Median.Experience.Yield = median(Experience.Yield), MinExperience.Yield = min(Experience.Yield), MaxExperience.Yield = max(Experience.Yield), IQRExperience.Yield = IQR(Experience.Yield),\n",
    "             Count = n(),\n",
    "             Type = \"Psychic\")\n",
    "\n",
    "all_leg_stats <- rbind(leg_dragon_stats, leg_steel_stats, leg_psychic_stats)\n",
    "all_leg_stats\n",
    "\n",
    "ggplot(data = all_leg_stats) +\n",
    "    geom_point(aes(x = Type, y = Mean.Health, color = \"Health\")) +\n",
    "    geom_point(aes(x = Type, y = Mean.Attack, color = \"Attack\")) +\n",
    "    geom_point(aes(x = Type, y = Mean.Defense, color = \"Defense\")) +\n",
    "    geom_point(aes(x = Type, y = Mean.Special.Attack, color = \"Special Attack\")) +\n",
    "    geom_point(aes(x = Type, y = Mean.Special.Defense, color = \"Special Defense\")) +\n",
    "    geom_point(aes(x = Type, y = Mean.Speed, color = \"Speed\")) +\n",
    "    labs(title = \"Mean Stat Values for Top Three Types\", subtitle = \"Legendary Pokemon\")+\n",
    "    ylab(label = \"\") +\n",
    "    scale_color_manual(values = c(\"Green\", \"Red\", \"Blue\", \"Pink\", \"Purple\", \"Yellow\"),\n",
    "                       breaks = c(\"Health\", \"Attack\", \"Defense\", \"Special Attack\", \"Special Defense\", \"Speed\"))\n",
    "\n",
    "ggsave(\"MeanStatsLeg.png\", width = 4, height = 5)\n",
    "\n",
    "ggplot(data = all_leg_stats) +\n",
    "    geom_point(aes(x = Type, y = Median.Health, color = \"Health\")) +\n",
    "    geom_point(aes(x = Type, y = Median.Attack, color = \"Attack\")) +\n",
    "    geom_point(aes(x = Type, y = Median.Defense, color = \"Defense\")) +\n",
    "    geom_point(aes(x = Type, y = Median.Special.Attack, color = \"Special Attack\")) +\n",
    "    geom_point(aes(x = Type, y = Median.Special.Defense, color = \"Special Defense\")) +\n",
    "    geom_point(aes(x = Type, y = Median.Speed, color = \"Speed\")) +\n",
    "    labs(title = \"Median Stat Values for Top Three Types\", subtitle = \"Legendary Pokemon\")+\n",
    "    ylab(label = \"\") +\n",
    "    scale_color_manual(values = c(\"Green\", \"Red\", \"Blue\", \"Pink\", \"Purple\", \"Yellow\"),\n",
    "                       breaks = c(\"Health\", \"Attack\", \"Defense\", \"Special Attack\", \"Special Defense\", \"Speed\"))"
   ]
  }
 ],
 "metadata": {
  "kernelspec": {
   "display_name": "R",
   "language": "R",
   "name": "ir"
  },
  "language_info": {
   "codemirror_mode": "r",
   "file_extension": ".r",
   "mimetype": "text/x-r-source",
   "name": "R",
   "pygments_lexer": "r",
   "version": "4.1.0"
  }
 },
 "nbformat": 4,
 "nbformat_minor": 5
}
