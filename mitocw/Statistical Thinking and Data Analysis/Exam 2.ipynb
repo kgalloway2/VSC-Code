{
 "cells": [
  {
   "cell_type": "code",
   "execution_count": 1,
   "id": "c2b7c128",
   "metadata": {
    "collapsed": true
   },
   "outputs": [
    {
     "name": "stderr",
     "output_type": "stream",
     "text": [
      "\n",
      "Attaching package: 'dplyr'\n",
      "\n",
      "\n",
      "The following objects are masked from 'package:stats':\n",
      "\n",
      "    filter, lag\n",
      "\n",
      "\n",
      "The following objects are masked from 'package:base':\n",
      "\n",
      "    intersect, setdiff, setequal, union\n",
      "\n",
      "\n"
     ]
    }
   ],
   "source": [
    "library(dplyr)\n",
    "library(ggplot2)"
   ]
  },
  {
   "cell_type": "code",
   "execution_count": 9,
   "id": "0e530436",
   "metadata": {},
   "outputs": [],
   "source": [
    "# problem 1\n",
    "#         Obese       Severely Obese\n",
    "# Dsucc     10              60\n",
    "# Dfail     30              20\n",
    "# Esucc     22              35\n",
    "# Efail     58              5\n",
    "\n",
    "# ob_d_rate = 0.25\n",
    "# ob_e_rate = 0.275\n",
    "# sob_d_rate = 0.75\n",
    "# sob_e_rate = 0.875\n",
    "\n",
    "# these rates indicate that diet and exercise are more \n",
    "# effective for severely obese than they are for just obese\n",
    "# also that exercie is higher for both\n",
    "\n",
    "# all_d_rate = 70 / 120 = 0.5833\n",
    "# all_e_rate = 57 / 120 = 0.475\n",
    "\n",
    "# these rates indicate that both diet and exercise are only \n",
    "# moderately effective for obese and severely obese"
   ]
  },
  {
   "cell_type": "code",
   "execution_count": 22,
   "id": "3b4f1beb",
   "metadata": {},
   "outputs": [
    {
     "data": {
      "text/html": [
       "175"
      ],
      "text/latex": [
       "175"
      ],
      "text/markdown": [
       "175"
      ],
      "text/plain": [
       "[1] 175"
      ]
     },
     "metadata": {},
     "output_type": "display_data"
    },
    {
     "data": {
      "text/html": [
       "0.0655217120889164"
      ],
      "text/latex": [
       "0.0655217120889164"
      ],
      "text/markdown": [
       "0.0655217120889164"
      ],
      "text/plain": [
       "[1] 0.06552171"
      ]
     },
     "metadata": {},
     "output_type": "display_data"
    }
   ],
   "source": [
    "# problem 2\n",
    "# not too sure how to do this one \n",
    "# but my guess is slightly less than 50%\n",
    "\n",
    "# due to symmetry mean = 100\n",
    "var <- 2*0.2*20^2 + 2*0.3*5^2\n",
    "var\n",
    "# var = 175\n",
    "\n",
    "# now p(x_bar > 102) ~~ p(Z > (102 - 100)/(sqrt(175/100)))\n",
    "#                     = 1- phi(1.51) = 0.065\n",
    "1 - pnorm(1.51)"
   ]
  },
  {
   "cell_type": "code",
   "execution_count": null,
   "id": "b10da0d2",
   "metadata": {},
   "outputs": [],
   "source": [
    "# problem 3\n",
    "\n",
    "# bias = E(theta_hat(th)) - theta(t)\n",
    "# now th = n/n+1 * t so \n",
    "# bias = n/n+1 *t - t = -1/n+1 * t\n",
    "# so bias goes to zero as the sample size increases\n",
    "\n",
    "\n",
    "# MSE(theta_hat) = bias^2 + var(theta_hat)\n",
    "\n",
    "# same process\n",
    "# mse = (-1/n+1 *t)^2 + var(n/n+1 * t)\n",
    "#     = 1/(n+1)^2*t^2 + (n/n+1)^2 * var(t) (note: var(t) = sig^2 / n)\n",
    "#     =  t^2           n * sig^2\n",
    "#       ------    +   ----------\n",
    "#       (n+1)^2        (n+1)^2"
   ]
  },
  {
   "cell_type": "code",
   "execution_count": 27,
   "id": "dbf03b02",
   "metadata": {},
   "outputs": [
    {
     "data": {
      "text/html": [
       "4.2075"
      ],
      "text/latex": [
       "4.2075"
      ],
      "text/markdown": [
       "4.2075"
      ],
      "text/plain": [
       "[1] 4.2075"
      ]
     },
     "metadata": {},
     "output_type": "display_data"
    },
    {
     "data": {
      "text/html": [
       "2.14111286150784"
      ],
      "text/latex": [
       "2.14111286150784"
      ],
      "text/markdown": [
       "2.14111286150784"
      ],
      "text/plain": [
       "[1] 2.141113"
      ]
     },
     "metadata": {},
     "output_type": "display_data"
    },
    {
     "data": {
      "text/html": [
       "8"
      ],
      "text/latex": [
       "8"
      ],
      "text/markdown": [
       "8"
      ],
      "text/plain": [
       "[1] 8"
      ]
     },
     "metadata": {},
     "output_type": "display_data"
    },
    {
     "data": {
      "text/html": [
       "2.82159617565032"
      ],
      "text/latex": [
       "2.82159617565032"
      ],
      "text/markdown": [
       "2.82159617565032"
      ],
      "text/plain": [
       "[1] 2.821596"
      ]
     },
     "metadata": {},
     "output_type": "display_data"
    },
    {
     "data": {
      "text/html": [
       "5.59340382434968"
      ],
      "text/latex": [
       "5.59340382434968"
      ],
      "text/markdown": [
       "5.59340382434968"
      ],
      "text/plain": [
       "[1] 5.593404"
      ]
     },
     "metadata": {},
     "output_type": "display_data"
    }
   ],
   "source": [
    "# problem 4\n",
    "\n",
    "weights <- c(4.45, 4.02, 5.51, 1.10, 2.62, 2.38, 5.94, 7.64)\n",
    "mu <- 0\n",
    "sig2 <- 4\n",
    "\n",
    "mean_weight <- mean(weights)\n",
    "mean_weight\n",
    "sd_weight <- sd(weights)\n",
    "sd_weight\n",
    "\n",
    "n <- length(weights)\n",
    "n\n",
    "\n",
    "alpha <- 0.05\n",
    "\n",
    "L <- mean_weight - qnorm(1 - alpha/2)*sqrt(sig2)/sqrt(n)\n",
    "U <- mean_weight + qnorm(1 - alpha/2)*sqrt(sig2)/sqrt(n)\n",
    "\n",
    "L\n",
    "U"
   ]
  },
  {
   "cell_type": "code",
   "execution_count": 40,
   "id": "15bcbe1b",
   "metadata": {},
   "outputs": [
    {
     "data": {
      "text/html": [
       "20.6"
      ],
      "text/latex": [
       "20.6"
      ],
      "text/markdown": [
       "20.6"
      ],
      "text/plain": [
       "[1] 20.6"
      ]
     },
     "metadata": {},
     "output_type": "display_data"
    },
    {
     "data": {
      "text/html": [
       "2.96910012555245"
      ],
      "text/latex": [
       "2.96910012555245"
      ],
      "text/markdown": [
       "2.96910012555245"
      ],
      "text/plain": [
       "[1] 2.9691"
      ]
     },
     "metadata": {},
     "output_type": "display_data"
    },
    {
     "data": {
      "text/html": [
       "0.0134283477537623"
      ],
      "text/latex": [
       "0.0134283477537623"
      ],
      "text/markdown": [
       "0.0134283477537623"
      ],
      "text/plain": [
       "[1] 0.01342835"
      ]
     },
     "metadata": {},
     "output_type": "display_data"
    },
    {
     "data": {
      "text/html": [
       "19.835"
      ],
      "text/latex": [
       "19.835"
      ],
      "text/markdown": [
       "19.835"
      ],
      "text/plain": [
       "[1] 19.835"
      ]
     },
     "metadata": {},
     "output_type": "display_data"
    },
    {
     "data": {
      "text/html": [
       "0.0189584339175168"
      ],
      "text/latex": [
       "0.0189584339175168"
      ],
      "text/markdown": [
       "0.0189584339175168"
      ],
      "text/plain": [
       "[1] 0.01895843"
      ]
     },
     "metadata": {},
     "output_type": "display_data"
    }
   ],
   "source": [
    "# problem 5\n",
    "\n",
    "returns <- c(20.6, 19.2, 17, 19.1, 18.7, \n",
    "            22.5, 27.2, 17.9, 22.5, 21.3)\n",
    "\n",
    "mean_return <- mean(returns)\n",
    "mean_return\n",
    "sd_return <- sd(returns)\n",
    "sd_return\n",
    "\n",
    "# if normally distributed\n",
    "# P(new_mean < found_mean) = P(Z_of_new < (found_mean - act_mean)/(sig/sqrt(n)))\n",
    "# P(new_mean < 20.6) = P(Z < (20.6 - 22)/(2/sqrt(10)))\n",
    "# so\n",
    "\n",
    "pnorm((20.6 - 22)/(2/sqrt(10)))\n",
    "\n",
    "# similarly we can assume a chi^2 dist for the standard deviations\n",
    "# P(new_sd > found_sd) = P(chi_of_new > (n - 1)found_sd^2 / sig^2)\n",
    "# P(new_sd > sd_return) = P(chi_of_new > 9 * sd_return^2 / 4)\n",
    "\n",
    "9 * (sd_return^2) / 4\n",
    "\n",
    "1 - pchisq(19.835,df=9) # 1 - it since we want > so upper right tail"
   ]
  },
  {
   "cell_type": "code",
   "execution_count": null,
   "id": "cda90ad9",
   "metadata": {},
   "outputs": [],
   "source": []
  }
 ],
 "metadata": {
  "kernelspec": {
   "display_name": "R",
   "language": "R",
   "name": "ir"
  },
  "language_info": {
   "codemirror_mode": "r",
   "file_extension": ".r",
   "mimetype": "text/x-r-source",
   "name": "R",
   "pygments_lexer": "r",
   "version": "4.1.0"
  }
 },
 "nbformat": 4,
 "nbformat_minor": 5
}
