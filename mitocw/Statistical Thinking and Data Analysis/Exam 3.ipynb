{
 "cells": [
  {
   "cell_type": "code",
   "execution_count": 15,
   "id": "b94e242d",
   "metadata": {},
   "outputs": [
    {
     "data": {
      "text/html": [
       "-2.25"
      ],
      "text/latex": [
       "-2.25"
      ],
      "text/markdown": [
       "-2.25"
      ],
      "text/plain": [
       "[1] -2.25"
      ]
     },
     "metadata": {},
     "output_type": "display_data"
    },
    {
     "data": {
      "text/html": [
       "-1.64485362695147"
      ],
      "text/latex": [
       "-1.64485362695147"
      ],
      "text/markdown": [
       "-1.64485362695147"
      ],
      "text/plain": [
       "[1] -1.644854"
      ]
     },
     "metadata": {},
     "output_type": "display_data"
    }
   ],
   "source": [
    "# problem 1\n",
    "\n",
    "mu = 20\n",
    "sig = 4\n",
    "\n",
    "samp_size = 100\n",
    "samp_mu = 19.1\n",
    "samp_sig = 4\n",
    "\n",
    "z_stat <- (19.1-20)/(4/10)\n",
    "z_stat\n",
    "\n",
    "z_a <- qnorm(0.05)\n",
    "z_a\n",
    "\n",
    "# since our z_stat is less than the z_a, we reject the null hypothesis\n",
    "# that is the two means are not equal and the new method is more effective\n"
   ]
  },
  {
   "cell_type": "code",
   "execution_count": 21,
   "id": "5ca257bb",
   "metadata": {},
   "outputs": [
    {
     "data": {
      "text/html": [
       "19.3420585492194"
      ],
      "text/latex": [
       "19.3420585492194"
      ],
      "text/markdown": [
       "19.3420585492194"
      ],
      "text/plain": [
       "[1] 19.34206"
      ]
     },
     "metadata": {},
     "output_type": "display_data"
    },
    {
     "data": {
      "text/html": [
       "0.855146373048523"
      ],
      "text/latex": [
       "0.855146373048523"
      ],
      "text/markdown": [
       "0.855146373048523"
      ],
      "text/plain": [
       "[1] 0.8551464"
      ]
     },
     "metadata": {},
     "output_type": "display_data"
    },
    {
     "data": {
      "text/html": [
       "0.803764940015493"
      ],
      "text/latex": [
       "0.803764940015493"
      ],
      "text/markdown": [
       "0.803764940015493"
      ],
      "text/plain": [
       "[1] 0.8037649"
      ]
     },
     "metadata": {},
     "output_type": "display_data"
    }
   ],
   "source": [
    "# when will the same test get the same result if the mean is 19\n",
    "# when is z_stat still less than z_a?\n",
    "# (x - 20)/(4/10) < z_a => x < 4/10 * z_a + 20\n",
    "\n",
    "x <- (4/10) * z_a + 20\n",
    "x\n",
    "z_x <- (x - 19)/(4/10)\n",
    "z_x\n",
    "\n",
    "pnorm(z_x)"
   ]
  },
  {
   "cell_type": "code",
   "execution_count": 27,
   "id": "ac06a932",
   "metadata": {},
   "outputs": [
    {
     "data": {
      "text/html": [
       "173.1856"
      ],
      "text/latex": [
       "173.1856"
      ],
      "text/markdown": [
       "173.1856"
      ],
      "text/plain": [
       "[1] 173.1856"
      ]
     },
     "metadata": {},
     "output_type": "display_data"
    }
   ],
   "source": [
    "# using formula from chp 7\n",
    "\n",
    "# n ~~ ((z_a + z_b)sig/(mu0 - mu))^2\n",
    "((1.645 + 1.645)*4/(20 - 19))^2"
   ]
  },
  {
   "cell_type": "code",
   "execution_count": 33,
   "id": "4fe4a93b",
   "metadata": {},
   "outputs": [
    {
     "data": {
      "text/html": [
       "26.6"
      ],
      "text/latex": [
       "26.6"
      ],
      "text/markdown": [
       "26.6"
      ],
      "text/plain": [
       "[1] 26.6"
      ]
     },
     "metadata": {},
     "output_type": "display_data"
    },
    {
     "data": {
      "text/html": [
       "3.20936130717624"
      ],
      "text/latex": [
       "3.20936130717624"
      ],
      "text/markdown": [
       "3.20936130717624"
      ],
      "text/plain": [
       "[1] 3.209361"
      ]
     },
     "metadata": {},
     "output_type": "display_data"
    },
    {
     "data": {
      "text/html": [
       "19.8"
      ],
      "text/latex": [
       "19.8"
      ],
      "text/markdown": [
       "19.8"
      ],
      "text/plain": [
       "[1] 19.8"
      ]
     },
     "metadata": {},
     "output_type": "display_data"
    },
    {
     "data": {
      "text/html": [
       "2.38746727726266"
      ],
      "text/latex": [
       "2.38746727726266"
      ],
      "text/markdown": [
       "2.38746727726266"
      ],
      "text/plain": [
       "[1] 2.387467"
      ]
     },
     "metadata": {},
     "output_type": "display_data"
    },
    {
     "data": {
      "text/html": [
       "6.8"
      ],
      "text/latex": [
       "6.8"
      ],
      "text/markdown": [
       "6.8"
      ],
      "text/plain": [
       "[1] 6.8"
      ]
     },
     "metadata": {},
     "output_type": "display_data"
    },
    {
     "data": {
      "text/html": [
       "27.7"
      ],
      "text/latex": [
       "27.7"
      ],
      "text/markdown": [
       "27.7"
      ],
      "text/plain": [
       "[1] 27.7"
      ]
     },
     "metadata": {},
     "output_type": "display_data"
    },
    {
     "data": {
      "text/html": [
       "5.26307894677631"
      ],
      "text/latex": [
       "5.26307894677631"
      ],
      "text/markdown": [
       "5.26307894677631"
      ],
      "text/plain": [
       "[1] 5.263079"
      ]
     },
     "metadata": {},
     "output_type": "display_data"
    },
    {
     "data": {
      "text/html": [
       "2.88904316290219"
      ],
      "text/latex": [
       "2.88904316290219"
      ],
      "text/markdown": [
       "2.88904316290219"
      ],
      "text/plain": [
       "[1] 2.889043"
      ]
     },
     "metadata": {},
     "output_type": "display_data"
    },
    {
     "data": {
      "text/html": [
       "2.13184678632665"
      ],
      "text/latex": [
       "2.13184678632665"
      ],
      "text/markdown": [
       "2.13184678632665"
      ],
      "text/plain": [
       "[1] 2.131847"
      ]
     },
     "metadata": {},
     "output_type": "display_data"
    }
   ],
   "source": [
    "# problem 2\n",
    "\n",
    "#           Pair1 Pair2 Pair3 Pair4 Pair5\n",
    "# Method1     25   30    22    27    29\n",
    "# Method2     21   20    23    18    17\n",
    "\n",
    "group1 = c(25, 30 ,22 ,27 , 29)\n",
    "group2 = c(21, 20 ,23 ,18 , 17)\n",
    "diffs = group1 - group2\n",
    "\n",
    "mean1 = mean(group1)\n",
    "mean1\n",
    "sd1 = sd(group1)\n",
    "sd1\n",
    "\n",
    "mean2 = mean(group2)\n",
    "mean2\n",
    "sd2 = sd(group2)\n",
    "sd2\n",
    "\n",
    "meandiffs = mean(diffs)\n",
    "meandiffs\n",
    "vardiffs = sd1^2 + sd2^2 -2 * cor(group1, group2) * sd1 * sd2\n",
    "vardiffs\n",
    "sddiffs = sd(diffs)\n",
    "sddiffs\n",
    "\n",
    "t_stat = (mean1 - mean2) / (sddiffs / sqrt(5))\n",
    "t_stat\n",
    "\n",
    "qt(1 - 0.05, 4)\n",
    "\n",
    "# t_stat is bigger than expected t so we reject null hypothesis\n",
    "# that is, method 1 is better than method 2"
   ]
  },
  {
   "cell_type": "code",
   "execution_count": 50,
   "id": "420611b7",
   "metadata": {},
   "outputs": [
    {
     "data": {
      "text/html": [
       "0.00049963476990504"
      ],
      "text/latex": [
       "0.00049963476990504"
      ],
      "text/markdown": [
       "0.00049963476990504"
      ],
      "text/plain": [
       "[1] 0.0004996348"
      ]
     },
     "metadata": {},
     "output_type": "display_data"
    },
    {
     "data": {
      "text/html": [
       "0.133791262900789"
      ],
      "text/latex": [
       "0.133791262900789"
      ],
      "text/markdown": [
       "0.133791262900789"
      ],
      "text/plain": [
       "[1] 0.1337913"
      ]
     },
     "metadata": {},
     "output_type": "display_data"
    },
    {
     "data": {
      "text/html": [
       "0.47591405533678"
      ],
      "text/latex": [
       "0.47591405533678"
      ],
      "text/markdown": [
       "0.47591405533678"
      ],
      "text/plain": [
       "[1] 0.4759141"
      ]
     },
     "metadata": {},
     "output_type": "display_data"
    },
    {
     "data": {
      "text/html": [
       "0.56408594466322"
      ],
      "text/latex": [
       "0.56408594466322"
      ],
      "text/markdown": [
       "0.56408594466322"
      ],
      "text/plain": [
       "[1] 0.5640859"
      ]
     },
     "metadata": {},
     "output_type": "display_data"
    }
   ],
   "source": [
    "# expect 18/37 reds on average\n",
    "# hypothesis would be that x_bar == 18/37\n",
    "\n",
    "# p-value = p(((260/500) - (18/37))/(sig / sqrt(500)))\n",
    "\n",
    "sigsq = (18/37)*(1 - (18/37))/500\n",
    "sigsq\n",
    "\n",
    "z_stat <- ((260/500) - (18/37)) / (sqrt(sigsq))\n",
    "\n",
    "# neg because symmetry and we want P(Z > 1.5)\n",
    "# 2* because it is two sided since we want to see if x_bar > or < 18/37\n",
    "2 * pnorm(-z_stat)\n",
    "\n",
    "# this is > 0.05 so we cannot reject\n",
    "\n",
    "# confidence intervals\n",
    "# x_bar - z_a/2 * sqrt(x_bar*mu/n), x_bar + z_a/2 * sqrt(x_bar*mu/n)\n",
    "\n",
    "x_bar <- 260 / 500\n",
    "mu <- 18/37\n",
    "n <- 500\n",
    "\n",
    "L <- x_bar - qnorm(1 - 0.025) * sqrt(x_bar*mu/n)\n",
    "U <- x_bar + qnorm(1 - 0.025) * sqrt(x_bar*mu/n)\n",
    "L\n",
    "U\n",
    "\n",
    "# our x_bar is in this interval so we cannot reject"
   ]
  },
  {
   "cell_type": "code",
   "execution_count": 68,
   "id": "5e4cb7d9",
   "metadata": {},
   "outputs": [
    {
     "data": {
      "text/html": [
       "99.8"
      ],
      "text/latex": [
       "99.8"
      ],
      "text/markdown": [
       "99.8"
      ],
      "text/plain": [
       "[1] 99.8"
      ]
     },
     "metadata": {},
     "output_type": "display_data"
    },
    {
     "data": {
      "text/html": [
       "3.47233968055299"
      ],
      "text/latex": [
       "3.47233968055299"
      ],
      "text/markdown": [
       "3.47233968055299"
      ],
      "text/plain": [
       "[1] 3.47234"
      ]
     },
     "metadata": {},
     "output_type": "display_data"
    },
    {
     "data": {
      "text/html": [
       "21.1"
      ],
      "text/latex": [
       "21.1"
      ],
      "text/markdown": [
       "21.1"
      ],
      "text/plain": [
       "[1] 21.1"
      ]
     },
     "metadata": {},
     "output_type": "display_data"
    },
    {
     "data": {
      "text/html": [
       "0.00362493055887403"
      ],
      "text/latex": [
       "0.00362493055887403"
      ],
      "text/markdown": [
       "0.00362493055887403"
      ],
      "text/plain": [
       "[1] 0.003624931"
      ]
     },
     "metadata": {},
     "output_type": "display_data"
    },
    {
     "data": {
      "text/html": [
       "5.2707951327132"
      ],
      "text/latex": [
       "5.2707951327132"
      ],
      "text/markdown": [
       "5.2707951327132"
      ],
      "text/plain": [
       "[1] 5.270795"
      ]
     },
     "metadata": {},
     "output_type": "display_data"
    },
    {
     "data": {
      "text/html": [
       "49.9446945154475"
      ],
      "text/latex": [
       "49.9446945154475"
      ],
      "text/markdown": [
       "49.9446945154475"
      ],
      "text/plain": [
       "[1] 49.94469"
      ]
     },
     "metadata": {},
     "output_type": "display_data"
    }
   ],
   "source": [
    "# problem 4\n",
    "mu = 0\n",
    "sig = 2\n",
    "\n",
    "weights = c(100.9, 98.2, 101.5, 102.2, 105.1, 99.4, 93.6, 97.5)\n",
    "\n",
    "mean_weight = mean(weights)\n",
    "mean_weight\n",
    "sd_weight = sd(weights)\n",
    "sd_weight\n",
    "\n",
    "# do hypothesis test with chisquared\n",
    "\n",
    "n <- 8\n",
    "\n",
    "chi_stat <- (n - 1) * sd_weight^2 / (sig^2)\n",
    "chi_stat\n",
    "\n",
    "# 1 - it, since we want P(actual > 21.1)\n",
    "1 - pchisq(chi_stat, n-1)\n",
    "\n",
    "# this is less than 0.05 so there is statistically significant\n",
    "# evidence for our belief that the variance is actually greater\n",
    "\n",
    "# so now we want a CI\n",
    "\n",
    "# want a two sided CI test for sig^2 since want to know if different from assumed\n",
    "\n",
    "n <- 8\n",
    "\n",
    "L <- (n - 1) * (sd_weight)^2 / qchisq(1 - 0.025, n-1)\n",
    "L\n",
    "U <- (n - 1) * (sd_weight)^2 / qchisq(0.025, n-1)\n",
    "U"
   ]
  },
  {
   "cell_type": "code",
   "execution_count": 77,
   "id": "846935ff",
   "metadata": {},
   "outputs": [
    {
     "data": {
      "text/html": [
       "1.28628792385485"
      ],
      "text/latex": [
       "1.28628792385485"
      ],
      "text/markdown": [
       "1.28628792385485"
      ],
      "text/plain": [
       "[1] 1.286288"
      ]
     },
     "metadata": {},
     "output_type": "display_data"
    },
    {
     "data": {
      "text/html": [
       "'want to be &gt;'"
      ],
      "text/latex": [
       "'want to be >'"
      ],
      "text/markdown": [
       "'want to be &gt;'"
      ],
      "text/plain": [
       "[1] \"want to be >\""
      ]
     },
     "metadata": {},
     "output_type": "display_data"
    },
    {
     "data": {
      "text/html": [
       "0.314574906151308"
      ],
      "text/latex": [
       "0.314574906151308"
      ],
      "text/markdown": [
       "0.314574906151308"
      ],
      "text/plain": [
       "[1] 0.3145749"
      ]
     },
     "metadata": {},
     "output_type": "display_data"
    },
    {
     "data": {
      "text/html": [
       "'want to be &lt;'"
      ],
      "text/latex": [
       "'want to be <'"
      ],
      "text/markdown": [
       "'want to be &lt;'"
      ],
      "text/plain": [
       "[1] \"want to be <\""
      ]
     },
     "metadata": {},
     "output_type": "display_data"
    },
    {
     "data": {
      "text/html": [
       "3.17889310445827"
      ],
      "text/latex": [
       "3.17889310445827"
      ],
      "text/markdown": [
       "3.17889310445827"
      ],
      "text/plain": [
       "[1] 3.178893"
      ]
     },
     "metadata": {},
     "output_type": "display_data"
    },
    {
     "data": {
      "text/html": [
       "6.91785"
      ],
      "text/latex": [
       "6.91785"
      ],
      "text/markdown": [
       "6.91785"
      ],
      "text/plain": [
       "[1] 6.91785"
      ]
     },
     "metadata": {},
     "output_type": "display_data"
    },
    {
     "data": {
      "text/html": [
       "1.31774425006139"
      ],
      "text/latex": [
       "1.31774425006139"
      ],
      "text/markdown": [
       "1.31774425006139"
      ],
      "text/plain": [
       "[1] 1.317744"
      ]
     },
     "metadata": {},
     "output_type": "display_data"
    },
    {
     "data": {
      "text/html": [
       "2.10092204024104"
      ],
      "text/latex": [
       "2.10092204024104"
      ],
      "text/markdown": [
       "2.10092204024104"
      ],
      "text/plain": [
       "[1] 2.100922"
      ]
     },
     "metadata": {},
     "output_type": "display_data"
    }
   ],
   "source": [
    "# problem 5\n",
    "\n",
    "mean1 = 22.15\n",
    "sd1 = 2.79\n",
    "mean2 = 20.6\n",
    "sd2 = 2.46\n",
    "\n",
    "F = sd1^2 / sd2^2\n",
    "F\n",
    "\n",
    "# need upper and lower alpha/2 critical points\n",
    "alpha = 0.1\n",
    "\"want to be >\" \n",
    "qf(alpha / 2, 9, 9)\n",
    "\"want to be <\" \n",
    "qf(1 - alpha / 2, 9, 9)\n",
    "# so we cannot reject the null hypothesis (they are equal)\n",
    "\n",
    "# test for equality of means with\n",
    "alpha = 0.05\n",
    "\n",
    "# we could not reject the null hypothesis for variance\n",
    "# so we assume they are equal and we use pooled variance\n",
    "# case 2b on chp 8 notes\n",
    "\n",
    "ssq = (9*sd1^2 + 9*sd2^2) / (9+9)\n",
    "ssq\n",
    "\n",
    "t_stat = (mean1 - mean2) / ((sqrt(ssq))*sqrt(2/10))\n",
    "t_stat\n",
    "\n",
    "qt(1 - alpha/2, 18)\n",
    "# since our t_stat was less than the expected, we cannot reject"
   ]
  }
 ],
 "metadata": {
  "kernelspec": {
   "display_name": "R",
   "language": "R",
   "name": "ir"
  },
  "language_info": {
   "codemirror_mode": "r",
   "file_extension": ".r",
   "mimetype": "text/x-r-source",
   "name": "R",
   "pygments_lexer": "r",
   "version": "4.1.0"
  }
 },
 "nbformat": 4,
 "nbformat_minor": 5
}
