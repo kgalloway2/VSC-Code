{
 "cells": [
  {
   "cell_type": "code",
   "execution_count": 23,
   "id": "5fe6c681",
   "metadata": {},
   "outputs": [],
   "source": [
    "library(dplyr)\n",
    "library(ggplot2)"
   ]
  },
  {
   "cell_type": "code",
   "execution_count": 17,
   "id": "f8eb7dc6",
   "metadata": {},
   "outputs": [
    {
     "data": {
      "text/html": [
       "0.46"
      ],
      "text/latex": [
       "0.46"
      ],
      "text/markdown": [
       "0.46"
      ],
      "text/plain": [
       "[1] 0.46"
      ]
     },
     "metadata": {},
     "output_type": "display_data"
    }
   ],
   "source": [
    "# exercise 1\n",
    "random_unif <- runif(100, min=0, max=2)\n",
    "# random_unif\n",
    "\n",
    "perc_greater_1 <- sum(random_unif > 1)\n",
    "perc_greater_1 / 100"
   ]
  },
  {
   "cell_type": "code",
   "execution_count": 34,
   "id": "d3e239f0",
   "metadata": {},
   "outputs": [
    {
     "name": "stdout",
     "output_type": "stream",
     "text": [
      "'data.frame':\t1000 obs. of  1 variable:\n",
      " $ norm: num  14.175 5.911 10.484 7.813 0.428 ...\n"
     ]
    },
    {
     "name": "stderr",
     "output_type": "stream",
     "text": [
      "`stat_bin()` using `bins = 30`. Pick better value with `binwidth`.\n",
      "\n"
     ]
    },
    {
     "data": {
      "text/html": [
       "8.05218094821156"
      ],
      "text/latex": [
       "8.05218094821156"
      ],
      "text/markdown": [
       "8.05218094821156"
      ],
      "text/plain": [
       "[1] 8.052181"
      ]
     },
     "metadata": {},
     "output_type": "display_data"
    },
    {
     "data": {
      "text/html": [
       "4.95397681153194"
      ],
      "text/latex": [
       "4.95397681153194"
      ],
      "text/markdown": [
       "4.95397681153194"
      ],
      "text/plain": [
       "[1] 4.953977"
      ]
     },
     "metadata": {},
     "output_type": "display_data"
    },
    {
     "data": {
      "image/png": "[encoded data removed]",
      "text/plain": [
       "plot without title"
      ]
     },
     "metadata": {
      "image/png": {
       "height": 420,
       "width": 420
      }
     },
     "output_type": "display_data"
    }
   ],
   "source": [
    "# exercise 2a\n",
    "norm <- rnorm(1000, mean=8, s=5)\n",
    "\n",
    "norm_df <- data.frame(norm)\n",
    "str(norm_df)\n",
    "ggplot(data = norm_df) +\n",
    "    geom_histogram(aes(x = norm))\n"
   ]
  },
  {
   "cell_type": "code",
   "execution_count": 35,
   "id": "afa73153",
   "metadata": {},
   "outputs": [
    {
     "data": {
      "text/html": [
       "412"
      ],
      "text/latex": [
       "412"
      ],
      "text/markdown": [
       "412"
      ],
      "text/plain": [
       "[1] 412"
      ]
     },
     "metadata": {},
     "output_type": "display_data"
    }
   ],
   "source": [
    "# exercise 2b\n",
    "sum(norm > 9)"
   ]
  },
  {
   "cell_type": "code",
   "execution_count": 36,
   "id": "e61a06ae",
   "metadata": {},
   "outputs": [
    {
     "data": {
      "text/html": [
       "8.05218094821156"
      ],
      "text/latex": [
       "8.05218094821156"
      ],
      "text/markdown": [
       "8.05218094821156"
      ],
      "text/plain": [
       "[1] 8.052181"
      ]
     },
     "metadata": {},
     "output_type": "display_data"
    },
    {
     "data": {
      "text/html": [
       "4.95397681153194"
      ],
      "text/latex": [
       "4.95397681153194"
      ],
      "text/markdown": [
       "4.95397681153194"
      ],
      "text/plain": [
       "[1] 4.953977"
      ]
     },
     "metadata": {},
     "output_type": "display_data"
    }
   ],
   "source": [
    "# exercise 2c\n",
    "mean(norm)\n",
    "sd(norm)"
   ]
  },
  {
   "cell_type": "code",
   "execution_count": 38,
   "id": "908454ab",
   "metadata": {},
   "outputs": [
    {
     "data": {
      "text/html": [
       "4.625"
      ],
      "text/latex": [
       "4.625"
      ],
      "text/markdown": [
       "4.625"
      ],
      "text/plain": [
       "[1] 4.625"
      ]
     },
     "metadata": {},
     "output_type": "display_data"
    },
    {
     "data": {
      "text/html": [
       "11.375"
      ],
      "text/latex": [
       "11.375"
      ],
      "text/markdown": [
       "11.375"
      ],
      "text/plain": [
       "[1] 11.375"
      ]
     },
     "metadata": {},
     "output_type": "display_data"
    }
   ],
   "source": [
    "# exercise 2d\n",
    "# Q1 = µ − (.675)σ and Q3 = µ + (.675)σ\n",
    "\n",
    "8 - (0.675) * 5\n",
    "8 + (0.675) * 5"
   ]
  },
  {
   "cell_type": "code",
   "execution_count": 37,
   "id": "3bfa3ed4",
   "metadata": {},
   "outputs": [
    {
     "data": {
      "text/html": [
       "<strong>25%:</strong> 4.96446902182306"
      ],
      "text/latex": [
       "\\textbf{25\\textbackslash{}\\%:} 4.96446902182306"
      ],
      "text/markdown": [
       "**25%:** 4.96446902182306"
      ],
      "text/plain": [
       "     25% \n",
       "4.964469 "
      ]
     },
     "metadata": {},
     "output_type": "display_data"
    },
    {
     "data": {
      "text/html": [
       "<strong>75%:</strong> 11.3094753228584"
      ],
      "text/latex": [
       "\\textbf{75\\textbackslash{}\\%:} 11.3094753228584"
      ],
      "text/markdown": [
       "**75%:** 11.3094753228584"
      ],
      "text/plain": [
       "     75% \n",
       "11.30948 "
      ]
     },
     "metadata": {},
     "output_type": "display_data"
    }
   ],
   "source": [
    "# exercise 2e\n",
    "quantile(norm, 0.25)\n",
    "quantile(norm, 0.75)"
   ]
  },
  {
   "cell_type": "code",
   "execution_count": 39,
   "id": "d4954679",
   "metadata": {},
   "outputs": [
    {
     "data": {
      "text/html": [
       "0.784943996733658"
      ],
      "text/latex": [
       "0.784943996733658"
      ],
      "text/markdown": [
       "0.784943996733658"
      ],
      "text/plain": [
       "[1] 0.784944"
      ]
     },
     "metadata": {},
     "output_type": "display_data"
    },
    {
     "data": {
      "text/html": [
       "0.293564901216631"
      ],
      "text/latex": [
       "0.293564901216631"
      ],
      "text/markdown": [
       "0.293564901216631"
      ],
      "text/plain": [
       "[1] 0.2935649"
      ]
     },
     "metadata": {},
     "output_type": "display_data"
    }
   ],
   "source": [
    "# exercise 2f\n",
    "pnorm(0.789)\n",
    "pnorm(-0.543)"
   ]
  },
  {
   "cell_type": "code",
   "execution_count": 41,
   "id": "86456f14",
   "metadata": {},
   "outputs": [
    {
     "data": {
      "text/html": [
       "<style>\n",
       ".list-inline {list-style: none; margin:0; padding: 0}\n",
       ".list-inline>li {display: inline-block}\n",
       ".list-inline>li:not(:last-child)::after {content: \"\\00b7\"; padding: 0 .5ex}\n",
       "</style>\n",
       "<ol class=list-inline><li>3</li><li>1</li><li>0</li><li>1</li><li>3</li><li>2</li><li>0</li><li>2</li><li>3</li><li>3</li><li>1</li><li>0</li><li>1</li><li>2</li><li>2</li><li>1</li><li>5</li><li>0</li><li>2</li><li>3</li><li>3</li><li>1</li><li>0</li><li>1</li><li>1</li><li>1</li><li>1</li><li>2</li><li>1</li><li>1</li><li>4</li><li>1</li><li>3</li><li>0</li><li>0</li><li>2</li><li>0</li><li>3</li><li>3</li><li>0</li><li>1</li><li>3</li><li>1</li><li>1</li><li>1</li><li>2</li><li>1</li><li>0</li><li>6</li><li>2</li><li>4</li><li>1</li><li>3</li><li>3</li><li>3</li><li>5</li><li>3</li><li>1</li><li>0</li><li>3</li><li>3</li><li>1</li><li>1</li><li>3</li><li>1</li><li>5</li><li>1</li><li>1</li><li>2</li><li>1</li><li>2</li><li>3</li><li>2</li><li>2</li><li>0</li><li>1</li><li>1</li><li>3</li><li>3</li><li>2</li><li>4</li><li>2</li><li>2</li><li>2</li><li>2</li><li>0</li><li>1</li><li>3</li><li>2</li><li>4</li><li>2</li><li>1</li><li>1</li><li>4</li><li>2</li><li>5</li><li>4</li><li>2</li><li>2</li><li>2</li><li>1</li><li>2</li><li>2</li><li>2</li><li>4</li><li>1</li><li>1</li><li>4</li><li>3</li><li>0</li><li>2</li><li>1</li><li>1</li><li>2</li><li>1</li><li>0</li><li>0</li><li>0</li><li>1</li><li>1</li><li>4</li><li>4</li><li>3</li><li>5</li><li>3</li><li>5</li><li>6</li><li>0</li><li>1</li><li>2</li><li>4</li><li>4</li><li>3</li><li>5</li><li>0</li><li>4</li><li>2</li><li>0</li><li>1</li><li>3</li><li>4</li><li>3</li><li>0</li><li>2</li><li>0</li><li>2</li><li>1</li><li>1</li><li>1</li><li>3</li><li>3</li><li>3</li><li>2</li><li>1</li><li>1</li><li>5</li><li>3</li><li>0</li><li>2</li><li>1</li><li>4</li><li>3</li><li>3</li><li>1</li><li>2</li><li>3</li><li>1</li><li>3</li><li>2</li><li>3</li><li>1</li><li>1</li><li>0</li><li>2</li><li>4</li><li>1</li><li>0</li><li>2</li><li>0</li><li>0</li><li>4</li><li>1</li><li>2</li><li>3</li><li>2</li><li>0</li><li>1</li><li>1</li><li>2</li><li>1</li><li>0</li><li>1</li><li>3</li><li>4</li><li>3</li><li>1</li><li>2</li><li>2</li><li>0</li><li>2</li><li>...</li><li>3</li><li>1</li><li>0</li><li>3</li><li>1</li><li>2</li><li>4</li><li>2</li><li>0</li><li>1</li><li>3</li><li>1</li><li>2</li><li>1</li><li>1</li><li>3</li><li>1</li><li>4</li><li>1</li><li>1</li><li>2</li><li>1</li><li>1</li><li>2</li><li>4</li><li>4</li><li>1</li><li>3</li><li>4</li><li>1</li><li>2</li><li>3</li><li>3</li><li>1</li><li>1</li><li>1</li><li>2</li><li>3</li><li>1</li><li>1</li><li>5</li><li>5</li><li>0</li><li>3</li><li>3</li><li>0</li><li>0</li><li>1</li><li>3</li><li>1</li><li>2</li><li>2</li><li>3</li><li>2</li><li>1</li><li>0</li><li>4</li><li>1</li><li>2</li><li>4</li><li>2</li><li>2</li><li>1</li><li>2</li><li>1</li><li>2</li><li>2</li><li>5</li><li>4</li><li>2</li><li>2</li><li>1</li><li>2</li><li>3</li><li>3</li><li>5</li><li>5</li><li>2</li><li>5</li><li>1</li><li>3</li><li>0</li><li>2</li><li>5</li><li>3</li><li>0</li><li>1</li><li>2</li><li>2</li><li>2</li><li>2</li><li>2</li><li>2</li><li>1</li><li>1</li><li>2</li><li>0</li><li>2</li><li>5</li><li>1</li><li>2</li><li>3</li><li>4</li><li>0</li><li>1</li><li>2</li><li>1</li><li>3</li><li>4</li><li>0</li><li>1</li><li>4</li><li>2</li><li>5</li><li>1</li><li>4</li><li>2</li><li>2</li><li>1</li><li>1</li><li>2</li><li>0</li><li>2</li><li>1</li><li>2</li><li>2</li><li>1</li><li>1</li><li>2</li><li>0</li><li>0</li><li>1</li><li>2</li><li>1</li><li>1</li><li>3</li><li>1</li><li>4</li><li>3</li><li>4</li><li>3</li><li>4</li><li>2</li><li>5</li><li>0</li><li>4</li><li>0</li><li>5</li><li>3</li><li>1</li><li>4</li><li>0</li><li>5</li><li>3</li><li>3</li><li>0</li><li>1</li><li>1</li><li>1</li><li>2</li><li>1</li><li>1</li><li>6</li><li>2</li><li>1</li><li>2</li><li>2</li><li>1</li><li>2</li><li>2</li><li>1</li><li>2</li><li>0</li><li>4</li><li>0</li><li>2</li><li>2</li><li>3</li><li>3</li><li>2</li><li>1</li><li>2</li><li>4</li><li>0</li><li>4</li><li>3</li><li>3</li><li>1</li><li>3</li><li>1</li><li>0</li><li>1</li><li>2</li><li>5</li><li>2</li><li>2</li><li>4</li><li>3</li><li>2</li><li>0</li></ol>\n"
      ],
      "text/latex": [
       "\\begin{enumerate*}\n",
       "\\item 3\n",
       "\\item 1\n",
       "\\item 0\n",
       "\\item 1\n",
       "\\item 3\n",
       "\\item 2\n",
       "\\item 0\n",
       "\\item 2\n",
       "\\item 3\n",
       "\\item 3\n",
       "\\item 1\n",
       "\\item 0\n",
       "\\item 1\n",
       "\\item 2\n",
       "\\item 2\n",
       "\\item 1\n",
       "\\item 5\n",
       "\\item 0\n",
       "\\item 2\n",
       "\\item 3\n",
       "\\item 3\n",
       "\\item 1\n",
       "\\item 0\n",
       "\\item 1\n",
       "\\item 1\n",
       "\\item 1\n",
       "\\item 1\n",
       "\\item 2\n",
       "\\item 1\n",
       "\\item 1\n",
       "\\item 4\n",
       "\\item 1\n",
       "\\item 3\n",
       "\\item 0\n",
       "\\item 0\n",
       "\\item 2\n",
       "\\item 0\n",
       "\\item 3\n",
       "\\item 3\n",
       "\\item 0\n",
       "\\item 1\n",
       "\\item 3\n",
       "\\item 1\n",
       "\\item 1\n",
       "\\item 1\n",
       "\\item 2\n",
       "\\item 1\n",
       "\\item 0\n",
       "\\item 6\n",
       "\\item 2\n",
       "\\item 4\n",
       "\\item 1\n",
       "\\item 3\n",
       "\\item 3\n",
       "\\item 3\n",
       "\\item 5\n",
       "\\item 3\n",
       "\\item 1\n",
       "\\item 0\n",
       "\\item 3\n",
       "\\item 3\n",
       "\\item 1\n",
       "\\item 1\n",
       "\\item 3\n",
       "\\item 1\n",
       "\\item 5\n",
       "\\item 1\n",
       "\\item 1\n",
       "\\item 2\n",
       "\\item 1\n",
       "\\item 2\n",
       "\\item 3\n",
       "\\item 2\n",
       "\\item 2\n",
       "\\item 0\n",
       "\\item 1\n",
       "\\item 1\n",
       "\\item 3\n",
       "\\item 3\n",
       "\\item 2\n",
       "\\item 4\n",
       "\\item 2\n",
       "\\item 2\n",
       "\\item 2\n",
       "\\item 2\n",
       "\\item 0\n",
       "\\item 1\n",
       "\\item 3\n",
       "\\item 2\n",
       "\\item 4\n",
       "\\item 2\n",
       "\\item 1\n",
       "\\item 1\n",
       "\\item 4\n",
       "\\item 2\n",
       "\\item 5\n",
       "\\item 4\n",
       "\\item 2\n",
       "\\item 2\n",
       "\\item 2\n",
       "\\item 1\n",
       "\\item 2\n",
       "\\item 2\n",
       "\\item 2\n",
       "\\item 4\n",
       "\\item 1\n",
       "\\item 1\n",
       "\\item 4\n",
       "\\item 3\n",
       "\\item 0\n",
       "\\item 2\n",
       "\\item 1\n",
       "\\item 1\n",
       "\\item 2\n",
       "\\item 1\n",
       "\\item 0\n",
       "\\item 0\n",
       "\\item 0\n",
       "\\item 1\n",
       "\\item 1\n",
       "\\item 4\n",
       "\\item 4\n",
       "\\item 3\n",
       "\\item 5\n",
       "\\item 3\n",
       "\\item 5\n",
       "\\item 6\n",
       "\\item 0\n",
       "\\item 1\n",
       "\\item 2\n",
       "\\item 4\n",
       "\\item 4\n",
       "\\item 3\n",
       "\\item 5\n",
       "\\item 0\n",
       "\\item 4\n",
       "\\item 2\n",
       "\\item 0\n",
       "\\item 1\n",
       "\\item 3\n",
       "\\item 4\n",
       "\\item 3\n",
       "\\item 0\n",
       "\\item 2\n",
       "\\item 0\n",
       "\\item 2\n",
       "\\item 1\n",
       "\\item 1\n",
       "\\item 1\n",
       "\\item 3\n",
       "\\item 3\n",
       "\\item 3\n",
       "\\item 2\n",
       "\\item 1\n",
       "\\item 1\n",
       "\\item 5\n",
       "\\item 3\n",
       "\\item 0\n",
       "\\item 2\n",
       "\\item 1\n",
       "\\item 4\n",
       "\\item 3\n",
       "\\item 3\n",
       "\\item 1\n",
       "\\item 2\n",
       "\\item 3\n",
       "\\item 1\n",
       "\\item 3\n",
       "\\item 2\n",
       "\\item 3\n",
       "\\item 1\n",
       "\\item 1\n",
       "\\item 0\n",
       "\\item 2\n",
       "\\item 4\n",
       "\\item 1\n",
       "\\item 0\n",
       "\\item 2\n",
       "\\item 0\n",
       "\\item 0\n",
       "\\item 4\n",
       "\\item 1\n",
       "\\item 2\n",
       "\\item 3\n",
       "\\item 2\n",
       "\\item 0\n",
       "\\item 1\n",
       "\\item 1\n",
       "\\item 2\n",
       "\\item 1\n",
       "\\item 0\n",
       "\\item 1\n",
       "\\item 3\n",
       "\\item 4\n",
       "\\item 3\n",
       "\\item 1\n",
       "\\item 2\n",
       "\\item 2\n",
       "\\item 0\n",
       "\\item 2\n",
       "\\item ...\n",
       "\\item 3\n",
       "\\item 1\n",
       "\\item 0\n",
       "\\item 3\n",
       "\\item 1\n",
       "\\item 2\n",
       "\\item 4\n",
       "\\item 2\n",
       "\\item 0\n",
       "\\item 1\n",
       "\\item 3\n",
       "\\item 1\n",
       "\\item 2\n",
       "\\item 1\n",
       "\\item 1\n",
       "\\item 3\n",
       "\\item 1\n",
       "\\item 4\n",
       "\\item 1\n",
       "\\item 1\n",
       "\\item 2\n",
       "\\item 1\n",
       "\\item 1\n",
       "\\item 2\n",
       "\\item 4\n",
       "\\item 4\n",
       "\\item 1\n",
       "\\item 3\n",
       "\\item 4\n",
       "\\item 1\n",
       "\\item 2\n",
       "\\item 3\n",
       "\\item 3\n",
       "\\item 1\n",
       "\\item 1\n",
       "\\item 1\n",
       "\\item 2\n",
       "\\item 3\n",
       "\\item 1\n",
       "\\item 1\n",
       "\\item 5\n",
       "\\item 5\n",
       "\\item 0\n",
       "\\item 3\n",
       "\\item 3\n",
       "\\item 0\n",
       "\\item 0\n",
       "\\item 1\n",
       "\\item 3\n",
       "\\item 1\n",
       "\\item 2\n",
       "\\item 2\n",
       "\\item 3\n",
       "\\item 2\n",
       "\\item 1\n",
       "\\item 0\n",
       "\\item 4\n",
       "\\item 1\n",
       "\\item 2\n",
       "\\item 4\n",
       "\\item 2\n",
       "\\item 2\n",
       "\\item 1\n",
       "\\item 2\n",
       "\\item 1\n",
       "\\item 2\n",
       "\\item 2\n",
       "\\item 5\n",
       "\\item 4\n",
       "\\item 2\n",
       "\\item 2\n",
       "\\item 1\n",
       "\\item 2\n",
       "\\item 3\n",
       "\\item 3\n",
       "\\item 5\n",
       "\\item 5\n",
       "\\item 2\n",
       "\\item 5\n",
       "\\item 1\n",
       "\\item 3\n",
       "\\item 0\n",
       "\\item 2\n",
       "\\item 5\n",
       "\\item 3\n",
       "\\item 0\n",
       "\\item 1\n",
       "\\item 2\n",
       "\\item 2\n",
       "\\item 2\n",
       "\\item 2\n",
       "\\item 2\n",
       "\\item 2\n",
       "\\item 1\n",
       "\\item 1\n",
       "\\item 2\n",
       "\\item 0\n",
       "\\item 2\n",
       "\\item 5\n",
       "\\item 1\n",
       "\\item 2\n",
       "\\item 3\n",
       "\\item 4\n",
       "\\item 0\n",
       "\\item 1\n",
       "\\item 2\n",
       "\\item 1\n",
       "\\item 3\n",
       "\\item 4\n",
       "\\item 0\n",
       "\\item 1\n",
       "\\item 4\n",
       "\\item 2\n",
       "\\item 5\n",
       "\\item 1\n",
       "\\item 4\n",
       "\\item 2\n",
       "\\item 2\n",
       "\\item 1\n",
       "\\item 1\n",
       "\\item 2\n",
       "\\item 0\n",
       "\\item 2\n",
       "\\item 1\n",
       "\\item 2\n",
       "\\item 2\n",
       "\\item 1\n",
       "\\item 1\n",
       "\\item 2\n",
       "\\item 0\n",
       "\\item 0\n",
       "\\item 1\n",
       "\\item 2\n",
       "\\item 1\n",
       "\\item 1\n",
       "\\item 3\n",
       "\\item 1\n",
       "\\item 4\n",
       "\\item 3\n",
       "\\item 4\n",
       "\\item 3\n",
       "\\item 4\n",
       "\\item 2\n",
       "\\item 5\n",
       "\\item 0\n",
       "\\item 4\n",
       "\\item 0\n",
       "\\item 5\n",
       "\\item 3\n",
       "\\item 1\n",
       "\\item 4\n",
       "\\item 0\n",
       "\\item 5\n",
       "\\item 3\n",
       "\\item 3\n",
       "\\item 0\n",
       "\\item 1\n",
       "\\item 1\n",
       "\\item 1\n",
       "\\item 2\n",
       "\\item 1\n",
       "\\item 1\n",
       "\\item 6\n",
       "\\item 2\n",
       "\\item 1\n",
       "\\item 2\n",
       "\\item 2\n",
       "\\item 1\n",
       "\\item 2\n",
       "\\item 2\n",
       "\\item 1\n",
       "\\item 2\n",
       "\\item 0\n",
       "\\item 4\n",
       "\\item 0\n",
       "\\item 2\n",
       "\\item 2\n",
       "\\item 3\n",
       "\\item 3\n",
       "\\item 2\n",
       "\\item 1\n",
       "\\item 2\n",
       "\\item 4\n",
       "\\item 0\n",
       "\\item 4\n",
       "\\item 3\n",
       "\\item 3\n",
       "\\item 1\n",
       "\\item 3\n",
       "\\item 1\n",
       "\\item 0\n",
       "\\item 1\n",
       "\\item 2\n",
       "\\item 5\n",
       "\\item 2\n",
       "\\item 2\n",
       "\\item 4\n",
       "\\item 3\n",
       "\\item 2\n",
       "\\item 0\n",
       "\\end{enumerate*}\n"
      ],
      "text/markdown": [
       "1. 3\n",
       "2. 1\n",
       "3. 0\n",
       "4. 1\n",
       "5. 3\n",
       "6. 2\n",
       "7. 0\n",
       "8. 2\n",
       "9. 3\n",
       "10. 3\n",
       "11. 1\n",
       "12. 0\n",
       "13. 1\n",
       "14. 2\n",
       "15. 2\n",
       "16. 1\n",
       "17. 5\n",
       "18. 0\n",
       "19. 2\n",
       "20. 3\n",
       "21. 3\n",
       "22. 1\n",
       "23. 0\n",
       "24. 1\n",
       "25. 1\n",
       "26. 1\n",
       "27. 1\n",
       "28. 2\n",
       "29. 1\n",
       "30. 1\n",
       "31. 4\n",
       "32. 1\n",
       "33. 3\n",
       "34. 0\n",
       "35. 0\n",
       "36. 2\n",
       "37. 0\n",
       "38. 3\n",
       "39. 3\n",
       "40. 0\n",
       "41. 1\n",
       "42. 3\n",
       "43. 1\n",
       "44. 1\n",
       "45. 1\n",
       "46. 2\n",
       "47. 1\n",
       "48. 0\n",
       "49. 6\n",
       "50. 2\n",
       "51. 4\n",
       "52. 1\n",
       "53. 3\n",
       "54. 3\n",
       "55. 3\n",
       "56. 5\n",
       "57. 3\n",
       "58. 1\n",
       "59. 0\n",
       "60. 3\n",
       "61. 3\n",
       "62. 1\n",
       "63. 1\n",
       "64. 3\n",
       "65. 1\n",
       "66. 5\n",
       "67. 1\n",
       "68. 1\n",
       "69. 2\n",
       "70. 1\n",
       "71. 2\n",
       "72. 3\n",
       "73. 2\n",
       "74. 2\n",
       "75. 0\n",
       "76. 1\n",
       "77. 1\n",
       "78. 3\n",
       "79. 3\n",
       "80. 2\n",
       "81. 4\n",
       "82. 2\n",
       "83. 2\n",
       "84. 2\n",
       "85. 2\n",
       "86. 0\n",
       "87. 1\n",
       "88. 3\n",
       "89. 2\n",
       "90. 4\n",
       "91. 2\n",
       "92. 1\n",
       "93. 1\n",
       "94. 4\n",
       "95. 2\n",
       "96. 5\n",
       "97. 4\n",
       "98. 2\n",
       "99. 2\n",
       "100. 2\n",
       "101. 1\n",
       "102. 2\n",
       "103. 2\n",
       "104. 2\n",
       "105. 4\n",
       "106. 1\n",
       "107. 1\n",
       "108. 4\n",
       "109. 3\n",
       "110. 0\n",
       "111. 2\n",
       "112. 1\n",
       "113. 1\n",
       "114. 2\n",
       "115. 1\n",
       "116. 0\n",
       "117. 0\n",
       "118. 0\n",
       "119. 1\n",
       "120. 1\n",
       "121. 4\n",
       "122. 4\n",
       "123. 3\n",
       "124. 5\n",
       "125. 3\n",
       "126. 5\n",
       "127. 6\n",
       "128. 0\n",
       "129. 1\n",
       "130. 2\n",
       "131. 4\n",
       "132. 4\n",
       "133. 3\n",
       "134. 5\n",
       "135. 0\n",
       "136. 4\n",
       "137. 2\n",
       "138. 0\n",
       "139. 1\n",
       "140. 3\n",
       "141. 4\n",
       "142. 3\n",
       "143. 0\n",
       "144. 2\n",
       "145. 0\n",
       "146. 2\n",
       "147. 1\n",
       "148. 1\n",
       "149. 1\n",
       "150. 3\n",
       "151. 3\n",
       "152. 3\n",
       "153. 2\n",
       "154. 1\n",
       "155. 1\n",
       "156. 5\n",
       "157. 3\n",
       "158. 0\n",
       "159. 2\n",
       "160. 1\n",
       "161. 4\n",
       "162. 3\n",
       "163. 3\n",
       "164. 1\n",
       "165. 2\n",
       "166. 3\n",
       "167. 1\n",
       "168. 3\n",
       "169. 2\n",
       "170. 3\n",
       "171. 1\n",
       "172. 1\n",
       "173. 0\n",
       "174. 2\n",
       "175. 4\n",
       "176. 1\n",
       "177. 0\n",
       "178. 2\n",
       "179. 0\n",
       "180. 0\n",
       "181. 4\n",
       "182. 1\n",
       "183. 2\n",
       "184. 3\n",
       "185. 2\n",
       "186. 0\n",
       "187. 1\n",
       "188. 1\n",
       "189. 2\n",
       "190. 1\n",
       "191. 0\n",
       "192. 1\n",
       "193. 3\n",
       "194. 4\n",
       "195. 3\n",
       "196. 1\n",
       "197. 2\n",
       "198. 2\n",
       "199. 0\n",
       "200. 2\n",
       "201. ...\n",
       "202. 3\n",
       "203. 1\n",
       "204. 0\n",
       "205. 3\n",
       "206. 1\n",
       "207. 2\n",
       "208. 4\n",
       "209. 2\n",
       "210. 0\n",
       "211. 1\n",
       "212. 3\n",
       "213. 1\n",
       "214. 2\n",
       "215. 1\n",
       "216. 1\n",
       "217. 3\n",
       "218. 1\n",
       "219. 4\n",
       "220. 1\n",
       "221. 1\n",
       "222. 2\n",
       "223. 1\n",
       "224. 1\n",
       "225. 2\n",
       "226. 4\n",
       "227. 4\n",
       "228. 1\n",
       "229. 3\n",
       "230. 4\n",
       "231. 1\n",
       "232. 2\n",
       "233. 3\n",
       "234. 3\n",
       "235. 1\n",
       "236. 1\n",
       "237. 1\n",
       "238. 2\n",
       "239. 3\n",
       "240. 1\n",
       "241. 1\n",
       "242. 5\n",
       "243. 5\n",
       "244. 0\n",
       "245. 3\n",
       "246. 3\n",
       "247. 0\n",
       "248. 0\n",
       "249. 1\n",
       "250. 3\n",
       "251. 1\n",
       "252. 2\n",
       "253. 2\n",
       "254. 3\n",
       "255. 2\n",
       "256. 1\n",
       "257. 0\n",
       "258. 4\n",
       "259. 1\n",
       "260. 2\n",
       "261. 4\n",
       "262. 2\n",
       "263. 2\n",
       "264. 1\n",
       "265. 2\n",
       "266. 1\n",
       "267. 2\n",
       "268. 2\n",
       "269. 5\n",
       "270. 4\n",
       "271. 2\n",
       "272. 2\n",
       "273. 1\n",
       "274. 2\n",
       "275. 3\n",
       "276. 3\n",
       "277. 5\n",
       "278. 5\n",
       "279. 2\n",
       "280. 5\n",
       "281. 1\n",
       "282. 3\n",
       "283. 0\n",
       "284. 2\n",
       "285. 5\n",
       "286. 3\n",
       "287. 0\n",
       "288. 1\n",
       "289. 2\n",
       "290. 2\n",
       "291. 2\n",
       "292. 2\n",
       "293. 2\n",
       "294. 2\n",
       "295. 1\n",
       "296. 1\n",
       "297. 2\n",
       "298. 0\n",
       "299. 2\n",
       "300. 5\n",
       "301. 1\n",
       "302. 2\n",
       "303. 3\n",
       "304. 4\n",
       "305. 0\n",
       "306. 1\n",
       "307. 2\n",
       "308. 1\n",
       "309. 3\n",
       "310. 4\n",
       "311. 0\n",
       "312. 1\n",
       "313. 4\n",
       "314. 2\n",
       "315. 5\n",
       "316. 1\n",
       "317. 4\n",
       "318. 2\n",
       "319. 2\n",
       "320. 1\n",
       "321. 1\n",
       "322. 2\n",
       "323. 0\n",
       "324. 2\n",
       "325. 1\n",
       "326. 2\n",
       "327. 2\n",
       "328. 1\n",
       "329. 1\n",
       "330. 2\n",
       "331. 0\n",
       "332. 0\n",
       "333. 1\n",
       "334. 2\n",
       "335. 1\n",
       "336. 1\n",
       "337. 3\n",
       "338. 1\n",
       "339. 4\n",
       "340. 3\n",
       "341. 4\n",
       "342. 3\n",
       "343. 4\n",
       "344. 2\n",
       "345. 5\n",
       "346. 0\n",
       "347. 4\n",
       "348. 0\n",
       "349. 5\n",
       "350. 3\n",
       "351. 1\n",
       "352. 4\n",
       "353. 0\n",
       "354. 5\n",
       "355. 3\n",
       "356. 3\n",
       "357. 0\n",
       "358. 1\n",
       "359. 1\n",
       "360. 1\n",
       "361. 2\n",
       "362. 1\n",
       "363. 1\n",
       "364. 6\n",
       "365. 2\n",
       "366. 1\n",
       "367. 2\n",
       "368. 2\n",
       "369. 1\n",
       "370. 2\n",
       "371. 2\n",
       "372. 1\n",
       "373. 2\n",
       "374. 0\n",
       "375. 4\n",
       "376. 0\n",
       "377. 2\n",
       "378. 2\n",
       "379. 3\n",
       "380. 3\n",
       "381. 2\n",
       "382. 1\n",
       "383. 2\n",
       "384. 4\n",
       "385. 0\n",
       "386. 4\n",
       "387. 3\n",
       "388. 3\n",
       "389. 1\n",
       "390. 3\n",
       "391. 1\n",
       "392. 0\n",
       "393. 1\n",
       "394. 2\n",
       "395. 5\n",
       "396. 2\n",
       "397. 2\n",
       "398. 4\n",
       "399. 3\n",
       "400. 2\n",
       "401. 0\n",
       "\n",
       "\n"
      ],
      "text/plain": [
       "   [1] 3 1 0 1 3 2 0 2 3 3 1 0 1 2 2 1 5 0 2 3 3 1 0 1 1 1 1 2 1 1 4 1 3 0 0 2 0\n",
       "  [38] 3 3 0 1 3 1 1 1 2 1 0 6 2 4 1 3 3 3 5 3 1 0 3 3 1 1 3 1 5 1 1 2 1 2 3 2 2\n",
       "  [75] 0 1 1 3 3 2 4 2 2 2 2 0 1 3 2 4 2 1 1 4 2 5 4 2 2 2 1 2 2 2 4 1 1 4 3 0 2\n",
       " [112] 1 1 2 1 0 0 0 1 1 4 4 3 5 3 5 6 0 1 2 4 4 3 5 0 4 2 0 1 3 4 3 0 2 0 2 1 1\n",
       " [149] 1 3 3 3 2 1 1 5 3 0 2 1 4 3 3 1 2 3 1 3 2 3 1 1 0 2 4 1 0 2 0 0 4 1 2 3 2\n",
       " [186] 0 1 1 2 1 0 1 3 4 3 1 2 2 0 2 0 2 2 0 1 1 2 2 1 1 3 2 3 5 0 3 3 3 7 0 3 3\n",
       " [223] 0 3 3 5 3 1 2 0 1 3 3 4 1 2 2 2 3 3 1 1 2 1 2 2 3 4 1 6 1 0 1 2 0 3 1 0 2\n",
       " [260] 5 3 5 5 0 5 1 4 1 1 4 1 0 3 1 2 0 2 3 1 1 2 3 5 3 0 2 2 2 3 1 1 2 3 1 3 3\n",
       " [297] 1 3 2 0 3 2 1 3 2 2 0 3 1 0 5 2 2 3 0 2 3 2 3 2 3 3 3 1 0 0 1 1 5 3 2 2 4\n",
       " [334] 1 2 3 3 1 4 2 1 3 2 3 2 3 1 3 1 3 2 5 1 1 2 2 1 2 1 1 0 2 1 3 1 0 1 0 0 8\n",
       " [371] 0 3 3 5 3 4 2 2 2 3 1 1 0 1 2 0 4 2 5 3 3 1 2 0 3 4 2 2 1 1 2 4 1 0 1 1 1\n",
       " [408] 1 1 0 1 3 3 2 2 2 3 2 3 1 2 0 1 8 4 2 2 0 2 4 3 2 1 3 3 2 2 1 2 2 3 1 2 1\n",
       " [445] 3 3 2 3 1 2 2 2 1 1 3 2 0 1 1 4 1 1 3 2 1 4 2 4 3 2 3 4 0 0 1 1 0 4 0 1 0\n",
       " [482] 0 2 3 4 1 1 1 4 5 0 1 3 1 1 2 3 0 0 2 2 3 3 6 3 3 1 1 0 2 4 3 1 0 4 2 1 1\n",
       " [519] 2 1 1 3 1 3 2 2 3 0 1 4 4 3 2 2 2 2 0 2 3 2 2 3 4 1 2 3 2 2 2 1 4 2 2 2 0\n",
       " [556] 2 4 4 1 1 2 0 2 1 1 2 5 2 6 1 4 0 0 2 2 1 3 0 2 1 3 1 2 2 4 5 0 3 1 0 1 1\n",
       " [593] 6 2 3 1 4 1 1 1 3 1 3 4 0 1 0 3 0 1 3 0 3 2 1 0 4 0 1 0 1 2 3 2 3 1 3 1 2\n",
       " [630] 4 1 1 5 3 1 2 2 1 2 0 0 1 1 0 2 2 2 1 4 4 2 2 3 3 3 1 2 5 3 1 4 2 1 2 1 0\n",
       " [667] 1 2 0 2 1 3 1 4 1 4 3 1 4 2 5 5 1 2 1 0 2 1 3 3 0 0 2 3 9 3 5 0 0 1 2 1 1\n",
       " [704] 0 3 4 0 1 3 1 2 2 1 2 1 0 1 3 2 2 1 0 2 5 2 0 1 7 1 2 6 1 3 0 0 3 4 0 4 1\n",
       " [741] 3 2 3 2 2 2 1 2 1 0 1 1 4 2 3 4 0 3 1 3 3 4 1 1 3 0 1 3 2 3 1 1 2 2 2 4 3\n",
       " [778] 4 1 0 3 2 0 0 3 0 1 2 2 4 3 4 5 3 0 3 1 3 3 2 3 1 0 3 1 2 4 2 0 1 3 1 2 1\n",
       " [815] 1 3 1 4 1 1 2 1 1 2 4 4 1 3 4 1 2 3 3 1 1 1 2 3 1 1 5 5 0 3 3 0 0 1 3 1 2\n",
       " [852] 2 3 2 1 0 4 1 2 4 2 2 1 2 1 2 2 5 4 2 2 1 2 3 3 5 5 2 5 1 3 0 2 5 3 0 1 2\n",
       " [889] 2 2 2 2 2 1 1 2 0 2 5 1 2 3 4 0 1 2 1 3 4 0 1 4 2 5 1 4 2 2 1 1 2 0 2 1 2\n",
       " [926] 2 1 1 2 0 0 1 2 1 1 3 1 4 3 4 3 4 2 5 0 4 0 5 3 1 4 0 5 3 3 0 1 1 1 2 1 1\n",
       " [963] 6 2 1 2 2 1 2 2 1 2 0 4 0 2 2 3 3 2 1 2 4 0 4 3 3 1 3 1 0 1 2 5 2 2 4 3 2\n",
       "[1000] 0"
      ]
     },
     "metadata": {},
     "output_type": "display_data"
    }
   ],
   "source": [
    "# exercise 3a\n",
    "poisson <- rpois(1000, 2)\n",
    "poisson"
   ]
  },
  {
   "cell_type": "code",
   "execution_count": 50,
   "id": "638cfcf9",
   "metadata": {},
   "outputs": [
    {
     "data": {
      "image/png": "[encoded data removed]",
      "text/plain": [
       "plot without title"
      ]
     },
     "metadata": {
      "image/png": {
       "height": 420,
       "width": 420
      }
     },
     "output_type": "display_data"
    }
   ],
   "source": [
    "# exercise 3b\n",
    "\n",
    "poisson_df <- data.frame(poisson)\n",
    "\n",
    "ggplot(data = poisson_df) +\n",
    "    geom_histogram(aes(x = poisson), bins = 20) +\n",
    "    scale_x_continuous(breaks = seq(0, 10, 1))"
   ]
  },
  {
   "cell_type": "code",
   "execution_count": 54,
   "id": "22ef7412",
   "metadata": {},
   "outputs": [
    {
     "data": {
      "image/png": "[encoded data removed]",
      "text/plain": [
       "plot without title"
      ]
     },
     "metadata": {
      "image/png": {
       "height": 420,
       "width": 420
      }
     },
     "output_type": "display_data"
    }
   ],
   "source": [
    "# exercise 4\n",
    "# Answer questions (a) – (c) from 4.36 in your textbook.\n",
    "year <- c(1973:1982)\n",
    "snowfall <- c(45, 59, 82, 80, 71, 60, 55, 69, 79, 95)\n",
    "unemployment <- c(4.9, 5.6, 8.5, 7.7, 7.1, 6.1, 5.8, 7.1, 7.6, 9.7)\n",
    "\n",
    "df4 <- data.frame(year, snowfall, unemployment)\n",
    "\n",
    "ggplot(data = df4) +\n",
    "    geom_point(aes(x = snowfall, y = unemployment))\n",
    "\n",
    "# a. a positive linear relationship is indicated by the scatterplot"
   ]
  },
  {
   "cell_type": "code",
   "execution_count": 55,
   "id": "85152dc8",
   "metadata": {},
   "outputs": [
    {
     "data": {
      "text/html": [
       "0.98351781910433"
      ],
      "text/latex": [
       "0.98351781910433"
      ],
      "text/markdown": [
       "0.98351781910433"
      ],
      "text/plain": [
       "[1] 0.9835178"
      ]
     },
     "metadata": {},
     "output_type": "display_data"
    }
   ],
   "source": [
    "# b. yes! a very strong linear relationship exists between these two\n",
    "cor(df4$snowfall, df4$unemployment)"
   ]
  },
  {
   "cell_type": "code",
   "execution_count": null,
   "id": "7fa4201d",
   "metadata": {},
   "outputs": [],
   "source": [
    "# c. not necessarily. More data would be needed, as well as an\n",
    "# investigation into the presence of any lurking/hidden variables"
   ]
  },
  {
   "cell_type": "code",
   "execution_count": 57,
   "id": "cd86c558",
   "metadata": {},
   "outputs": [
    {
     "data": {
      "text/html": [
       "<table class=\"dataframe\">\n",
       "<caption>A data.frame: 12 × 3</caption>\n",
       "<thead>\n",
       "\t<tr><th scope=col>month</th><th scope=col>cpi_1997</th><th scope=col>cpi_1998</th></tr>\n",
       "\t<tr><th scope=col>&lt;chr&gt;</th><th scope=col>&lt;dbl&gt;</th><th scope=col>&lt;dbl&gt;</th></tr>\n",
       "</thead>\n",
       "<tbody>\n",
       "\t<tr><td>January  </td><td>159.1</td><td>161.6</td></tr>\n",
       "\t<tr><td>February </td><td>159.6</td><td>161.9</td></tr>\n",
       "\t<tr><td>March    </td><td>160.0</td><td>162.2</td></tr>\n",
       "\t<tr><td>April    </td><td>160.2</td><td>162.5</td></tr>\n",
       "\t<tr><td>May      </td><td>160.1</td><td>162.8</td></tr>\n",
       "\t<tr><td>June     </td><td>160.3</td><td>163.0</td></tr>\n",
       "\t<tr><td>July     </td><td>160.5</td><td>163.2</td></tr>\n",
       "\t<tr><td>August   </td><td>160.8</td><td>163.4</td></tr>\n",
       "\t<tr><td>September</td><td>161.2</td><td>163.6</td></tr>\n",
       "\t<tr><td>October  </td><td>161.6</td><td>164.0</td></tr>\n",
       "\t<tr><td>November </td><td>161.5</td><td>164.0</td></tr>\n",
       "\t<tr><td>December </td><td>161.3</td><td>163.9</td></tr>\n",
       "</tbody>\n",
       "</table>\n"
      ],
      "text/latex": [
       "A data.frame: 12 × 3\n",
       "\\begin{tabular}{lll}\n",
       " month & cpi\\_1997 & cpi\\_1998\\\\\n",
       " <chr> & <dbl> & <dbl>\\\\\n",
       "\\hline\n",
       "\t January   & 159.1 & 161.6\\\\\n",
       "\t February  & 159.6 & 161.9\\\\\n",
       "\t March     & 160.0 & 162.2\\\\\n",
       "\t April     & 160.2 & 162.5\\\\\n",
       "\t May       & 160.1 & 162.8\\\\\n",
       "\t June      & 160.3 & 163.0\\\\\n",
       "\t July      & 160.5 & 163.2\\\\\n",
       "\t August    & 160.8 & 163.4\\\\\n",
       "\t September & 161.2 & 163.6\\\\\n",
       "\t October   & 161.6 & 164.0\\\\\n",
       "\t November  & 161.5 & 164.0\\\\\n",
       "\t December  & 161.3 & 163.9\\\\\n",
       "\\end{tabular}\n"
      ],
      "text/markdown": [
       "\n",
       "A data.frame: 12 × 3\n",
       "\n",
       "| month &lt;chr&gt; | cpi_1997 &lt;dbl&gt; | cpi_1998 &lt;dbl&gt; |\n",
       "|---|---|---|\n",
       "| January   | 159.1 | 161.6 |\n",
       "| February  | 159.6 | 161.9 |\n",
       "| March     | 160.0 | 162.2 |\n",
       "| April     | 160.2 | 162.5 |\n",
       "| May       | 160.1 | 162.8 |\n",
       "| June      | 160.3 | 163.0 |\n",
       "| July      | 160.5 | 163.2 |\n",
       "| August    | 160.8 | 163.4 |\n",
       "| September | 161.2 | 163.6 |\n",
       "| October   | 161.6 | 164.0 |\n",
       "| November  | 161.5 | 164.0 |\n",
       "| December  | 161.3 | 163.9 |\n",
       "\n"
      ],
      "text/plain": [
       "   month     cpi_1997 cpi_1998\n",
       "1  January   159.1    161.6   \n",
       "2  February  159.6    161.9   \n",
       "3  March     160.0    162.2   \n",
       "4  April     160.2    162.5   \n",
       "5  May       160.1    162.8   \n",
       "6  June      160.3    163.0   \n",
       "7  July      160.5    163.2   \n",
       "8  August    160.8    163.4   \n",
       "9  September 161.2    163.6   \n",
       "10 October   161.6    164.0   \n",
       "11 November  161.5    164.0   \n",
       "12 December  161.3    163.9   "
      ]
     },
     "metadata": {},
     "output_type": "display_data"
    }
   ],
   "source": [
    "# exercise 5\n",
    "# Answer questions (a) – (d) from 4.44 in your textbook.\n",
    "\n",
    "month = c(\"January\", \"February\", \"March\", \"April\", \"May\", \"June\", \"July\", \"August\", \"September\", \"October\", \"November\", \"December\")\n",
    "cpi_1997 = c(159.1, 159.6, 160.0, 160.2, 160.1, 160.3, 160.5, 160.8, 161.2, 161.6, 161.5, 161.3)\n",
    "cpi_1998 = c(161.6, 161.9, 162.2, 162.5, 162.8, 163.0, 163.2, 163.4, 163.6, 164.0, 164.0, 163.9)\n",
    "\n",
    "df5 <- data.frame(month, cpi_1997, cpi_1998)\n",
    "df5"
   ]
  },
  {
   "cell_type": "code",
   "execution_count": 64,
   "id": "8a848626",
   "metadata": {},
   "outputs": [
    {
     "data": {
      "image/png": "[encoded data removed]",
      "text/plain": [
       "plot without title"
      ]
     },
     "metadata": {
      "image/png": {
       "height": 420,
       "width": 420
      }
     },
     "output_type": "display_data"
    },
    {
     "data": {
      "image/png": "[encoded data removed]",
      "text/plain": [
       "plot without title"
      ]
     },
     "metadata": {
      "image/png": {
       "height": 420,
       "width": 420
      }
     },
     "output_type": "display_data"
    }
   ],
   "source": [
    "# a. \n",
    "ggplot(data = df5, aes(x = factor(month, levels = c(\"January\", \"February\", \"March\", \"April\", \"May\", \"June\", \"July\", \"August\", \"September\", \"October\", \"November\", \"December\")))) +\n",
    "    geom_line(aes(y = cpi_1997, group = 1))\n",
    "ggplot(data = df5, aes(x = factor(month, levels = c(\"January\", \"February\", \"March\", \"April\", \"May\", \"June\", \"July\", \"August\", \"September\", \"October\", \"November\", \"December\")))) +\n",
    "    geom_line(aes(y = cpi_1998, group = 1))"
   ]
  },
  {
   "cell_type": "code",
   "execution_count": 71,
   "id": "55572853",
   "metadata": {},
   "outputs": [
    {
     "data": {
      "image/png": "[encoded data removed]",
      "text/plain": [
       "plot without title"
      ]
     },
     "metadata": {
      "image/png": {
       "height": 420,
       "width": 420
      }
     },
     "output_type": "display_data"
    }
   ],
   "source": [
    "# what if we rework the data?\n",
    "month = c(\"January\", \"February\", \"March\", \"April\", \"May\", \"June\", \"July\", \"August\", \"September\", \"October\", \"November\", \"December\", \"January\", \"February\", \"March\", \"April\", \"May\", \"June\", \"July\", \"August\", \"September\", \"October\", \"November\", \"December\")\n",
    "year = c(1997, 1997, 1997, 1997, 1997, 1997, 1997, 1997, 1997, 1997, 1997, 1997, 1998, 1998, 1998, 1998, 1998, 1998, 1998, 1998, 1998, 1998, 1998, 1998)\n",
    "cpi = c(159.1, 159.6, 160.0, 160.2, 160.1, 160.3, 160.5, 160.8, 161.2, 161.6, 161.5, 161.3, 161.6, 161.9, 162.2, 162.5, 162.8, 163.0, 163.2, 163.4, 163.6, 164.0, 164.0, 163.9)\n",
    "\n",
    "df5a <- data.frame(month, year, cpi)\n",
    "\n",
    "ggplot(data = df5a, aes(x = factor(month, levels = c(\"January\", \"February\", \"March\", \"April\", \"May\", \"June\", \"July\", \"August\", \"September\", \"October\", \"November\", \"December\")))) +\n",
    "    geom_line(aes(y = cpi, group = 1)) +\n",
    "    facet_wrap(~year)\n",
    "\n",
    "# a. the time series appears to be increasing over time"
   ]
  },
  {
   "cell_type": "code",
   "execution_count": 93,
   "id": "d6ea1e9d",
   "metadata": {},
   "outputs": [
    {
     "data": {
      "text/html": [
       "<style>\n",
       ".list-inline {list-style: none; margin:0; padding: 0}\n",
       ".list-inline>li {display: inline-block}\n",
       ".list-inline>li:not(:last-child)::after {content: \"\\00b7\"; padding: 0 .5ex}\n",
       "</style>\n",
       "<ol class=list-inline><li>159.1</li><li>159.35</li><li>159.566666666667</li><li>159.933333333333</li><li>160.1</li><li>160.2</li><li>160.3</li><li>160.533333333333</li><li>160.833333333333</li><li>161.2</li><li>161.433333333333</li><li>161.466666666667</li><li>161.466666666667</li><li>161.6</li><li>161.9</li><li>162.2</li><li>162.5</li><li>162.766666666667</li><li>163</li><li>163.2</li><li>163.4</li><li>163.666666666667</li><li>163.866666666667</li></ol>\n"
      ],
      "text/latex": [
       "\\begin{enumerate*}\n",
       "\\item 159.1\n",
       "\\item 159.35\n",
       "\\item 159.566666666667\n",
       "\\item 159.933333333333\n",
       "\\item 160.1\n",
       "\\item 160.2\n",
       "\\item 160.3\n",
       "\\item 160.533333333333\n",
       "\\item 160.833333333333\n",
       "\\item 161.2\n",
       "\\item 161.433333333333\n",
       "\\item 161.466666666667\n",
       "\\item 161.466666666667\n",
       "\\item 161.6\n",
       "\\item 161.9\n",
       "\\item 162.2\n",
       "\\item 162.5\n",
       "\\item 162.766666666667\n",
       "\\item 163\n",
       "\\item 163.2\n",
       "\\item 163.4\n",
       "\\item 163.666666666667\n",
       "\\item 163.866666666667\n",
       "\\end{enumerate*}\n"
      ],
      "text/markdown": [
       "1. 159.1\n",
       "2. 159.35\n",
       "3. 159.566666666667\n",
       "4. 159.933333333333\n",
       "5. 160.1\n",
       "6. 160.2\n",
       "7. 160.3\n",
       "8. 160.533333333333\n",
       "9. 160.833333333333\n",
       "10. 161.2\n",
       "11. 161.433333333333\n",
       "12. 161.466666666667\n",
       "13. 161.466666666667\n",
       "14. 161.6\n",
       "15. 161.9\n",
       "16. 162.2\n",
       "17. 162.5\n",
       "18. 162.766666666667\n",
       "19. 163\n",
       "20. 163.2\n",
       "21. 163.4\n",
       "22. 163.666666666667\n",
       "23. 163.866666666667\n",
       "\n",
       "\n"
      ],
      "text/plain": [
       " [1] 159.1000 159.3500 159.5667 159.9333 160.1000 160.2000 160.3000 160.5333\n",
       " [9] 160.8333 161.2000 161.4333 161.4667 161.4667 161.6000 161.9000 162.2000\n",
       "[17] 162.5000 162.7667 163.0000 163.2000 163.4000 163.6667 163.8667"
      ]
     },
     "metadata": {},
     "output_type": "display_data"
    },
    {
     "data": {
      "text/html": [
       "<style>\n",
       ".list-inline {list-style: none; margin:0; padding: 0}\n",
       ".list-inline>li {display: inline-block}\n",
       ".list-inline>li:not(:last-child)::after {content: \"\\00b7\"; padding: 0 .5ex}\n",
       "</style>\n",
       "<ol class=list-inline><li>0.5</li><li>0.650000000000006</li><li>0.633333333333326</li><li>0.166666666666657</li><li>0.200000000000017</li><li>0.300000000000011</li><li>0.5</li><li>0.666666666666657</li><li>0.766666666666652</li><li>0.300000000000011</li><li>-0.133333333333326</li><li>0.133333333333326</li><li>0.433333333333337</li><li>0.599999999999994</li><li>0.599999999999994</li><li>0.600000000000023</li><li>0.5</li><li>0.433333333333309</li><li>0.400000000000006</li><li>0.400000000000006</li><li>0.599999999999994</li><li>0.333333333333343</li></ol>\n"
      ],
      "text/latex": [
       "\\begin{enumerate*}\n",
       "\\item 0.5\n",
       "\\item 0.650000000000006\n",
       "\\item 0.633333333333326\n",
       "\\item 0.166666666666657\n",
       "\\item 0.200000000000017\n",
       "\\item 0.300000000000011\n",
       "\\item 0.5\n",
       "\\item 0.666666666666657\n",
       "\\item 0.766666666666652\n",
       "\\item 0.300000000000011\n",
       "\\item -0.133333333333326\n",
       "\\item 0.133333333333326\n",
       "\\item 0.433333333333337\n",
       "\\item 0.599999999999994\n",
       "\\item 0.599999999999994\n",
       "\\item 0.600000000000023\n",
       "\\item 0.5\n",
       "\\item 0.433333333333309\n",
       "\\item 0.400000000000006\n",
       "\\item 0.400000000000006\n",
       "\\item 0.599999999999994\n",
       "\\item 0.333333333333343\n",
       "\\end{enumerate*}\n"
      ],
      "text/markdown": [
       "1. 0.5\n",
       "2. 0.650000000000006\n",
       "3. 0.633333333333326\n",
       "4. 0.166666666666657\n",
       "5. 0.200000000000017\n",
       "6. 0.300000000000011\n",
       "7. 0.5\n",
       "8. 0.666666666666657\n",
       "9. 0.766666666666652\n",
       "10. 0.300000000000011\n",
       "11. -0.133333333333326\n",
       "12. 0.133333333333326\n",
       "13. 0.433333333333337\n",
       "14. 0.599999999999994\n",
       "15. 0.599999999999994\n",
       "16. 0.600000000000023\n",
       "17. 0.5\n",
       "18. 0.433333333333309\n",
       "19. 0.400000000000006\n",
       "20. 0.400000000000006\n",
       "21. 0.599999999999994\n",
       "22. 0.333333333333343\n",
       "\n",
       "\n"
      ],
      "text/plain": [
       " [1]  0.5000000  0.6500000  0.6333333  0.1666667  0.2000000  0.3000000\n",
       " [7]  0.5000000  0.6666667  0.7666667  0.3000000 -0.1333333  0.1333333\n",
       "[13]  0.4333333  0.6000000  0.6000000  0.6000000  0.5000000  0.4333333\n",
       "[19]  0.4000000  0.4000000  0.6000000  0.3333333"
      ]
     },
     "metadata": {},
     "output_type": "display_data"
    },
    {
     "data": {
      "text/html": [
       "22"
      ],
      "text/latex": [
       "22"
      ],
      "text/markdown": [
       "22"
      ],
      "text/plain": [
       "[1] 22"
      ]
     },
     "metadata": {},
     "output_type": "display_data"
    },
    {
     "data": {
      "text/html": [
       "9.68457344296298e-05"
      ],
      "text/latex": [
       "9.68457344296298e-05"
      ],
      "text/markdown": [
       "9.68457344296298e-05"
      ],
      "text/plain": [
       "[1] 9.684573e-05"
      ]
     },
     "metadata": {},
     "output_type": "display_data"
    }
   ],
   "source": [
    "# b. \n",
    "\n",
    "roll_mean = c(mean(cpi[1]), mean(cpi[1:2]))\n",
    "errors = c(cpi[2] - roll_mean[1])\n",
    "\n",
    "for (i in 1:21) {\n",
    "    roll_mean <- append(roll_mean, mean(cpi[c(i, i+1, i+2)]))\n",
    "    errors <- append(errors, cpi[i + 2] - roll_mean[i + 1])\n",
    "}\n",
    "\n",
    "roll_mean\n",
    "errors\n",
    "length(errors)\n",
    "\n",
    "mape <- 0\n",
    "for (x in length(errors)) {\n",
    "    mape <- mape + (abs(errors[x] / cpi[x+2]))\n",
    "}\n",
    "\n",
    "mape / (length(errors) - 1)"
   ]
  },
  {
   "cell_type": "code",
   "execution_count": 108,
   "id": "a98b9e71",
   "metadata": {},
   "outputs": [
    {
     "data": {
      "text/html": [
       "<style>\n",
       ".list-inline {list-style: none; margin:0; padding: 0}\n",
       ".list-inline>li {display: inline-block}\n",
       ".list-inline>li:not(:last-child)::after {content: \"\\00b7\"; padding: 0 .5ex}\n",
       "</style>\n",
       "<ol class=list-inline><li>159.2</li><li>159.28</li><li>159.424</li><li>159.5792</li><li>159.68336</li><li>159.806688</li><li>159.9453504</li><li>160.11628032</li><li>160.333024256</li><li>160.5864194048</li><li>160.76913552384</li><li>160.875308419072</li><li>161.020246735258</li><li>161.196197388206</li><li>161.396957910565</li><li>161.617566328452</li><li>161.854053062762</li><li>162.083242450209</li><li>162.306593960167</li><li>162.525275168134</li><li>162.740220134507</li><li>162.992176107606</li><li>163.193740886085</li><li>163.334992708868</li></ol>\n"
      ],
      "text/latex": [
       "\\begin{enumerate*}\n",
       "\\item 159.2\n",
       "\\item 159.28\n",
       "\\item 159.424\n",
       "\\item 159.5792\n",
       "\\item 159.68336\n",
       "\\item 159.806688\n",
       "\\item 159.9453504\n",
       "\\item 160.11628032\n",
       "\\item 160.333024256\n",
       "\\item 160.5864194048\n",
       "\\item 160.76913552384\n",
       "\\item 160.875308419072\n",
       "\\item 161.020246735258\n",
       "\\item 161.196197388206\n",
       "\\item 161.396957910565\n",
       "\\item 161.617566328452\n",
       "\\item 161.854053062762\n",
       "\\item 162.083242450209\n",
       "\\item 162.306593960167\n",
       "\\item 162.525275168134\n",
       "\\item 162.740220134507\n",
       "\\item 162.992176107606\n",
       "\\item 163.193740886085\n",
       "\\item 163.334992708868\n",
       "\\end{enumerate*}\n"
      ],
      "text/markdown": [
       "1. 159.2\n",
       "2. 159.28\n",
       "3. 159.424\n",
       "4. 159.5792\n",
       "5. 159.68336\n",
       "6. 159.806688\n",
       "7. 159.9453504\n",
       "8. 160.11628032\n",
       "9. 160.333024256\n",
       "10. 160.5864194048\n",
       "11. 160.76913552384\n",
       "12. 160.875308419072\n",
       "13. 161.020246735258\n",
       "14. 161.196197388206\n",
       "15. 161.396957910565\n",
       "16. 161.617566328452\n",
       "17. 161.854053062762\n",
       "18. 162.083242450209\n",
       "19. 162.306593960167\n",
       "20. 162.525275168134\n",
       "21. 162.740220134507\n",
       "22. 162.992176107606\n",
       "23. 163.193740886085\n",
       "24. 163.334992708868\n",
       "\n",
       "\n"
      ],
      "text/plain": [
       " [1] 159.2000 159.2800 159.4240 159.5792 159.6834 159.8067 159.9454 160.1163\n",
       " [9] 160.3330 160.5864 160.7691 160.8753 161.0202 161.1962 161.3970 161.6176\n",
       "[17] 161.8541 162.0832 162.3066 162.5253 162.7402 162.9922 163.1937 163.3350"
      ]
     },
     "metadata": {},
     "output_type": "display_data"
    },
    {
     "data": {
      "text/html": [
       "<style>\n",
       ".list-inline {list-style: none; margin:0; padding: 0}\n",
       ".list-inline>li {display: inline-block}\n",
       ".list-inline>li:not(:last-child)::after {content: \"\\00b7\"; padding: 0 .5ex}\n",
       "</style>\n",
       "<ol class=list-inline><li>0.400000000000006</li><li>0.719999999999999</li><li>0.775999999999982</li><li>0.52079999999998</li><li>0.61663999999999</li><li>0.693311999999992</li><li>0.854649599999988</li><li>1.08371967999997</li><li>1.26697574399998</li><li>0.913580595199988</li><li>0.530864476159991</li><li>0.724691580927953</li><li>0.879753264742362</li><li>1.00380261179387</li><li>1.10304208943509</li><li>1.18243367154807</li><li>1.14594693723845</li><li>1.11675754979075</li><li>1.09340603983262</li><li>1.07472483186606</li><li>1.25977986549285</li><li>1.00782389239427</li><li>0.706259113915394</li><li>&lt;NA&gt;</li></ol>\n"
      ],
      "text/latex": [
       "\\begin{enumerate*}\n",
       "\\item 0.400000000000006\n",
       "\\item 0.719999999999999\n",
       "\\item 0.775999999999982\n",
       "\\item 0.52079999999998\n",
       "\\item 0.61663999999999\n",
       "\\item 0.693311999999992\n",
       "\\item 0.854649599999988\n",
       "\\item 1.08371967999997\n",
       "\\item 1.26697574399998\n",
       "\\item 0.913580595199988\n",
       "\\item 0.530864476159991\n",
       "\\item 0.724691580927953\n",
       "\\item 0.879753264742362\n",
       "\\item 1.00380261179387\n",
       "\\item 1.10304208943509\n",
       "\\item 1.18243367154807\n",
       "\\item 1.14594693723845\n",
       "\\item 1.11675754979075\n",
       "\\item 1.09340603983262\n",
       "\\item 1.07472483186606\n",
       "\\item 1.25977986549285\n",
       "\\item 1.00782389239427\n",
       "\\item 0.706259113915394\n",
       "\\item <NA>\n",
       "\\end{enumerate*}\n"
      ],
      "text/markdown": [
       "1. 0.400000000000006\n",
       "2. 0.719999999999999\n",
       "3. 0.775999999999982\n",
       "4. 0.52079999999998\n",
       "5. 0.61663999999999\n",
       "6. 0.693311999999992\n",
       "7. 0.854649599999988\n",
       "8. 1.08371967999997\n",
       "9. 1.26697574399998\n",
       "10. 0.913580595199988\n",
       "11. 0.530864476159991\n",
       "12. 0.724691580927953\n",
       "13. 0.879753264742362\n",
       "14. 1.00380261179387\n",
       "15. 1.10304208943509\n",
       "16. 1.18243367154807\n",
       "17. 1.14594693723845\n",
       "18. 1.11675754979075\n",
       "19. 1.09340603983262\n",
       "20. 1.07472483186606\n",
       "21. 1.25977986549285\n",
       "22. 1.00782389239427\n",
       "23. 0.706259113915394\n",
       "24. &lt;NA&gt;\n",
       "\n",
       "\n"
      ],
      "text/plain": [
       " [1] 0.4000000 0.7200000 0.7760000 0.5208000 0.6166400 0.6933120 0.8546496\n",
       " [8] 1.0837197 1.2669757 0.9135806 0.5308645 0.7246916 0.8797533 1.0038026\n",
       "[15] 1.1030421 1.1824337 1.1459469 1.1167575 1.0934060 1.0747248 1.2597799\n",
       "[22] 1.0078239 0.7062591        NA"
      ]
     },
     "metadata": {},
     "output_type": "display_data"
    },
    {
     "data": {
      "text/html": [
       "24"
      ],
      "text/latex": [
       "24"
      ],
      "text/markdown": [
       "24"
      ],
      "text/plain": [
       "[1] 24"
      ]
     },
     "metadata": {},
     "output_type": "display_data"
    },
    {
     "data": {
      "text/html": [
       "0.00535114008431678"
      ],
      "text/latex": [
       "0.00535114008431678"
      ],
      "text/markdown": [
       "0.00535114008431678"
      ],
      "text/plain": [
       "[1] 0.00535114"
      ]
     },
     "metadata": {},
     "output_type": "display_data"
    }
   ],
   "source": [
    "# c. smoothing parameter = 0.2\n",
    "\n",
    "w = 0.2\n",
    "\n",
    "roll_mean_exp = c(w * cpi[2] + (1 - w) * cpi[1])\n",
    "errors = c(cpi[2] - roll_mean_exp[1])\n",
    "\n",
    "for (i in 2:length(cpi)) {\n",
    "    ewma_i <- w * cpi[i] + (1 - w) * roll_mean_exp[i - 1]\n",
    "    roll_mean_exp <- append(roll_mean_exp, ewma_i)\n",
    "    errors <- append(errors, cpi[i+1] - roll_mean_exp[i])\n",
    "}\n",
    "\n",
    "roll_mean_exp\n",
    "errors\n",
    "length(errors)\n",
    "\n",
    "mape <- 0\n",
    "for (x in 1:(length(errors) - 2)) {\n",
    "    mape <- mape + (abs(errors[x] / cpi[x+2]))\n",
    "}\n",
    "\n",
    "mape / (length(errors) - 1)"
   ]
  },
  {
   "cell_type": "code",
   "execution_count": 111,
   "id": "89767301",
   "metadata": {},
   "outputs": [
    {
     "name": "stdout",
     "output_type": "stream",
     "text": [
      "[1] 0.8694249\n",
      "[1] 0.7380238\n",
      "[1] 0.6148822\n"
     ]
    }
   ],
   "source": [
    "# Calculate lag-1, lag-2, and lag-3 autocorrelation coefficients. \n",
    "# What conclusions do you draw? \n",
    "# lag-k is kth order\n",
    "\n",
    "x_bar <- mean(cpi)\n",
    "\n",
    "r_k <- function(k) {\n",
    "    num <- 0\n",
    "    den <- 0\n",
    "    for (t in (k+1):length(cpi)) {\n",
    "        num = num + (cpi[t - k] - x_bar) * (cpi[t] - x_bar)\n",
    "    }\n",
    "    for (t in 1:length(cpi)) {\n",
    "        den = den + (cpi[t] - x_bar) ^ 2\n",
    "    }\n",
    "    return(num / den)\n",
    "}\n",
    "\n",
    "print(r_k(1))\n",
    "print(r_k(2))\n",
    "print(r_k(3))"
   ]
  }
 ],
 "metadata": {
  "kernelspec": {
   "display_name": "R",
   "language": "R",
   "name": "ir"
  },
  "language_info": {
   "codemirror_mode": "r",
   "file_extension": ".r",
   "mimetype": "text/x-r-source",
   "name": "R",
   "pygments_lexer": "r",
   "version": "4.1.0"
  }
 },
 "nbformat": 4,
 "nbformat_minor": 5
}
