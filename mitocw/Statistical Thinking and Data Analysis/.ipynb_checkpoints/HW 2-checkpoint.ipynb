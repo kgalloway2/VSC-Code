{
 "cells": [
  {
   "cell_type": "code",
   "execution_count": 3,
   "id": "1bf2ae76",
   "metadata": {
    "collapsed": true
   },
   "outputs": [
    {
     "name": "stderr",
     "output_type": "stream",
     "text": [
      "\n",
      "Attaching package: 'dplyr'\n",
      "\n",
      "\n",
      "The following objects are masked from 'package:stats':\n",
      "\n",
      "    filter, lag\n",
      "\n",
      "\n",
      "The following objects are masked from 'package:base':\n",
      "\n",
      "    intersect, setdiff, setequal, union\n",
      "\n",
      "\n"
     ]
    }
   ],
   "source": [
    "library(dplyr)\n",
    "library(ggplot2)"
   ]
  },
  {
   "cell_type": "code",
   "execution_count": 5,
   "id": "625455d6",
   "metadata": {},
   "outputs": [
    {
     "name": "stdout",
     "output_type": "stream",
     "text": [
      "'data.frame':\t1000 obs. of  1 variable:\n",
      " $ nums: num  0.06382 0.4306 0.00179 0.09629 0.0403 ...\n"
     ]
    }
   ],
   "source": [
    "# exercise 1a\n",
    "nums <- rexp(1000, rate = 6)\n",
    "numds_df <- data.frame(nums)\n",
    "str(numds_df)"
   ]
  },
  {
   "cell_type": "code",
   "execution_count": 6,
   "id": "88785055",
   "metadata": {},
   "outputs": [
    {
     "name": "stderr",
     "output_type": "stream",
     "text": [
      "`stat_bin()` using `bins = 30`. Pick better value with `binwidth`.\n",
      "\n"
     ]
    },
    {
     "data": {
      "image/png": "[encoded data removed]",
      "text/plain": [
       "plot without title"
      ]
     },
     "metadata": {
      "image/png": {
       "height": 420,
       "width": 420
      }
     },
     "output_type": "display_data"
    }
   ],
   "source": [
    "ggplot(data = numds_df) +\n",
    "    geom_histogram(aes(x = nums))"
   ]
  },
  {
   "cell_type": "code",
   "execution_count": 25,
   "id": "bf0c96d6",
   "metadata": {},
   "outputs": [
    {
     "data": {
      "text/html": [
       "<table class=\"dataframe\">\n",
       "<caption>A data.frame: 6 × 3</caption>\n",
       "<thead>\n",
       "\t<tr><th></th><th scope=col>X1</th><th scope=col>X2</th><th scope=col>X3</th></tr>\n",
       "\t<tr><th></th><th scope=col>&lt;dbl&gt;</th><th scope=col>&lt;dbl&gt;</th><th scope=col>&lt;dbl&gt;</th></tr>\n",
       "</thead>\n",
       "<tbody>\n",
       "\t<tr><th scope=row>1</th><td>1</td><td>0.09140546</td><td>0.261277615</td></tr>\n",
       "\t<tr><th scope=row>2</th><td>2</td><td>0.00943973</td><td>0.023220196</td></tr>\n",
       "\t<tr><th scope=row>3</th><td>3</td><td>0.27045878</td><td>0.002161008</td></tr>\n",
       "\t<tr><th scope=row>4</th><td>4</td><td>0.07703136</td><td>0.286332077</td></tr>\n",
       "\t<tr><th scope=row>5</th><td>5</td><td>0.04287927</td><td>0.340305814</td></tr>\n",
       "\t<tr><th scope=row>6</th><td>6</td><td>0.08887659</td><td>0.091887348</td></tr>\n",
       "</tbody>\n",
       "</table>\n"
      ],
      "text/latex": [
       "A data.frame: 6 × 3\n",
       "\\begin{tabular}{r|lll}\n",
       "  & X1 & X2 & X3\\\\\n",
       "  & <dbl> & <dbl> & <dbl>\\\\\n",
       "\\hline\n",
       "\t1 & 1 & 0.09140546 & 0.261277615\\\\\n",
       "\t2 & 2 & 0.00943973 & 0.023220196\\\\\n",
       "\t3 & 3 & 0.27045878 & 0.002161008\\\\\n",
       "\t4 & 4 & 0.07703136 & 0.286332077\\\\\n",
       "\t5 & 5 & 0.04287927 & 0.340305814\\\\\n",
       "\t6 & 6 & 0.08887659 & 0.091887348\\\\\n",
       "\\end{tabular}\n"
      ],
      "text/markdown": [
       "\n",
       "A data.frame: 6 × 3\n",
       "\n",
       "| <!--/--> | X1 &lt;dbl&gt; | X2 &lt;dbl&gt; | X3 &lt;dbl&gt; |\n",
       "|---|---|---|---|\n",
       "| 1 | 1 | 0.09140546 | 0.261277615 |\n",
       "| 2 | 2 | 0.00943973 | 0.023220196 |\n",
       "| 3 | 3 | 0.27045878 | 0.002161008 |\n",
       "| 4 | 4 | 0.07703136 | 0.286332077 |\n",
       "| 5 | 5 | 0.04287927 | 0.340305814 |\n",
       "| 6 | 6 | 0.08887659 | 0.091887348 |\n",
       "\n"
      ],
      "text/plain": [
       "  X1 X2         X3         \n",
       "1 1  0.09140546 0.261277615\n",
       "2 2  0.00943973 0.023220196\n",
       "3 3  0.27045878 0.002161008\n",
       "4 4  0.07703136 0.286332077\n",
       "5 5  0.04287927 0.340305814\n",
       "6 6  0.08887659 0.091887348"
      ]
     },
     "metadata": {},
     "output_type": "display_data"
    }
   ],
   "source": [
    "# exercise 1b\n",
    "count <- 1\n",
    "samples_df <- data.frame(sample_number=integer(), x1=numeric(), x2=numeric())\n",
    "while (count <= 1000) {\n",
    "    current_sample <- sample(nums, 2)\n",
    "    current_sample_df <- data.frame(t(c(count, current_sample[1], current_sample[2])))\n",
    "    samples_df <- rbind(samples_df, current_sample_df)\n",
    "    count <- count + 1\n",
    "}\n",
    "\n",
    "head(samples_df)"
   ]
  },
  {
   "cell_type": "code",
   "execution_count": 34,
   "id": "c7182762",
   "metadata": {},
   "outputs": [
    {
     "data": {
      "text/html": [
       "<table class=\"dataframe\">\n",
       "<caption>A data.frame: 6 × 5</caption>\n",
       "<thead>\n",
       "\t<tr><th></th><th scope=col>X1</th><th scope=col>X2</th><th scope=col>X3</th><th scope=col>mean_X2_X3</th><th scope=col>standardized</th></tr>\n",
       "\t<tr><th></th><th scope=col>&lt;dbl&gt;</th><th scope=col>&lt;dbl&gt;</th><th scope=col>&lt;dbl&gt;</th><th scope=col>&lt;dbl&gt;</th><th scope=col>&lt;dbl&gt;</th></tr>\n",
       "</thead>\n",
       "<tbody>\n",
       "\t<tr><th scope=row>1</th><td>1</td><td>0.09140546</td><td>0.261277615</td><td>0.17634154</td><td> 0.05804924</td></tr>\n",
       "\t<tr><th scope=row>2</th><td>2</td><td>0.00943973</td><td>0.023220196</td><td>0.01632996</td><td>-0.90202022</td></tr>\n",
       "\t<tr><th scope=row>3</th><td>3</td><td>0.27045878</td><td>0.002161008</td><td>0.13630990</td><td>-0.18214063</td></tr>\n",
       "\t<tr><th scope=row>4</th><td>4</td><td>0.07703136</td><td>0.286332077</td><td>0.18168172</td><td> 0.09009031</td></tr>\n",
       "\t<tr><th scope=row>5</th><td>5</td><td>0.04287927</td><td>0.340305814</td><td>0.19159254</td><td> 0.14955524</td></tr>\n",
       "\t<tr><th scope=row>6</th><td>6</td><td>0.08887659</td><td>0.091887348</td><td>0.09038197</td><td>-0.45770817</td></tr>\n",
       "</tbody>\n",
       "</table>\n"
      ],
      "text/latex": [
       "A data.frame: 6 × 5\n",
       "\\begin{tabular}{r|lllll}\n",
       "  & X1 & X2 & X3 & mean\\_X2\\_X3 & standardized\\\\\n",
       "  & <dbl> & <dbl> & <dbl> & <dbl> & <dbl>\\\\\n",
       "\\hline\n",
       "\t1 & 1 & 0.09140546 & 0.261277615 & 0.17634154 &  0.05804924\\\\\n",
       "\t2 & 2 & 0.00943973 & 0.023220196 & 0.01632996 & -0.90202022\\\\\n",
       "\t3 & 3 & 0.27045878 & 0.002161008 & 0.13630990 & -0.18214063\\\\\n",
       "\t4 & 4 & 0.07703136 & 0.286332077 & 0.18168172 &  0.09009031\\\\\n",
       "\t5 & 5 & 0.04287927 & 0.340305814 & 0.19159254 &  0.14955524\\\\\n",
       "\t6 & 6 & 0.08887659 & 0.091887348 & 0.09038197 & -0.45770817\\\\\n",
       "\\end{tabular}\n"
      ],
      "text/markdown": [
       "\n",
       "A data.frame: 6 × 5\n",
       "\n",
       "| <!--/--> | X1 &lt;dbl&gt; | X2 &lt;dbl&gt; | X3 &lt;dbl&gt; | mean_X2_X3 &lt;dbl&gt; | standardized &lt;dbl&gt; |\n",
       "|---|---|---|---|---|---|\n",
       "| 1 | 1 | 0.09140546 | 0.261277615 | 0.17634154 |  0.05804924 |\n",
       "| 2 | 2 | 0.00943973 | 0.023220196 | 0.01632996 | -0.90202022 |\n",
       "| 3 | 3 | 0.27045878 | 0.002161008 | 0.13630990 | -0.18214063 |\n",
       "| 4 | 4 | 0.07703136 | 0.286332077 | 0.18168172 |  0.09009031 |\n",
       "| 5 | 5 | 0.04287927 | 0.340305814 | 0.19159254 |  0.14955524 |\n",
       "| 6 | 6 | 0.08887659 | 0.091887348 | 0.09038197 | -0.45770817 |\n",
       "\n"
      ],
      "text/plain": [
       "  X1 X2         X3          mean_X2_X3 standardized\n",
       "1 1  0.09140546 0.261277615 0.17634154  0.05804924 \n",
       "2 2  0.00943973 0.023220196 0.01632996 -0.90202022 \n",
       "3 3  0.27045878 0.002161008 0.13630990 -0.18214063 \n",
       "4 4  0.07703136 0.286332077 0.18168172  0.09009031 \n",
       "5 5  0.04287927 0.340305814 0.19159254  0.14955524 \n",
       "6 6  0.08887659 0.091887348 0.09038197 -0.45770817 "
      ]
     },
     "metadata": {},
     "output_type": "display_data"
    }
   ],
   "source": [
    "# exercise 1c\n",
    "# note mean = stddev = 1 / lambda so 1/6 here\n",
    "mu <- 1/6\n",
    "sigma <- 1/6\n",
    "samples_df_with_mean <- samples_df %>%\n",
    "    mutate(mean_X2_X3 = (X2 + X3) / 2) %>%\n",
    "    mutate(standardized = (mean_X2_X3 - mu) / sigma)\n",
    "\n",
    "head(samples_df_with_mean)"
   ]
  },
  {
   "cell_type": "code",
   "execution_count": 35,
   "id": "a6bdead4",
   "metadata": {},
   "outputs": [
    {
     "name": "stderr",
     "output_type": "stream",
     "text": [
      "`stat_bin()` using `bins = 30`. Pick better value with `binwidth`.\n",
      "\n"
     ]
    },
    {
     "data": {
      "image/png": "[encoded data removed]",
      "text/plain": [
       "plot without title"
      ]
     },
     "metadata": {
      "image/png": {
       "height": 420,
       "width": 420
      }
     },
     "output_type": "display_data"
    }
   ],
   "source": [
    "# exercise 1d\n",
    "ggplot(data=samples_df_with_mean)+\n",
    "    geom_histogram(aes(x = standardized))"
   ]
  },
  {
   "cell_type": "code",
   "execution_count": 41,
   "id": "347e45b1",
   "metadata": {},
   "outputs": [
    {
     "name": "stderr",
     "output_type": "stream",
     "text": [
      "`stat_bin()` using `bins = 30`. Pick better value with `binwidth`.\n",
      "\n",
      "`stat_bin()` using `bins = 30`. Pick better value with `binwidth`.\n",
      "\n"
     ]
    },
    {
     "data": {
      "image/png": "[encoded data removed]",
      "text/plain": [
       "plot without title"
      ]
     },
     "metadata": {
      "image/png": {
       "height": 420,
       "width": 420
      }
     },
     "output_type": "display_data"
    },
    {
     "name": "stderr",
     "output_type": "stream",
     "text": [
      "`stat_bin()` using `bins = 30`. Pick better value with `binwidth`.\n",
      "\n"
     ]
    },
    {
     "data": {
      "image/png": "[encoded data removed]",
      "text/plain": [
       "plot without title"
      ]
     },
     "metadata": {
      "image/png": {
       "height": 420,
       "width": 420
      }
     },
     "output_type": "display_data"
    },
    {
     "data": {
      "image/png": "[encoded data removed]",
      "text/plain": [
       "plot without title"
      ]
     },
     "metadata": {
      "image/png": {
       "height": 420,
       "width": 420
      }
     },
     "output_type": "display_data"
    }
   ],
   "source": [
    "# exercise 1e\n",
    "# n = 10\n",
    "count <- 1\n",
    "samples_df_10 <- data.frame(sample_number=integer(), x1=numeric(), x2=numeric())\n",
    "while (count <= 1000) {\n",
    "    current_sample <- sample(nums, 10)\n",
    "    current_sample_df <- data.frame(t(c(current_sample, mean(current_sample))))\n",
    "    samples_df_10 <- rbind(samples_df_10, current_sample_df)\n",
    "    count <- count + 1\n",
    "}\n",
    "\n",
    "colnames(samples_df_10)[11] <- \"mean\"\n",
    "# head(samples_df_10)\n",
    "\n",
    "mu <- 1/6\n",
    "sigma <- 1/6\n",
    "samples_df_10_with_mean <- samples_df_10 %>%\n",
    "    mutate(standardized = (mean - mu) / sigma)\n",
    "\n",
    "# head(samples_df_10_with_mean)\n",
    "ggplot(data=samples_df_10_with_mean)+\n",
    "    geom_histogram(aes(x = standardized))\n",
    "\n",
    "# n = 20\n",
    "count <- 1\n",
    "samples_df_20 <- data.frame(sample_number=integer(), x1=numeric(), x2=numeric())\n",
    "while (count <= 1000) {\n",
    "    current_sample <- sample(nums, 20)\n",
    "    current_sample_df <- data.frame(t(c(current_sample, mean(current_sample))))\n",
    "    samples_df_20 <- rbind(samples_df_20, current_sample_df)\n",
    "    count <- count + 1\n",
    "}\n",
    "\n",
    "colnames(samples_df_20)[21] <- \"mean\"\n",
    "# head(samples_df_20)\n",
    "\n",
    "mu <- 1/6\n",
    "sigma <- 1/6\n",
    "samples_df_20_with_mean <- samples_df_20 %>%\n",
    "    mutate(standardized = (mean - mu) / sigma)\n",
    "\n",
    "# head(samples_df_20_with_mean)\n",
    "ggplot(data=samples_df_20_with_mean)+\n",
    "    geom_histogram(aes(x = standardized))\n",
    "\n",
    "# n = 100\n",
    "count <- 1\n",
    "samples_df_100 <- data.frame(sample_number=integer(), x1=numeric(), x2=numeric())\n",
    "while (count <= 1000) {\n",
    "    current_sample <- sample(nums, 100)\n",
    "    current_sample_df <- data.frame(t(c(current_sample, mean(current_sample))))\n",
    "    samples_df_100 <- rbind(samples_df_100, current_sample_df)\n",
    "    count <- count + 1\n",
    "}\n",
    "\n",
    "colnames(samples_df_100)[101] <- \"mean\"\n",
    "# head(samples_df_100)\n",
    "\n",
    "mu <- 1/6\n",
    "sigma <- 1/6\n",
    "samples_df_100_with_mean <- samples_df_100 %>%\n",
    "    mutate(standardized = (mean - mu) / sigma)\n",
    "\n",
    "# head(samples_df_100_with_mean)\n",
    "ggplot(data=samples_df_100_with_mean)+\n",
    "    geom_histogram(aes(x = standardized))\n"
   ]
  },
  {
   "cell_type": "code",
   "execution_count": null,
   "id": "563e2b72",
   "metadata": {},
   "outputs": [],
   "source": [
    "# the histograms approach a normal distribution as the sample size goes up"
   ]
  },
  {
   "cell_type": "code",
   "execution_count": 46,
   "id": "f3d59b2e",
   "metadata": {},
   "outputs": [
    {
     "data": {
      "text/html": [
       "0.912291221485514"
      ],
      "text/latex": [
       "0.912291221485514"
      ],
      "text/markdown": [
       "0.912291221485514"
      ],
      "text/plain": [
       "[1] 0.9122912"
      ]
     },
     "metadata": {},
     "output_type": "display_data"
    },
    {
     "data": {
      "text/html": [
       "0.0877087785144861"
      ],
      "text/latex": [
       "0.0877087785144861"
      ],
      "text/markdown": [
       "0.0877087785144861"
      ],
      "text/plain": [
       "[1] 0.08770878"
      ]
     },
     "metadata": {},
     "output_type": "display_data"
    }
   ],
   "source": [
    "# exercise 2\n",
    "# problem 6.23 pg 247\n",
    "# alpha risk is the probability of a type I error,\n",
    "# that we reject the null hypothesis when it is true\n",
    "# beta risk is the probability of a type II error, \n",
    "# that we fail to reject the null hypothesis when it is false\n",
    "# alpha = P(type I error) = P(reject H0 | H0)\n",
    "# beta = P(type II error) = P(fail to reject H0 | H1)\n",
    "\n",
    "# H0 is that mu = 0, H1 is that mu > 0\n",
    "# sig_level = 5%, n = 9, unknown mu, sigma = 1\n",
    "\n",
    "# a) what is a-risk? what is b-risk if mu = 1?\n",
    "# a-risk is given in the problem. it's 0.05\n",
    "\n",
    "# now for b-risk. pi(mu) = 1 - b so b = 1 - pi(mu)\n",
    "# pi(mu) = phi(-za + (mu - mu0) / (sigma/sqrt(n)))\n",
    "#        = phi(-1.645 + (1 - 0) / (1/3))\n",
    "#        = phi(-1.645 +3)\n",
    "#        = phi(1.355)\n",
    "phi_value <- pnorm(1.355, 0, 1)\n",
    "phi_value\n",
    "1 - phi_value"
   ]
  },
  {
   "cell_type": "code",
   "execution_count": 115,
   "id": "4920ce4f",
   "metadata": {},
   "outputs": [
    {
     "data": {
      "text/html": [
       "0.04"
      ],
      "text/latex": [
       "0.04"
      ],
      "text/markdown": [
       "0.04"
      ],
      "text/plain": [
       "[1] 0.04"
      ]
     },
     "metadata": {},
     "output_type": "display_data"
    },
    {
     "data": {
      "text/html": [
       "0.08"
      ],
      "text/latex": [
       "0.08"
      ],
      "text/markdown": [
       "0.08"
      ],
      "text/plain": [
       "[1] 0.08"
      ]
     },
     "metadata": {},
     "output_type": "display_data"
    }
   ],
   "source": [
    "# b) simulate test 100 times and \n",
    "# count the number of times a type 1 error is committed\n",
    "\n",
    "count <- 1\n",
    "samples_norm_df <- data.frame()\n",
    "while (count <= 100) {\n",
    "    current_sample <- rnorm(9, 0, 1)\n",
    "    current_sample_df <- data.frame(t(c(current_sample, mean(current_sample))))\n",
    "    samples_norm_df <- rbind(samples_norm_df, current_sample_df)\n",
    "    count <- count + 1\n",
    "}\n",
    "\n",
    "alpha = 0.05\n",
    "mu <- 0\n",
    "sigma <- 1\n",
    "\n",
    "critical_value <- mu + (qnorm(1 - alpha, mu, sigma) * sigma / sqrt(9))\n",
    "\n",
    "samples_norm_df <- samples_norm_df %>%\n",
    "    mutate(reject_null = ifelse(X10 > critical_value, TRUE, FALSE))\n",
    "\n",
    "# head(samples_norm_df)\n",
    "sum(samples_norm_df$reject_null == TRUE) / 100\n",
    "\n",
    "count <- 1\n",
    "bsamples_norm_df <- data.frame()\n",
    "while (count <= 100) {\n",
    "    current_sample <- rnorm(9, 1, 1)\n",
    "    current_sample_df <- data.frame(t(c(current_sample, mean(current_sample))))\n",
    "    bsamples_norm_df <- rbind(bsamples_norm_df, current_sample_df)\n",
    "    count <- count + 1\n",
    "}\n",
    "\n",
    "bsamples_norm_df <- bsamples_norm_df %>%\n",
    "    mutate(dont_reject = ifelse(X10 < critical_value, TRUE, FALSE))\n",
    "\n",
    "\n",
    "sum(bsamples_norm_df$dont_reject == TRUE) / 100"
   ]
  },
  {
   "cell_type": "code",
   "execution_count": 119,
   "id": "fa4ccc6b",
   "metadata": {},
   "outputs": [
    {
     "data": {
      "image/png": "[encoded data removed]",
      "text/plain": [
       "plot without title"
      ]
     },
     "metadata": {
      "image/png": {
       "height": 420,
       "width": 420
      }
     },
     "output_type": "display_data"
    },
    {
     "data": {
      "image/png": "[encoded data removed]",
      "text/plain": [
       "plot without title"
      ]
     },
     "metadata": {
      "image/png": {
       "height": 420,
       "width": 420
      }
     },
     "output_type": "display_data"
    }
   ],
   "source": [
    "# exercise 3\n",
    "# 6.25 on page 247\n",
    "\n",
    "sigma = 1000;\n",
    "n = 10\n",
    "\n",
    "# reject when x_bar > critical_Value\n",
    "critical_value = 10500\n",
    "\n",
    "mu = seq(9600, 11600, 200)\n",
    "\n",
    "power = 1 - pnorm((critical_value - mu) * sqrt(n) / sigma)\n",
    "oc = 1 - power\n",
    "\n",
    "df_for_plot = data.frame(mu, power)\n",
    "\n",
    "ggplot(data = df_for_plot, aes(x = mu, y = power)) +\n",
    "    geom_line()\n",
    "\n",
    "df_for_plot2 = data.frame(mu, oc)\n",
    "\n",
    "ggplot(data = df_for_plot2, aes(x = mu, y = oc)) +\n",
    "    geom_line()"
   ]
  },
  {
   "cell_type": "code",
   "execution_count": 143,
   "id": "670cdf87",
   "metadata": {},
   "outputs": [
    {
     "data": {
      "text/html": [
       "2.41018671475884"
      ],
      "text/latex": [
       "2.41018671475884"
      ],
      "text/markdown": [
       "2.41018671475884"
      ],
      "text/plain": [
       "[1] 2.410187"
      ]
     },
     "metadata": {},
     "output_type": "display_data"
    },
    {
     "data": {
      "text/plain": [
       "\n",
       "\tOne Sample t-test\n",
       "\n",
       "data:  x\n",
       "t = 2.3223, df = 9, p-value = 0.04531\n",
       "alternative hypothesis: true mean is not equal to 200\n",
       "95 percent confidence interval:\n",
       " 200.0459 203.4941\n",
       "sample estimates:\n",
       "mean of x \n",
       "   201.77 \n"
      ]
     },
     "metadata": {},
     "output_type": "display_data"
    },
    {
     "data": {
      "text/html": [
       "2.20314881311233"
      ],
      "text/latex": [
       "2.20314881311233"
      ],
      "text/markdown": [
       "2.20314881311233"
      ],
      "text/plain": [
       "[1] 2.203149"
      ]
     },
     "metadata": {},
     "output_type": "display_data"
    }
   ],
   "source": [
    "# exercise 4\n",
    "x = c(202.2, 203.4, 200.5, 202.5, 206.3, \n",
    "         198.0, 203.7, 200.8, 201.3, 199.0)\n",
    "\n",
    "std_dev = sd(x)\n",
    "std_dev\n",
    "\n",
    "our_mu = 200\n",
    "alpha = 0.05\n",
    "\n",
    "t.test(x, mu = our_mu, conf.level = 1 - alpha)\n",
    "\n",
    "t_stat <- (mean(x) - our_mu) / (std_dev / sqrt(9))\n",
    "t_stat"
   ]
  },
  {
   "cell_type": "code",
   "execution_count": null,
   "id": "27caa156",
   "metadata": {},
   "outputs": [],
   "source": [
    "# so we reject H0 for the following reasons\n",
    "# 1. the CI does not contain our mean value 200\n",
    "# 2. the t value 2.3223 is larger than the t-value for a set of 9 samples which was 2.2031 \n",
    "# 3. the p-value 0.04531 is less than our significance level 0.05"
   ]
  }
 ],
 "metadata": {
  "kernelspec": {
   "display_name": "R",
   "language": "R",
   "name": "ir"
  },
  "language_info": {
   "codemirror_mode": "r",
   "file_extension": ".r",
   "mimetype": "text/x-r-source",
   "name": "R",
   "pygments_lexer": "r",
   "version": "4.1.0"
  }
 },
 "nbformat": 4,
 "nbformat_minor": 5
}
