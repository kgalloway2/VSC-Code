{
 "cells": [
  {
   "cell_type": "code",
   "execution_count": 34,
   "id": "0eb6fe93",
   "metadata": {
    "collapsed": true
   },
   "outputs": [
    {
     "name": "stderr",
     "output_type": "stream",
     "text": [
      "Loading required package: lattice\n",
      "\n",
      "Loading required package: survival\n",
      "\n",
      "Loading required package: Formula\n",
      "\n",
      "\n",
      "Attaching package: 'Hmisc'\n",
      "\n",
      "\n",
      "The following objects are masked from 'package:dplyr':\n",
      "\n",
      "    src, summarize\n",
      "\n",
      "\n",
      "The following objects are masked from 'package:base':\n",
      "\n",
      "    format.pval, units\n",
      "\n",
      "\n"
     ]
    }
   ],
   "source": [
    "library(dplyr)\n",
    "library(ggplot2)\n",
    "library(Hmisc)"
   ]
  },
  {
   "cell_type": "code",
   "execution_count": 2,
   "id": "d81b8bd4",
   "metadata": {},
   "outputs": [
    {
     "data": {
      "text/html": [
       "<table class=\"dataframe\">\n",
       "<caption>A data.frame: 8 × 3</caption>\n",
       "<thead>\n",
       "\t<tr><th scope=col>Person</th><th scope=col>Glaucoma_eye</th><th scope=col>Non_glaucoma_eye</th></tr>\n",
       "\t<tr><th scope=col>&lt;dbl&gt;</th><th scope=col>&lt;dbl&gt;</th><th scope=col>&lt;dbl&gt;</th></tr>\n",
       "</thead>\n",
       "<tbody>\n",
       "\t<tr><td>1</td><td>488</td><td>484</td></tr>\n",
       "\t<tr><td>2</td><td>478</td><td>478</td></tr>\n",
       "\t<tr><td>3</td><td>480</td><td>492</td></tr>\n",
       "\t<tr><td>4</td><td>426</td><td>444</td></tr>\n",
       "\t<tr><td>5</td><td>440</td><td>436</td></tr>\n",
       "\t<tr><td>6</td><td>410</td><td>398</td></tr>\n",
       "\t<tr><td>7</td><td>458</td><td>464</td></tr>\n",
       "\t<tr><td>8</td><td>460</td><td>476</td></tr>\n",
       "</tbody>\n",
       "</table>\n"
      ],
      "text/latex": [
       "A data.frame: 8 × 3\n",
       "\\begin{tabular}{lll}\n",
       " Person & Glaucoma\\_eye & Non\\_glaucoma\\_eye\\\\\n",
       " <dbl> & <dbl> & <dbl>\\\\\n",
       "\\hline\n",
       "\t 1 & 488 & 484\\\\\n",
       "\t 2 & 478 & 478\\\\\n",
       "\t 3 & 480 & 492\\\\\n",
       "\t 4 & 426 & 444\\\\\n",
       "\t 5 & 440 & 436\\\\\n",
       "\t 6 & 410 & 398\\\\\n",
       "\t 7 & 458 & 464\\\\\n",
       "\t 8 & 460 & 476\\\\\n",
       "\\end{tabular}\n"
      ],
      "text/markdown": [
       "\n",
       "A data.frame: 8 × 3\n",
       "\n",
       "| Person &lt;dbl&gt; | Glaucoma_eye &lt;dbl&gt; | Non_glaucoma_eye &lt;dbl&gt; |\n",
       "|---|---|---|\n",
       "| 1 | 488 | 484 |\n",
       "| 2 | 478 | 478 |\n",
       "| 3 | 480 | 492 |\n",
       "| 4 | 426 | 444 |\n",
       "| 5 | 440 | 436 |\n",
       "| 6 | 410 | 398 |\n",
       "| 7 | 458 | 464 |\n",
       "| 8 | 460 | 476 |\n",
       "\n"
      ],
      "text/plain": [
       "  Person Glaucoma_eye Non_glaucoma_eye\n",
       "1 1      488          484             \n",
       "2 2      478          478             \n",
       "3 3      480          492             \n",
       "4 4      426          444             \n",
       "5 5      440          436             \n",
       "6 6      410          398             \n",
       "7 7      458          464             \n",
       "8 8      460          476             "
      ]
     },
     "metadata": {},
     "output_type": "display_data"
    }
   ],
   "source": [
    "# exercise 1\n",
    "Person <- c(1, 2, 3, 4, 5, 6, 7, 8)\n",
    "Glaucoma_eye <- c(488, 478, 480, 426, 440, 410, 458, 460)\n",
    "Non_glaucoma_eye <- c(484, 478, 492, 444, 436, 398, 464, 476)\n",
    "\n",
    "df_1 <- data.frame(Person, Glaucoma_eye, Non_glaucoma_eye)\n",
    "df_1"
   ]
  },
  {
   "cell_type": "code",
   "execution_count": 20,
   "id": "e9b18600",
   "metadata": {},
   "outputs": [
    {
     "data": {
      "text/html": [
       "455"
      ],
      "text/latex": [
       "455"
      ],
      "text/markdown": [
       "455"
      ],
      "text/plain": [
       "[1] 455"
      ]
     },
     "metadata": {},
     "output_type": "display_data"
    },
    {
     "data": {
      "text/html": [
       "27.6921855919164"
      ],
      "text/latex": [
       "27.6921855919164"
      ],
      "text/markdown": [
       "27.6921855919164"
      ],
      "text/plain": [
       "[1] 27.69219"
      ]
     },
     "metadata": {},
     "output_type": "display_data"
    },
    {
     "data": {
      "text/html": [
       "459"
      ],
      "text/latex": [
       "459"
      ],
      "text/markdown": [
       "459"
      ],
      "text/plain": [
       "[1] 459"
      ]
     },
     "metadata": {},
     "output_type": "display_data"
    },
    {
     "data": {
      "text/html": [
       "31.3140771630177"
      ],
      "text/latex": [
       "31.3140771630177"
      ],
      "text/markdown": [
       "31.3140771630177"
      ],
      "text/plain": [
       "[1] 31.31408"
      ]
     },
     "metadata": {},
     "output_type": "display_data"
    },
    {
     "data": {
      "text/html": [
       "816"
      ],
      "text/latex": [
       "816"
      ],
      "text/markdown": [
       "816"
      ],
      "text/plain": [
       "[1] 816"
      ]
     },
     "metadata": {},
     "output_type": "display_data"
    },
    {
     "data": {
      "text/html": [
       "0.941007983013497"
      ],
      "text/latex": [
       "0.941007983013497"
      ],
      "text/markdown": [
       "0.941007983013497"
      ],
      "text/plain": [
       "[1] 0.941008"
      ]
     },
     "metadata": {},
     "output_type": "display_data"
    },
    {
     "data": {
      "image/png": "[encoded data removed]",
      "text/plain": [
       "plot without title"
      ]
     },
     "metadata": {
      "image/png": {
       "height": 420,
       "width": 420
      }
     },
     "output_type": "display_data"
    }
   ],
   "source": [
    "mean_glaucoma <- mean(Glaucoma_eye)\n",
    "mean_Non_glaucoma <- mean(Non_glaucoma_eye)\n",
    "sd_glaucoma <- sd(Glaucoma_eye)\n",
    "sd_Non_glaucoma <- sd(Non_glaucoma_eye)\n",
    "\n",
    "n = 8\n",
    "\n",
    "mean_glaucoma\n",
    "sd_glaucoma\n",
    "mean_Non_glaucoma\n",
    "sd_Non_glaucoma\n",
    "\n",
    "cov_g <- cov(Glaucoma_eye, Non_glaucoma_eye)\n",
    "cov_g\n",
    "\n",
    "rho <- cor(Glaucoma_eye, Non_glaucoma_eye)\n",
    "rho\n",
    "\n",
    "\n",
    "ggplot(data = df_1, aes(x = Person))+\n",
    "    geom_point(aes(y = Glaucoma_eye), shape = 17)+\n",
    "    geom_point(aes(y = Non_glaucoma_eye))"
   ]
  },
  {
   "cell_type": "code",
   "execution_count": 16,
   "id": "f96011b2",
   "metadata": {},
   "outputs": [
    {
     "data": {
      "text/html": [
       "-4"
      ],
      "text/latex": [
       "-4"
      ],
      "text/markdown": [
       "-4"
      ],
      "text/plain": [
       "[1] -4"
      ]
     },
     "metadata": {},
     "output_type": "display_data"
    },
    {
     "data": {
      "text/html": [
       "115.428571428572"
      ],
      "text/latex": [
       "115.428571428572"
      ],
      "text/markdown": [
       "115.428571428572"
      ],
      "text/plain": [
       "[1] 115.4286"
      ]
     },
     "metadata": {},
     "output_type": "display_data"
    }
   ],
   "source": [
    "# i think this is a matched pairs case\n",
    "# since the eyes are not independent (same person)\n",
    "\n",
    "Diffs <- Glaucoma_eye - Non_glaucoma_eye\n",
    "mean_diffs <- mean(Diffs)\n",
    "var_diffs <- ((sd_glaucoma)^2) + ((sd_Non_glaucoma)^2) - (2 * rho * sd_glaucoma * sd_Non_glaucoma)\n",
    "\n",
    "mean_diffs\n",
    "var_diffs"
   ]
  },
  {
   "cell_type": "code",
   "execution_count": 42,
   "id": "7c6aee0a",
   "metadata": {},
   "outputs": [
    {
     "data": {
      "text/html": [
       "-1.05304838022244"
      ],
      "text/latex": [
       "-1.05304838022244"
      ],
      "text/markdown": [
       "-1.05304838022244"
      ],
      "text/plain": [
       "[1] -1.053048"
      ]
     },
     "metadata": {},
     "output_type": "display_data"
    },
    {
     "data": {
      "text/html": [
       "1.05304838022244"
      ],
      "text/latex": [
       "1.05304838022244"
      ],
      "text/markdown": [
       "1.05304838022244"
      ],
      "text/plain": [
       "[1] 1.053048"
      ]
     },
     "metadata": {},
     "output_type": "display_data"
    },
    {
     "data": {
      "text/html": [
       "1.41492392765051"
      ],
      "text/latex": [
       "1.41492392765051"
      ],
      "text/markdown": [
       "1.41492392765051"
      ],
      "text/plain": [
       "[1] 1.414924"
      ]
     },
     "metadata": {},
     "output_type": "display_data"
    },
    {
     "data": {
      "text/plain": [
       "\n",
       "\tOne Sample t-test\n",
       "\n",
       "data:  Diffs\n",
       "t = -1.053, df = 7, p-value = 0.1637\n",
       "alternative hypothesis: true mean is less than 0\n",
       "90 percent confidence interval:\n",
       "     -Inf 1.374583\n",
       "sample estimates:\n",
       "mean of x \n",
       "       -4 \n"
      ]
     },
     "metadata": {},
     "output_type": "display_data"
    }
   ],
   "source": [
    "t_stat = (mean_glaucoma - mean_Non_glaucoma) / (sqrt(var_diffs)/sqrt(n))\n",
    "t_stat\n",
    "abs(t_stat)\n",
    "\n",
    "qt(0.90, 7)\n",
    "# can't reject since |t| !> t_n-1,alpha2\n",
    "t.test(Diffs, alternative='less', conf.level=0.9)\n",
    "# also 0 is in confidence interval so can't reject"
   ]
  },
  {
   "cell_type": "code",
   "execution_count": null,
   "id": "d17d6e9d",
   "metadata": {},
   "outputs": [],
   "source": []
  },
  {
   "cell_type": "code",
   "execution_count": 45,
   "id": "462a55c7",
   "metadata": {},
   "outputs": [
    {
     "data": {
      "text/plain": [
       "\n",
       "Call:\n",
       "lm(formula = y ~ x, data = df_2)\n",
       "\n",
       "Coefficients:\n",
       "(Intercept)            x  \n",
       "    155.296        1.902  \n"
      ]
     },
     "metadata": {},
     "output_type": "display_data"
    },
    {
     "data": {
      "text/plain": [
       "\n",
       "Call:\n",
       "lm(formula = y ~ x, data = df_2)\n",
       "\n",
       "Residuals:\n",
       "     Min       1Q   Median       3Q      Max \n",
       "-1.22687 -0.22178  0.07723  0.19687  0.51001 \n",
       "\n",
       "Coefficients:\n",
       "             Estimate Std. Error t value Pr(>|t|)    \n",
       "(Intercept) 155.29648    0.92734  167.47   <2e-16 ***\n",
       "x             1.90178    0.03676   51.74   <2e-16 ***\n",
       "---\n",
       "Signif. codes:  0 '***' 0.001 '**' 0.01 '*' 0.05 '.' 0.1 ' ' 1\n",
       "\n",
       "Residual standard error: 0.444 on 15 degrees of freedom\n",
       "Multiple R-squared:  0.9944,\tAdjusted R-squared:  0.9941 \n",
       "F-statistic:  2677 on 1 and 15 DF,  p-value: < 2.2e-16\n"
      ]
     },
     "metadata": {},
     "output_type": "display_data"
    },
    {
     "data": {
      "text/html": [
       "<table class=\"dataframe\">\n",
       "<caption>A anova: 2 × 5</caption>\n",
       "<thead>\n",
       "\t<tr><th></th><th scope=col>Df</th><th scope=col>Sum Sq</th><th scope=col>Mean Sq</th><th scope=col>F value</th><th scope=col>Pr(&gt;F)</th></tr>\n",
       "\t<tr><th></th><th scope=col>&lt;int&gt;</th><th scope=col>&lt;dbl&gt;</th><th scope=col>&lt;dbl&gt;</th><th scope=col>&lt;dbl&gt;</th><th scope=col>&lt;dbl&gt;</th></tr>\n",
       "</thead>\n",
       "<tbody>\n",
       "\t<tr><th scope=row>x</th><td> 1</td><td>527.824915</td><td>527.8249147</td><td>2677.105</td><td>2.527702e-18</td></tr>\n",
       "\t<tr><th scope=row>Residuals</th><td>15</td><td>  2.957438</td><td>  0.1971625</td><td>      NA</td><td>          NA</td></tr>\n",
       "</tbody>\n",
       "</table>\n"
      ],
      "text/latex": [
       "A anova: 2 × 5\n",
       "\\begin{tabular}{r|lllll}\n",
       "  & Df & Sum Sq & Mean Sq & F value & Pr(>F)\\\\\n",
       "  & <int> & <dbl> & <dbl> & <dbl> & <dbl>\\\\\n",
       "\\hline\n",
       "\tx &  1 & 527.824915 & 527.8249147 & 2677.105 & 2.527702e-18\\\\\n",
       "\tResiduals & 15 &   2.957438 &   0.1971625 &       NA &           NA\\\\\n",
       "\\end{tabular}\n"
      ],
      "text/markdown": [
       "\n",
       "A anova: 2 × 5\n",
       "\n",
       "| <!--/--> | Df &lt;int&gt; | Sum Sq &lt;dbl&gt; | Mean Sq &lt;dbl&gt; | F value &lt;dbl&gt; | Pr(&gt;F) &lt;dbl&gt; |\n",
       "|---|---|---|---|---|---|\n",
       "| x |  1 | 527.824915 | 527.8249147 | 2677.105 | 2.527702e-18 |\n",
       "| Residuals | 15 |   2.957438 |   0.1971625 |       NA |           NA |\n",
       "\n"
      ],
      "text/plain": [
       "          Df Sum Sq     Mean Sq     F value  Pr(>F)      \n",
       "x          1 527.824915 527.8249147 2677.105 2.527702e-18\n",
       "Residuals 15   2.957438   0.1971625       NA           NA"
      ]
     },
     "metadata": {},
     "output_type": "display_data"
    },
    {
     "data": {
      "image/png": "[encoded data removed]",
      "text/plain": [
       "plot without title"
      ]
     },
     "metadata": {
      "image/png": {
       "height": 420,
       "width": 420
      }
     },
     "output_type": "display_data"
    }
   ],
   "source": [
    "# exercise 2\n",
    "x <- c(20.79 , 20.79 , 22.40 , 22.67 , 23.15 , 23.35, 23.89, \n",
    "      23.99, 24.02, 24.01, 25.14, 26.57, 28.49, 27.76, \n",
    "      29.04, 29.88, 30.06)\n",
    "\n",
    "y <- c(194.5, 194.3, 197.9, 198.4, 199.4, 199.9, 200.9, \n",
    "     201.1, 201.4, 201.3, 203.6, 204.6, 209.5, 208.6, \n",
    "     210.7, 211.9, 212.2)\n",
    "\n",
    "df_2 <- data.frame(x, y)\n",
    "ggplot(data = df_2, aes(x, y)) +\n",
    "    geom_point() +\n",
    "    geom_smooth(method=\"lm\", formula= y ~ x)\n",
    "\n",
    "model <- lm(y ~ x, df_2)\n",
    "model\n",
    "\n",
    "summary(model)\n",
    "\n",
    "anova(model)"
   ]
  }
 ],
 "metadata": {
  "kernelspec": {
   "display_name": "R",
   "language": "R",
   "name": "ir"
  },
  "language_info": {
   "codemirror_mode": "r",
   "file_extension": ".r",
   "mimetype": "text/x-r-source",
   "name": "R",
   "pygments_lexer": "r",
   "version": "4.1.0"
  }
 },
 "nbformat": 4,
 "nbformat_minor": 5
}
