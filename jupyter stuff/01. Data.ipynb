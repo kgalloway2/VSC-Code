{
 "cells": [
  {
   "cell_type": "code",
   "execution_count": 2,
   "id": "30580a83",
   "metadata": {},
   "outputs": [],
   "source": [
    "using BenchmarkTools\n",
    "using DataFrames\n",
    "using DelimitedFiles\n",
    "using CSV\n",
    "using XLSX"
   ]
  },
  {
   "cell_type": "code",
   "execution_count": 3,
   "id": "7a7bedba",
   "metadata": {},
   "outputs": [
    {
     "name": "stdout",
     "output_type": "stream",
     "text": [
      "search: \u001b[0m\u001b[1md\u001b[22m\u001b[0m\u001b[1mo\u001b[22m\u001b[0m\u001b[1mw\u001b[22m\u001b[0m\u001b[1mn\u001b[22m\u001b[0m\u001b[1ml\u001b[22m\u001b[0m\u001b[1mo\u001b[22m\u001b[0m\u001b[1ma\u001b[22m\u001b[0m\u001b[1md\u001b[22m\n",
      "\n"
     ]
    },
    {
     "data": {
      "text/latex": [
       "\\begin{verbatim}\n",
       "download(url::AbstractString, [path::AbstractString = tempname()]) -> path\n",
       "\\end{verbatim}\n",
       "Download a file from the given url, saving it to the location \\texttt{path}, or if not specified, a temporary path. Returns the path of the downloaded file.\n",
       "\n",
       "\\begin{quote}\n",
       "\\textbf{note}\n",
       "\n",
       "Note\n",
       "\n",
       "Since Julia 1.6, this function is deprecated and is just a thin wrapper around \\texttt{Downloads.download}. In new code, you should use that function directly instead of calling this.\n",
       "\n",
       "\\end{quote}\n"
      ],
      "text/markdown": [
       "```\n",
       "download(url::AbstractString, [path::AbstractString = tempname()]) -> path\n",
       "```\n",
       "\n",
       "Download a file from the given url, saving it to the location `path`, or if not specified, a temporary path. Returns the path of the downloaded file.\n",
       "\n",
       "!!! note\n",
       "    Since Julia 1.6, this function is deprecated and is just a thin wrapper around `Downloads.download`. In new code, you should use that function directly instead of calling this.\n",
       "\n"
      ],
      "text/plain": [
       "\u001b[36m  download(url::AbstractString, [path::AbstractString = tempname()]) -> path\u001b[39m\n",
       "\n",
       "  Download a file from the given url, saving it to the location \u001b[36mpath\u001b[39m, or if\n",
       "  not specified, a temporary path. Returns the path of the downloaded file.\n",
       "\n",
       "\u001b[36m\u001b[1m  │ \u001b[22m\u001b[39m\u001b[36m\u001b[1mNote\u001b[22m\u001b[39m\n",
       "\u001b[36m\u001b[1m  │\u001b[22m\u001b[39m\n",
       "\u001b[36m\u001b[1m  │\u001b[22m\u001b[39m  Since Julia 1.6, this function is deprecated and is just a thin\n",
       "\u001b[36m\u001b[1m  │\u001b[22m\u001b[39m  wrapper around \u001b[36mDownloads.download\u001b[39m. In new code, you should use\n",
       "\u001b[36m\u001b[1m  │\u001b[22m\u001b[39m  that function directly instead of calling this."
      ]
     },
     "execution_count": 3,
     "metadata": {},
     "output_type": "execute_result"
    }
   ],
   "source": [
    "?download"
   ]
  },
  {
   "cell_type": "code",
   "execution_count": 4,
   "id": "4411c377",
   "metadata": {},
   "outputs": [
    {
     "data": {
      "text/plain": [
       "\"programminglanguages.csv\""
      ]
     },
     "execution_count": 4,
     "metadata": {},
     "output_type": "execute_result"
    }
   ],
   "source": [
    "p = download(\"https://raw.githubusercontent.com/nassarhuda/easy_data/master/programming_languages.csv\",\n",
    "    \"programminglanguages.csv\")"
   ]
  },
  {
   "cell_type": "code",
   "execution_count": 6,
   "id": "9709b319",
   "metadata": {},
   "outputs": [
    {
     "name": "stderr",
     "output_type": "stream",
     "text": [
      "  % Total    % Received % Xferd  Average Speed   Time    Time     Time  Current\r\n",
      "                                 Dload  Upload   Total   Spent    Left  Speed\r\n",
      "\r",
      "  0     0    0     0    0     0      0      0 --:--:-- --:--:-- --:--:--     0"
     ]
    },
    {
     "name": "stdout",
     "output_type": "stream",
     "text": [
      "year,language\n",
      "1951,Regional Assembly Language\n",
      "1952,Autocode\n",
      "1954,IPL\n",
      "1955,FLOW-MATIC\n",
      "1957,FORTRAN\n",
      "1957,COMTRAN\n",
      "1958,LISP\n",
      "1958,ALGOL 58\n",
      "1959,FACT\n",
      "1959,COBOL\n",
      "1959,RPG\n",
      "1962,APL\n",
      "1962,Simula\n",
      "1962,SNOBOL\n",
      "1963,CPL\n",
      "1964,Speakeasy\n",
      "1964,BASIC\n",
      "1964,PL/I\n",
      "1966,JOSS\n",
      "1967,BCPL\n",
      "1968,Logo\n",
      "1969,B\n",
      "1970,Pascal\n",
      "1970,Forth\n",
      "1972,C\n",
      "1972,Smalltalk\n",
      "1972,Prolog\n",
      "1973,ML\n",
      "1975,Scheme\n",
      "1978,SQL \n",
      "1980,C++ \n",
      "1983,Ada\n",
      "1984,Common Lisp\n",
      "1984,MATLAB\n",
      "1984,dBase III\n",
      "1985,Eiffel\n",
      "1986,Objective-C\n",
      "1986,LabVIEW \n",
      "1986,Erlang\n",
      "1987,Perl\n",
      "1988,Tcl\n",
      "1988,Wolfram Language \n",
      "1989,FL \n",
      "1990,Haskell\n",
      "1991,Python\n",
      "1991,Visual Basic\n",
      "1993,Lua\n",
      "1993,R\n",
      "1994,CLOS \n",
      "1995,Ruby\n",
      "1995,Ada 95\n",
      "1995,Java\n",
      "1995,Delphi \n",
      "1995,JavaScript\n",
      "1995,PHP\n",
      "1997,Rebol\n",
      "2000,ActionScript\n",
      "2001,C#\n",
      "2001,D\n",
      "2002,Scratch\n",
      "2003,Groovy\n",
      "2003,Scala\n",
      "2005,F#\n",
      "2006,PowerShell\n",
      "2007,Clojure\n",
      "2009,Go\n",
      "2010,Rust\n",
      "2011,Dart\n",
      "2011,Kotlin\n",
      "2011,Red\n",
      "2011,Elixir\n",
      "2012,Julia\n",
      "2014,Swift\n"
     ]
    },
    {
     "name": "stderr",
     "output_type": "stream",
     "text": [
      "\r",
      "  0     0    0     0    0     0      0      0 --:--:--  0:00:01 --:--:--     0\r",
      "100   876  100   876    0     0    876      0  0:00:01  0:00:01 --:--:--   800\r\n"
     ]
    }
   ],
   "source": [
    ";curl \"https://raw.githubusercontent.com/nassarhuda/easy_data/master/programming_languages.csv\""
   ]
  },
  {
   "cell_type": "code",
   "execution_count": 7,
   "id": "38cf4c41",
   "metadata": {},
   "outputs": [],
   "source": [
    "# curl worked for me rather than wget and head"
   ]
  },
  {
   "cell_type": "code",
   "execution_count": 8,
   "id": "c8646d30",
   "metadata": {
    "collapsed": true
   },
   "outputs": [
    {
     "ename": "LoadError",
     "evalue": "IOError: could not spawn `head https://raw.githubusercontent.com/nassarhuda/easy_data/master/programming_languages.csv`: no such file or directory (ENOENT)",
     "output_type": "error",
     "traceback": [
      "IOError: could not spawn `head https://raw.githubusercontent.com/nassarhuda/easy_data/master/programming_languages.csv`: no such file or directory (ENOENT)",
      "",
      "Stacktrace:",
      "  [1] _spawn_primitive(file::String, cmd::Cmd, stdio::Vector{Any})",
      "    @ Base .\\process.jl:99",
      "  [2] #637",
      "    @ .\\process.jl:112 [inlined]",
      "  [3] setup_stdios(f::Base.var\"#637#638\"{Cmd}, stdios::Vector{Any})",
      "    @ Base .\\process.jl:196",
      "  [4] _spawn",
      "    @ .\\process.jl:111 [inlined]",
      "  [5] run(::Cmd; wait::Bool)",
      "    @ Base .\\process.jl:439",
      "  [6] run",
      "    @ .\\process.jl:438 [inlined]",
      "  [7] repl_cmd(cmd::Cmd, out::IJulia.IJuliaStdio{Base.PipeEndpoint})",
      "    @ Base .\\client.jl:69",
      "  [8] top-level scope",
      "    @ In[8]:1",
      "  [9] eval",
      "    @ .\\boot.jl:360 [inlined]",
      " [10] include_string(mapexpr::typeof(REPL.softscope), mod::Module, code::String, filename::String)",
      "    @ Base .\\loading.jl:1094"
     ]
    }
   ],
   "source": [
    ";head \"https://raw.githubusercontent.com/nassarhuda/easy_data/master/programming_languages.csv\""
   ]
  },
  {
   "cell_type": "code",
   "execution_count": 13,
   "id": "56957380",
   "metadata": {},
   "outputs": [],
   "source": [
    "#=\n",
    "readdlm(source, \n",
    "    delim::AbstractChar, \n",
    "    T::Type, \n",
    "    eol::AbstractChar; \n",
    "    header=false, \n",
    "    skipstart=0, \n",
    "    skipblanks=true, \n",
    "    use_mmap, \n",
    "    quotes=true, \n",
    "    dims, \n",
    "    comments=false, \n",
    "    comment_char='#')\n",
    "=#\n",
    "P, H = readdlm(\"programminglanguages.csv\", ','; header=true);"
   ]
  },
  {
   "cell_type": "code",
   "execution_count": 14,
   "id": "94b1741f",
   "metadata": {},
   "outputs": [
    {
     "data": {
      "text/plain": [
       "1×2 Matrix{AbstractString}:\n",
       " \"year\"  \"language\""
      ]
     },
     "execution_count": 14,
     "metadata": {},
     "output_type": "execute_result"
    }
   ],
   "source": [
    "H"
   ]
  },
  {
   "cell_type": "code",
   "execution_count": 15,
   "id": "c6ecd5c9",
   "metadata": {},
   "outputs": [
    {
     "data": {
      "text/plain": [
       "73×2 Matrix{Any}:\n",
       " 1951  \"Regional Assembly Language\"\n",
       " 1952  \"Autocode\"\n",
       " 1954  \"IPL\"\n",
       " 1955  \"FLOW-MATIC\"\n",
       " 1957  \"FORTRAN\"\n",
       " 1957  \"COMTRAN\"\n",
       " 1958  \"LISP\"\n",
       " 1958  \"ALGOL 58\"\n",
       " 1959  \"FACT\"\n",
       " 1959  \"COBOL\"\n",
       " 1959  \"RPG\"\n",
       " 1962  \"APL\"\n",
       " 1962  \"Simula\"\n",
       "    ⋮  \n",
       " 2003  \"Scala\"\n",
       " 2005  \"F#\"\n",
       " 2006  \"PowerShell\"\n",
       " 2007  \"Clojure\"\n",
       " 2009  \"Go\"\n",
       " 2010  \"Rust\"\n",
       " 2011  \"Dart\"\n",
       " 2011  \"Kotlin\"\n",
       " 2011  \"Red\"\n",
       " 2011  \"Elixir\"\n",
       " 2012  \"Julia\"\n",
       " 2014  \"Swift\""
      ]
     },
     "execution_count": 15,
     "metadata": {},
     "output_type": "execute_result"
    }
   ],
   "source": [
    "P"
   ]
  },
  {
   "cell_type": "code",
   "execution_count": 16,
   "id": "5c79bfec",
   "metadata": {},
   "outputs": [],
   "source": [
    "# P is actual data and H is header for data"
   ]
  },
  {
   "cell_type": "code",
   "execution_count": 17,
   "id": "1025b76f",
   "metadata": {},
   "outputs": [],
   "source": [
    "# to write to a text file, you can:\n",
    "writedlm(\"programminglanguages_dlm.txt\", P, '-')"
   ]
  },
  {
   "cell_type": "code",
   "execution_count": 21,
   "id": "d4c53ab9",
   "metadata": {},
   "outputs": [],
   "source": [
    "C = CSV.read(\"programminglanguages.csv\", DataFrame);"
   ]
  },
  {
   "cell_type": "code",
   "execution_count": 25,
   "id": "29913a81",
   "metadata": {},
   "outputs": [
    {
     "name": "stdout",
     "output_type": "stream",
     "text": [
      "typeof(C) = DataFrame\n"
     ]
    },
    {
     "data": {
      "text/html": [
       "<table class=\"data-frame\"><thead><tr><th></th><th>year</th><th>language</th></tr><tr><th></th><th>Int64</th><th>String</th></tr></thead><tbody><p>10 rows × 2 columns</p><tr><th>1</th><td>1951</td><td>Regional Assembly Language</td></tr><tr><th>2</th><td>1952</td><td>Autocode</td></tr><tr><th>3</th><td>1954</td><td>IPL</td></tr><tr><th>4</th><td>1955</td><td>FLOW-MATIC</td></tr><tr><th>5</th><td>1957</td><td>FORTRAN</td></tr><tr><th>6</th><td>1957</td><td>COMTRAN</td></tr><tr><th>7</th><td>1958</td><td>LISP</td></tr><tr><th>8</th><td>1958</td><td>ALGOL 58</td></tr><tr><th>9</th><td>1959</td><td>FACT</td></tr><tr><th>10</th><td>1959</td><td>COBOL</td></tr></tbody></table>"
      ],
      "text/latex": [
       "\\begin{tabular}{r|cc}\n",
       "\t& year & language\\\\\n",
       "\t\\hline\n",
       "\t& Int64 & String\\\\\n",
       "\t\\hline\n",
       "\t1 & 1951 & Regional Assembly Language \\\\\n",
       "\t2 & 1952 & Autocode \\\\\n",
       "\t3 & 1954 & IPL \\\\\n",
       "\t4 & 1955 & FLOW-MATIC \\\\\n",
       "\t5 & 1957 & FORTRAN \\\\\n",
       "\t6 & 1957 & COMTRAN \\\\\n",
       "\t7 & 1958 & LISP \\\\\n",
       "\t8 & 1958 & ALGOL 58 \\\\\n",
       "\t9 & 1959 & FACT \\\\\n",
       "\t10 & 1959 & COBOL \\\\\n",
       "\\end{tabular}\n"
      ],
      "text/plain": [
       "\u001b[1m10×2 DataFrame\u001b[0m\n",
       "\u001b[1m Row \u001b[0m│\u001b[1m year  \u001b[0m\u001b[1m language                   \u001b[0m\n",
       "\u001b[1m     \u001b[0m│\u001b[90m Int64 \u001b[0m\u001b[90m String                     \u001b[0m\n",
       "─────┼───────────────────────────────────\n",
       "   1 │  1951  Regional Assembly Language\n",
       "   2 │  1952  Autocode\n",
       "   3 │  1954  IPL\n",
       "   4 │  1955  FLOW-MATIC\n",
       "   5 │  1957  FORTRAN\n",
       "   6 │  1957  COMTRAN\n",
       "   7 │  1958  LISP\n",
       "   8 │  1958  ALGOL 58\n",
       "   9 │  1959  FACT\n",
       "  10 │  1959  COBOL"
      ]
     },
     "execution_count": 25,
     "metadata": {},
     "output_type": "execute_result"
    }
   ],
   "source": [
    "@show typeof(C)\n",
    "C[1:10,:]\n",
    "#C.year C[!,:year]"
   ]
  },
  {
   "cell_type": "code",
   "execution_count": 26,
   "id": "be360361",
   "metadata": {},
   "outputs": [
    {
     "name": "stdout",
     "output_type": "stream",
     "text": [
      "typeof(P) = Matrix{Any}\n"
     ]
    },
    {
     "data": {
      "text/plain": [
       "10×2 Matrix{Any}:\n",
       " 1951  \"Regional Assembly Language\"\n",
       " 1952  \"Autocode\"\n",
       " 1954  \"IPL\"\n",
       " 1955  \"FLOW-MATIC\"\n",
       " 1957  \"FORTRAN\"\n",
       " 1957  \"COMTRAN\"\n",
       " 1958  \"LISP\"\n",
       " 1958  \"ALGOL 58\"\n",
       " 1959  \"FACT\"\n",
       " 1959  \"COBOL\""
      ]
     },
     "execution_count": 26,
     "metadata": {},
     "output_type": "execute_result"
    }
   ],
   "source": [
    "@show typeof(P)\n",
    "P[1:10,:]"
   ]
  },
  {
   "cell_type": "code",
   "execution_count": 28,
   "id": "11d9e8cd",
   "metadata": {},
   "outputs": [
    {
     "data": {
      "text/plain": [
       "2-element Vector{String}:\n",
       " \"year\"\n",
       " \"language\""
      ]
     },
     "execution_count": 28,
     "metadata": {},
     "output_type": "execute_result"
    }
   ],
   "source": [
    "names(C)"
   ]
  },
  {
   "cell_type": "code",
   "execution_count": 27,
   "id": "59429ae0",
   "metadata": {},
   "outputs": [
    {
     "data": {
      "text/html": [
       "<table class=\"data-frame\"><thead><tr><th></th><th>variable</th><th>mean</th><th>min</th><th>median</th><th>max</th><th>nmissing</th><th>eltype</th></tr><tr><th></th><th>Symbol</th><th>Union…</th><th>Any</th><th>Union…</th><th>Any</th><th>Int64</th><th>DataType</th></tr></thead><tbody><p>2 rows × 7 columns</p><tr><th>1</th><td>year</td><td>1982.99</td><td>1951</td><td>1986.0</td><td>2014</td><td>0</td><td>Int64</td></tr><tr><th>2</th><td>language</td><td></td><td>ALGOL 58</td><td></td><td>dBase III</td><td>0</td><td>String</td></tr></tbody></table>"
      ],
      "text/latex": [
       "\\begin{tabular}{r|ccccccc}\n",
       "\t& variable & mean & min & median & max & nmissing & eltype\\\\\n",
       "\t\\hline\n",
       "\t& Symbol & Union… & Any & Union… & Any & Int64 & DataType\\\\\n",
       "\t\\hline\n",
       "\t1 & year & 1982.99 & 1951 & 1986.0 & 2014 & 0 & Int64 \\\\\n",
       "\t2 & language &  & ALGOL 58 &  & dBase III & 0 & String \\\\\n",
       "\\end{tabular}\n"
      ],
      "text/plain": [
       "\u001b[1m2×7 DataFrame\u001b[0m\n",
       "\u001b[1m Row \u001b[0m│\u001b[1m variable \u001b[0m\u001b[1m mean    \u001b[0m\u001b[1m min      \u001b[0m\u001b[1m median \u001b[0m\u001b[1m max       \u001b[0m\u001b[1m nmissing \u001b[0m\u001b[1m eltype   \u001b[0m\n",
       "\u001b[1m     \u001b[0m│\u001b[90m Symbol   \u001b[0m\u001b[90m Union…  \u001b[0m\u001b[90m Any      \u001b[0m\u001b[90m Union… \u001b[0m\u001b[90m Any       \u001b[0m\u001b[90m Int64    \u001b[0m\u001b[90m DataType \u001b[0m\n",
       "─────┼────────────────────────────────────────────────────────────────────\n",
       "   1 │ year      1982.99  1951      1986.0  2014              0  Int64\n",
       "   2 │ language \u001b[90m         \u001b[0m ALGOL 58 \u001b[90m        \u001b[0m dBase III         0  String"
      ]
     },
     "execution_count": 27,
     "metadata": {},
     "output_type": "execute_result"
    }
   ],
   "source": [
    "names(C)\n",
    "C.year\n",
    "C.language\n",
    "describe(C)"
   ]
  },
  {
   "cell_type": "code",
   "execution_count": 29,
   "id": "1375efe1",
   "metadata": {},
   "outputs": [
    {
     "name": "stdout",
     "output_type": "stream",
     "text": [
      "  190.500 μs (322 allocations: 51.02 KiB)\n",
      "  236.200 μs (227 allocations: 21.89 KiB)\n"
     ]
    }
   ],
   "source": [
    "@btime P, H = readdlm(\"programminglanguages.csv\", ',';header=true);\n",
    "@btime C = CSV.read(\"programminglanguages.csv\", DataFrame);"
   ]
  },
  {
   "cell_type": "code",
   "execution_count": 33,
   "id": "ef8c076b",
   "metadata": {},
   "outputs": [
    {
     "data": {
      "text/plain": [
       "\"programminglanguages_CSV.csv\""
      ]
     },
     "execution_count": 33,
     "metadata": {},
     "output_type": "execute_result"
    }
   ],
   "source": [
    "# to write to a *.csv file using the CSV package\n",
    "CSV.write(\"programminglanguages_CSV.csv\", DataFrame(P, :auto))"
   ]
  },
  {
   "cell_type": "code",
   "execution_count": 35,
   "id": "26e530d3",
   "metadata": {
    "collapsed": true
   },
   "outputs": [
    {
     "ename": "LoadError",
     "evalue": "AssertionError: File data/zillow_data_download_april2020.xlsx not found.",
     "output_type": "error",
     "traceback": [
      "AssertionError: File data/zillow_data_download_april2020.xlsx not found.",
      "",
      "Stacktrace:",
      " [1] openxlsx(f::XLSX.var\"#18#19\"{String, String}, filepath::String; mode::String, enable_cache::Bool)",
      "   @ XLSX C:\\Users\\kgtrm\\.julia\\packages\\XLSX\\cRAtd\\src\\read.jl:122",
      " [2] readdata(filepath::String, sheet::String, ref::String)",
      "   @ XLSX C:\\Users\\kgtrm\\.julia\\packages\\XLSX\\cRAtd\\src\\read.jl:501",
      " [3] top-level scope",
      "   @ In[35]:1",
      " [4] eval",
      "   @ .\\boot.jl:360 [inlined]",
      " [5] include_string(mapexpr::typeof(REPL.softscope), mod::Module, code::String, filename::String)",
      "   @ Base .\\loading.jl:1094"
     ]
    }
   ],
   "source": [
    "T = XLSX.readdata(\"data/zillow_data_download_april2020.xlsx\", #file name\n",
    "    \"Sales_counts_city\", #sheet name\n",
    "    \"A1:F9\" #cell range\n",
    "    )\n",
    "\n",
    "# the data download was not provided\n",
    "# you don't need cell ranges but they help make it easier since\n",
    "# it won't try to load the entire spreadsheet"
   ]
  },
  {
   "cell_type": "code",
   "execution_count": 36,
   "id": "ad0adf2a",
   "metadata": {},
   "outputs": [],
   "source": [
    "# skipping stuff it did with XLSX since the file wasn't provided"
   ]
  },
  {
   "cell_type": "code",
   "execution_count": 38,
   "id": "14be35bb",
   "metadata": {},
   "outputs": [
    {
     "data": {
      "text/html": [
       "<table class=\"data-frame\"><thead><tr><th></th><th>x1</th><th>x2</th></tr><tr><th></th><th>Any</th><th>Any</th></tr></thead><tbody><p>73 rows × 2 columns</p><tr><th>1</th><td>1951</td><td>Regional Assembly Language</td></tr><tr><th>2</th><td>1952</td><td>Autocode</td></tr><tr><th>3</th><td>1954</td><td>IPL</td></tr><tr><th>4</th><td>1955</td><td>FLOW-MATIC</td></tr><tr><th>5</th><td>1957</td><td>FORTRAN</td></tr><tr><th>6</th><td>1957</td><td>COMTRAN</td></tr><tr><th>7</th><td>1958</td><td>LISP</td></tr><tr><th>8</th><td>1958</td><td>ALGOL 58</td></tr><tr><th>9</th><td>1959</td><td>FACT</td></tr><tr><th>10</th><td>1959</td><td>COBOL</td></tr><tr><th>11</th><td>1959</td><td>RPG</td></tr><tr><th>12</th><td>1962</td><td>APL</td></tr><tr><th>13</th><td>1962</td><td>Simula</td></tr><tr><th>14</th><td>1962</td><td>SNOBOL</td></tr><tr><th>15</th><td>1963</td><td>CPL</td></tr><tr><th>16</th><td>1964</td><td>Speakeasy</td></tr><tr><th>17</th><td>1964</td><td>BASIC</td></tr><tr><th>18</th><td>1964</td><td>PL/I</td></tr><tr><th>19</th><td>1966</td><td>JOSS</td></tr><tr><th>20</th><td>1967</td><td>BCPL</td></tr><tr><th>21</th><td>1968</td><td>Logo</td></tr><tr><th>22</th><td>1969</td><td>B</td></tr><tr><th>23</th><td>1970</td><td>Pascal</td></tr><tr><th>24</th><td>1970</td><td>Forth</td></tr><tr><th>25</th><td>1972</td><td>C</td></tr><tr><th>26</th><td>1972</td><td>Smalltalk</td></tr><tr><th>27</th><td>1972</td><td>Prolog</td></tr><tr><th>28</th><td>1973</td><td>ML</td></tr><tr><th>29</th><td>1975</td><td>Scheme</td></tr><tr><th>30</th><td>1978</td><td>SQL </td></tr><tr><th>&vellip;</th><td>&vellip;</td><td>&vellip;</td></tr></tbody></table>"
      ],
      "text/latex": [
       "\\begin{tabular}{r|cc}\n",
       "\t& x1 & x2\\\\\n",
       "\t\\hline\n",
       "\t& Any & Any\\\\\n",
       "\t\\hline\n",
       "\t1 & 1951 & Regional Assembly Language \\\\\n",
       "\t2 & 1952 & Autocode \\\\\n",
       "\t3 & 1954 & IPL \\\\\n",
       "\t4 & 1955 & FLOW-MATIC \\\\\n",
       "\t5 & 1957 & FORTRAN \\\\\n",
       "\t6 & 1957 & COMTRAN \\\\\n",
       "\t7 & 1958 & LISP \\\\\n",
       "\t8 & 1958 & ALGOL 58 \\\\\n",
       "\t9 & 1959 & FACT \\\\\n",
       "\t10 & 1959 & COBOL \\\\\n",
       "\t11 & 1959 & RPG \\\\\n",
       "\t12 & 1962 & APL \\\\\n",
       "\t13 & 1962 & Simula \\\\\n",
       "\t14 & 1962 & SNOBOL \\\\\n",
       "\t15 & 1963 & CPL \\\\\n",
       "\t16 & 1964 & Speakeasy \\\\\n",
       "\t17 & 1964 & BASIC \\\\\n",
       "\t18 & 1964 & PL/I \\\\\n",
       "\t19 & 1966 & JOSS \\\\\n",
       "\t20 & 1967 & BCPL \\\\\n",
       "\t21 & 1968 & Logo \\\\\n",
       "\t22 & 1969 & B \\\\\n",
       "\t23 & 1970 & Pascal \\\\\n",
       "\t24 & 1970 & Forth \\\\\n",
       "\t25 & 1972 & C \\\\\n",
       "\t26 & 1972 & Smalltalk \\\\\n",
       "\t27 & 1972 & Prolog \\\\\n",
       "\t28 & 1973 & ML \\\\\n",
       "\t29 & 1975 & Scheme \\\\\n",
       "\t30 & 1978 & SQL  \\\\\n",
       "\t$\\dots$ & $\\dots$ & $\\dots$ \\\\\n",
       "\\end{tabular}\n"
      ],
      "text/plain": [
       "\u001b[1m73×2 DataFrame\u001b[0m\n",
       "\u001b[1m Row \u001b[0m│\u001b[1m x1   \u001b[0m\u001b[1m x2                         \u001b[0m\n",
       "\u001b[1m     \u001b[0m│\u001b[90m Any  \u001b[0m\u001b[90m Any                        \u001b[0m\n",
       "─────┼──────────────────────────────────\n",
       "   1 │ 1951  Regional Assembly Language\n",
       "   2 │ 1952  Autocode\n",
       "   3 │ 1954  IPL\n",
       "   4 │ 1955  FLOW-MATIC\n",
       "   5 │ 1957  FORTRAN\n",
       "   6 │ 1957  COMTRAN\n",
       "   7 │ 1958  LISP\n",
       "   8 │ 1958  ALGOL 58\n",
       "   9 │ 1959  FACT\n",
       "  10 │ 1959  COBOL\n",
       "  11 │ 1959  RPG\n",
       "  ⋮  │  ⋮                ⋮\n",
       "  64 │ 2006  PowerShell\n",
       "  65 │ 2007  Clojure\n",
       "  66 │ 2009  Go\n",
       "  67 │ 2010  Rust\n",
       "  68 │ 2011  Dart\n",
       "  69 │ 2011  Kotlin\n",
       "  70 │ 2011  Red\n",
       "  71 │ 2011  Elixir\n",
       "  72 │ 2012  Julia\n",
       "  73 │ 2014  Swift\n",
       "\u001b[36m                         52 rows omitted\u001b[0m"
      ]
     },
     "execution_count": 38,
     "metadata": {},
     "output_type": "execute_result"
    }
   ],
   "source": [
    "DataFrame(P, :auto)"
   ]
  },
  {
   "cell_type": "code",
   "execution_count": 39,
   "id": "6166dd88",
   "metadata": {},
   "outputs": [],
   "source": [
    "# more stuff with G and data I don't have"
   ]
  },
  {
   "cell_type": "code",
   "execution_count": 40,
   "id": "9c33ba4e",
   "metadata": {},
   "outputs": [
    {
     "data": {
      "text/html": [
       "<table class=\"data-frame\"><thead><tr><th></th><th>item</th><th>price</th></tr><tr><th></th><th>String</th><th>Float64</th></tr></thead><tbody><p>4 rows × 2 columns</p><tr><th>1</th><td>apple</td><td>0.85</td></tr><tr><th>2</th><td>cucumber</td><td>1.6</td></tr><tr><th>3</th><td>tomato</td><td>0.8</td></tr><tr><th>4</th><td>banana</td><td>0.6</td></tr></tbody></table>"
      ],
      "text/latex": [
       "\\begin{tabular}{r|cc}\n",
       "\t& item & price\\\\\n",
       "\t\\hline\n",
       "\t& String & Float64\\\\\n",
       "\t\\hline\n",
       "\t1 & apple & 0.85 \\\\\n",
       "\t2 & cucumber & 1.6 \\\\\n",
       "\t3 & tomato & 0.8 \\\\\n",
       "\t4 & banana & 0.6 \\\\\n",
       "\\end{tabular}\n"
      ],
      "text/plain": [
       "\u001b[1m4×2 DataFrame\u001b[0m\n",
       "\u001b[1m Row \u001b[0m│\u001b[1m item     \u001b[0m\u001b[1m price   \u001b[0m\n",
       "\u001b[1m     \u001b[0m│\u001b[90m String   \u001b[0m\u001b[90m Float64 \u001b[0m\n",
       "─────┼───────────────────\n",
       "   1 │ apple        0.85\n",
       "   2 │ cucumber     1.6\n",
       "   3 │ tomato       0.8\n",
       "   4 │ banana       0.6"
      ]
     },
     "execution_count": 40,
     "metadata": {},
     "output_type": "execute_result"
    }
   ],
   "source": [
    "foods = [\"apple\", \"cucumber\", \"tomato\", \"banana\"]\n",
    "calories = [105, 47, 22, 105]\n",
    "prices = [0.85, 1.6, 0.8, 0.6]\n",
    "dataframe_calories = DataFrame(item=foods, calories=calories)\n",
    "dataframe_prices = DataFrame(item=foods, price=prices)"
   ]
  },
  {
   "cell_type": "code",
   "execution_count": 43,
   "id": "6b005508",
   "metadata": {
    "scrolled": false
   },
   "outputs": [
    {
     "data": {
      "text/html": [
       "<table class=\"data-frame\"><thead><tr><th></th><th>item</th><th>calories</th><th>price</th></tr><tr><th></th><th>String</th><th>Int64</th><th>Float64</th></tr></thead><tbody><p>4 rows × 3 columns</p><tr><th>1</th><td>apple</td><td>105</td><td>0.85</td></tr><tr><th>2</th><td>cucumber</td><td>47</td><td>1.6</td></tr><tr><th>3</th><td>tomato</td><td>22</td><td>0.8</td></tr><tr><th>4</th><td>banana</td><td>105</td><td>0.6</td></tr></tbody></table>"
      ],
      "text/latex": [
       "\\begin{tabular}{r|ccc}\n",
       "\t& item & calories & price\\\\\n",
       "\t\\hline\n",
       "\t& String & Int64 & Float64\\\\\n",
       "\t\\hline\n",
       "\t1 & apple & 105 & 0.85 \\\\\n",
       "\t2 & cucumber & 47 & 1.6 \\\\\n",
       "\t3 & tomato & 22 & 0.8 \\\\\n",
       "\t4 & banana & 105 & 0.6 \\\\\n",
       "\\end{tabular}\n"
      ],
      "text/plain": [
       "\u001b[1m4×3 DataFrame\u001b[0m\n",
       "\u001b[1m Row \u001b[0m│\u001b[1m item     \u001b[0m\u001b[1m calories \u001b[0m\u001b[1m price   \u001b[0m\n",
       "\u001b[1m     \u001b[0m│\u001b[90m String   \u001b[0m\u001b[90m Int64    \u001b[0m\u001b[90m Float64 \u001b[0m\n",
       "─────┼─────────────────────────────\n",
       "   1 │ apple          105     0.85\n",
       "   2 │ cucumber        47     1.6\n",
       "   3 │ tomato          22     0.8\n",
       "   4 │ banana         105     0.6"
      ]
     },
     "execution_count": 43,
     "metadata": {},
     "output_type": "execute_result"
    }
   ],
   "source": [
    "DF = innerjoin(dataframe_calories, dataframe_prices,on=:item)"
   ]
  },
  {
   "cell_type": "code",
   "execution_count": 44,
   "id": "de8c8f94",
   "metadata": {},
   "outputs": [],
   "source": [
    "# if you already have a dataframe:\n",
    "# XLSX.writetable(\"filename.xlsx\", collect(DataFrames.eachcol(df)), DataFrames.names(df))\n",
    "XLSX.writetable(\"writefile_using_XLSX.XLSX\", DF)"
   ]
  },
  {
   "cell_type": "code",
   "execution_count": 45,
   "id": "4ecb3f53",
   "metadata": {},
   "outputs": [],
   "source": [
    "# the next section contains data files that were again not provided"
   ]
  },
  {
   "cell_type": "code",
   "execution_count": 46,
   "id": "73a57a6e",
   "metadata": {
    "collapsed": true
   },
   "outputs": [
    {
     "ename": "LoadError",
     "evalue": "ArgumentError: No file exists at given path: data/mytempdata.jld",
     "output_type": "error",
     "traceback": [
      "ArgumentError: No file exists at given path: data/mytempdata.jld",
      "",
      "Stacktrace:",
      " [1] checkpath_load",
      "   @ C:\\Users\\kgtrm\\.julia\\packages\\FileIO\\7CSs0\\src\\loadsave.jl:167 [inlined]",
      " [2] load(::String; options::Base.Iterators.Pairs{Union{}, Union{}, Tuple{}, NamedTuple{(), Tuple{}}})",
      "   @ FileIO C:\\Users\\kgtrm\\.julia\\packages\\FileIO\\7CSs0\\src\\loadsave.jl:110",
      " [3] load(::String)",
      "   @ FileIO C:\\Users\\kgtrm\\.julia\\packages\\FileIO\\7CSs0\\src\\loadsave.jl:110",
      " [4] top-level scope",
      "   @ In[46]:2",
      " [5] eval",
      "   @ .\\boot.jl:360 [inlined]",
      " [6] include_string(mapexpr::typeof(REPL.softscope), mod::Module, code::String, filename::String)",
      "   @ Base .\\loading.jl:1094"
     ]
    }
   ],
   "source": [
    "using JLD\n",
    "jld_data = JLD.load(\"data/mytempdata.jld\")\n",
    "save(\"mywrite.jld\", \"A\", jld_data)"
   ]
  },
  {
   "cell_type": "code",
   "execution_count": 47,
   "id": "17ad83f2",
   "metadata": {
    "collapsed": true
   },
   "outputs": [
    {
     "ename": "LoadError",
     "evalue": "SystemError: opening file \"data/mytempdata.npz\": No such file or directory",
     "output_type": "error",
     "traceback": [
      "SystemError: opening file \"data/mytempdata.npz\": No such file or directory",
      "",
      "Stacktrace:",
      " [1] systemerror(p::String, errno::Int32; extrainfo::Nothing)",
      "   @ Base .\\error.jl:168",
      " [2] #systemerror#62",
      "   @ .\\error.jl:167 [inlined]",
      " [3] systemerror",
      "   @ .\\error.jl:167 [inlined]",
      " [4] open(fname::String; lock::Bool, read::Nothing, write::Nothing, create::Nothing, truncate::Nothing, append::Nothing)",
      "   @ Base .\\iostream.jl:293",
      " [5] open",
      "   @ .\\iostream.jl:282 [inlined]",
      " [6] npzread(::String)",
      "   @ NPZ C:\\Users\\kgtrm\\.julia\\packages\\NPZ\\UizJj\\src\\NPZ.jl:290",
      " [7] top-level scope",
      "   @ In[47]:2",
      " [8] eval",
      "   @ .\\boot.jl:360 [inlined]",
      " [9] include_string(mapexpr::typeof(REPL.softscope), mod::Module, code::String, filename::String)",
      "   @ Base .\\loading.jl:1094"
     ]
    }
   ],
   "source": [
    "using NPZ\n",
    "npz_data = npzread(\"data/mytempdata.npz\")\n",
    "npzwrite(\"mywrite.npz\", npz_data)"
   ]
  },
  {
   "cell_type": "code",
   "execution_count": 49,
   "id": "9b218051",
   "metadata": {
    "collapsed": true
   },
   "outputs": [
    {
     "name": "stderr",
     "output_type": "stream",
     "text": [
      "┌ Info: Precompiling RData [df47a6cb-8c03-5eed-afd8-b6050d6c41da]\n",
      "└ @ Base loading.jl:1317\n"
     ]
    },
    {
     "ename": "LoadError",
     "evalue": "ArgumentError: No file exists at given path: data/mytempdata.rda",
     "output_type": "error",
     "traceback": [
      "ArgumentError: No file exists at given path: data/mytempdata.rda",
      "",
      "Stacktrace:",
      " [1] checkpath_load",
      "   @ C:\\Users\\kgtrm\\.julia\\packages\\FileIO\\7CSs0\\src\\loadsave.jl:167 [inlined]",
      " [2] load(::String; options::Base.Iterators.Pairs{Union{}, Union{}, Tuple{}, NamedTuple{(), Tuple{}}})",
      "   @ FileIO C:\\Users\\kgtrm\\.julia\\packages\\FileIO\\7CSs0\\src\\loadsave.jl:110",
      " [3] load(::String)",
      "   @ FileIO C:\\Users\\kgtrm\\.julia\\packages\\FileIO\\7CSs0\\src\\loadsave.jl:110",
      " [4] top-level scope",
      "   @ In[49]:2",
      " [5] eval",
      "   @ .\\boot.jl:360 [inlined]",
      " [6] include_string(mapexpr::typeof(REPL.softscope), mod::Module, code::String, filename::String)",
      "   @ Base .\\loading.jl:1094"
     ]
    }
   ],
   "source": [
    "using RData\n",
    "R_data = RData.load(\"data/mytempdata.rda\")\n",
    "# we'll need RCall to save here https://github.com/JuliaData/RData.jl/issues/56\n",
    "# I also don't have R so this didn't work for two reasons\n",
    "using RCall\n",
    "@rput R_data\n",
    "R\"save(R_data, file=\\\"mywrite.rda\\\")\""
   ]
  },
  {
   "cell_type": "code",
   "execution_count": 50,
   "id": "f700e7f9",
   "metadata": {
    "collapsed": true
   },
   "outputs": [
    {
     "ename": "LoadError",
     "evalue": "File \"data/mytempdata.mat\" does not exist and create was not specified",
     "output_type": "error",
     "traceback": [
      "File \"data/mytempdata.mat\" does not exist and create was not specified",
      "",
      "Stacktrace:",
      "  [1] error(s::String)",
      "    @ Base .\\error.jl:33",
      "  [2] matopen(filename::String, rd::Bool, wr::Bool, cr::Bool, tr::Bool, ff::Bool, compress::Bool)",
      "    @ MAT C:\\Users\\kgtrm\\.julia\\packages\\MAT\\f523T\\src\\MAT.jl:44",
      "  [3] matopen(fname::String, mode::String; compress::Bool)",
      "    @ MAT C:\\Users\\kgtrm\\.julia\\packages\\MAT\\f523T\\src\\MAT.jl:88",
      "  [4] matopen",
      "    @ C:\\Users\\kgtrm\\.julia\\packages\\MAT\\f523T\\src\\MAT.jl:88 [inlined]",
      "  [5] #matopen#2",
      "    @ C:\\Users\\kgtrm\\.julia\\packages\\MAT\\f523T\\src\\MAT.jl:97 [inlined]",
      "  [6] matopen",
      "    @ C:\\Users\\kgtrm\\.julia\\packages\\MAT\\f523T\\src\\MAT.jl:97 [inlined]",
      "  [7] matread(filename::String)",
      "    @ MAT C:\\Users\\kgtrm\\.julia\\packages\\MAT\\f523T\\src\\MAT.jl:130",
      "  [8] top-level scope",
      "    @ In[50]:2",
      "  [9] eval",
      "    @ .\\boot.jl:360 [inlined]",
      " [10] include_string(mapexpr::typeof(REPL.softscope), mod::Module, code::String, filename::String)",
      "    @ Base .\\loading.jl:1094"
     ]
    }
   ],
   "source": [
    "using MAT\n",
    "Matlab_data = matread(\"data/mytempdata.mat\")\n",
    "matwrite(\"mywrite.mat\", Matlab_data)"
   ]
  },
  {
   "cell_type": "code",
   "execution_count": 51,
   "id": "1f3eb23a",
   "metadata": {
    "collapsed": true
   },
   "outputs": [
    {
     "ename": "LoadError",
     "evalue": "UndefVarError: jld_data not defined",
     "output_type": "error",
     "traceback": [
      "UndefVarError: jld_data not defined",
      "",
      "Stacktrace:",
      " [1] top-level scope",
      "   @ show.jl:955",
      " [2] eval",
      "   @ .\\boot.jl:360 [inlined]",
      " [3] include_string(mapexpr::typeof(REPL.softscope), mod::Module, code::String, filename::String)",
      "   @ Base .\\loading.jl:1094"
     ]
    }
   ],
   "source": [
    "@show typeof(jld_data)\n",
    "@show typeof(npz_data)\n",
    "@show typeof(R_data)\n",
    "@show typeof(Matlab_data)\n"
   ]
  },
  {
   "cell_type": "code",
   "execution_count": 52,
   "id": "1b44eb90",
   "metadata": {
    "collapsed": true
   },
   "outputs": [
    {
     "ename": "LoadError",
     "evalue": "UndefVarError: Matlab_data not defined",
     "output_type": "error",
     "traceback": [
      "UndefVarError: Matlab_data not defined",
      "",
      "Stacktrace:",
      " [1] top-level scope",
      "   @ :0",
      " [2] eval",
      "   @ .\\boot.jl:360 [inlined]",
      " [3] include_string(mapexpr::typeof(REPL.softscope), mod::Module, code::String, filename::String)",
      "   @ Base .\\loading.jl:1094"
     ]
    }
   ],
   "source": [
    "Matlab_data"
   ]
  },
  {
   "cell_type": "code",
   "execution_count": 53,
   "id": "925cdcd5",
   "metadata": {},
   "outputs": [
    {
     "data": {
      "text/plain": [
       "73×2 Matrix{Any}:\n",
       " 1951  \"Regional Assembly Language\"\n",
       " 1952  \"Autocode\"\n",
       " 1954  \"IPL\"\n",
       " 1955  \"FLOW-MATIC\"\n",
       " 1957  \"FORTRAN\"\n",
       " 1957  \"COMTRAN\"\n",
       " 1958  \"LISP\"\n",
       " 1958  \"ALGOL 58\"\n",
       " 1959  \"FACT\"\n",
       " 1959  \"COBOL\"\n",
       " 1959  \"RPG\"\n",
       " 1962  \"APL\"\n",
       " 1962  \"Simula\"\n",
       "    ⋮  \n",
       " 2003  \"Scala\"\n",
       " 2005  \"F#\"\n",
       " 2006  \"PowerShell\"\n",
       " 2007  \"Clojure\"\n",
       " 2009  \"Go\"\n",
       " 2010  \"Rust\"\n",
       " 2011  \"Dart\"\n",
       " 2011  \"Kotlin\"\n",
       " 2011  \"Red\"\n",
       " 2011  \"Elixir\"\n",
       " 2012  \"Julia\"\n",
       " 2014  \"Swift\""
      ]
     },
     "execution_count": 53,
     "metadata": {},
     "output_type": "execute_result"
    }
   ],
   "source": [
    "P"
   ]
  },
  {
   "cell_type": "code",
   "execution_count": 54,
   "id": "e26b4370",
   "metadata": {},
   "outputs": [
    {
     "data": {
      "text/plain": [
       "2012"
      ]
     },
     "execution_count": 54,
     "metadata": {},
     "output_type": "execute_result"
    }
   ],
   "source": [
    "# Q1: Which year was a given language invented?\n",
    "function year_created(P, language::String)\n",
    "    loc = findfirst(P[:,2] .== language)\n",
    "    return P[loc,1]\n",
    "end\n",
    "year_created(P, \"Julia\")"
   ]
  },
  {
   "cell_type": "code",
   "execution_count": 55,
   "id": "d32cb9cf",
   "metadata": {
    "collapsed": true
   },
   "outputs": [
    {
     "ename": "LoadError",
     "evalue": "ArgumentError: invalid index: nothing of type Nothing",
     "output_type": "error",
     "traceback": [
      "ArgumentError: invalid index: nothing of type Nothing",
      "",
      "Stacktrace:",
      " [1] to_index(i::Nothing)",
      "   @ Base .\\indices.jl:300",
      " [2] to_index(A::Matrix{Any}, i::Nothing)",
      "   @ Base .\\indices.jl:277",
      " [3] to_indices",
      "   @ .\\indices.jl:333 [inlined]",
      " [4] to_indices",
      "   @ .\\indices.jl:324 [inlined]",
      " [5] getindex(::Matrix{Any}, ::Nothing, ::Int64)",
      "   @ Base .\\abstractarray.jl:1170",
      " [6] year_created(P::Matrix{Any}, language::String)",
      "   @ Main .\\In[54]:4",
      " [7] top-level scope",
      "   @ In[55]:1",
      " [8] eval",
      "   @ .\\boot.jl:360 [inlined]",
      " [9] include_string(mapexpr::typeof(REPL.softscope), mod::Module, code::String, filename::String)",
      "   @ Base .\\loading.jl:1094"
     ]
    }
   ],
   "source": [
    "year_created(P, \"W\") # wasn't on the list"
   ]
  },
  {
   "cell_type": "code",
   "execution_count": 56,
   "id": "422b19ae",
   "metadata": {},
   "outputs": [
    {
     "data": {
      "text/plain": [
       "1991"
      ]
     },
     "execution_count": 56,
     "metadata": {},
     "output_type": "execute_result"
    }
   ],
   "source": [
    "year_created(P, \"Python\")"
   ]
  },
  {
   "cell_type": "code",
   "execution_count": 57,
   "id": "a085bd1c",
   "metadata": {},
   "outputs": [
    {
     "ename": "LoadError",
     "evalue": "Error: Language not found.",
     "output_type": "error",
     "traceback": [
      "Error: Language not found.",
      "",
      "Stacktrace:",
      " [1] error(s::String)",
      "   @ Base .\\error.jl:33",
      " [2] year_created_handle_error(P::Matrix{Any}, language::String)",
      "   @ Main .\\In[57]:4",
      " [3] top-level scope",
      "   @ In[57]:6",
      " [4] eval",
      "   @ .\\boot.jl:360 [inlined]",
      " [5] include_string(mapexpr::typeof(REPL.softscope), mod::Module, code::String, filename::String)",
      "   @ Base .\\loading.jl:1094"
     ]
    }
   ],
   "source": [
    "function year_created_handle_error(P, language::String)\n",
    "    loc = findfirst(P[:, 2] .== language)\n",
    "    !isnothing(loc) && return P[loc, 1]\n",
    "    error(\"Error: Language not found.\")\n",
    "end\n",
    "year_created_handle_error(P, \"W\")"
   ]
  },
  {
   "cell_type": "code",
   "execution_count": 58,
   "id": "1f72c67b",
   "metadata": {},
   "outputs": [
    {
     "data": {
      "text/plain": [
       "1975"
      ]
     },
     "execution_count": 58,
     "metadata": {},
     "output_type": "execute_result"
    }
   ],
   "source": [
    "year_created_handle_error(P, \"Scheme\")"
   ]
  },
  {
   "cell_type": "code",
   "execution_count": 60,
   "id": "777b1fc2",
   "metadata": {},
   "outputs": [
    {
     "data": {
      "text/plain": [
       "4"
      ]
     },
     "execution_count": 60,
     "metadata": {},
     "output_type": "execute_result"
    }
   ],
   "source": [
    "# Q2: How many languages were created in a given year?\n",
    "function how_many_per_year(P, year::Int64)\n",
    "    year_count = length(findall(P[:,1].==year))\n",
    "    return year_count\n",
    "end\n",
    "how_many_per_year(P, 2011)"
   ]
  },
  {
   "cell_type": "code",
   "execution_count": 61,
   "id": "74e7e244",
   "metadata": {},
   "outputs": [
    {
     "data": {
      "text/html": [
       "<table class=\"data-frame\"><thead><tr><th></th><th>year</th><th>language</th></tr><tr><th></th><th>Int64</th><th>String</th></tr></thead><tbody><p>73 rows × 2 columns</p><tr><th>1</th><td>1951</td><td>Regional Assembly Language</td></tr><tr><th>2</th><td>1952</td><td>Autocode</td></tr><tr><th>3</th><td>1954</td><td>IPL</td></tr><tr><th>4</th><td>1955</td><td>FLOW-MATIC</td></tr><tr><th>5</th><td>1957</td><td>FORTRAN</td></tr><tr><th>6</th><td>1957</td><td>COMTRAN</td></tr><tr><th>7</th><td>1958</td><td>LISP</td></tr><tr><th>8</th><td>1958</td><td>ALGOL 58</td></tr><tr><th>9</th><td>1959</td><td>FACT</td></tr><tr><th>10</th><td>1959</td><td>COBOL</td></tr><tr><th>11</th><td>1959</td><td>RPG</td></tr><tr><th>12</th><td>1962</td><td>APL</td></tr><tr><th>13</th><td>1962</td><td>Simula</td></tr><tr><th>14</th><td>1962</td><td>SNOBOL</td></tr><tr><th>15</th><td>1963</td><td>CPL</td></tr><tr><th>16</th><td>1964</td><td>Speakeasy</td></tr><tr><th>17</th><td>1964</td><td>BASIC</td></tr><tr><th>18</th><td>1964</td><td>PL/I</td></tr><tr><th>19</th><td>1966</td><td>JOSS</td></tr><tr><th>20</th><td>1967</td><td>BCPL</td></tr><tr><th>21</th><td>1968</td><td>Logo</td></tr><tr><th>22</th><td>1969</td><td>B</td></tr><tr><th>23</th><td>1970</td><td>Pascal</td></tr><tr><th>24</th><td>1970</td><td>Forth</td></tr><tr><th>25</th><td>1972</td><td>C</td></tr><tr><th>26</th><td>1972</td><td>Smalltalk</td></tr><tr><th>27</th><td>1972</td><td>Prolog</td></tr><tr><th>28</th><td>1973</td><td>ML</td></tr><tr><th>29</th><td>1975</td><td>Scheme</td></tr><tr><th>30</th><td>1978</td><td>SQL </td></tr><tr><th>&vellip;</th><td>&vellip;</td><td>&vellip;</td></tr></tbody></table>"
      ],
      "text/latex": [
       "\\begin{tabular}{r|cc}\n",
       "\t& year & language\\\\\n",
       "\t\\hline\n",
       "\t& Int64 & String\\\\\n",
       "\t\\hline\n",
       "\t1 & 1951 & Regional Assembly Language \\\\\n",
       "\t2 & 1952 & Autocode \\\\\n",
       "\t3 & 1954 & IPL \\\\\n",
       "\t4 & 1955 & FLOW-MATIC \\\\\n",
       "\t5 & 1957 & FORTRAN \\\\\n",
       "\t6 & 1957 & COMTRAN \\\\\n",
       "\t7 & 1958 & LISP \\\\\n",
       "\t8 & 1958 & ALGOL 58 \\\\\n",
       "\t9 & 1959 & FACT \\\\\n",
       "\t10 & 1959 & COBOL \\\\\n",
       "\t11 & 1959 & RPG \\\\\n",
       "\t12 & 1962 & APL \\\\\n",
       "\t13 & 1962 & Simula \\\\\n",
       "\t14 & 1962 & SNOBOL \\\\\n",
       "\t15 & 1963 & CPL \\\\\n",
       "\t16 & 1964 & Speakeasy \\\\\n",
       "\t17 & 1964 & BASIC \\\\\n",
       "\t18 & 1964 & PL/I \\\\\n",
       "\t19 & 1966 & JOSS \\\\\n",
       "\t20 & 1967 & BCPL \\\\\n",
       "\t21 & 1968 & Logo \\\\\n",
       "\t22 & 1969 & B \\\\\n",
       "\t23 & 1970 & Pascal \\\\\n",
       "\t24 & 1970 & Forth \\\\\n",
       "\t25 & 1972 & C \\\\\n",
       "\t26 & 1972 & Smalltalk \\\\\n",
       "\t27 & 1972 & Prolog \\\\\n",
       "\t28 & 1973 & ML \\\\\n",
       "\t29 & 1975 & Scheme \\\\\n",
       "\t30 & 1978 & SQL  \\\\\n",
       "\t$\\dots$ & $\\dots$ & $\\dots$ \\\\\n",
       "\\end{tabular}\n"
      ],
      "text/plain": [
       "\u001b[1m73×2 DataFrame\u001b[0m\n",
       "\u001b[1m Row \u001b[0m│\u001b[1m year  \u001b[0m\u001b[1m language                   \u001b[0m\n",
       "\u001b[1m     \u001b[0m│\u001b[90m Int64 \u001b[0m\u001b[90m String                     \u001b[0m\n",
       "─────┼───────────────────────────────────\n",
       "   1 │  1951  Regional Assembly Language\n",
       "   2 │  1952  Autocode\n",
       "   3 │  1954  IPL\n",
       "   4 │  1955  FLOW-MATIC\n",
       "   5 │  1957  FORTRAN\n",
       "   6 │  1957  COMTRAN\n",
       "   7 │  1958  LISP\n",
       "   8 │  1958  ALGOL 58\n",
       "   9 │  1959  FACT\n",
       "  10 │  1959  COBOL\n",
       "  11 │  1959  RPG\n",
       "  ⋮  │   ⋮                ⋮\n",
       "  64 │  2006  PowerShell\n",
       "  65 │  2007  Clojure\n",
       "  66 │  2009  Go\n",
       "  67 │  2010  Rust\n",
       "  68 │  2011  Dart\n",
       "  69 │  2011  Kotlin\n",
       "  70 │  2011  Red\n",
       "  71 │  2011  Elixir\n",
       "  72 │  2012  Julia\n",
       "  73 │  2014  Swift\n",
       "\u001b[36m                          52 rows omitted\u001b[0m"
      ]
     },
     "execution_count": 61,
     "metadata": {},
     "output_type": "execute_result"
    }
   ],
   "source": [
    "P_df = C \n",
    "# DataFrame(year = P[:,1], language = P[:,2]) \n",
    "# or DataFrame(P)"
   ]
  },
  {
   "cell_type": "code",
   "execution_count": 62,
   "id": "64056fb8",
   "metadata": {},
   "outputs": [],
   "source": [
    "# Even better, since we know the types of each column, we can create the DataFrame as follows:\n",
    "# P_df = DataFrame(year = Int.(P[:,1]), language = string.(P[:,2]))"
   ]
  },
  {
   "cell_type": "code",
   "execution_count": 63,
   "id": "9c41e041",
   "metadata": {},
   "outputs": [
    {
     "data": {
      "text/plain": [
       "2012"
      ]
     },
     "execution_count": 63,
     "metadata": {},
     "output_type": "execute_result"
    }
   ],
   "source": [
    "# Q1: Which year was a given language invented\n",
    "# it's a little more intuitive and you don't need to remember the column ids\n",
    "function year_created(P_df, language::String)\n",
    "    loc = findfirst(P_df.language .== language)\n",
    "    return P_df.year[loc]\n",
    "end\n",
    "year_created(P_df, \"Julia\")"
   ]
  },
  {
   "cell_type": "code",
   "execution_count": 64,
   "id": "90d87253",
   "metadata": {
    "collapsed": true
   },
   "outputs": [
    {
     "ename": "LoadError",
     "evalue": "ArgumentError: invalid index: nothing of type Nothing",
     "output_type": "error",
     "traceback": [
      "ArgumentError: invalid index: nothing of type Nothing",
      "",
      "Stacktrace:",
      " [1] to_index(i::Nothing)",
      "   @ Base .\\indices.jl:300",
      " [2] to_index(A::Vector{Int64}, i::Nothing)",
      "   @ Base .\\indices.jl:277",
      " [3] to_indices",
      "   @ .\\indices.jl:333 [inlined]",
      " [4] to_indices",
      "   @ .\\indices.jl:325 [inlined]",
      " [5] getindex(A::Vector{Int64}, I::Nothing)",
      "   @ Base .\\abstractarray.jl:1170",
      " [6] year_created(P_df::DataFrame, language::String)",
      "   @ Main .\\In[63]:5",
      " [7] top-level scope",
      "   @ In[64]:1",
      " [8] eval",
      "   @ .\\boot.jl:360 [inlined]",
      " [9] include_string(mapexpr::typeof(REPL.softscope), mod::Module, code::String, filename::String)",
      "   @ Base .\\loading.jl:1094"
     ]
    }
   ],
   "source": [
    "year_created(P_df, \"W\") # intentional error"
   ]
  },
  {
   "cell_type": "code",
   "execution_count": 65,
   "id": "17519a28",
   "metadata": {},
   "outputs": [
    {
     "ename": "LoadError",
     "evalue": "Error: Language not found.",
     "output_type": "error",
     "traceback": [
      "Error: Language not found.",
      "",
      "Stacktrace:",
      " [1] error(s::String)",
      "   @ Base .\\error.jl:33",
      " [2] year_created_handle_error(P_df::DataFrame, language::String)",
      "   @ Main .\\In[65]:4",
      " [3] top-level scope",
      "   @ In[65]:6",
      " [4] eval",
      "   @ .\\boot.jl:360 [inlined]",
      " [5] include_string(mapexpr::typeof(REPL.softscope), mod::Module, code::String, filename::String)",
      "   @ Base .\\loading.jl:1094"
     ]
    }
   ],
   "source": [
    "function year_created_handle_error(P_df, language::String)\n",
    "    loc = findfirst(P_df.language .== language)\n",
    "    !isnothing(loc) && return P_df.year[loc]\n",
    "    error(\"Error: Language not found.\")\n",
    "end\n",
    "year_created_handle_error(P_df, \"W\")"
   ]
  },
  {
   "cell_type": "code",
   "execution_count": 66,
   "id": "bce6b3dd",
   "metadata": {},
   "outputs": [
    {
     "data": {
      "text/plain": [
       "4"
      ]
     },
     "execution_count": 66,
     "metadata": {},
     "output_type": "execute_result"
    }
   ],
   "source": [
    "# Q2: How many languages were created in a given year?\n",
    "function how_many_per_year(P_df,year::Int64)\n",
    "    year_count = length(findall(P_df.year.==year))\n",
    "    return year_count\n",
    "end\n",
    "how_many_per_year(P_df, 2011)"
   ]
  },
  {
   "cell_type": "code",
   "execution_count": 67,
   "id": "a6986443",
   "metadata": {},
   "outputs": [
    {
     "data": {
      "text/plain": [
       "Dict{Any, Any} with 3 entries:\n",
       "  \"B\" => 2\n",
       "  \"A\" => 1\n",
       "  1   => [1, 2]"
      ]
     },
     "execution_count": 67,
     "metadata": {},
     "output_type": "execute_result"
    }
   ],
   "source": [
    "# a quick example of how to build a dictionary\n",
    "Dict([(\"A\", 1), (\"B\", 2), (1, [1,2])])"
   ]
  },
  {
   "cell_type": "code",
   "execution_count": 89,
   "id": "d31cd730",
   "metadata": {},
   "outputs": [
    {
     "data": {
      "text/plain": [
       "Dict{Integer, Vector{String}}()"
      ]
     },
     "execution_count": 89,
     "metadata": {},
     "output_type": "execute_result"
    }
   ],
   "source": [
    "P_dictionary = Dict{Integer, Vector{String}}()"
   ]
  },
  {
   "cell_type": "code",
   "execution_count": 90,
   "id": "5ca6a4d2",
   "metadata": {},
   "outputs": [],
   "source": [
    "# P_dictionary[67] = [\"julia\", \"programming\"]"
   ]
  },
  {
   "cell_type": "code",
   "execution_count": 91,
   "id": "ddd631dc",
   "metadata": {},
   "outputs": [
    {
     "data": {
      "text/plain": [
       "Dict{Integer, Vector{String}}()"
      ]
     },
     "execution_count": 91,
     "metadata": {},
     "output_type": "execute_result"
    }
   ],
   "source": [
    "P_dictionary"
   ]
  },
  {
   "cell_type": "code",
   "execution_count": 78,
   "id": "4e756089",
   "metadata": {},
   "outputs": [
    {
     "ename": "LoadError",
     "evalue": "MethodError: \u001b[0mCannot `convert` an object of type \u001b[92mString\u001b[39m\u001b[0m to an object of type \u001b[91mInteger\u001b[39m\n\u001b[0mClosest candidates are:\n\u001b[0m  convert(::Type{T}, \u001b[91m::Base.TwicePrecision\u001b[39m) where T<:Number at twiceprecision.jl:250\n\u001b[0m  convert(::Type{T}, \u001b[91m::AbstractChar\u001b[39m) where T<:Number at char.jl:180\n\u001b[0m  convert(::Type{T}, \u001b[91m::CartesianIndex{1}\u001b[39m) where T<:Number at multidimensional.jl:136\n\u001b[0m  ...",
     "output_type": "error",
     "traceback": [
      "MethodError: \u001b[0mCannot `convert` an object of type \u001b[92mString\u001b[39m\u001b[0m to an object of type \u001b[91mInteger\u001b[39m\n\u001b[0mClosest candidates are:\n\u001b[0m  convert(::Type{T}, \u001b[91m::Base.TwicePrecision\u001b[39m) where T<:Number at twiceprecision.jl:250\n\u001b[0m  convert(::Type{T}, \u001b[91m::AbstractChar\u001b[39m) where T<:Number at char.jl:180\n\u001b[0m  convert(::Type{T}, \u001b[91m::CartesianIndex{1}\u001b[39m) where T<:Number at multidimensional.jl:136\n\u001b[0m  ...",
      "",
      "Stacktrace:",
      " [1] setindex!(h::Dict{Integer, Vector{String}}, v0::Int64, key0::String)",
      "   @ Base .\\dict.jl:374",
      " [2] top-level scope",
      "   @ In[78]:1",
      " [3] eval",
      "   @ .\\boot.jl:360 [inlined]",
      " [4] include_string(mapexpr::typeof(REPL.softscope), mod::Module, code::String, filename::String)",
      "   @ Base .\\loading.jl:1094"
     ]
    }
   ],
   "source": [
    "# this doesn't work since the values in this dict have to be vectors of string\n",
    "P_dictionary[\"julia\"] = 7"
   ]
  },
  {
   "cell_type": "code",
   "execution_count": 79,
   "id": "58d98324",
   "metadata": {},
   "outputs": [],
   "source": [
    "dict = Dict{Integer, Vector{String}}()\n",
    "for i = 1:size(P,1)\n",
    "    year, lang = P[i, :]\n",
    "    if year in keys(dict)\n",
    "        dict[year] = push!(dict[year], lang)\n",
    "# note that push! is not our favorite thing to do in Julia,\n",
    "# but we're focusing more on correctness rather than speed here\n",
    "    else\n",
    "        dict[year] = [lang]\n",
    "    end\n",
    "end"
   ]
  },
  {
   "cell_type": "code",
   "execution_count": 80,
   "id": "fa5d1cdd",
   "metadata": {},
   "outputs": [
    {
     "data": {
      "text/plain": [
       "Dict{Integer, Vector{String}} with 45 entries:\n",
       "  1985 => [\"Eiffel\"]\n",
       "  2002 => [\"Scratch\"]\n",
       "  1952 => [\"Autocode\"]\n",
       "  1963 => [\"CPL\"]\n",
       "  1964 => [\"Speakeasy\", \"BASIC\", \"PL/I\"]\n",
       "  1967 => [\"BCPL\"]\n",
       "  2001 => [\"C#\", \"D\"]\n",
       "  1991 => [\"Python\", \"Visual Basic\"]\n",
       "  1957 => [\"FORTRAN\", \"COMTRAN\"]\n",
       "  1988 => [\"Tcl\", \"Wolfram Language \"]\n",
       "  1955 => [\"FLOW-MATIC\"]\n",
       "  1951 => [\"Regional Assembly Language\"]\n",
       "  1994 => [\"CLOS \"]\n",
       "  2011 => [\"Dart\", \"Kotlin\", \"Red\", \"Elixir\"]\n",
       "  1959 => [\"FACT\", \"COBOL\", \"RPG\"]\n",
       "  1962 => [\"APL\", \"Simula\", \"SNOBOL\"]\n",
       "  2005 => [\"F#\"]\n",
       "  1969 => [\"B\"]\n",
       "  1972 => [\"C\", \"Smalltalk\", \"Prolog\"]\n",
       "  1997 => [\"Rebol\"]\n",
       "  1986 => [\"Objective-C\", \"LabVIEW \", \"Erlang\"]\n",
       "  1993 => [\"Lua\", \"R\"]\n",
       "  1958 => [\"LISP\", \"ALGOL 58\"]\n",
       "  1987 => [\"Perl\"]\n",
       "  1954 => [\"IPL\"]\n",
       "  ⋮    => ⋮"
      ]
     },
     "execution_count": 80,
     "metadata": {},
     "output_type": "execute_result"
    }
   ],
   "source": [
    "dict"
   ]
  },
  {
   "cell_type": "code",
   "execution_count": 92,
   "id": "ee9af827",
   "metadata": {},
   "outputs": [],
   "source": [
    "# since the data is sorted by year\n",
    "# we only need to compare to the previous year when \n",
    "# determining whether to add a key/value pair \n",
    "\n",
    "# a smarter way to do this is:\n",
    "curyear = P_df.year[1]\n",
    "P_dictionary[curyear] = [P_df.language[1]]\n",
    "for (i, nextyear) in enumerate(P_df.year[2:end])\n",
    "    if nextyear == curyear         # same key\n",
    "        P_dictionary[curyear] = push!(P_dictionary[curyear],P_df.language[i+1])\n",
    "# again not the fastest but is correct\n",
    "    else\n",
    "        curyear = nextyear\n",
    "        P_dictionary[curyear] = [P_df.language[i+1]]\n",
    "    end\n",
    "end"
   ]
  },
  {
   "cell_type": "code",
   "execution_count": 93,
   "id": "eee9f378",
   "metadata": {},
   "outputs": [
    {
     "data": {
      "text/plain": [
       "Dict{Integer, Vector{String}} with 45 entries:\n",
       "  1985 => [\"Eiffel\"]\n",
       "  2002 => [\"Scratch\"]\n",
       "  1952 => [\"Autocode\"]\n",
       "  1963 => [\"CPL\"]\n",
       "  1964 => [\"Speakeasy\", \"BASIC\", \"PL/I\"]\n",
       "  1967 => [\"BCPL\"]\n",
       "  2001 => [\"C#\", \"D\"]\n",
       "  1991 => [\"Python\", \"Visual Basic\"]\n",
       "  1957 => [\"FORTRAN\", \"COMTRAN\"]\n",
       "  1988 => [\"Tcl\", \"Wolfram Language \"]\n",
       "  1955 => [\"FLOW-MATIC\"]\n",
       "  1951 => [\"Regional Assembly Language\"]\n",
       "  1994 => [\"CLOS \"]\n",
       "  2011 => [\"Dart\", \"Kotlin\", \"Red\", \"Elixir\"]\n",
       "  1959 => [\"FACT\", \"COBOL\", \"RPG\"]\n",
       "  1962 => [\"APL\", \"Simula\", \"SNOBOL\"]\n",
       "  2005 => [\"F#\"]\n",
       "  1969 => [\"B\"]\n",
       "  1972 => [\"C\", \"Smalltalk\", \"Prolog\"]\n",
       "  1997 => [\"Rebol\"]\n",
       "  1986 => [\"Objective-C\", \"LabVIEW \", \"Erlang\"]\n",
       "  1993 => [\"Lua\", \"R\"]\n",
       "  1958 => [\"LISP\", \"ALGOL 58\"]\n",
       "  1987 => [\"Perl\"]\n",
       "  1954 => [\"IPL\"]\n",
       "  ⋮    => ⋮"
      ]
     },
     "execution_count": 93,
     "metadata": {},
     "output_type": "execute_result"
    }
   ],
   "source": [
    "P_dictionary"
   ]
  },
  {
   "cell_type": "code",
   "execution_count": 94,
   "id": "407b6d45",
   "metadata": {},
   "outputs": [
    {
     "data": {
      "text/plain": [
       "45"
      ]
     },
     "execution_count": 94,
     "metadata": {},
     "output_type": "execute_result"
    }
   ],
   "source": [
    "length(keys(P_dictionary))"
   ]
  },
  {
   "cell_type": "code",
   "execution_count": 95,
   "id": "5a0ab412",
   "metadata": {},
   "outputs": [
    {
     "data": {
      "text/plain": [
       "45"
      ]
     },
     "execution_count": 95,
     "metadata": {},
     "output_type": "execute_result"
    }
   ],
   "source": [
    "length(unique(P[:,1]))"
   ]
  },
  {
   "cell_type": "code",
   "execution_count": 96,
   "id": "8d710956",
   "metadata": {},
   "outputs": [
    {
     "ename": "LoadError",
     "evalue": "type Dict has no field language",
     "output_type": "error",
     "traceback": [
      "type Dict has no field language",
      "",
      "Stacktrace:",
      " [1] getproperty(x::Dict{Integer, Vector{String}}, f::Symbol)",
      "   @ Base .\\Base.jl:33",
      " [2] year_created(P_df::Dict{Integer, Vector{String}}, language::String)",
      "   @ Main .\\In[63]:4",
      " [3] top-level scope",
      "   @ In[96]:9",
      " [4] eval",
      "   @ .\\boot.jl:360 [inlined]",
      " [5] include_string(mapexpr::typeof(REPL.softscope), mod::Module, code::String, filename::String)",
      "   @ Base .\\loading.jl:1094"
     ]
    }
   ],
   "source": [
    "# Q!: Which year was a given language invented?\n",
    "# now instead of looking in one long vector, we will look in many small vectors\n",
    "function year_Created(P_dictionary, language::String)\n",
    "    keys_vec = collect(keys(P_dictionary))\n",
    "    lookup = map(keyid -> findfirst(P_dictionary[keyid].==language), keys_vec)\n",
    "# now the lookup vector has a 'nothing' or numeric value. We want to find the index of the numeric value\n",
    "    return keys_vec[findfirst((!isnothing).(lookup))]\n",
    "end\n",
    "year_created(P_dictionary, \"Julia\")\n",
    "\n",
    "# not working for me even though it is an exact copy of what they had"
   ]
  },
  {
   "cell_type": "code",
   "execution_count": 97,
   "id": "d2f4808b",
   "metadata": {},
   "outputs": [
    {
     "data": {
      "text/plain": [
       "4"
      ]
     },
     "execution_count": 97,
     "metadata": {},
     "output_type": "execute_result"
    }
   ],
   "source": [
    "# Q2: How many languages were created in a given year?\n",
    "how_many_per_year(P_dictionary, year::Int64) = length(P_dictionary[year])\n",
    "how_many_per_year(P_dictionary, 2011)"
   ]
  },
  {
   "cell_type": "code",
   "execution_count": 99,
   "id": "4b430f2b",
   "metadata": {},
   "outputs": [
    {
     "data": {
      "text/html": [
       "<table class=\"data-frame\"><thead><tr><th></th><th>year</th><th>language</th></tr><tr><th></th><th>Any</th><th>Any</th></tr></thead><tbody><p>73 rows × 2 columns</p><tr><th>1</th><td><em>missing</em></td><td>Regional Assembly Language</td></tr><tr><th>2</th><td>1952</td><td>Autocode</td></tr><tr><th>3</th><td>1954</td><td>IPL</td></tr><tr><th>4</th><td>1955</td><td>FLOW-MATIC</td></tr><tr><th>5</th><td>1957</td><td>FORTRAN</td></tr><tr><th>6</th><td>1957</td><td>COMTRAN</td></tr><tr><th>7</th><td>1958</td><td>LISP</td></tr><tr><th>8</th><td>1958</td><td>ALGOL 58</td></tr><tr><th>9</th><td>1959</td><td>FACT</td></tr><tr><th>10</th><td>1959</td><td>COBOL</td></tr><tr><th>11</th><td>1959</td><td>RPG</td></tr><tr><th>12</th><td>1962</td><td>APL</td></tr><tr><th>13</th><td>1962</td><td>Simula</td></tr><tr><th>14</th><td>1962</td><td>SNOBOL</td></tr><tr><th>15</th><td>1963</td><td>CPL</td></tr><tr><th>16</th><td>1964</td><td>Speakeasy</td></tr><tr><th>17</th><td>1964</td><td>BASIC</td></tr><tr><th>18</th><td>1964</td><td>PL/I</td></tr><tr><th>19</th><td>1966</td><td>JOSS</td></tr><tr><th>20</th><td>1967</td><td>BCPL</td></tr><tr><th>21</th><td>1968</td><td>Logo</td></tr><tr><th>22</th><td>1969</td><td>B</td></tr><tr><th>23</th><td>1970</td><td>Pascal</td></tr><tr><th>24</th><td>1970</td><td>Forth</td></tr><tr><th>25</th><td>1972</td><td>C</td></tr><tr><th>26</th><td>1972</td><td>Smalltalk</td></tr><tr><th>27</th><td>1972</td><td>Prolog</td></tr><tr><th>28</th><td>1973</td><td>ML</td></tr><tr><th>29</th><td>1975</td><td>Scheme</td></tr><tr><th>30</th><td>1978</td><td>SQL </td></tr><tr><th>&vellip;</th><td>&vellip;</td><td>&vellip;</td></tr></tbody></table>"
      ],
      "text/latex": [
       "\\begin{tabular}{r|cc}\n",
       "\t& year & language\\\\\n",
       "\t\\hline\n",
       "\t& Any & Any\\\\\n",
       "\t\\hline\n",
       "\t1 & \\emph{missing} & Regional Assembly Language \\\\\n",
       "\t2 & 1952 & Autocode \\\\\n",
       "\t3 & 1954 & IPL \\\\\n",
       "\t4 & 1955 & FLOW-MATIC \\\\\n",
       "\t5 & 1957 & FORTRAN \\\\\n",
       "\t6 & 1957 & COMTRAN \\\\\n",
       "\t7 & 1958 & LISP \\\\\n",
       "\t8 & 1958 & ALGOL 58 \\\\\n",
       "\t9 & 1959 & FACT \\\\\n",
       "\t10 & 1959 & COBOL \\\\\n",
       "\t11 & 1959 & RPG \\\\\n",
       "\t12 & 1962 & APL \\\\\n",
       "\t13 & 1962 & Simula \\\\\n",
       "\t14 & 1962 & SNOBOL \\\\\n",
       "\t15 & 1963 & CPL \\\\\n",
       "\t16 & 1964 & Speakeasy \\\\\n",
       "\t17 & 1964 & BASIC \\\\\n",
       "\t18 & 1964 & PL/I \\\\\n",
       "\t19 & 1966 & JOSS \\\\\n",
       "\t20 & 1967 & BCPL \\\\\n",
       "\t21 & 1968 & Logo \\\\\n",
       "\t22 & 1969 & B \\\\\n",
       "\t23 & 1970 & Pascal \\\\\n",
       "\t24 & 1970 & Forth \\\\\n",
       "\t25 & 1972 & C \\\\\n",
       "\t26 & 1972 & Smalltalk \\\\\n",
       "\t27 & 1972 & Prolog \\\\\n",
       "\t28 & 1973 & ML \\\\\n",
       "\t29 & 1975 & Scheme \\\\\n",
       "\t30 & 1978 & SQL  \\\\\n",
       "\t$\\dots$ & $\\dots$ & $\\dots$ \\\\\n",
       "\\end{tabular}\n"
      ],
      "text/plain": [
       "\u001b[1m73×2 DataFrame\u001b[0m\n",
       "\u001b[1m Row \u001b[0m│\u001b[1m year    \u001b[0m\u001b[1m language                   \u001b[0m\n",
       "\u001b[1m     \u001b[0m│\u001b[90m Any     \u001b[0m\u001b[90m Any                        \u001b[0m\n",
       "─────┼─────────────────────────────────────\n",
       "   1 │\u001b[90m missing \u001b[0m Regional Assembly Language\n",
       "   2 │ 1952     Autocode\n",
       "   3 │ 1954     IPL\n",
       "   4 │ 1955     FLOW-MATIC\n",
       "   5 │ 1957     FORTRAN\n",
       "   6 │ 1957     COMTRAN\n",
       "   7 │ 1958     LISP\n",
       "   8 │ 1958     ALGOL 58\n",
       "   9 │ 1959     FACT\n",
       "  10 │ 1959     COBOL\n",
       "  11 │ 1959     RPG\n",
       "  ⋮  │    ⋮                 ⋮\n",
       "  64 │ 2006     PowerShell\n",
       "  65 │ 2007     Clojure\n",
       "  66 │ 2009     Go\n",
       "  67 │ 2010     Rust\n",
       "  68 │ 2011     Dart\n",
       "  69 │ 2011     Kotlin\n",
       "  70 │ 2011     Red\n",
       "  71 │ 2011     Elixir\n",
       "  72 │ 2012     Julia\n",
       "  73 │ 2014     Swift\n",
       "\u001b[36m                            52 rows omitted\u001b[0m"
      ]
     },
     "execution_count": 99,
     "metadata": {},
     "output_type": "execute_result"
    }
   ],
   "source": [
    "P[1,1] = missing\n",
    "P_df = DataFrame(year = P[:,1], language = P[:,2])"
   ]
  },
  {
   "cell_type": "code",
   "execution_count": 100,
   "id": "934145da",
   "metadata": {},
   "outputs": [
    {
     "data": {
      "text/html": [
       "<table class=\"data-frame\"><thead><tr><th></th><th>year</th><th>language</th></tr><tr><th></th><th>Any</th><th>Any</th></tr></thead><tbody><p>72 rows × 2 columns</p><tr><th>1</th><td>1952</td><td>Autocode</td></tr><tr><th>2</th><td>1954</td><td>IPL</td></tr><tr><th>3</th><td>1955</td><td>FLOW-MATIC</td></tr><tr><th>4</th><td>1957</td><td>FORTRAN</td></tr><tr><th>5</th><td>1957</td><td>COMTRAN</td></tr><tr><th>6</th><td>1958</td><td>LISP</td></tr><tr><th>7</th><td>1958</td><td>ALGOL 58</td></tr><tr><th>8</th><td>1959</td><td>FACT</td></tr><tr><th>9</th><td>1959</td><td>COBOL</td></tr><tr><th>10</th><td>1959</td><td>RPG</td></tr><tr><th>11</th><td>1962</td><td>APL</td></tr><tr><th>12</th><td>1962</td><td>Simula</td></tr><tr><th>13</th><td>1962</td><td>SNOBOL</td></tr><tr><th>14</th><td>1963</td><td>CPL</td></tr><tr><th>15</th><td>1964</td><td>Speakeasy</td></tr><tr><th>16</th><td>1964</td><td>BASIC</td></tr><tr><th>17</th><td>1964</td><td>PL/I</td></tr><tr><th>18</th><td>1966</td><td>JOSS</td></tr><tr><th>19</th><td>1967</td><td>BCPL</td></tr><tr><th>20</th><td>1968</td><td>Logo</td></tr><tr><th>21</th><td>1969</td><td>B</td></tr><tr><th>22</th><td>1970</td><td>Pascal</td></tr><tr><th>23</th><td>1970</td><td>Forth</td></tr><tr><th>24</th><td>1972</td><td>C</td></tr><tr><th>25</th><td>1972</td><td>Smalltalk</td></tr><tr><th>26</th><td>1972</td><td>Prolog</td></tr><tr><th>27</th><td>1973</td><td>ML</td></tr><tr><th>28</th><td>1975</td><td>Scheme</td></tr><tr><th>29</th><td>1978</td><td>SQL </td></tr><tr><th>30</th><td>1980</td><td>C++ </td></tr><tr><th>&vellip;</th><td>&vellip;</td><td>&vellip;</td></tr></tbody></table>"
      ],
      "text/latex": [
       "\\begin{tabular}{r|cc}\n",
       "\t& year & language\\\\\n",
       "\t\\hline\n",
       "\t& Any & Any\\\\\n",
       "\t\\hline\n",
       "\t1 & 1952 & Autocode \\\\\n",
       "\t2 & 1954 & IPL \\\\\n",
       "\t3 & 1955 & FLOW-MATIC \\\\\n",
       "\t4 & 1957 & FORTRAN \\\\\n",
       "\t5 & 1957 & COMTRAN \\\\\n",
       "\t6 & 1958 & LISP \\\\\n",
       "\t7 & 1958 & ALGOL 58 \\\\\n",
       "\t8 & 1959 & FACT \\\\\n",
       "\t9 & 1959 & COBOL \\\\\n",
       "\t10 & 1959 & RPG \\\\\n",
       "\t11 & 1962 & APL \\\\\n",
       "\t12 & 1962 & Simula \\\\\n",
       "\t13 & 1962 & SNOBOL \\\\\n",
       "\t14 & 1963 & CPL \\\\\n",
       "\t15 & 1964 & Speakeasy \\\\\n",
       "\t16 & 1964 & BASIC \\\\\n",
       "\t17 & 1964 & PL/I \\\\\n",
       "\t18 & 1966 & JOSS \\\\\n",
       "\t19 & 1967 & BCPL \\\\\n",
       "\t20 & 1968 & Logo \\\\\n",
       "\t21 & 1969 & B \\\\\n",
       "\t22 & 1970 & Pascal \\\\\n",
       "\t23 & 1970 & Forth \\\\\n",
       "\t24 & 1972 & C \\\\\n",
       "\t25 & 1972 & Smalltalk \\\\\n",
       "\t26 & 1972 & Prolog \\\\\n",
       "\t27 & 1973 & ML \\\\\n",
       "\t28 & 1975 & Scheme \\\\\n",
       "\t29 & 1978 & SQL  \\\\\n",
       "\t30 & 1980 & C++  \\\\\n",
       "\t$\\dots$ & $\\dots$ & $\\dots$ \\\\\n",
       "\\end{tabular}\n"
      ],
      "text/plain": [
       "\u001b[1m72×2 DataFrame\u001b[0m\n",
       "\u001b[1m Row \u001b[0m│\u001b[1m year \u001b[0m\u001b[1m language   \u001b[0m\n",
       "\u001b[1m     \u001b[0m│\u001b[90m Any  \u001b[0m\u001b[90m Any        \u001b[0m\n",
       "─────┼──────────────────\n",
       "   1 │ 1952  Autocode\n",
       "   2 │ 1954  IPL\n",
       "   3 │ 1955  FLOW-MATIC\n",
       "   4 │ 1957  FORTRAN\n",
       "   5 │ 1957  COMTRAN\n",
       "   6 │ 1958  LISP\n",
       "   7 │ 1958  ALGOL 58\n",
       "   8 │ 1959  FACT\n",
       "   9 │ 1959  COBOL\n",
       "  10 │ 1959  RPG\n",
       "  11 │ 1962  APL\n",
       "  ⋮  │  ⋮        ⋮\n",
       "  63 │ 2006  PowerShell\n",
       "  64 │ 2007  Clojure\n",
       "  65 │ 2009  Go\n",
       "  66 │ 2010  Rust\n",
       "  67 │ 2011  Dart\n",
       "  68 │ 2011  Kotlin\n",
       "  69 │ 2011  Red\n",
       "  70 │ 2011  Elixir\n",
       "  71 │ 2012  Julia\n",
       "  72 │ 2014  Swift\n",
       "\u001b[36m         51 rows omitted\u001b[0m"
      ]
     },
     "execution_count": 100,
     "metadata": {},
     "output_type": "execute_result"
    }
   ],
   "source": [
    "dropmissing(P_df)"
   ]
  },
  {
   "cell_type": "code",
   "execution_count": null,
   "id": "4554d3e3",
   "metadata": {},
   "outputs": [],
   "source": []
  }
 ],
 "metadata": {
  "kernelspec": {
   "display_name": "Julia 1.6.1",
   "language": "julia",
   "name": "julia-1.6"
  },
  "language_info": {
   "file_extension": ".jl",
   "mimetype": "application/julia",
   "name": "julia",
   "version": "1.6.1"
  }
 },
 "nbformat": 4,
 "nbformat_minor": 5
}
